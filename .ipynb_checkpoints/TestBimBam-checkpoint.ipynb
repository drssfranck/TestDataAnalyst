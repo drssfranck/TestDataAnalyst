{
 "cells": [
  {
   "cell_type": "markdown",
   "id": "369cafb3-d12e-45c7-bd37-aa7d422cb19e",
   "metadata": {},
   "source": [
    "# Test BimBamJob - Data Analyst/ Franck MBE"
   ]
  },
  {
   "cell_type": "markdown",
   "id": "bd848bfc-2fdf-411d-a98a-46bee3ca3ccd",
   "metadata": {},
   "source": [
    "# Importation des bibliotheques "
   ]
  },
  {
   "cell_type": "code",
   "execution_count": 3,
   "id": "a90d9cf9-d153-4992-882c-2c1d23dbafff",
   "metadata": {},
   "outputs": [],
   "source": [
    "import pandas as pd\n",
    "import plotly.express as px\n",
    "import matplotlib.pyplot as plt\n",
    "import seaborn as sns"
   ]
  },
  {
   "cell_type": "markdown",
   "id": "f7d35ba2-0890-4372-9c1d-847cde437cf0",
   "metadata": {},
   "source": [
    "# Connexion a la source de données : Extractions"
   ]
  },
  {
   "cell_type": "code",
   "execution_count": 7,
   "id": "b4fd3cbf-cf23-4dbc-9325-8595e5fdefd0",
   "metadata": {},
   "outputs": [],
   "source": [
    "df_action = pd.read_csv ('actions.csv', delimiter=';')\n",
    "df_applies = pd.read_csv('applies.csv', delimiter=';')"
   ]
  },
  {
   "cell_type": "code",
   "execution_count": 10,
   "id": "00a01325-3b66-4e75-ba85-26f6733d5b42",
   "metadata": {},
   "outputs": [
    {
     "data": {
      "text/html": [
       "<div>\n",
       "<style scoped>\n",
       "    .dataframe tbody tr th:only-of-type {\n",
       "        vertical-align: middle;\n",
       "    }\n",
       "\n",
       "    .dataframe tbody tr th {\n",
       "        vertical-align: top;\n",
       "    }\n",
       "\n",
       "    .dataframe thead th {\n",
       "        text-align: right;\n",
       "    }\n",
       "</style>\n",
       "<table border=\"1\" class=\"dataframe\">\n",
       "  <thead>\n",
       "    <tr style=\"text-align: right;\">\n",
       "      <th></th>\n",
       "      <th>apply_id</th>\n",
       "      <th>action_id</th>\n",
       "      <th>action_type</th>\n",
       "      <th>created_at</th>\n",
       "    </tr>\n",
       "  </thead>\n",
       "  <tbody>\n",
       "    <tr>\n",
       "      <th>0</th>\n",
       "      <td>796bb847</td>\n",
       "      <td>1af4b0dc</td>\n",
       "      <td>proposed_call</td>\n",
       "      <td>2020-11-09 07:13:10</td>\n",
       "    </tr>\n",
       "    <tr>\n",
       "      <th>1</th>\n",
       "      <td>df8f96cb</td>\n",
       "      <td>c6a9393d</td>\n",
       "      <td>proposed_sms</td>\n",
       "      <td>2020-09-28 08:47:36</td>\n",
       "    </tr>\n",
       "    <tr>\n",
       "      <th>2</th>\n",
       "      <td>df8f96cb</td>\n",
       "      <td>c82a1841</td>\n",
       "      <td>resume_coaching</td>\n",
       "      <td>2020-10-07 10:09:27</td>\n",
       "    </tr>\n",
       "    <tr>\n",
       "      <th>3</th>\n",
       "      <td>fe3df3fa</td>\n",
       "      <td>36e9664d</td>\n",
       "      <td>proposed_call</td>\n",
       "      <td>2020-04-29 03:18:48</td>\n",
       "    </tr>\n",
       "    <tr>\n",
       "      <th>4</th>\n",
       "      <td>fe3df3fa</td>\n",
       "      <td>89f1106e</td>\n",
       "      <td>employer_reminder_1</td>\n",
       "      <td>2020-05-08 23:27:19</td>\n",
       "    </tr>\n",
       "  </tbody>\n",
       "</table>\n",
       "</div>"
      ],
      "text/plain": [
       "   apply_id action_id          action_type           created_at\n",
       "0  796bb847  1af4b0dc        proposed_call  2020-11-09 07:13:10\n",
       "1  df8f96cb  c6a9393d         proposed_sms  2020-09-28 08:47:36\n",
       "2  df8f96cb  c82a1841      resume_coaching  2020-10-07 10:09:27\n",
       "3  fe3df3fa  36e9664d        proposed_call  2020-04-29 03:18:48\n",
       "4  fe3df3fa  89f1106e  employer_reminder_1  2020-05-08 23:27:19"
      ]
     },
     "execution_count": 10,
     "metadata": {},
     "output_type": "execute_result"
    }
   ],
   "source": [
    "#Affichage des 5 premieres lignes de notre jeu de données Action\n",
    "df_action.head()"
   ]
  },
  {
   "cell_type": "code",
   "execution_count": 12,
   "id": "f97fdb21-7028-40c9-83ea-db61362b918d",
   "metadata": {},
   "outputs": [
    {
     "data": {
      "text/html": [
       "<div>\n",
       "<style scoped>\n",
       "    .dataframe tbody tr th:only-of-type {\n",
       "        vertical-align: middle;\n",
       "    }\n",
       "\n",
       "    .dataframe tbody tr th {\n",
       "        vertical-align: top;\n",
       "    }\n",
       "\n",
       "    .dataframe thead th {\n",
       "        text-align: right;\n",
       "    }\n",
       "</style>\n",
       "<table border=\"1\" class=\"dataframe\">\n",
       "  <thead>\n",
       "    <tr style=\"text-align: right;\">\n",
       "      <th></th>\n",
       "      <th>apply_id</th>\n",
       "      <th>offer_id</th>\n",
       "      <th>candidate_id</th>\n",
       "      <th>status</th>\n",
       "      <th>created_at</th>\n",
       "      <th>updated_at</th>\n",
       "    </tr>\n",
       "  </thead>\n",
       "  <tbody>\n",
       "    <tr>\n",
       "      <th>0</th>\n",
       "      <td>796bb847</td>\n",
       "      <td>709c42b3</td>\n",
       "      <td>c19333cb</td>\n",
       "      <td>refused_employer</td>\n",
       "      <td>2020-11-09 07:06:23</td>\n",
       "      <td>2020-11-25 13:41:03</td>\n",
       "    </tr>\n",
       "    <tr>\n",
       "      <th>1</th>\n",
       "      <td>df8f96cb</td>\n",
       "      <td>d6916906</td>\n",
       "      <td>0c036547</td>\n",
       "      <td>interviewed</td>\n",
       "      <td>2020-09-28 08:43:15</td>\n",
       "      <td>2021-03-22 09:06:53</td>\n",
       "    </tr>\n",
       "    <tr>\n",
       "      <th>2</th>\n",
       "      <td>fe3df3fa</td>\n",
       "      <td>f7ea7fa8</td>\n",
       "      <td>e75f738a</td>\n",
       "      <td>proposed</td>\n",
       "      <td>2020-04-29 03:14:31</td>\n",
       "      <td>2020-09-23 11:28:13</td>\n",
       "    </tr>\n",
       "    <tr>\n",
       "      <th>3</th>\n",
       "      <td>f0f9ca67</td>\n",
       "      <td>08aeecca</td>\n",
       "      <td>6a9c9582</td>\n",
       "      <td>transmited</td>\n",
       "      <td>2020-08-29 05:59:20</td>\n",
       "      <td>2020-12-18 17:22:51</td>\n",
       "    </tr>\n",
       "    <tr>\n",
       "      <th>4</th>\n",
       "      <td>19ceec91</td>\n",
       "      <td>01688b78</td>\n",
       "      <td>a8047e7e</td>\n",
       "      <td>proposed</td>\n",
       "      <td>2020-09-17 14:38:17</td>\n",
       "      <td>2020-10-30 20:26:08</td>\n",
       "    </tr>\n",
       "  </tbody>\n",
       "</table>\n",
       "</div>"
      ],
      "text/plain": [
       "   apply_id  offer_id candidate_id            status           created_at  \\\n",
       "0  796bb847  709c42b3     c19333cb  refused_employer  2020-11-09 07:06:23   \n",
       "1  df8f96cb  d6916906     0c036547       interviewed  2020-09-28 08:43:15   \n",
       "2  fe3df3fa  f7ea7fa8     e75f738a          proposed  2020-04-29 03:14:31   \n",
       "3  f0f9ca67  08aeecca     6a9c9582        transmited  2020-08-29 05:59:20   \n",
       "4  19ceec91  01688b78     a8047e7e          proposed  2020-09-17 14:38:17   \n",
       "\n",
       "            updated_at  \n",
       "0  2020-11-25 13:41:03  \n",
       "1  2021-03-22 09:06:53  \n",
       "2  2020-09-23 11:28:13  \n",
       "3  2020-12-18 17:22:51  \n",
       "4  2020-10-30 20:26:08  "
      ]
     },
     "execution_count": 12,
     "metadata": {},
     "output_type": "execute_result"
    }
   ],
   "source": [
    "#Affichage des 5 premieres lignes de notre jeu de données Applies\n",
    "df_applies.head()"
   ]
  },
  {
   "cell_type": "code",
   "execution_count": 16,
   "id": "bbb74730-b2ef-490b-81ad-4ed6d0c188c8",
   "metadata": {},
   "outputs": [],
   "source": [
    "# Jointure entre nos deux tables en utilisant la colonne apply_id car il est identifiant de la table Action et clés étrangère dans la table Applies\n",
    "df = pd.merge(df_action, df_applies, on='apply_id', how='left')"
   ]
  },
  {
   "cell_type": "code",
   "execution_count": 18,
   "id": "06d1cd9d-6cd4-4b94-8b31-9e360eddd3c0",
   "metadata": {},
   "outputs": [
    {
     "data": {
      "text/html": [
       "<div>\n",
       "<style scoped>\n",
       "    .dataframe tbody tr th:only-of-type {\n",
       "        vertical-align: middle;\n",
       "    }\n",
       "\n",
       "    .dataframe tbody tr th {\n",
       "        vertical-align: top;\n",
       "    }\n",
       "\n",
       "    .dataframe thead th {\n",
       "        text-align: right;\n",
       "    }\n",
       "</style>\n",
       "<table border=\"1\" class=\"dataframe\">\n",
       "  <thead>\n",
       "    <tr style=\"text-align: right;\">\n",
       "      <th></th>\n",
       "      <th>apply_id</th>\n",
       "      <th>action_id</th>\n",
       "      <th>action_type</th>\n",
       "      <th>created_at_x</th>\n",
       "      <th>offer_id</th>\n",
       "      <th>candidate_id</th>\n",
       "      <th>status</th>\n",
       "      <th>created_at_y</th>\n",
       "      <th>updated_at</th>\n",
       "    </tr>\n",
       "  </thead>\n",
       "  <tbody>\n",
       "    <tr>\n",
       "      <th>0</th>\n",
       "      <td>796bb847</td>\n",
       "      <td>1af4b0dc</td>\n",
       "      <td>proposed_call</td>\n",
       "      <td>2020-11-09 07:13:10</td>\n",
       "      <td>709c42b3</td>\n",
       "      <td>c19333cb</td>\n",
       "      <td>refused_employer</td>\n",
       "      <td>2020-11-09 07:06:23</td>\n",
       "      <td>2020-11-25 13:41:03</td>\n",
       "    </tr>\n",
       "    <tr>\n",
       "      <th>1</th>\n",
       "      <td>df8f96cb</td>\n",
       "      <td>c6a9393d</td>\n",
       "      <td>proposed_sms</td>\n",
       "      <td>2020-09-28 08:47:36</td>\n",
       "      <td>d6916906</td>\n",
       "      <td>0c036547</td>\n",
       "      <td>interviewed</td>\n",
       "      <td>2020-09-28 08:43:15</td>\n",
       "      <td>2021-03-22 09:06:53</td>\n",
       "    </tr>\n",
       "    <tr>\n",
       "      <th>2</th>\n",
       "      <td>df8f96cb</td>\n",
       "      <td>c82a1841</td>\n",
       "      <td>resume_coaching</td>\n",
       "      <td>2020-10-07 10:09:27</td>\n",
       "      <td>d6916906</td>\n",
       "      <td>0c036547</td>\n",
       "      <td>interviewed</td>\n",
       "      <td>2020-09-28 08:43:15</td>\n",
       "      <td>2021-03-22 09:06:53</td>\n",
       "    </tr>\n",
       "    <tr>\n",
       "      <th>3</th>\n",
       "      <td>fe3df3fa</td>\n",
       "      <td>36e9664d</td>\n",
       "      <td>proposed_call</td>\n",
       "      <td>2020-04-29 03:18:48</td>\n",
       "      <td>f7ea7fa8</td>\n",
       "      <td>e75f738a</td>\n",
       "      <td>proposed</td>\n",
       "      <td>2020-04-29 03:14:31</td>\n",
       "      <td>2020-09-23 11:28:13</td>\n",
       "    </tr>\n",
       "    <tr>\n",
       "      <th>4</th>\n",
       "      <td>fe3df3fa</td>\n",
       "      <td>89f1106e</td>\n",
       "      <td>employer_reminder_1</td>\n",
       "      <td>2020-05-08 23:27:19</td>\n",
       "      <td>f7ea7fa8</td>\n",
       "      <td>e75f738a</td>\n",
       "      <td>proposed</td>\n",
       "      <td>2020-04-29 03:14:31</td>\n",
       "      <td>2020-09-23 11:28:13</td>\n",
       "    </tr>\n",
       "  </tbody>\n",
       "</table>\n",
       "</div>"
      ],
      "text/plain": [
       "   apply_id action_id          action_type         created_at_x  offer_id  \\\n",
       "0  796bb847  1af4b0dc        proposed_call  2020-11-09 07:13:10  709c42b3   \n",
       "1  df8f96cb  c6a9393d         proposed_sms  2020-09-28 08:47:36  d6916906   \n",
       "2  df8f96cb  c82a1841      resume_coaching  2020-10-07 10:09:27  d6916906   \n",
       "3  fe3df3fa  36e9664d        proposed_call  2020-04-29 03:18:48  f7ea7fa8   \n",
       "4  fe3df3fa  89f1106e  employer_reminder_1  2020-05-08 23:27:19  f7ea7fa8   \n",
       "\n",
       "  candidate_id            status         created_at_y           updated_at  \n",
       "0     c19333cb  refused_employer  2020-11-09 07:06:23  2020-11-25 13:41:03  \n",
       "1     0c036547       interviewed  2020-09-28 08:43:15  2021-03-22 09:06:53  \n",
       "2     0c036547       interviewed  2020-09-28 08:43:15  2021-03-22 09:06:53  \n",
       "3     e75f738a          proposed  2020-04-29 03:14:31  2020-09-23 11:28:13  \n",
       "4     e75f738a          proposed  2020-04-29 03:14:31  2020-09-23 11:28:13  "
      ]
     },
     "execution_count": 18,
     "metadata": {},
     "output_type": "execute_result"
    }
   ],
   "source": [
    "##Affichage des 5 premieres lignes de notre dataset final\n",
    "df.head(5)"
   ]
  },
  {
   "cell_type": "code",
   "execution_count": 20,
   "id": "28a842bd-9f33-452d-8d64-cd0fabd5b7aa",
   "metadata": {},
   "outputs": [],
   "source": [
    "# Renommons les colonnes pour une meilleure visibilité\n",
    "df.rename(columns={'created_at_x': 'created_at_action', 'created_at_y': 'created_at_applies' }, inplace=True)"
   ]
  },
  {
   "cell_type": "code",
   "execution_count": 22,
   "id": "46f28333-64fe-4c3c-9cf9-3b1e1032be91",
   "metadata": {},
   "outputs": [
    {
     "data": {
      "text/plain": [
       "Index(['apply_id', 'action_id', 'action_type', 'created_at_action', 'offer_id',\n",
       "       'candidate_id', 'status', 'created_at_applies', 'updated_at'],\n",
       "      dtype='object')"
      ]
     },
     "execution_count": 22,
     "metadata": {},
     "output_type": "execute_result"
    }
   ],
   "source": [
    "#Affichage des colonnes\n",
    "df.columns"
   ]
  },
  {
   "cell_type": "code",
   "execution_count": 24,
   "id": "b5d1d702-28d4-4d40-b6b1-c2a956491d04",
   "metadata": {},
   "outputs": [
    {
     "data": {
      "text/html": [
       "<div>\n",
       "<style scoped>\n",
       "    .dataframe tbody tr th:only-of-type {\n",
       "        vertical-align: middle;\n",
       "    }\n",
       "\n",
       "    .dataframe tbody tr th {\n",
       "        vertical-align: top;\n",
       "    }\n",
       "\n",
       "    .dataframe thead th {\n",
       "        text-align: right;\n",
       "    }\n",
       "</style>\n",
       "<table border=\"1\" class=\"dataframe\">\n",
       "  <thead>\n",
       "    <tr style=\"text-align: right;\">\n",
       "      <th></th>\n",
       "      <th>apply_id</th>\n",
       "      <th>action_id</th>\n",
       "      <th>action_type</th>\n",
       "      <th>created_at_action</th>\n",
       "      <th>offer_id</th>\n",
       "      <th>candidate_id</th>\n",
       "      <th>status</th>\n",
       "      <th>created_at_applies</th>\n",
       "      <th>updated_at</th>\n",
       "    </tr>\n",
       "  </thead>\n",
       "  <tbody>\n",
       "    <tr>\n",
       "      <th>0</th>\n",
       "      <td>796bb847</td>\n",
       "      <td>1af4b0dc</td>\n",
       "      <td>proposed_call</td>\n",
       "      <td>2020-11-09 07:13:10</td>\n",
       "      <td>709c42b3</td>\n",
       "      <td>c19333cb</td>\n",
       "      <td>refused_employer</td>\n",
       "      <td>2020-11-09 07:06:23</td>\n",
       "      <td>2020-11-25 13:41:03</td>\n",
       "    </tr>\n",
       "    <tr>\n",
       "      <th>1</th>\n",
       "      <td>df8f96cb</td>\n",
       "      <td>c6a9393d</td>\n",
       "      <td>proposed_sms</td>\n",
       "      <td>2020-09-28 08:47:36</td>\n",
       "      <td>d6916906</td>\n",
       "      <td>0c036547</td>\n",
       "      <td>interviewed</td>\n",
       "      <td>2020-09-28 08:43:15</td>\n",
       "      <td>2021-03-22 09:06:53</td>\n",
       "    </tr>\n",
       "    <tr>\n",
       "      <th>2</th>\n",
       "      <td>df8f96cb</td>\n",
       "      <td>c82a1841</td>\n",
       "      <td>resume_coaching</td>\n",
       "      <td>2020-10-07 10:09:27</td>\n",
       "      <td>d6916906</td>\n",
       "      <td>0c036547</td>\n",
       "      <td>interviewed</td>\n",
       "      <td>2020-09-28 08:43:15</td>\n",
       "      <td>2021-03-22 09:06:53</td>\n",
       "    </tr>\n",
       "    <tr>\n",
       "      <th>3</th>\n",
       "      <td>fe3df3fa</td>\n",
       "      <td>36e9664d</td>\n",
       "      <td>proposed_call</td>\n",
       "      <td>2020-04-29 03:18:48</td>\n",
       "      <td>f7ea7fa8</td>\n",
       "      <td>e75f738a</td>\n",
       "      <td>proposed</td>\n",
       "      <td>2020-04-29 03:14:31</td>\n",
       "      <td>2020-09-23 11:28:13</td>\n",
       "    </tr>\n",
       "    <tr>\n",
       "      <th>4</th>\n",
       "      <td>fe3df3fa</td>\n",
       "      <td>89f1106e</td>\n",
       "      <td>employer_reminder_1</td>\n",
       "      <td>2020-05-08 23:27:19</td>\n",
       "      <td>f7ea7fa8</td>\n",
       "      <td>e75f738a</td>\n",
       "      <td>proposed</td>\n",
       "      <td>2020-04-29 03:14:31</td>\n",
       "      <td>2020-09-23 11:28:13</td>\n",
       "    </tr>\n",
       "  </tbody>\n",
       "</table>\n",
       "</div>"
      ],
      "text/plain": [
       "   apply_id action_id          action_type    created_at_action  offer_id  \\\n",
       "0  796bb847  1af4b0dc        proposed_call  2020-11-09 07:13:10  709c42b3   \n",
       "1  df8f96cb  c6a9393d         proposed_sms  2020-09-28 08:47:36  d6916906   \n",
       "2  df8f96cb  c82a1841      resume_coaching  2020-10-07 10:09:27  d6916906   \n",
       "3  fe3df3fa  36e9664d        proposed_call  2020-04-29 03:18:48  f7ea7fa8   \n",
       "4  fe3df3fa  89f1106e  employer_reminder_1  2020-05-08 23:27:19  f7ea7fa8   \n",
       "\n",
       "  candidate_id            status   created_at_applies           updated_at  \n",
       "0     c19333cb  refused_employer  2020-11-09 07:06:23  2020-11-25 13:41:03  \n",
       "1     0c036547       interviewed  2020-09-28 08:43:15  2021-03-22 09:06:53  \n",
       "2     0c036547       interviewed  2020-09-28 08:43:15  2021-03-22 09:06:53  \n",
       "3     e75f738a          proposed  2020-04-29 03:14:31  2020-09-23 11:28:13  \n",
       "4     e75f738a          proposed  2020-04-29 03:14:31  2020-09-23 11:28:13  "
      ]
     },
     "execution_count": 24,
     "metadata": {},
     "output_type": "execute_result"
    }
   ],
   "source": [
    "###Affichage des 5 premieres lignes de notre dataset final\n",
    "df.head(5)"
   ]
  },
  {
   "cell_type": "markdown",
   "id": "1a448cee-833b-411c-993e-07668194fdcb",
   "metadata": {},
   "source": [
    "# Fonction d'affichage pour la visualisation des graphes"
   ]
  },
  {
   "cell_type": "code",
   "execution_count": 27,
   "id": "24ecc849-074e-4f17-89e1-1a5e86b4b6a8",
   "metadata": {},
   "outputs": [],
   "source": [
    "def design_viz(df, xlab, ylab, title, label={}):\n",
    "    fig = px.bar(df, x=xlab, y=ylab, title=f'<b>{title}</b>',labels=label)\n",
    "    fig.update_layout(title_x=0.5)  # 0.5 means center\n",
    "    fig.show()"
   ]
  },
  {
   "cell_type": "code",
   "execution_count": 29,
   "id": "13efeb23-dd8c-4e3c-ad28-67404df85b53",
   "metadata": {},
   "outputs": [
    {
     "data": {
      "text/html": [
       "<div>\n",
       "<style scoped>\n",
       "    .dataframe tbody tr th:only-of-type {\n",
       "        vertical-align: middle;\n",
       "    }\n",
       "\n",
       "    .dataframe tbody tr th {\n",
       "        vertical-align: top;\n",
       "    }\n",
       "\n",
       "    .dataframe thead th {\n",
       "        text-align: right;\n",
       "    }\n",
       "</style>\n",
       "<table border=\"1\" class=\"dataframe\">\n",
       "  <thead>\n",
       "    <tr style=\"text-align: right;\">\n",
       "      <th></th>\n",
       "      <th>action_type</th>\n",
       "      <th>Occurences</th>\n",
       "    </tr>\n",
       "  </thead>\n",
       "  <tbody>\n",
       "    <tr>\n",
       "      <th>0</th>\n",
       "      <td>employer_reminder_1</td>\n",
       "      <td>465</td>\n",
       "    </tr>\n",
       "    <tr>\n",
       "      <th>6</th>\n",
       "      <td>resume_coaching</td>\n",
       "      <td>350</td>\n",
       "    </tr>\n",
       "    <tr>\n",
       "      <th>3</th>\n",
       "      <td>proposed_call</td>\n",
       "      <td>314</td>\n",
       "    </tr>\n",
       "    <tr>\n",
       "      <th>4</th>\n",
       "      <td>proposed_email</td>\n",
       "      <td>307</td>\n",
       "    </tr>\n",
       "    <tr>\n",
       "      <th>5</th>\n",
       "      <td>proposed_sms</td>\n",
       "      <td>279</td>\n",
       "    </tr>\n",
       "    <tr>\n",
       "      <th>1</th>\n",
       "      <td>employer_reminder_2</td>\n",
       "      <td>103</td>\n",
       "    </tr>\n",
       "    <tr>\n",
       "      <th>2</th>\n",
       "      <td>interview_coaching</td>\n",
       "      <td>97</td>\n",
       "    </tr>\n",
       "  </tbody>\n",
       "</table>\n",
       "</div>"
      ],
      "text/plain": [
       "           action_type  Occurences\n",
       "0  employer_reminder_1         465\n",
       "6      resume_coaching         350\n",
       "3        proposed_call         314\n",
       "4       proposed_email         307\n",
       "5         proposed_sms         279\n",
       "1  employer_reminder_2         103\n",
       "2   interview_coaching          97"
      ]
     },
     "execution_count": 29,
     "metadata": {},
     "output_type": "execute_result"
    }
   ],
   "source": [
    "#Profilage sur les differentes types d'actions avec le nonbre d'occurences\n",
    "request_1 = df.groupby('action_type').size().reset_index(name=\"Occurences\").sort_values(by='Occurences', ascending=False)\n",
    "request_1"
   ]
  },
  {
   "cell_type": "code",
   "execution_count": 35,
   "id": "39fcc9bd-ebc6-435e-87ee-a55bcf15c9ea",
   "metadata": {},
   "outputs": [
    {
     "data": {
      "application/vnd.plotly.v1+json": {
       "config": {
        "plotlyServerURL": "https://plot.ly"
       },
       "data": [
        {
         "alignmentgroup": "True",
         "hovertemplate": "<b>Type d'action</b>=%{x}<br>Occurences=%{y}<extra></extra>",
         "legendgroup": "",
         "marker": {
          "color": "#636efa",
          "pattern": {
           "shape": ""
          }
         },
         "name": "",
         "offsetgroup": "",
         "orientation": "v",
         "showlegend": false,
         "textposition": "auto",
         "type": "bar",
         "x": [
          "employer_reminder_1",
          "resume_coaching",
          "proposed_call",
          "proposed_email",
          "proposed_sms",
          "employer_reminder_2",
          "interview_coaching"
         ],
         "xaxis": "x",
         "y": [
          465,
          350,
          314,
          307,
          279,
          103,
          97
         ],
         "yaxis": "y"
        }
       ],
       "layout": {
        "autosize": true,
        "barmode": "relative",
        "legend": {
         "tracegroupgap": 0
        },
        "template": {
         "data": {
          "bar": [
           {
            "error_x": {
             "color": "#2a3f5f"
            },
            "error_y": {
             "color": "#2a3f5f"
            },
            "marker": {
             "line": {
              "color": "#E5ECF6",
              "width": 0.5
             },
             "pattern": {
              "fillmode": "overlay",
              "size": 10,
              "solidity": 0.2
             }
            },
            "type": "bar"
           }
          ],
          "barpolar": [
           {
            "marker": {
             "line": {
              "color": "#E5ECF6",
              "width": 0.5
             },
             "pattern": {
              "fillmode": "overlay",
              "size": 10,
              "solidity": 0.2
             }
            },
            "type": "barpolar"
           }
          ],
          "carpet": [
           {
            "aaxis": {
             "endlinecolor": "#2a3f5f",
             "gridcolor": "white",
             "linecolor": "white",
             "minorgridcolor": "white",
             "startlinecolor": "#2a3f5f"
            },
            "baxis": {
             "endlinecolor": "#2a3f5f",
             "gridcolor": "white",
             "linecolor": "white",
             "minorgridcolor": "white",
             "startlinecolor": "#2a3f5f"
            },
            "type": "carpet"
           }
          ],
          "choropleth": [
           {
            "colorbar": {
             "outlinewidth": 0,
             "ticks": ""
            },
            "type": "choropleth"
           }
          ],
          "contour": [
           {
            "colorbar": {
             "outlinewidth": 0,
             "ticks": ""
            },
            "colorscale": [
             [
              0,
              "#0d0887"
             ],
             [
              0.1111111111111111,
              "#46039f"
             ],
             [
              0.2222222222222222,
              "#7201a8"
             ],
             [
              0.3333333333333333,
              "#9c179e"
             ],
             [
              0.4444444444444444,
              "#bd3786"
             ],
             [
              0.5555555555555556,
              "#d8576b"
             ],
             [
              0.6666666666666666,
              "#ed7953"
             ],
             [
              0.7777777777777778,
              "#fb9f3a"
             ],
             [
              0.8888888888888888,
              "#fdca26"
             ],
             [
              1,
              "#f0f921"
             ]
            ],
            "type": "contour"
           }
          ],
          "contourcarpet": [
           {
            "colorbar": {
             "outlinewidth": 0,
             "ticks": ""
            },
            "type": "contourcarpet"
           }
          ],
          "heatmap": [
           {
            "colorbar": {
             "outlinewidth": 0,
             "ticks": ""
            },
            "colorscale": [
             [
              0,
              "#0d0887"
             ],
             [
              0.1111111111111111,
              "#46039f"
             ],
             [
              0.2222222222222222,
              "#7201a8"
             ],
             [
              0.3333333333333333,
              "#9c179e"
             ],
             [
              0.4444444444444444,
              "#bd3786"
             ],
             [
              0.5555555555555556,
              "#d8576b"
             ],
             [
              0.6666666666666666,
              "#ed7953"
             ],
             [
              0.7777777777777778,
              "#fb9f3a"
             ],
             [
              0.8888888888888888,
              "#fdca26"
             ],
             [
              1,
              "#f0f921"
             ]
            ],
            "type": "heatmap"
           }
          ],
          "heatmapgl": [
           {
            "colorbar": {
             "outlinewidth": 0,
             "ticks": ""
            },
            "colorscale": [
             [
              0,
              "#0d0887"
             ],
             [
              0.1111111111111111,
              "#46039f"
             ],
             [
              0.2222222222222222,
              "#7201a8"
             ],
             [
              0.3333333333333333,
              "#9c179e"
             ],
             [
              0.4444444444444444,
              "#bd3786"
             ],
             [
              0.5555555555555556,
              "#d8576b"
             ],
             [
              0.6666666666666666,
              "#ed7953"
             ],
             [
              0.7777777777777778,
              "#fb9f3a"
             ],
             [
              0.8888888888888888,
              "#fdca26"
             ],
             [
              1,
              "#f0f921"
             ]
            ],
            "type": "heatmapgl"
           }
          ],
          "histogram": [
           {
            "marker": {
             "pattern": {
              "fillmode": "overlay",
              "size": 10,
              "solidity": 0.2
             }
            },
            "type": "histogram"
           }
          ],
          "histogram2d": [
           {
            "colorbar": {
             "outlinewidth": 0,
             "ticks": ""
            },
            "colorscale": [
             [
              0,
              "#0d0887"
             ],
             [
              0.1111111111111111,
              "#46039f"
             ],
             [
              0.2222222222222222,
              "#7201a8"
             ],
             [
              0.3333333333333333,
              "#9c179e"
             ],
             [
              0.4444444444444444,
              "#bd3786"
             ],
             [
              0.5555555555555556,
              "#d8576b"
             ],
             [
              0.6666666666666666,
              "#ed7953"
             ],
             [
              0.7777777777777778,
              "#fb9f3a"
             ],
             [
              0.8888888888888888,
              "#fdca26"
             ],
             [
              1,
              "#f0f921"
             ]
            ],
            "type": "histogram2d"
           }
          ],
          "histogram2dcontour": [
           {
            "colorbar": {
             "outlinewidth": 0,
             "ticks": ""
            },
            "colorscale": [
             [
              0,
              "#0d0887"
             ],
             [
              0.1111111111111111,
              "#46039f"
             ],
             [
              0.2222222222222222,
              "#7201a8"
             ],
             [
              0.3333333333333333,
              "#9c179e"
             ],
             [
              0.4444444444444444,
              "#bd3786"
             ],
             [
              0.5555555555555556,
              "#d8576b"
             ],
             [
              0.6666666666666666,
              "#ed7953"
             ],
             [
              0.7777777777777778,
              "#fb9f3a"
             ],
             [
              0.8888888888888888,
              "#fdca26"
             ],
             [
              1,
              "#f0f921"
             ]
            ],
            "type": "histogram2dcontour"
           }
          ],
          "mesh3d": [
           {
            "colorbar": {
             "outlinewidth": 0,
             "ticks": ""
            },
            "type": "mesh3d"
           }
          ],
          "parcoords": [
           {
            "line": {
             "colorbar": {
              "outlinewidth": 0,
              "ticks": ""
             }
            },
            "type": "parcoords"
           }
          ],
          "pie": [
           {
            "automargin": true,
            "type": "pie"
           }
          ],
          "scatter": [
           {
            "fillpattern": {
             "fillmode": "overlay",
             "size": 10,
             "solidity": 0.2
            },
            "type": "scatter"
           }
          ],
          "scatter3d": [
           {
            "line": {
             "colorbar": {
              "outlinewidth": 0,
              "ticks": ""
             }
            },
            "marker": {
             "colorbar": {
              "outlinewidth": 0,
              "ticks": ""
             }
            },
            "type": "scatter3d"
           }
          ],
          "scattercarpet": [
           {
            "marker": {
             "colorbar": {
              "outlinewidth": 0,
              "ticks": ""
             }
            },
            "type": "scattercarpet"
           }
          ],
          "scattergeo": [
           {
            "marker": {
             "colorbar": {
              "outlinewidth": 0,
              "ticks": ""
             }
            },
            "type": "scattergeo"
           }
          ],
          "scattergl": [
           {
            "marker": {
             "colorbar": {
              "outlinewidth": 0,
              "ticks": ""
             }
            },
            "type": "scattergl"
           }
          ],
          "scattermapbox": [
           {
            "marker": {
             "colorbar": {
              "outlinewidth": 0,
              "ticks": ""
             }
            },
            "type": "scattermapbox"
           }
          ],
          "scatterpolar": [
           {
            "marker": {
             "colorbar": {
              "outlinewidth": 0,
              "ticks": ""
             }
            },
            "type": "scatterpolar"
           }
          ],
          "scatterpolargl": [
           {
            "marker": {
             "colorbar": {
              "outlinewidth": 0,
              "ticks": ""
             }
            },
            "type": "scatterpolargl"
           }
          ],
          "scatterternary": [
           {
            "marker": {
             "colorbar": {
              "outlinewidth": 0,
              "ticks": ""
             }
            },
            "type": "scatterternary"
           }
          ],
          "surface": [
           {
            "colorbar": {
             "outlinewidth": 0,
             "ticks": ""
            },
            "colorscale": [
             [
              0,
              "#0d0887"
             ],
             [
              0.1111111111111111,
              "#46039f"
             ],
             [
              0.2222222222222222,
              "#7201a8"
             ],
             [
              0.3333333333333333,
              "#9c179e"
             ],
             [
              0.4444444444444444,
              "#bd3786"
             ],
             [
              0.5555555555555556,
              "#d8576b"
             ],
             [
              0.6666666666666666,
              "#ed7953"
             ],
             [
              0.7777777777777778,
              "#fb9f3a"
             ],
             [
              0.8888888888888888,
              "#fdca26"
             ],
             [
              1,
              "#f0f921"
             ]
            ],
            "type": "surface"
           }
          ],
          "table": [
           {
            "cells": {
             "fill": {
              "color": "#EBF0F8"
             },
             "line": {
              "color": "white"
             }
            },
            "header": {
             "fill": {
              "color": "#C8D4E3"
             },
             "line": {
              "color": "white"
             }
            },
            "type": "table"
           }
          ]
         },
         "layout": {
          "annotationdefaults": {
           "arrowcolor": "#2a3f5f",
           "arrowhead": 0,
           "arrowwidth": 1
          },
          "autotypenumbers": "strict",
          "coloraxis": {
           "colorbar": {
            "outlinewidth": 0,
            "ticks": ""
           }
          },
          "colorscale": {
           "diverging": [
            [
             0,
             "#8e0152"
            ],
            [
             0.1,
             "#c51b7d"
            ],
            [
             0.2,
             "#de77ae"
            ],
            [
             0.3,
             "#f1b6da"
            ],
            [
             0.4,
             "#fde0ef"
            ],
            [
             0.5,
             "#f7f7f7"
            ],
            [
             0.6,
             "#e6f5d0"
            ],
            [
             0.7,
             "#b8e186"
            ],
            [
             0.8,
             "#7fbc41"
            ],
            [
             0.9,
             "#4d9221"
            ],
            [
             1,
             "#276419"
            ]
           ],
           "sequential": [
            [
             0,
             "#0d0887"
            ],
            [
             0.1111111111111111,
             "#46039f"
            ],
            [
             0.2222222222222222,
             "#7201a8"
            ],
            [
             0.3333333333333333,
             "#9c179e"
            ],
            [
             0.4444444444444444,
             "#bd3786"
            ],
            [
             0.5555555555555556,
             "#d8576b"
            ],
            [
             0.6666666666666666,
             "#ed7953"
            ],
            [
             0.7777777777777778,
             "#fb9f3a"
            ],
            [
             0.8888888888888888,
             "#fdca26"
            ],
            [
             1,
             "#f0f921"
            ]
           ],
           "sequentialminus": [
            [
             0,
             "#0d0887"
            ],
            [
             0.1111111111111111,
             "#46039f"
            ],
            [
             0.2222222222222222,
             "#7201a8"
            ],
            [
             0.3333333333333333,
             "#9c179e"
            ],
            [
             0.4444444444444444,
             "#bd3786"
            ],
            [
             0.5555555555555556,
             "#d8576b"
            ],
            [
             0.6666666666666666,
             "#ed7953"
            ],
            [
             0.7777777777777778,
             "#fb9f3a"
            ],
            [
             0.8888888888888888,
             "#fdca26"
            ],
            [
             1,
             "#f0f921"
            ]
           ]
          },
          "colorway": [
           "#636efa",
           "#EF553B",
           "#00cc96",
           "#ab63fa",
           "#FFA15A",
           "#19d3f3",
           "#FF6692",
           "#B6E880",
           "#FF97FF",
           "#FECB52"
          ],
          "font": {
           "color": "#2a3f5f"
          },
          "geo": {
           "bgcolor": "white",
           "lakecolor": "white",
           "landcolor": "#E5ECF6",
           "showlakes": true,
           "showland": true,
           "subunitcolor": "white"
          },
          "hoverlabel": {
           "align": "left"
          },
          "hovermode": "closest",
          "mapbox": {
           "style": "light"
          },
          "paper_bgcolor": "white",
          "plot_bgcolor": "#E5ECF6",
          "polar": {
           "angularaxis": {
            "gridcolor": "white",
            "linecolor": "white",
            "ticks": ""
           },
           "bgcolor": "#E5ECF6",
           "radialaxis": {
            "gridcolor": "white",
            "linecolor": "white",
            "ticks": ""
           }
          },
          "scene": {
           "xaxis": {
            "backgroundcolor": "#E5ECF6",
            "gridcolor": "white",
            "gridwidth": 2,
            "linecolor": "white",
            "showbackground": true,
            "ticks": "",
            "zerolinecolor": "white"
           },
           "yaxis": {
            "backgroundcolor": "#E5ECF6",
            "gridcolor": "white",
            "gridwidth": 2,
            "linecolor": "white",
            "showbackground": true,
            "ticks": "",
            "zerolinecolor": "white"
           },
           "zaxis": {
            "backgroundcolor": "#E5ECF6",
            "gridcolor": "white",
            "gridwidth": 2,
            "linecolor": "white",
            "showbackground": true,
            "ticks": "",
            "zerolinecolor": "white"
           }
          },
          "shapedefaults": {
           "line": {
            "color": "#2a3f5f"
           }
          },
          "ternary": {
           "aaxis": {
            "gridcolor": "white",
            "linecolor": "white",
            "ticks": ""
           },
           "baxis": {
            "gridcolor": "white",
            "linecolor": "white",
            "ticks": ""
           },
           "bgcolor": "#E5ECF6",
           "caxis": {
            "gridcolor": "white",
            "linecolor": "white",
            "ticks": ""
           }
          },
          "title": {
           "x": 0.05
          },
          "xaxis": {
           "automargin": true,
           "gridcolor": "white",
           "linecolor": "white",
           "ticks": "",
           "title": {
            "standoff": 15
           },
           "zerolinecolor": "white",
           "zerolinewidth": 2
          },
          "yaxis": {
           "automargin": true,
           "gridcolor": "white",
           "linecolor": "white",
           "ticks": "",
           "title": {
            "standoff": 15
           },
           "zerolinecolor": "white",
           "zerolinewidth": 2
          }
         }
        },
        "title": {
         "text": "<b>Répartition des types d'actions</b>",
         "x": 0.5
        },
        "xaxis": {
         "anchor": "y",
         "autorange": true,
         "domain": [
          0,
          1
         ],
         "range": [
          -0.5,
          6.5
         ],
         "title": {
          "text": "<b>Type d'action</b>"
         },
         "type": "category"
        },
        "yaxis": {
         "anchor": "x",
         "autorange": true,
         "domain": [
          0,
          1
         ],
         "range": [
          0,
          489.4736842105263
         ],
         "title": {
          "text": "Occurences"
         },
         "type": "linear"
        }
       }
      },
      "image/png": "[encoded data removed]",
      "text/html": [
       "<div>                            <div id=\"6984667f-9669-4abe-b165-bac3267176a4\" class=\"plotly-graph-div\" style=\"height:525px; width:100%;\"></div>            <script type=\"text/javascript\">                require([\"plotly\"], function(Plotly) {                    window.PLOTLYENV=window.PLOTLYENV || {};                                    if (document.getElementById(\"6984667f-9669-4abe-b165-bac3267176a4\")) {                    Plotly.newPlot(                        \"6984667f-9669-4abe-b165-bac3267176a4\",                        [{\"alignmentgroup\":\"True\",\"hovertemplate\":\"\\u003cb\\u003eType d'action\\u003c\\u002fb\\u003e=%{x}\\u003cbr\\u003eOccurences=%{y}\\u003cextra\\u003e\\u003c\\u002fextra\\u003e\",\"legendgroup\":\"\",\"marker\":{\"color\":\"#636efa\",\"pattern\":{\"shape\":\"\"}},\"name\":\"\",\"offsetgroup\":\"\",\"orientation\":\"v\",\"showlegend\":false,\"textposition\":\"auto\",\"x\":[\"employer_reminder_1\",\"resume_coaching\",\"proposed_call\",\"proposed_email\",\"proposed_sms\",\"employer_reminder_2\",\"interview_coaching\"],\"xaxis\":\"x\",\"y\":[465,350,314,307,279,103,97],\"yaxis\":\"y\",\"type\":\"bar\"}],                        {\"template\":{\"data\":{\"histogram2dcontour\":[{\"type\":\"histogram2dcontour\",\"colorbar\":{\"outlinewidth\":0,\"ticks\":\"\"},\"colorscale\":[[0.0,\"#0d0887\"],[0.1111111111111111,\"#46039f\"],[0.2222222222222222,\"#7201a8\"],[0.3333333333333333,\"#9c179e\"],[0.4444444444444444,\"#bd3786\"],[0.5555555555555556,\"#d8576b\"],[0.6666666666666666,\"#ed7953\"],[0.7777777777777778,\"#fb9f3a\"],[0.8888888888888888,\"#fdca26\"],[1.0,\"#f0f921\"]]}],\"choropleth\":[{\"type\":\"choropleth\",\"colorbar\":{\"outlinewidth\":0,\"ticks\":\"\"}}],\"histogram2d\":[{\"type\":\"histogram2d\",\"colorbar\":{\"outlinewidth\":0,\"ticks\":\"\"},\"colorscale\":[[0.0,\"#0d0887\"],[0.1111111111111111,\"#46039f\"],[0.2222222222222222,\"#7201a8\"],[0.3333333333333333,\"#9c179e\"],[0.4444444444444444,\"#bd3786\"],[0.5555555555555556,\"#d8576b\"],[0.6666666666666666,\"#ed7953\"],[0.7777777777777778,\"#fb9f3a\"],[0.8888888888888888,\"#fdca26\"],[1.0,\"#f0f921\"]]}],\"heatmap\":[{\"type\":\"heatmap\",\"colorbar\":{\"outlinewidth\":0,\"ticks\":\"\"},\"colorscale\":[[0.0,\"#0d0887\"],[0.1111111111111111,\"#46039f\"],[0.2222222222222222,\"#7201a8\"],[0.3333333333333333,\"#9c179e\"],[0.4444444444444444,\"#bd3786\"],[0.5555555555555556,\"#d8576b\"],[0.6666666666666666,\"#ed7953\"],[0.7777777777777778,\"#fb9f3a\"],[0.8888888888888888,\"#fdca26\"],[1.0,\"#f0f921\"]]}],\"heatmapgl\":[{\"type\":\"heatmapgl\",\"colorbar\":{\"outlinewidth\":0,\"ticks\":\"\"},\"colorscale\":[[0.0,\"#0d0887\"],[0.1111111111111111,\"#46039f\"],[0.2222222222222222,\"#7201a8\"],[0.3333333333333333,\"#9c179e\"],[0.4444444444444444,\"#bd3786\"],[0.5555555555555556,\"#d8576b\"],[0.6666666666666666,\"#ed7953\"],[0.7777777777777778,\"#fb9f3a\"],[0.8888888888888888,\"#fdca26\"],[1.0,\"#f0f921\"]]}],\"contourcarpet\":[{\"type\":\"contourcarpet\",\"colorbar\":{\"outlinewidth\":0,\"ticks\":\"\"}}],\"contour\":[{\"type\":\"contour\",\"colorbar\":{\"outlinewidth\":0,\"ticks\":\"\"},\"colorscale\":[[0.0,\"#0d0887\"],[0.1111111111111111,\"#46039f\"],[0.2222222222222222,\"#7201a8\"],[0.3333333333333333,\"#9c179e\"],[0.4444444444444444,\"#bd3786\"],[0.5555555555555556,\"#d8576b\"],[0.6666666666666666,\"#ed7953\"],[0.7777777777777778,\"#fb9f3a\"],[0.8888888888888888,\"#fdca26\"],[1.0,\"#f0f921\"]]}],\"surface\":[{\"type\":\"surface\",\"colorbar\":{\"outlinewidth\":0,\"ticks\":\"\"},\"colorscale\":[[0.0,\"#0d0887\"],[0.1111111111111111,\"#46039f\"],[0.2222222222222222,\"#7201a8\"],[0.3333333333333333,\"#9c179e\"],[0.4444444444444444,\"#bd3786\"],[0.5555555555555556,\"#d8576b\"],[0.6666666666666666,\"#ed7953\"],[0.7777777777777778,\"#fb9f3a\"],[0.8888888888888888,\"#fdca26\"],[1.0,\"#f0f921\"]]}],\"mesh3d\":[{\"type\":\"mesh3d\",\"colorbar\":{\"outlinewidth\":0,\"ticks\":\"\"}}],\"scatter\":[{\"fillpattern\":{\"fillmode\":\"overlay\",\"size\":10,\"solidity\":0.2},\"type\":\"scatter\"}],\"parcoords\":[{\"type\":\"parcoords\",\"line\":{\"colorbar\":{\"outlinewidth\":0,\"ticks\":\"\"}}}],\"scatterpolargl\":[{\"type\":\"scatterpolargl\",\"marker\":{\"colorbar\":{\"outlinewidth\":0,\"ticks\":\"\"}}}],\"bar\":[{\"error_x\":{\"color\":\"#2a3f5f\"},\"error_y\":{\"color\":\"#2a3f5f\"},\"marker\":{\"line\":{\"color\":\"#E5ECF6\",\"width\":0.5},\"pattern\":{\"fillmode\":\"overlay\",\"size\":10,\"solidity\":0.2}},\"type\":\"bar\"}],\"scattergeo\":[{\"type\":\"scattergeo\",\"marker\":{\"colorbar\":{\"outlinewidth\":0,\"ticks\":\"\"}}}],\"scatterpolar\":[{\"type\":\"scatterpolar\",\"marker\":{\"colorbar\":{\"outlinewidth\":0,\"ticks\":\"\"}}}],\"histogram\":[{\"marker\":{\"pattern\":{\"fillmode\":\"overlay\",\"size\":10,\"solidity\":0.2}},\"type\":\"histogram\"}],\"scattergl\":[{\"type\":\"scattergl\",\"marker\":{\"colorbar\":{\"outlinewidth\":0,\"ticks\":\"\"}}}],\"scatter3d\":[{\"type\":\"scatter3d\",\"line\":{\"colorbar\":{\"outlinewidth\":0,\"ticks\":\"\"}},\"marker\":{\"colorbar\":{\"outlinewidth\":0,\"ticks\":\"\"}}}],\"scattermapbox\":[{\"type\":\"scattermapbox\",\"marker\":{\"colorbar\":{\"outlinewidth\":0,\"ticks\":\"\"}}}],\"scatterternary\":[{\"type\":\"scatterternary\",\"marker\":{\"colorbar\":{\"outlinewidth\":0,\"ticks\":\"\"}}}],\"scattercarpet\":[{\"type\":\"scattercarpet\",\"marker\":{\"colorbar\":{\"outlinewidth\":0,\"ticks\":\"\"}}}],\"carpet\":[{\"aaxis\":{\"endlinecolor\":\"#2a3f5f\",\"gridcolor\":\"white\",\"linecolor\":\"white\",\"minorgridcolor\":\"white\",\"startlinecolor\":\"#2a3f5f\"},\"baxis\":{\"endlinecolor\":\"#2a3f5f\",\"gridcolor\":\"white\",\"linecolor\":\"white\",\"minorgridcolor\":\"white\",\"startlinecolor\":\"#2a3f5f\"},\"type\":\"carpet\"}],\"table\":[{\"cells\":{\"fill\":{\"color\":\"#EBF0F8\"},\"line\":{\"color\":\"white\"}},\"header\":{\"fill\":{\"color\":\"#C8D4E3\"},\"line\":{\"color\":\"white\"}},\"type\":\"table\"}],\"barpolar\":[{\"marker\":{\"line\":{\"color\":\"#E5ECF6\",\"width\":0.5},\"pattern\":{\"fillmode\":\"overlay\",\"size\":10,\"solidity\":0.2}},\"type\":\"barpolar\"}],\"pie\":[{\"automargin\":true,\"type\":\"pie\"}]},\"layout\":{\"autotypenumbers\":\"strict\",\"colorway\":[\"#636efa\",\"#EF553B\",\"#00cc96\",\"#ab63fa\",\"#FFA15A\",\"#19d3f3\",\"#FF6692\",\"#B6E880\",\"#FF97FF\",\"#FECB52\"],\"font\":{\"color\":\"#2a3f5f\"},\"hovermode\":\"closest\",\"hoverlabel\":{\"align\":\"left\"},\"paper_bgcolor\":\"white\",\"plot_bgcolor\":\"#E5ECF6\",\"polar\":{\"bgcolor\":\"#E5ECF6\",\"angularaxis\":{\"gridcolor\":\"white\",\"linecolor\":\"white\",\"ticks\":\"\"},\"radialaxis\":{\"gridcolor\":\"white\",\"linecolor\":\"white\",\"ticks\":\"\"}},\"ternary\":{\"bgcolor\":\"#E5ECF6\",\"aaxis\":{\"gridcolor\":\"white\",\"linecolor\":\"white\",\"ticks\":\"\"},\"baxis\":{\"gridcolor\":\"white\",\"linecolor\":\"white\",\"ticks\":\"\"},\"caxis\":{\"gridcolor\":\"white\",\"linecolor\":\"white\",\"ticks\":\"\"}},\"coloraxis\":{\"colorbar\":{\"outlinewidth\":0,\"ticks\":\"\"}},\"colorscale\":{\"sequential\":[[0.0,\"#0d0887\"],[0.1111111111111111,\"#46039f\"],[0.2222222222222222,\"#7201a8\"],[0.3333333333333333,\"#9c179e\"],[0.4444444444444444,\"#bd3786\"],[0.5555555555555556,\"#d8576b\"],[0.6666666666666666,\"#ed7953\"],[0.7777777777777778,\"#fb9f3a\"],[0.8888888888888888,\"#fdca26\"],[1.0,\"#f0f921\"]],\"sequentialminus\":[[0.0,\"#0d0887\"],[0.1111111111111111,\"#46039f\"],[0.2222222222222222,\"#7201a8\"],[0.3333333333333333,\"#9c179e\"],[0.4444444444444444,\"#bd3786\"],[0.5555555555555556,\"#d8576b\"],[0.6666666666666666,\"#ed7953\"],[0.7777777777777778,\"#fb9f3a\"],[0.8888888888888888,\"#fdca26\"],[1.0,\"#f0f921\"]],\"diverging\":[[0,\"#8e0152\"],[0.1,\"#c51b7d\"],[0.2,\"#de77ae\"],[0.3,\"#f1b6da\"],[0.4,\"#fde0ef\"],[0.5,\"#f7f7f7\"],[0.6,\"#e6f5d0\"],[0.7,\"#b8e186\"],[0.8,\"#7fbc41\"],[0.9,\"#4d9221\"],[1,\"#276419\"]]},\"xaxis\":{\"gridcolor\":\"white\",\"linecolor\":\"white\",\"ticks\":\"\",\"title\":{\"standoff\":15},\"zerolinecolor\":\"white\",\"automargin\":true,\"zerolinewidth\":2},\"yaxis\":{\"gridcolor\":\"white\",\"linecolor\":\"white\",\"ticks\":\"\",\"title\":{\"standoff\":15},\"zerolinecolor\":\"white\",\"automargin\":true,\"zerolinewidth\":2},\"scene\":{\"xaxis\":{\"backgroundcolor\":\"#E5ECF6\",\"gridcolor\":\"white\",\"linecolor\":\"white\",\"showbackground\":true,\"ticks\":\"\",\"zerolinecolor\":\"white\",\"gridwidth\":2},\"yaxis\":{\"backgroundcolor\":\"#E5ECF6\",\"gridcolor\":\"white\",\"linecolor\":\"white\",\"showbackground\":true,\"ticks\":\"\",\"zerolinecolor\":\"white\",\"gridwidth\":2},\"zaxis\":{\"backgroundcolor\":\"#E5ECF6\",\"gridcolor\":\"white\",\"linecolor\":\"white\",\"showbackground\":true,\"ticks\":\"\",\"zerolinecolor\":\"white\",\"gridwidth\":2}},\"shapedefaults\":{\"line\":{\"color\":\"#2a3f5f\"}},\"annotationdefaults\":{\"arrowcolor\":\"#2a3f5f\",\"arrowhead\":0,\"arrowwidth\":1},\"geo\":{\"bgcolor\":\"white\",\"landcolor\":\"#E5ECF6\",\"subunitcolor\":\"white\",\"showland\":true,\"showlakes\":true,\"lakecolor\":\"white\"},\"title\":{\"x\":0.05},\"mapbox\":{\"style\":\"light\"}}},\"xaxis\":{\"anchor\":\"y\",\"domain\":[0.0,1.0],\"title\":{\"text\":\"\\u003cb\\u003eType d'action\\u003c\\u002fb\\u003e\"}},\"yaxis\":{\"anchor\":\"x\",\"domain\":[0.0,1.0],\"title\":{\"text\":\"Occurences\"}},\"legend\":{\"tracegroupgap\":0},\"title\":{\"text\":\"\\u003cb\\u003eR\\u00e9partition des types d'actions\\u003c\\u002fb\\u003e\",\"x\":0.5},\"barmode\":\"relative\"},                        {\"responsive\": true}                    ).then(function(){\n",
       "                            \n",
       "var gd = document.getElementById('6984667f-9669-4abe-b165-bac3267176a4');\n",
       "var x = new MutationObserver(function (mutations, observer) {{\n",
       "        var display = window.getComputedStyle(gd).display;\n",
       "        if (!display || display === 'none') {{\n",
       "            console.log([gd, 'removed!']);\n",
       "            Plotly.purge(gd);\n",
       "            observer.disconnect();\n",
       "        }}\n",
       "}});\n",
       "\n",
       "// Listen for the removal of the full notebook cells\n",
       "var notebookContainer = gd.closest('#notebook-container');\n",
       "if (notebookContainer) {{\n",
       "    x.observe(notebookContainer, {childList: true});\n",
       "}}\n",
       "\n",
       "// Listen for the clearing of the current output cell\n",
       "var outputEl = gd.closest('.output');\n",
       "if (outputEl) {{\n",
       "    x.observe(outputEl, {childList: true});\n",
       "}}\n",
       "\n",
       "                        })                };                });            </script>        </div>"
      ]
     },
     "metadata": {},
     "output_type": "display_data"
    }
   ],
   "source": [
    "#Visualisation des resultats de la requêtes précédente\n",
    "design_viz(request_1, xlab='action_type', title='Répartition des types d\\'actions', ylab='Occurences', label={'action_type': f'<b>Type d\\'action</b>', 'Occurence': f'<b>Occurences</b>'}  )"
   ]
  },
  {
   "cell_type": "code",
   "execution_count": 39,
   "id": "adaf5f22-2539-41a5-a0f7-a65abe558fd3",
   "metadata": {},
   "outputs": [
    {
     "data": {
      "text/html": [
       "<div>\n",
       "<style scoped>\n",
       "    .dataframe tbody tr th:only-of-type {\n",
       "        vertical-align: middle;\n",
       "    }\n",
       "\n",
       "    .dataframe tbody tr th {\n",
       "        vertical-align: top;\n",
       "    }\n",
       "\n",
       "    .dataframe thead th {\n",
       "        text-align: right;\n",
       "    }\n",
       "</style>\n",
       "<table border=\"1\" class=\"dataframe\">\n",
       "  <thead>\n",
       "    <tr style=\"text-align: right;\">\n",
       "      <th></th>\n",
       "      <th>action_type</th>\n",
       "      <th>offer_id</th>\n",
       "      <th>Occurences</th>\n",
       "    </tr>\n",
       "  </thead>\n",
       "  <tbody>\n",
       "    <tr>\n",
       "      <th>1317</th>\n",
       "      <td>resume_coaching</td>\n",
       "      <td>12f59940</td>\n",
       "      <td>6</td>\n",
       "    </tr>\n",
       "    <tr>\n",
       "      <th>574</th>\n",
       "      <td>proposed_call</td>\n",
       "      <td>12f59940</td>\n",
       "      <td>4</td>\n",
       "    </tr>\n",
       "    <tr>\n",
       "      <th>707</th>\n",
       "      <td>proposed_call</td>\n",
       "      <td>99ce7028</td>\n",
       "      <td>4</td>\n",
       "    </tr>\n",
       "    <tr>\n",
       "      <th>294</th>\n",
       "      <td>employer_reminder_1</td>\n",
       "      <td>ca3284b4</td>\n",
       "      <td>4</td>\n",
       "    </tr>\n",
       "    <tr>\n",
       "      <th>28</th>\n",
       "      <td>employer_reminder_1</td>\n",
       "      <td>12f59940</td>\n",
       "      <td>4</td>\n",
       "    </tr>\n",
       "    <tr>\n",
       "      <th>...</th>\n",
       "      <td>...</td>\n",
       "      <td>...</td>\n",
       "      <td>...</td>\n",
       "    </tr>\n",
       "    <tr>\n",
       "      <th>567</th>\n",
       "      <td>proposed_call</td>\n",
       "      <td>0ac9db8f</td>\n",
       "      <td>1</td>\n",
       "    </tr>\n",
       "    <tr>\n",
       "      <th>566</th>\n",
       "      <td>proposed_call</td>\n",
       "      <td>09f471e5</td>\n",
       "      <td>1</td>\n",
       "    </tr>\n",
       "    <tr>\n",
       "      <th>565</th>\n",
       "      <td>proposed_call</td>\n",
       "      <td>08aeecca</td>\n",
       "      <td>1</td>\n",
       "    </tr>\n",
       "    <tr>\n",
       "      <th>564</th>\n",
       "      <td>proposed_call</td>\n",
       "      <td>06f1765b</td>\n",
       "      <td>1</td>\n",
       "    </tr>\n",
       "    <tr>\n",
       "      <th>1586</th>\n",
       "      <td>resume_coaching</td>\n",
       "      <td>fecf636d</td>\n",
       "      <td>1</td>\n",
       "    </tr>\n",
       "  </tbody>\n",
       "</table>\n",
       "<p>1587 rows × 3 columns</p>\n",
       "</div>"
      ],
      "text/plain": [
       "              action_type  offer_id  Occurences\n",
       "1317      resume_coaching  12f59940           6\n",
       "574         proposed_call  12f59940           4\n",
       "707         proposed_call  99ce7028           4\n",
       "294   employer_reminder_1  ca3284b4           4\n",
       "28    employer_reminder_1  12f59940           4\n",
       "...                   ...       ...         ...\n",
       "567         proposed_call  0ac9db8f           1\n",
       "566         proposed_call  09f471e5           1\n",
       "565         proposed_call  08aeecca           1\n",
       "564         proposed_call  06f1765b           1\n",
       "1586      resume_coaching  fecf636d           1\n",
       "\n",
       "[1587 rows x 3 columns]"
      ]
     },
     "execution_count": 39,
     "metadata": {},
     "output_type": "execute_result"
    }
   ],
   "source": [
    "# Repartition des types d'action en fonction des types d'offres d'emploi\n",
    "request_2 = df.groupby(['action_type', 'offer_id']).size().reset_index(name='Occurences').sort_values(by='Occurences', ascending=False)\n",
    "request_2"
   ]
  },
  {
   "cell_type": "code",
   "execution_count": 41,
   "id": "afef94b7-893e-4b70-b427-eda204b95997",
   "metadata": {},
   "outputs": [
    {
     "data": {
      "text/plain": [
       "count         1915\n",
       "unique        1915\n",
       "top       1af4b0dc\n",
       "freq             1\n",
       "Name: action_id, dtype: object"
      ]
     },
     "execution_count": 41,
     "metadata": {},
     "output_type": "execute_result"
    }
   ],
   "source": [
    "#Statistique sur la colonne action_id \n",
    "df['action_id'].describe()"
   ]
  },
  {
   "cell_type": "code",
   "execution_count": 43,
   "id": "2cba8c47-4a64-456c-8ce9-2a03b6913c34",
   "metadata": {},
   "outputs": [
    {
     "data": {
      "text/html": [
       "<div>\n",
       "<style scoped>\n",
       "    .dataframe tbody tr th:only-of-type {\n",
       "        vertical-align: middle;\n",
       "    }\n",
       "\n",
       "    .dataframe tbody tr th {\n",
       "        vertical-align: top;\n",
       "    }\n",
       "\n",
       "    .dataframe thead th {\n",
       "        text-align: right;\n",
       "    }\n",
       "</style>\n",
       "<table border=\"1\" class=\"dataframe\">\n",
       "  <thead>\n",
       "    <tr style=\"text-align: right;\">\n",
       "      <th></th>\n",
       "      <th>offer_id</th>\n",
       "      <th>action_type</th>\n",
       "      <th>Occurences</th>\n",
       "      <th>rn</th>\n",
       "    </tr>\n",
       "  </thead>\n",
       "  <tbody>\n",
       "    <tr>\n",
       "      <th>0</th>\n",
       "      <td>0034064b</td>\n",
       "      <td>interview_coaching</td>\n",
       "      <td>1</td>\n",
       "      <td>1.0</td>\n",
       "    </tr>\n",
       "    <tr>\n",
       "      <th>1</th>\n",
       "      <td>0034064b</td>\n",
       "      <td>proposed_sms</td>\n",
       "      <td>1</td>\n",
       "      <td>2.0</td>\n",
       "    </tr>\n",
       "    <tr>\n",
       "      <th>2</th>\n",
       "      <td>0034064b</td>\n",
       "      <td>resume_coaching</td>\n",
       "      <td>1</td>\n",
       "      <td>3.0</td>\n",
       "    </tr>\n",
       "    <tr>\n",
       "      <th>3</th>\n",
       "      <td>0036aa64</td>\n",
       "      <td>employer_reminder_1</td>\n",
       "      <td>1</td>\n",
       "      <td>1.0</td>\n",
       "    </tr>\n",
       "    <tr>\n",
       "      <th>4</th>\n",
       "      <td>0036aa64</td>\n",
       "      <td>employer_reminder_2</td>\n",
       "      <td>1</td>\n",
       "      <td>2.0</td>\n",
       "    </tr>\n",
       "    <tr>\n",
       "      <th>...</th>\n",
       "      <td>...</td>\n",
       "      <td>...</td>\n",
       "      <td>...</td>\n",
       "      <td>...</td>\n",
       "    </tr>\n",
       "    <tr>\n",
       "      <th>1582</th>\n",
       "      <td>fde4e182</td>\n",
       "      <td>proposed_call</td>\n",
       "      <td>1</td>\n",
       "      <td>1.0</td>\n",
       "    </tr>\n",
       "    <tr>\n",
       "      <th>1583</th>\n",
       "      <td>fde4e182</td>\n",
       "      <td>resume_coaching</td>\n",
       "      <td>1</td>\n",
       "      <td>2.0</td>\n",
       "    </tr>\n",
       "    <tr>\n",
       "      <th>1584</th>\n",
       "      <td>fecf636d</td>\n",
       "      <td>interview_coaching</td>\n",
       "      <td>1</td>\n",
       "      <td>1.0</td>\n",
       "    </tr>\n",
       "    <tr>\n",
       "      <th>1585</th>\n",
       "      <td>fecf636d</td>\n",
       "      <td>proposed_email</td>\n",
       "      <td>1</td>\n",
       "      <td>2.0</td>\n",
       "    </tr>\n",
       "    <tr>\n",
       "      <th>1586</th>\n",
       "      <td>fecf636d</td>\n",
       "      <td>resume_coaching</td>\n",
       "      <td>1</td>\n",
       "      <td>3.0</td>\n",
       "    </tr>\n",
       "  </tbody>\n",
       "</table>\n",
       "<p>1587 rows × 4 columns</p>\n",
       "</div>"
      ],
      "text/plain": [
       "      offer_id          action_type  Occurences   rn\n",
       "0     0034064b   interview_coaching           1  1.0\n",
       "1     0034064b         proposed_sms           1  2.0\n",
       "2     0034064b      resume_coaching           1  3.0\n",
       "3     0036aa64  employer_reminder_1           1  1.0\n",
       "4     0036aa64  employer_reminder_2           1  2.0\n",
       "...        ...                  ...         ...  ...\n",
       "1582  fde4e182        proposed_call           1  1.0\n",
       "1583  fde4e182      resume_coaching           1  2.0\n",
       "1584  fecf636d   interview_coaching           1  1.0\n",
       "1585  fecf636d       proposed_email           1  2.0\n",
       "1586  fecf636d      resume_coaching           1  3.0\n",
       "\n",
       "[1587 rows x 4 columns]"
      ]
     },
     "execution_count": 43,
     "metadata": {},
     "output_type": "execute_result"
    }
   ],
   "source": [
    "# Repartition des top types d'action en fonction des types d'offres d'emploi\n",
    "df_count = df.groupby(['offer_id', 'action_type']).size().reset_index(name='Occurences')\n",
    "df_count['rn'] = df_count.groupby('offer_id')['Occurences'].rank(method='first', ascending=False)\n",
    "\n",
    "df_count"
   ]
  },
  {
   "cell_type": "code",
   "execution_count": 45,
   "id": "ff89b8d9-ff2b-4c8c-8d47-ff0a85eddc96",
   "metadata": {},
   "outputs": [
    {
     "data": {
      "text/html": [
       "<div>\n",
       "<style scoped>\n",
       "    .dataframe tbody tr th:only-of-type {\n",
       "        vertical-align: middle;\n",
       "    }\n",
       "\n",
       "    .dataframe tbody tr th {\n",
       "        vertical-align: top;\n",
       "    }\n",
       "\n",
       "    .dataframe thead th {\n",
       "        text-align: right;\n",
       "    }\n",
       "</style>\n",
       "<table border=\"1\" class=\"dataframe\">\n",
       "  <thead>\n",
       "    <tr style=\"text-align: right;\">\n",
       "      <th></th>\n",
       "      <th>candidate_id</th>\n",
       "      <th>action_type</th>\n",
       "      <th>Occurences</th>\n",
       "      <th>rn</th>\n",
       "    </tr>\n",
       "  </thead>\n",
       "  <tbody>\n",
       "    <tr>\n",
       "      <th>0</th>\n",
       "      <td>0255d702</td>\n",
       "      <td>employer_reminder_1</td>\n",
       "      <td>4</td>\n",
       "      <td>2.5</td>\n",
       "    </tr>\n",
       "    <tr>\n",
       "      <th>1</th>\n",
       "      <td>0255d702</td>\n",
       "      <td>interview_coaching</td>\n",
       "      <td>2</td>\n",
       "      <td>5.0</td>\n",
       "    </tr>\n",
       "    <tr>\n",
       "      <th>2</th>\n",
       "      <td>0255d702</td>\n",
       "      <td>proposed_call</td>\n",
       "      <td>4</td>\n",
       "      <td>2.5</td>\n",
       "    </tr>\n",
       "    <tr>\n",
       "      <th>3</th>\n",
       "      <td>0255d702</td>\n",
       "      <td>proposed_email</td>\n",
       "      <td>4</td>\n",
       "      <td>2.5</td>\n",
       "    </tr>\n",
       "    <tr>\n",
       "      <th>4</th>\n",
       "      <td>0255d702</td>\n",
       "      <td>proposed_sms</td>\n",
       "      <td>1</td>\n",
       "      <td>6.0</td>\n",
       "    </tr>\n",
       "    <tr>\n",
       "      <th>...</th>\n",
       "      <td>...</td>\n",
       "      <td>...</td>\n",
       "      <td>...</td>\n",
       "      <td>...</td>\n",
       "    </tr>\n",
       "    <tr>\n",
       "      <th>606</th>\n",
       "      <td>ffcfb194</td>\n",
       "      <td>interview_coaching</td>\n",
       "      <td>1</td>\n",
       "      <td>5.0</td>\n",
       "    </tr>\n",
       "    <tr>\n",
       "      <th>607</th>\n",
       "      <td>ffcfb194</td>\n",
       "      <td>proposed_call</td>\n",
       "      <td>1</td>\n",
       "      <td>5.0</td>\n",
       "    </tr>\n",
       "    <tr>\n",
       "      <th>608</th>\n",
       "      <td>ffcfb194</td>\n",
       "      <td>proposed_email</td>\n",
       "      <td>3</td>\n",
       "      <td>1.5</td>\n",
       "    </tr>\n",
       "    <tr>\n",
       "      <th>609</th>\n",
       "      <td>ffcfb194</td>\n",
       "      <td>proposed_sms</td>\n",
       "      <td>2</td>\n",
       "      <td>3.0</td>\n",
       "    </tr>\n",
       "    <tr>\n",
       "      <th>610</th>\n",
       "      <td>ffcfb194</td>\n",
       "      <td>resume_coaching</td>\n",
       "      <td>3</td>\n",
       "      <td>1.5</td>\n",
       "    </tr>\n",
       "  </tbody>\n",
       "</table>\n",
       "<p>611 rows × 4 columns</p>\n",
       "</div>"
      ],
      "text/plain": [
       "    candidate_id          action_type  Occurences   rn\n",
       "0       0255d702  employer_reminder_1           4  2.5\n",
       "1       0255d702   interview_coaching           2  5.0\n",
       "2       0255d702        proposed_call           4  2.5\n",
       "3       0255d702       proposed_email           4  2.5\n",
       "4       0255d702         proposed_sms           1  6.0\n",
       "..           ...                  ...         ...  ...\n",
       "606     ffcfb194   interview_coaching           1  5.0\n",
       "607     ffcfb194        proposed_call           1  5.0\n",
       "608     ffcfb194       proposed_email           3  1.5\n",
       "609     ffcfb194         proposed_sms           2  3.0\n",
       "610     ffcfb194      resume_coaching           3  1.5\n",
       "\n",
       "[611 rows x 4 columns]"
      ]
     },
     "execution_count": 45,
     "metadata": {},
     "output_type": "execute_result"
    }
   ],
   "source": [
    "# Repartition des top types d'action en fonction des candidats\n",
    "df_count_2 = df.groupby(['candidate_id', 'action_type']).size().reset_index(name='Occurences')\n",
    "df_count_2['rn'] = df_count_2.groupby('candidate_id')['Occurences'].rank(ascending=False)\n",
    "\n",
    "df_count_2"
   ]
  },
  {
   "cell_type": "code",
   "execution_count": 47,
   "id": "e7fd689d-4df3-4cb3-a727-d1a7f0ddc54a",
   "metadata": {},
   "outputs": [
    {
     "data": {
      "application/vnd.plotly.v1+json": {
       "config": {
        "plotlyServerURL": "https://plot.ly"
       },
       "data": [
        {
         "hovertemplate": "candidate_id=0255d702<br>action_type=%{x}<br>Occurences=%{y}<extra></extra>",
         "legendgroup": "0255d702",
         "marker": {
          "color": "#636efa",
          "symbol": "circle"
         },
         "mode": "markers",
         "name": "0255d702",
         "orientation": "v",
         "showlegend": true,
         "type": "scatter",
         "x": [
          "employer_reminder_1",
          "interview_coaching",
          "proposed_call",
          "proposed_email",
          "proposed_sms",
          "resume_coaching"
         ],
         "xaxis": "x",
         "y": [
          4,
          2,
          4,
          4,
          1,
          4
         ],
         "yaxis": "y"
        },
        {
         "hovertemplate": "candidate_id=02b20fe6<br>action_type=%{x}<br>Occurences=%{y}<extra></extra>",
         "legendgroup": "02b20fe6",
         "marker": {
          "color": "#EF553B",
          "symbol": "circle"
         },
         "mode": "markers",
         "name": "02b20fe6",
         "orientation": "v",
         "showlegend": true,
         "type": "scatter",
         "x": [
          "employer_reminder_1",
          "interview_coaching",
          "proposed_call",
          "proposed_email",
          "proposed_sms",
          "resume_coaching"
         ],
         "xaxis": "x",
         "y": [
          4,
          1,
          3,
          5,
          1,
          2
         ],
         "yaxis": "y"
        },
        {
         "hovertemplate": "candidate_id=0507174d<br>action_type=%{x}<br>Occurences=%{y}<extra></extra>",
         "legendgroup": "0507174d",
         "marker": {
          "color": "#00cc96",
          "symbol": "circle"
         },
         "mode": "markers",
         "name": "0507174d",
         "orientation": "v",
         "showlegend": true,
         "type": "scatter",
         "x": [
          "employer_reminder_1",
          "employer_reminder_2",
          "proposed_call",
          "proposed_email",
          "proposed_sms",
          "resume_coaching"
         ],
         "xaxis": "x",
         "y": [
          3,
          2,
          1,
          1,
          2,
          2
         ],
         "yaxis": "y"
        },
        {
         "hovertemplate": "candidate_id=0ab42c7d<br>action_type=%{x}<br>Occurences=%{y}<extra></extra>",
         "legendgroup": "0ab42c7d",
         "marker": {
          "color": "#ab63fa",
          "symbol": "circle"
         },
         "mode": "markers",
         "name": "0ab42c7d",
         "orientation": "v",
         "showlegend": true,
         "type": "scatter",
         "x": [
          "employer_reminder_1",
          "employer_reminder_2",
          "interview_coaching",
          "proposed_call",
          "proposed_email",
          "proposed_sms",
          "resume_coaching"
         ],
         "xaxis": "x",
         "y": [
          4,
          1,
          1,
          5,
          3,
          3,
          4
         ],
         "yaxis": "y"
        },
        {
         "hovertemplate": "candidate_id=0c036547<br>action_type=%{x}<br>Occurences=%{y}<extra></extra>",
         "legendgroup": "0c036547",
         "marker": {
          "color": "#FFA15A",
          "symbol": "circle"
         },
         "mode": "markers",
         "name": "0c036547",
         "orientation": "v",
         "showlegend": true,
         "type": "scatter",
         "x": [
          "employer_reminder_1",
          "interview_coaching",
          "proposed_call",
          "proposed_email",
          "proposed_sms",
          "resume_coaching"
         ],
         "xaxis": "x",
         "y": [
          8,
          1,
          1,
          6,
          6,
          6
         ],
         "yaxis": "y"
        },
        {
         "hovertemplate": "candidate_id=0ce2cf79<br>action_type=%{x}<br>Occurences=%{y}<extra></extra>",
         "legendgroup": "0ce2cf79",
         "marker": {
          "color": "#19d3f3",
          "symbol": "circle"
         },
         "mode": "markers",
         "name": "0ce2cf79",
         "orientation": "v",
         "showlegend": true,
         "type": "scatter",
         "x": [
          "employer_reminder_1",
          "proposed_call",
          "proposed_email",
          "proposed_sms",
          "resume_coaching"
         ],
         "xaxis": "x",
         "y": [
          3,
          3,
          3,
          1,
          3
         ],
         "yaxis": "y"
        },
        {
         "hovertemplate": "candidate_id=0d19e75d<br>action_type=%{x}<br>Occurences=%{y}<extra></extra>",
         "legendgroup": "0d19e75d",
         "marker": {
          "color": "#FF6692",
          "symbol": "circle"
         },
         "mode": "markers",
         "name": "0d19e75d",
         "orientation": "v",
         "showlegend": true,
         "type": "scatter",
         "x": [
          "employer_reminder_1",
          "employer_reminder_2",
          "interview_coaching",
          "proposed_call",
          "proposed_email",
          "proposed_sms",
          "resume_coaching"
         ],
         "xaxis": "x",
         "y": [
          4,
          1,
          2,
          2,
          3,
          1,
          2
         ],
         "yaxis": "y"
        },
        {
         "hovertemplate": "candidate_id=0ff4a6fc<br>action_type=%{x}<br>Occurences=%{y}<extra></extra>",
         "legendgroup": "0ff4a6fc",
         "marker": {
          "color": "#B6E880",
          "symbol": "circle"
         },
         "mode": "markers",
         "name": "0ff4a6fc",
         "orientation": "v",
         "showlegend": true,
         "type": "scatter",
         "x": [
          "employer_reminder_1",
          "employer_reminder_2",
          "interview_coaching",
          "proposed_call",
          "proposed_email",
          "proposed_sms",
          "resume_coaching"
         ],
         "xaxis": "x",
         "y": [
          6,
          2,
          2,
          3,
          1,
          5,
          6
         ],
         "yaxis": "y"
        },
        {
         "hovertemplate": "candidate_id=12e15c9e<br>action_type=%{x}<br>Occurences=%{y}<extra></extra>",
         "legendgroup": "12e15c9e",
         "marker": {
          "color": "#FF97FF",
          "symbol": "circle"
         },
         "mode": "markers",
         "name": "12e15c9e",
         "orientation": "v",
         "showlegend": true,
         "type": "scatter",
         "x": [
          "employer_reminder_1",
          "employer_reminder_2",
          "proposed_call",
          "proposed_email",
          "proposed_sms",
          "resume_coaching"
         ],
         "xaxis": "x",
         "y": [
          8,
          4,
          5,
          2,
          6,
          1
         ],
         "yaxis": "y"
        },
        {
         "hovertemplate": "candidate_id=1705b9ce<br>action_type=%{x}<br>Occurences=%{y}<extra></extra>",
         "legendgroup": "1705b9ce",
         "marker": {
          "color": "#FECB52",
          "symbol": "circle"
         },
         "mode": "markers",
         "name": "1705b9ce",
         "orientation": "v",
         "showlegend": true,
         "type": "scatter",
         "x": [
          "employer_reminder_1",
          "employer_reminder_2",
          "interview_coaching",
          "proposed_call",
          "proposed_email",
          "proposed_sms",
          "resume_coaching"
         ],
         "xaxis": "x",
         "y": [
          5,
          1,
          1,
          3,
          2,
          3,
          2
         ],
         "yaxis": "y"
        },
        {
         "hovertemplate": "candidate_id=1801e5b8<br>action_type=%{x}<br>Occurences=%{y}<extra></extra>",
         "legendgroup": "1801e5b8",
         "marker": {
          "color": "#636efa",
          "symbol": "circle"
         },
         "mode": "markers",
         "name": "1801e5b8",
         "orientation": "v",
         "showlegend": true,
         "type": "scatter",
         "x": [
          "employer_reminder_1",
          "employer_reminder_2",
          "proposed_call",
          "proposed_email",
          "proposed_sms",
          "resume_coaching"
         ],
         "xaxis": "x",
         "y": [
          5,
          2,
          1,
          5,
          3,
          5
         ],
         "yaxis": "y"
        },
        {
         "hovertemplate": "candidate_id=185aee09<br>action_type=%{x}<br>Occurences=%{y}<extra></extra>",
         "legendgroup": "185aee09",
         "marker": {
          "color": "#EF553B",
          "symbol": "circle"
         },
         "mode": "markers",
         "name": "185aee09",
         "orientation": "v",
         "showlegend": true,
         "type": "scatter",
         "x": [
          "employer_reminder_1",
          "proposed_call",
          "proposed_email",
          "proposed_sms",
          "resume_coaching"
         ],
         "xaxis": "x",
         "y": [
          4,
          1,
          6,
          2,
          5
         ],
         "yaxis": "y"
        },
        {
         "hovertemplate": "candidate_id=1d69ccba<br>action_type=%{x}<br>Occurences=%{y}<extra></extra>",
         "legendgroup": "1d69ccba",
         "marker": {
          "color": "#00cc96",
          "symbol": "circle"
         },
         "mode": "markers",
         "name": "1d69ccba",
         "orientation": "v",
         "showlegend": true,
         "type": "scatter",
         "x": [
          "employer_reminder_1",
          "employer_reminder_2",
          "proposed_call",
          "proposed_email",
          "proposed_sms",
          "resume_coaching"
         ],
         "xaxis": "x",
         "y": [
          4,
          1,
          2,
          2,
          2,
          3
         ],
         "yaxis": "y"
        },
        {
         "hovertemplate": "candidate_id=260a4caf<br>action_type=%{x}<br>Occurences=%{y}<extra></extra>",
         "legendgroup": "260a4caf",
         "marker": {
          "color": "#ab63fa",
          "symbol": "circle"
         },
         "mode": "markers",
         "name": "260a4caf",
         "orientation": "v",
         "showlegend": true,
         "type": "scatter",
         "x": [
          "employer_reminder_1",
          "employer_reminder_2",
          "proposed_call",
          "proposed_email",
          "proposed_sms",
          "resume_coaching"
         ],
         "xaxis": "x",
         "y": [
          5,
          2,
          3,
          4,
          2,
          2
         ],
         "yaxis": "y"
        },
        {
         "hovertemplate": "candidate_id=267c731c<br>action_type=%{x}<br>Occurences=%{y}<extra></extra>",
         "legendgroup": "267c731c",
         "marker": {
          "color": "#FFA15A",
          "symbol": "circle"
         },
         "mode": "markers",
         "name": "267c731c",
         "orientation": "v",
         "showlegend": true,
         "type": "scatter",
         "x": [
          "employer_reminder_1",
          "employer_reminder_2",
          "interview_coaching",
          "proposed_call",
          "proposed_email",
          "proposed_sms",
          "resume_coaching"
         ],
         "xaxis": "x",
         "y": [
          6,
          1,
          2,
          1,
          2,
          4,
          1
         ],
         "yaxis": "y"
        },
        {
         "hovertemplate": "candidate_id=2a6a66f9<br>action_type=%{x}<br>Occurences=%{y}<extra></extra>",
         "legendgroup": "2a6a66f9",
         "marker": {
          "color": "#19d3f3",
          "symbol": "circle"
         },
         "mode": "markers",
         "name": "2a6a66f9",
         "orientation": "v",
         "showlegend": true,
         "type": "scatter",
         "x": [
          "employer_reminder_1",
          "proposed_call",
          "proposed_email",
          "proposed_sms",
          "resume_coaching"
         ],
         "xaxis": "x",
         "y": [
          2,
          3,
          2,
          1,
          3
         ],
         "yaxis": "y"
        },
        {
         "hovertemplate": "candidate_id=31ecdee2<br>action_type=%{x}<br>Occurences=%{y}<extra></extra>",
         "legendgroup": "31ecdee2",
         "marker": {
          "color": "#FF6692",
          "symbol": "circle"
         },
         "mode": "markers",
         "name": "31ecdee2",
         "orientation": "v",
         "showlegend": true,
         "type": "scatter",
         "x": [
          "employer_reminder_1",
          "employer_reminder_2",
          "interview_coaching",
          "proposed_call",
          "proposed_email",
          "proposed_sms",
          "resume_coaching"
         ],
         "xaxis": "x",
         "y": [
          4,
          1,
          3,
          7,
          2,
          1,
          2
         ],
         "yaxis": "y"
        },
        {
         "hovertemplate": "candidate_id=32f23bcf<br>action_type=%{x}<br>Occurences=%{y}<extra></extra>",
         "legendgroup": "32f23bcf",
         "marker": {
          "color": "#B6E880",
          "symbol": "circle"
         },
         "mode": "markers",
         "name": "32f23bcf",
         "orientation": "v",
         "showlegend": true,
         "type": "scatter",
         "x": [
          "employer_reminder_1",
          "employer_reminder_2",
          "interview_coaching",
          "proposed_call",
          "proposed_email",
          "proposed_sms",
          "resume_coaching"
         ],
         "xaxis": "x",
         "y": [
          8,
          3,
          1,
          4,
          6,
          2,
          3
         ],
         "yaxis": "y"
        },
        {
         "hovertemplate": "candidate_id=3484b71f<br>action_type=%{x}<br>Occurences=%{y}<extra></extra>",
         "legendgroup": "3484b71f",
         "marker": {
          "color": "#FF97FF",
          "symbol": "circle"
         },
         "mode": "markers",
         "name": "3484b71f",
         "orientation": "v",
         "showlegend": true,
         "type": "scatter",
         "x": [
          "employer_reminder_1",
          "employer_reminder_2",
          "interview_coaching",
          "proposed_call",
          "proposed_email",
          "resume_coaching"
         ],
         "xaxis": "x",
         "y": [
          4,
          1,
          1,
          3,
          2,
          1
         ],
         "yaxis": "y"
        },
        {
         "hovertemplate": "candidate_id=34a7372d<br>action_type=%{x}<br>Occurences=%{y}<extra></extra>",
         "legendgroup": "34a7372d",
         "marker": {
          "color": "#FECB52",
          "symbol": "circle"
         },
         "mode": "markers",
         "name": "34a7372d",
         "orientation": "v",
         "showlegend": true,
         "type": "scatter",
         "x": [
          "employer_reminder_1",
          "employer_reminder_2",
          "interview_coaching",
          "proposed_email",
          "proposed_sms",
          "resume_coaching"
         ],
         "xaxis": "x",
         "y": [
          5,
          1,
          1,
          3,
          3,
          3
         ],
         "yaxis": "y"
        },
        {
         "hovertemplate": "candidate_id=3849242a<br>action_type=%{x}<br>Occurences=%{y}<extra></extra>",
         "legendgroup": "3849242a",
         "marker": {
          "color": "#636efa",
          "symbol": "circle"
         },
         "mode": "markers",
         "name": "3849242a",
         "orientation": "v",
         "showlegend": true,
         "type": "scatter",
         "x": [
          "employer_reminder_1",
          "employer_reminder_2",
          "interview_coaching",
          "proposed_call",
          "proposed_email",
          "proposed_sms",
          "resume_coaching"
         ],
         "xaxis": "x",
         "y": [
          5,
          1,
          2,
          5,
          2,
          2,
          4
         ],
         "yaxis": "y"
        },
        {
         "hovertemplate": "candidate_id=388b6988<br>action_type=%{x}<br>Occurences=%{y}<extra></extra>",
         "legendgroup": "388b6988",
         "marker": {
          "color": "#EF553B",
          "symbol": "circle"
         },
         "mode": "markers",
         "name": "388b6988",
         "orientation": "v",
         "showlegend": true,
         "type": "scatter",
         "x": [
          "employer_reminder_1",
          "employer_reminder_2",
          "interview_coaching",
          "proposed_call",
          "proposed_email",
          "proposed_sms",
          "resume_coaching"
         ],
         "xaxis": "x",
         "y": [
          7,
          1,
          2,
          5,
          9,
          3,
          5
         ],
         "yaxis": "y"
        },
        {
         "hovertemplate": "candidate_id=3a714c67<br>action_type=%{x}<br>Occurences=%{y}<extra></extra>",
         "legendgroup": "3a714c67",
         "marker": {
          "color": "#00cc96",
          "symbol": "circle"
         },
         "mode": "markers",
         "name": "3a714c67",
         "orientation": "v",
         "showlegend": true,
         "type": "scatter",
         "x": [
          "employer_reminder_1",
          "interview_coaching",
          "proposed_call",
          "proposed_email",
          "proposed_sms",
          "resume_coaching"
         ],
         "xaxis": "x",
         "y": [
          1,
          2,
          1,
          1,
          4,
          3
         ],
         "yaxis": "y"
        },
        {
         "hovertemplate": "candidate_id=3cdd7d2e<br>action_type=%{x}<br>Occurences=%{y}<extra></extra>",
         "legendgroup": "3cdd7d2e",
         "marker": {
          "color": "#ab63fa",
          "symbol": "circle"
         },
         "mode": "markers",
         "name": "3cdd7d2e",
         "orientation": "v",
         "showlegend": true,
         "type": "scatter",
         "x": [
          "employer_reminder_1",
          "employer_reminder_2",
          "interview_coaching",
          "proposed_call",
          "proposed_email",
          "proposed_sms",
          "resume_coaching"
         ],
         "xaxis": "x",
         "y": [
          5,
          3,
          2,
          3,
          1,
          5,
          5
         ],
         "yaxis": "y"
        },
        {
         "hovertemplate": "candidate_id=3e0d13c0<br>action_type=%{x}<br>Occurences=%{y}<extra></extra>",
         "legendgroup": "3e0d13c0",
         "marker": {
          "color": "#FFA15A",
          "symbol": "circle"
         },
         "mode": "markers",
         "name": "3e0d13c0",
         "orientation": "v",
         "showlegend": true,
         "type": "scatter",
         "x": [
          "employer_reminder_1",
          "interview_coaching",
          "proposed_call",
          "proposed_email",
          "proposed_sms",
          "resume_coaching"
         ],
         "xaxis": "x",
         "y": [
          4,
          1,
          3,
          3,
          3,
          4
         ],
         "yaxis": "y"
        },
        {
         "hovertemplate": "candidate_id=43938375<br>action_type=%{x}<br>Occurences=%{y}<extra></extra>",
         "legendgroup": "43938375",
         "marker": {
          "color": "#19d3f3",
          "symbol": "circle"
         },
         "mode": "markers",
         "name": "43938375",
         "orientation": "v",
         "showlegend": true,
         "type": "scatter",
         "x": [
          "employer_reminder_1",
          "interview_coaching",
          "proposed_call",
          "proposed_email",
          "proposed_sms",
          "resume_coaching"
         ],
         "xaxis": "x",
         "y": [
          2,
          2,
          2,
          1,
          4,
          2
         ],
         "yaxis": "y"
        },
        {
         "hovertemplate": "candidate_id=45a8072f<br>action_type=%{x}<br>Occurences=%{y}<extra></extra>",
         "legendgroup": "45a8072f",
         "marker": {
          "color": "#FF6692",
          "symbol": "circle"
         },
         "mode": "markers",
         "name": "45a8072f",
         "orientation": "v",
         "showlegend": true,
         "type": "scatter",
         "x": [
          "employer_reminder_1",
          "proposed_call",
          "proposed_email",
          "proposed_sms",
          "resume_coaching"
         ],
         "xaxis": "x",
         "y": [
          4,
          1,
          4,
          1,
          2
         ],
         "yaxis": "y"
        },
        {
         "hovertemplate": "candidate_id=45e1b3c8<br>action_type=%{x}<br>Occurences=%{y}<extra></extra>",
         "legendgroup": "45e1b3c8",
         "marker": {
          "color": "#B6E880",
          "symbol": "circle"
         },
         "mode": "markers",
         "name": "45e1b3c8",
         "orientation": "v",
         "showlegend": true,
         "type": "scatter",
         "x": [
          "employer_reminder_1",
          "employer_reminder_2",
          "interview_coaching",
          "proposed_email",
          "proposed_sms",
          "resume_coaching"
         ],
         "xaxis": "x",
         "y": [
          4,
          1,
          2,
          5,
          3,
          4
         ],
         "yaxis": "y"
        },
        {
         "hovertemplate": "candidate_id=4720c697<br>action_type=%{x}<br>Occurences=%{y}<extra></extra>",
         "legendgroup": "4720c697",
         "marker": {
          "color": "#FF97FF",
          "symbol": "circle"
         },
         "mode": "markers",
         "name": "4720c697",
         "orientation": "v",
         "showlegend": true,
         "type": "scatter",
         "x": [
          "employer_reminder_1",
          "interview_coaching",
          "proposed_call",
          "proposed_email",
          "proposed_sms",
          "resume_coaching"
         ],
         "xaxis": "x",
         "y": [
          5,
          4,
          3,
          5,
          4,
          4
         ],
         "yaxis": "y"
        },
        {
         "hovertemplate": "candidate_id=4a6218a5<br>action_type=%{x}<br>Occurences=%{y}<extra></extra>",
         "legendgroup": "4a6218a5",
         "marker": {
          "color": "#FECB52",
          "symbol": "circle"
         },
         "mode": "markers",
         "name": "4a6218a5",
         "orientation": "v",
         "showlegend": true,
         "type": "scatter",
         "x": [
          "employer_reminder_1",
          "employer_reminder_2",
          "interview_coaching",
          "proposed_call",
          "proposed_email",
          "proposed_sms",
          "resume_coaching"
         ],
         "xaxis": "x",
         "y": [
          6,
          3,
          1,
          4,
          4,
          4,
          8
         ],
         "yaxis": "y"
        },
        {
         "hovertemplate": "candidate_id=4b4320c0<br>action_type=%{x}<br>Occurences=%{y}<extra></extra>",
         "legendgroup": "4b4320c0",
         "marker": {
          "color": "#636efa",
          "symbol": "circle"
         },
         "mode": "markers",
         "name": "4b4320c0",
         "orientation": "v",
         "showlegend": true,
         "type": "scatter",
         "x": [
          "employer_reminder_1",
          "interview_coaching",
          "proposed_call",
          "proposed_sms",
          "resume_coaching"
         ],
         "xaxis": "x",
         "y": [
          4,
          2,
          4,
          4,
          2
         ],
         "yaxis": "y"
        },
        {
         "hovertemplate": "candidate_id=4de3029c<br>action_type=%{x}<br>Occurences=%{y}<extra></extra>",
         "legendgroup": "4de3029c",
         "marker": {
          "color": "#EF553B",
          "symbol": "circle"
         },
         "mode": "markers",
         "name": "4de3029c",
         "orientation": "v",
         "showlegend": true,
         "type": "scatter",
         "x": [
          "proposed_call",
          "proposed_email",
          "proposed_sms",
          "resume_coaching"
         ],
         "xaxis": "x",
         "y": [
          1,
          2,
          1,
          1
         ],
         "yaxis": "y"
        },
        {
         "hovertemplate": "candidate_id=4ff28829<br>action_type=%{x}<br>Occurences=%{y}<extra></extra>",
         "legendgroup": "4ff28829",
         "marker": {
          "color": "#00cc96",
          "symbol": "circle"
         },
         "mode": "markers",
         "name": "4ff28829",
         "orientation": "v",
         "showlegend": true,
         "type": "scatter",
         "x": [
          "employer_reminder_1",
          "employer_reminder_2",
          "interview_coaching",
          "proposed_call",
          "proposed_email",
          "proposed_sms",
          "resume_coaching"
         ],
         "xaxis": "x",
         "y": [
          5,
          2,
          3,
          5,
          3,
          3,
          4
         ],
         "yaxis": "y"
        },
        {
         "hovertemplate": "candidate_id=513578d5<br>action_type=%{x}<br>Occurences=%{y}<extra></extra>",
         "legendgroup": "513578d5",
         "marker": {
          "color": "#ab63fa",
          "symbol": "circle"
         },
         "mode": "markers",
         "name": "513578d5",
         "orientation": "v",
         "showlegend": true,
         "type": "scatter",
         "x": [
          "employer_reminder_1",
          "proposed_call",
          "proposed_email",
          "proposed_sms",
          "resume_coaching"
         ],
         "xaxis": "x",
         "y": [
          3,
          1,
          2,
          2,
          2
         ],
         "yaxis": "y"
        },
        {
         "hovertemplate": "candidate_id=513c81ec<br>action_type=%{x}<br>Occurences=%{y}<extra></extra>",
         "legendgroup": "513c81ec",
         "marker": {
          "color": "#FFA15A",
          "symbol": "circle"
         },
         "mode": "markers",
         "name": "513c81ec",
         "orientation": "v",
         "showlegend": true,
         "type": "scatter",
         "x": [
          "employer_reminder_1",
          "employer_reminder_2",
          "interview_coaching",
          "proposed_call",
          "proposed_email",
          "proposed_sms",
          "resume_coaching"
         ],
         "xaxis": "x",
         "y": [
          9,
          1,
          2,
          1,
          4,
          7,
          4
         ],
         "yaxis": "y"
        },
        {
         "hovertemplate": "candidate_id=5343d403<br>action_type=%{x}<br>Occurences=%{y}<extra></extra>",
         "legendgroup": "5343d403",
         "marker": {
          "color": "#19d3f3",
          "symbol": "circle"
         },
         "mode": "markers",
         "name": "5343d403",
         "orientation": "v",
         "showlegend": true,
         "type": "scatter",
         "x": [
          "employer_reminder_1",
          "employer_reminder_2",
          "proposed_call",
          "proposed_email",
          "proposed_sms",
          "resume_coaching"
         ],
         "xaxis": "x",
         "y": [
          6,
          4,
          3,
          7,
          1,
          5
         ],
         "yaxis": "y"
        },
        {
         "hovertemplate": "candidate_id=5652a0a6<br>action_type=%{x}<br>Occurences=%{y}<extra></extra>",
         "legendgroup": "5652a0a6",
         "marker": {
          "color": "#FF6692",
          "symbol": "circle"
         },
         "mode": "markers",
         "name": "5652a0a6",
         "orientation": "v",
         "showlegend": true,
         "type": "scatter",
         "x": [
          "employer_reminder_1",
          "employer_reminder_2",
          "interview_coaching",
          "proposed_call",
          "proposed_email",
          "proposed_sms",
          "resume_coaching"
         ],
         "xaxis": "x",
         "y": [
          6,
          1,
          2,
          2,
          5,
          3,
          5
         ],
         "yaxis": "y"
        },
        {
         "hovertemplate": "candidate_id=5667910a<br>action_type=%{x}<br>Occurences=%{y}<extra></extra>",
         "legendgroup": "5667910a",
         "marker": {
          "color": "#B6E880",
          "symbol": "circle"
         },
         "mode": "markers",
         "name": "5667910a",
         "orientation": "v",
         "showlegend": true,
         "type": "scatter",
         "x": [
          "employer_reminder_1",
          "proposed_call",
          "proposed_email",
          "proposed_sms",
          "resume_coaching"
         ],
         "xaxis": "x",
         "y": [
          6,
          1,
          4,
          4,
          7
         ],
         "yaxis": "y"
        },
        {
         "hovertemplate": "candidate_id=58175e7c<br>action_type=%{x}<br>Occurences=%{y}<extra></extra>",
         "legendgroup": "58175e7c",
         "marker": {
          "color": "#FF97FF",
          "symbol": "circle"
         },
         "mode": "markers",
         "name": "58175e7c",
         "orientation": "v",
         "showlegend": true,
         "type": "scatter",
         "x": [
          "employer_reminder_1",
          "interview_coaching",
          "proposed_call",
          "proposed_email",
          "proposed_sms",
          "resume_coaching"
         ],
         "xaxis": "x",
         "y": [
          5,
          1,
          3,
          4,
          1,
          4
         ],
         "yaxis": "y"
        },
        {
         "hovertemplate": "candidate_id=58a0adf4<br>action_type=%{x}<br>Occurences=%{y}<extra></extra>",
         "legendgroup": "58a0adf4",
         "marker": {
          "color": "#FECB52",
          "symbol": "circle"
         },
         "mode": "markers",
         "name": "58a0adf4",
         "orientation": "v",
         "showlegend": true,
         "type": "scatter",
         "x": [
          "employer_reminder_1",
          "employer_reminder_2",
          "interview_coaching",
          "proposed_call",
          "proposed_email",
          "proposed_sms",
          "resume_coaching"
         ],
         "xaxis": "x",
         "y": [
          3,
          1,
          2,
          4,
          4,
          2,
          5
         ],
         "yaxis": "y"
        },
        {
         "hovertemplate": "candidate_id=5ce8ff31<br>action_type=%{x}<br>Occurences=%{y}<extra></extra>",
         "legendgroup": "5ce8ff31",
         "marker": {
          "color": "#636efa",
          "symbol": "circle"
         },
         "mode": "markers",
         "name": "5ce8ff31",
         "orientation": "v",
         "showlegend": true,
         "type": "scatter",
         "x": [
          "employer_reminder_1",
          "proposed_call",
          "proposed_email",
          "proposed_sms",
          "resume_coaching"
         ],
         "xaxis": "x",
         "y": [
          3,
          4,
          2,
          1,
          2
         ],
         "yaxis": "y"
        },
        {
         "hovertemplate": "candidate_id=5d66c4d8<br>action_type=%{x}<br>Occurences=%{y}<extra></extra>",
         "legendgroup": "5d66c4d8",
         "marker": {
          "color": "#EF553B",
          "symbol": "circle"
         },
         "mode": "markers",
         "name": "5d66c4d8",
         "orientation": "v",
         "showlegend": true,
         "type": "scatter",
         "x": [
          "employer_reminder_1",
          "employer_reminder_2",
          "interview_coaching",
          "proposed_call",
          "proposed_email",
          "resume_coaching"
         ],
         "xaxis": "x",
         "y": [
          8,
          1,
          1,
          8,
          1,
          5
         ],
         "yaxis": "y"
        },
        {
         "hovertemplate": "candidate_id=5f82f2e0<br>action_type=%{x}<br>Occurences=%{y}<extra></extra>",
         "legendgroup": "5f82f2e0",
         "marker": {
          "color": "#00cc96",
          "symbol": "circle"
         },
         "mode": "markers",
         "name": "5f82f2e0",
         "orientation": "v",
         "showlegend": true,
         "type": "scatter",
         "x": [
          "employer_reminder_1",
          "employer_reminder_2",
          "interview_coaching",
          "proposed_call",
          "proposed_email",
          "proposed_sms",
          "resume_coaching"
         ],
         "xaxis": "x",
         "y": [
          4,
          1,
          1,
          2,
          4,
          1,
          1
         ],
         "yaxis": "y"
        },
        {
         "hovertemplate": "candidate_id=661a3a4b<br>action_type=%{x}<br>Occurences=%{y}<extra></extra>",
         "legendgroup": "661a3a4b",
         "marker": {
          "color": "#ab63fa",
          "symbol": "circle"
         },
         "mode": "markers",
         "name": "661a3a4b",
         "orientation": "v",
         "showlegend": true,
         "type": "scatter",
         "x": [
          "employer_reminder_1",
          "employer_reminder_2",
          "interview_coaching",
          "proposed_call",
          "proposed_email",
          "proposed_sms",
          "resume_coaching"
         ],
         "xaxis": "x",
         "y": [
          7,
          3,
          1,
          5,
          5,
          2,
          7
         ],
         "yaxis": "y"
        },
        {
         "hovertemplate": "candidate_id=678b52a5<br>action_type=%{x}<br>Occurences=%{y}<extra></extra>",
         "legendgroup": "678b52a5",
         "marker": {
          "color": "#FFA15A",
          "symbol": "circle"
         },
         "mode": "markers",
         "name": "678b52a5",
         "orientation": "v",
         "showlegend": true,
         "type": "scatter",
         "x": [
          "employer_reminder_1",
          "employer_reminder_2",
          "proposed_call",
          "proposed_email",
          "resume_coaching"
         ],
         "xaxis": "x",
         "y": [
          5,
          1,
          3,
          7,
          4
         ],
         "yaxis": "y"
        },
        {
         "hovertemplate": "candidate_id=683c8cfb<br>action_type=%{x}<br>Occurences=%{y}<extra></extra>",
         "legendgroup": "683c8cfb",
         "marker": {
          "color": "#19d3f3",
          "symbol": "circle"
         },
         "mode": "markers",
         "name": "683c8cfb",
         "orientation": "v",
         "showlegend": true,
         "type": "scatter",
         "x": [
          "employer_reminder_1",
          "employer_reminder_2",
          "proposed_call",
          "proposed_email",
          "proposed_sms",
          "resume_coaching"
         ],
         "xaxis": "x",
         "y": [
          4,
          1,
          2,
          1,
          2,
          3
         ],
         "yaxis": "y"
        },
        {
         "hovertemplate": "candidate_id=68685894<br>action_type=%{x}<br>Occurences=%{y}<extra></extra>",
         "legendgroup": "68685894",
         "marker": {
          "color": "#FF6692",
          "symbol": "circle"
         },
         "mode": "markers",
         "name": "68685894",
         "orientation": "v",
         "showlegend": true,
         "type": "scatter",
         "x": [
          "employer_reminder_1",
          "employer_reminder_2",
          "interview_coaching",
          "proposed_call",
          "proposed_email",
          "proposed_sms",
          "resume_coaching"
         ],
         "xaxis": "x",
         "y": [
          6,
          1,
          3,
          1,
          5,
          5,
          5
         ],
         "yaxis": "y"
        },
        {
         "hovertemplate": "candidate_id=6880f07a<br>action_type=%{x}<br>Occurences=%{y}<extra></extra>",
         "legendgroup": "6880f07a",
         "marker": {
          "color": "#B6E880",
          "symbol": "circle"
         },
         "mode": "markers",
         "name": "6880f07a",
         "orientation": "v",
         "showlegend": true,
         "type": "scatter",
         "x": [
          "employer_reminder_1",
          "employer_reminder_2",
          "proposed_call",
          "proposed_email",
          "proposed_sms",
          "resume_coaching"
         ],
         "xaxis": "x",
         "y": [
          10,
          3,
          8,
          6,
          1,
          3
         ],
         "yaxis": "y"
        },
        {
         "hovertemplate": "candidate_id=6a9c9582<br>action_type=%{x}<br>Occurences=%{y}<extra></extra>",
         "legendgroup": "6a9c9582",
         "marker": {
          "color": "#FF97FF",
          "symbol": "circle"
         },
         "mode": "markers",
         "name": "6a9c9582",
         "orientation": "v",
         "showlegend": true,
         "type": "scatter",
         "x": [
          "employer_reminder_1",
          "employer_reminder_2",
          "interview_coaching",
          "proposed_call",
          "proposed_email",
          "proposed_sms",
          "resume_coaching"
         ],
         "xaxis": "x",
         "y": [
          4,
          1,
          1,
          4,
          3,
          1,
          4
         ],
         "yaxis": "y"
        },
        {
         "hovertemplate": "candidate_id=6c260f71<br>action_type=%{x}<br>Occurences=%{y}<extra></extra>",
         "legendgroup": "6c260f71",
         "marker": {
          "color": "#FECB52",
          "symbol": "circle"
         },
         "mode": "markers",
         "name": "6c260f71",
         "orientation": "v",
         "showlegend": true,
         "type": "scatter",
         "x": [
          "employer_reminder_1",
          "employer_reminder_2",
          "proposed_call",
          "proposed_email",
          "proposed_sms",
          "resume_coaching"
         ],
         "xaxis": "x",
         "y": [
          3,
          1,
          2,
          2,
          2,
          2
         ],
         "yaxis": "y"
        },
        {
         "hovertemplate": "candidate_id=742f334a<br>action_type=%{x}<br>Occurences=%{y}<extra></extra>",
         "legendgroup": "742f334a",
         "marker": {
          "color": "#636efa",
          "symbol": "circle"
         },
         "mode": "markers",
         "name": "742f334a",
         "orientation": "v",
         "showlegend": true,
         "type": "scatter",
         "x": [
          "employer_reminder_1",
          "interview_coaching",
          "proposed_call",
          "proposed_email",
          "proposed_sms",
          "resume_coaching"
         ],
         "xaxis": "x",
         "y": [
          4,
          1,
          4,
          2,
          1,
          2
         ],
         "yaxis": "y"
        },
        {
         "hovertemplate": "candidate_id=751a965c<br>action_type=%{x}<br>Occurences=%{y}<extra></extra>",
         "legendgroup": "751a965c",
         "marker": {
          "color": "#EF553B",
          "symbol": "circle"
         },
         "mode": "markers",
         "name": "751a965c",
         "orientation": "v",
         "showlegend": true,
         "type": "scatter",
         "x": [
          "employer_reminder_1",
          "interview_coaching",
          "proposed_email",
          "proposed_sms",
          "resume_coaching"
         ],
         "xaxis": "x",
         "y": [
          1,
          2,
          1,
          3,
          1
         ],
         "yaxis": "y"
        },
        {
         "hovertemplate": "candidate_id=75559dc1<br>action_type=%{x}<br>Occurences=%{y}<extra></extra>",
         "legendgroup": "75559dc1",
         "marker": {
          "color": "#00cc96",
          "symbol": "circle"
         },
         "mode": "markers",
         "name": "75559dc1",
         "orientation": "v",
         "showlegend": true,
         "type": "scatter",
         "x": [
          "employer_reminder_1",
          "employer_reminder_2",
          "interview_coaching",
          "proposed_call",
          "proposed_email",
          "proposed_sms",
          "resume_coaching"
         ],
         "xaxis": "x",
         "y": [
          5,
          2,
          1,
          2,
          3,
          5,
          4
         ],
         "yaxis": "y"
        },
        {
         "hovertemplate": "candidate_id=7d53d252<br>action_type=%{x}<br>Occurences=%{y}<extra></extra>",
         "legendgroup": "7d53d252",
         "marker": {
          "color": "#ab63fa",
          "symbol": "circle"
         },
         "mode": "markers",
         "name": "7d53d252",
         "orientation": "v",
         "showlegend": true,
         "type": "scatter",
         "x": [
          "employer_reminder_1",
          "employer_reminder_2",
          "interview_coaching",
          "proposed_call",
          "proposed_email",
          "proposed_sms",
          "resume_coaching"
         ],
         "xaxis": "x",
         "y": [
          6,
          2,
          1,
          3,
          3,
          1,
          2
         ],
         "yaxis": "y"
        },
        {
         "hovertemplate": "candidate_id=7e319459<br>action_type=%{x}<br>Occurences=%{y}<extra></extra>",
         "legendgroup": "7e319459",
         "marker": {
          "color": "#FFA15A",
          "symbol": "circle"
         },
         "mode": "markers",
         "name": "7e319459",
         "orientation": "v",
         "showlegend": true,
         "type": "scatter",
         "x": [
          "employer_reminder_1",
          "interview_coaching",
          "proposed_call",
          "proposed_email",
          "proposed_sms",
          "resume_coaching"
         ],
         "xaxis": "x",
         "y": [
          4,
          1,
          4,
          4,
          3,
          5
         ],
         "yaxis": "y"
        },
        {
         "hovertemplate": "candidate_id=8155955c<br>action_type=%{x}<br>Occurences=%{y}<extra></extra>",
         "legendgroup": "8155955c",
         "marker": {
          "color": "#19d3f3",
          "symbol": "circle"
         },
         "mode": "markers",
         "name": "8155955c",
         "orientation": "v",
         "showlegend": true,
         "type": "scatter",
         "x": [
          "employer_reminder_1",
          "interview_coaching",
          "proposed_call",
          "proposed_email",
          "proposed_sms",
          "resume_coaching"
         ],
         "xaxis": "x",
         "y": [
          8,
          1,
          7,
          1,
          3,
          5
         ],
         "yaxis": "y"
        },
        {
         "hovertemplate": "candidate_id=81ff1196<br>action_type=%{x}<br>Occurences=%{y}<extra></extra>",
         "legendgroup": "81ff1196",
         "marker": {
          "color": "#FF6692",
          "symbol": "circle"
         },
         "mode": "markers",
         "name": "81ff1196",
         "orientation": "v",
         "showlegend": true,
         "type": "scatter",
         "x": [
          "employer_reminder_1",
          "employer_reminder_2",
          "proposed_call",
          "proposed_email",
          "proposed_sms",
          "resume_coaching"
         ],
         "xaxis": "x",
         "y": [
          1,
          1,
          2,
          2,
          2,
          1
         ],
         "yaxis": "y"
        },
        {
         "hovertemplate": "candidate_id=84e479cd<br>action_type=%{x}<br>Occurences=%{y}<extra></extra>",
         "legendgroup": "84e479cd",
         "marker": {
          "color": "#B6E880",
          "symbol": "circle"
         },
         "mode": "markers",
         "name": "84e479cd",
         "orientation": "v",
         "showlegend": true,
         "type": "scatter",
         "x": [
          "employer_reminder_1",
          "employer_reminder_2",
          "interview_coaching",
          "proposed_call",
          "proposed_email",
          "proposed_sms",
          "resume_coaching"
         ],
         "xaxis": "x",
         "y": [
          6,
          1,
          1,
          4,
          4,
          3,
          6
         ],
         "yaxis": "y"
        },
        {
         "hovertemplate": "candidate_id=889f3076<br>action_type=%{x}<br>Occurences=%{y}<extra></extra>",
         "legendgroup": "889f3076",
         "marker": {
          "color": "#FF97FF",
          "symbol": "circle"
         },
         "mode": "markers",
         "name": "889f3076",
         "orientation": "v",
         "showlegend": true,
         "type": "scatter",
         "x": [
          "employer_reminder_1",
          "employer_reminder_2",
          "proposed_call",
          "proposed_email",
          "proposed_sms",
          "resume_coaching"
         ],
         "xaxis": "x",
         "y": [
          10,
          5,
          2,
          4,
          7,
          4
         ],
         "yaxis": "y"
        },
        {
         "hovertemplate": "candidate_id=88e2b2da<br>action_type=%{x}<br>Occurences=%{y}<extra></extra>",
         "legendgroup": "88e2b2da",
         "marker": {
          "color": "#FECB52",
          "symbol": "circle"
         },
         "mode": "markers",
         "name": "88e2b2da",
         "orientation": "v",
         "showlegend": true,
         "type": "scatter",
         "x": [
          "employer_reminder_1",
          "proposed_call",
          "proposed_email",
          "proposed_sms",
          "resume_coaching"
         ],
         "xaxis": "x",
         "y": [
          6,
          8,
          3,
          1,
          2
         ],
         "yaxis": "y"
        },
        {
         "hovertemplate": "candidate_id=8a2d0f5f<br>action_type=%{x}<br>Occurences=%{y}<extra></extra>",
         "legendgroup": "8a2d0f5f",
         "marker": {
          "color": "#636efa",
          "symbol": "circle"
         },
         "mode": "markers",
         "name": "8a2d0f5f",
         "orientation": "v",
         "showlegend": true,
         "type": "scatter",
         "x": [
          "employer_reminder_1",
          "employer_reminder_2",
          "interview_coaching",
          "proposed_call",
          "proposed_email",
          "proposed_sms",
          "resume_coaching"
         ],
         "xaxis": "x",
         "y": [
          5,
          1,
          1,
          3,
          3,
          3,
          2
         ],
         "yaxis": "y"
        },
        {
         "hovertemplate": "candidate_id=8c1939ef<br>action_type=%{x}<br>Occurences=%{y}<extra></extra>",
         "legendgroup": "8c1939ef",
         "marker": {
          "color": "#EF553B",
          "symbol": "circle"
         },
         "mode": "markers",
         "name": "8c1939ef",
         "orientation": "v",
         "showlegend": true,
         "type": "scatter",
         "x": [
          "employer_reminder_1",
          "employer_reminder_2",
          "interview_coaching",
          "proposed_call",
          "proposed_email",
          "proposed_sms",
          "resume_coaching"
         ],
         "xaxis": "x",
         "y": [
          5,
          2,
          1,
          4,
          4,
          3,
          6
         ],
         "yaxis": "y"
        },
        {
         "hovertemplate": "candidate_id=9305b469<br>action_type=%{x}<br>Occurences=%{y}<extra></extra>",
         "legendgroup": "9305b469",
         "marker": {
          "color": "#00cc96",
          "symbol": "circle"
         },
         "mode": "markers",
         "name": "9305b469",
         "orientation": "v",
         "showlegend": true,
         "type": "scatter",
         "x": [
          "employer_reminder_1",
          "employer_reminder_2",
          "interview_coaching",
          "proposed_call",
          "proposed_email",
          "proposed_sms",
          "resume_coaching"
         ],
         "xaxis": "x",
         "y": [
          6,
          3,
          1,
          3,
          1,
          4,
          5
         ],
         "yaxis": "y"
        },
        {
         "hovertemplate": "candidate_id=964080c4<br>action_type=%{x}<br>Occurences=%{y}<extra></extra>",
         "legendgroup": "964080c4",
         "marker": {
          "color": "#ab63fa",
          "symbol": "circle"
         },
         "mode": "markers",
         "name": "964080c4",
         "orientation": "v",
         "showlegend": true,
         "type": "scatter",
         "x": [
          "employer_reminder_1",
          "employer_reminder_2",
          "proposed_call",
          "proposed_email",
          "proposed_sms",
          "resume_coaching"
         ],
         "xaxis": "x",
         "y": [
          4,
          1,
          4,
          1,
          1,
          2
         ],
         "yaxis": "y"
        },
        {
         "hovertemplate": "candidate_id=9723e77e<br>action_type=%{x}<br>Occurences=%{y}<extra></extra>",
         "legendgroup": "9723e77e",
         "marker": {
          "color": "#FFA15A",
          "symbol": "circle"
         },
         "mode": "markers",
         "name": "9723e77e",
         "orientation": "v",
         "showlegend": true,
         "type": "scatter",
         "x": [
          "employer_reminder_1",
          "employer_reminder_2",
          "proposed_call",
          "proposed_email",
          "proposed_sms",
          "resume_coaching"
         ],
         "xaxis": "x",
         "y": [
          6,
          1,
          3,
          2,
          7,
          6
         ],
         "yaxis": "y"
        },
        {
         "hovertemplate": "candidate_id=9a610ca7<br>action_type=%{x}<br>Occurences=%{y}<extra></extra>",
         "legendgroup": "9a610ca7",
         "marker": {
          "color": "#19d3f3",
          "symbol": "circle"
         },
         "mode": "markers",
         "name": "9a610ca7",
         "orientation": "v",
         "showlegend": true,
         "type": "scatter",
         "x": [
          "employer_reminder_1",
          "proposed_call",
          "proposed_email",
          "proposed_sms",
          "resume_coaching"
         ],
         "xaxis": "x",
         "y": [
          6,
          7,
          3,
          1,
          5
         ],
         "yaxis": "y"
        },
        {
         "hovertemplate": "candidate_id=9b4601fa<br>action_type=%{x}<br>Occurences=%{y}<extra></extra>",
         "legendgroup": "9b4601fa",
         "marker": {
          "color": "#FF6692",
          "symbol": "circle"
         },
         "mode": "markers",
         "name": "9b4601fa",
         "orientation": "v",
         "showlegend": true,
         "type": "scatter",
         "x": [
          "employer_reminder_1",
          "interview_coaching",
          "proposed_call",
          "proposed_email",
          "resume_coaching"
         ],
         "xaxis": "x",
         "y": [
          1,
          1,
          2,
          3,
          2
         ],
         "yaxis": "y"
        },
        {
         "hovertemplate": "candidate_id=9f476412<br>action_type=%{x}<br>Occurences=%{y}<extra></extra>",
         "legendgroup": "9f476412",
         "marker": {
          "color": "#B6E880",
          "symbol": "circle"
         },
         "mode": "markers",
         "name": "9f476412",
         "orientation": "v",
         "showlegend": true,
         "type": "scatter",
         "x": [
          "employer_reminder_1",
          "proposed_call",
          "proposed_email",
          "proposed_sms",
          "resume_coaching"
         ],
         "xaxis": "x",
         "y": [
          3,
          2,
          2,
          5,
          4
         ],
         "yaxis": "y"
        },
        {
         "hovertemplate": "candidate_id=a11e502c<br>action_type=%{x}<br>Occurences=%{y}<extra></extra>",
         "legendgroup": "a11e502c",
         "marker": {
          "color": "#FF97FF",
          "symbol": "circle"
         },
         "mode": "markers",
         "name": "a11e502c",
         "orientation": "v",
         "showlegend": true,
         "type": "scatter",
         "x": [
          "employer_reminder_1",
          "proposed_call",
          "proposed_email",
          "proposed_sms",
          "resume_coaching"
         ],
         "xaxis": "x",
         "y": [
          2,
          3,
          2,
          1,
          5
         ],
         "yaxis": "y"
        },
        {
         "hovertemplate": "candidate_id=a26a24bd<br>action_type=%{x}<br>Occurences=%{y}<extra></extra>",
         "legendgroup": "a26a24bd",
         "marker": {
          "color": "#FECB52",
          "symbol": "circle"
         },
         "mode": "markers",
         "name": "a26a24bd",
         "orientation": "v",
         "showlegend": true,
         "type": "scatter",
         "x": [
          "employer_reminder_1",
          "interview_coaching",
          "proposed_call",
          "proposed_email",
          "proposed_sms",
          "resume_coaching"
         ],
         "xaxis": "x",
         "y": [
          4,
          2,
          2,
          1,
          2,
          2
         ],
         "yaxis": "y"
        },
        {
         "hovertemplate": "candidate_id=a4c71cfd<br>action_type=%{x}<br>Occurences=%{y}<extra></extra>",
         "legendgroup": "a4c71cfd",
         "marker": {
          "color": "#636efa",
          "symbol": "circle"
         },
         "mode": "markers",
         "name": "a4c71cfd",
         "orientation": "v",
         "showlegend": true,
         "type": "scatter",
         "x": [
          "employer_reminder_1",
          "employer_reminder_2",
          "proposed_call",
          "proposed_email",
          "proposed_sms",
          "resume_coaching"
         ],
         "xaxis": "x",
         "y": [
          3,
          1,
          3,
          1,
          1,
          1
         ],
         "yaxis": "y"
        },
        {
         "hovertemplate": "candidate_id=a8047e7e<br>action_type=%{x}<br>Occurences=%{y}<extra></extra>",
         "legendgroup": "a8047e7e",
         "marker": {
          "color": "#EF553B",
          "symbol": "circle"
         },
         "mode": "markers",
         "name": "a8047e7e",
         "orientation": "v",
         "showlegend": true,
         "type": "scatter",
         "x": [
          "employer_reminder_1",
          "interview_coaching",
          "proposed_call",
          "proposed_email",
          "proposed_sms",
          "resume_coaching"
         ],
         "xaxis": "x",
         "y": [
          4,
          3,
          6,
          2,
          4,
          5
         ],
         "yaxis": "y"
        },
        {
         "hovertemplate": "candidate_id=a85f1c6f<br>action_type=%{x}<br>Occurences=%{y}<extra></extra>",
         "legendgroup": "a85f1c6f",
         "marker": {
          "color": "#00cc96",
          "symbol": "circle"
         },
         "mode": "markers",
         "name": "a85f1c6f",
         "orientation": "v",
         "showlegend": true,
         "type": "scatter",
         "x": [
          "employer_reminder_1",
          "employer_reminder_2",
          "interview_coaching",
          "proposed_call",
          "proposed_email",
          "proposed_sms",
          "resume_coaching"
         ],
         "xaxis": "x",
         "y": [
          6,
          1,
          2,
          2,
          1,
          4,
          1
         ],
         "yaxis": "y"
        },
        {
         "hovertemplate": "candidate_id=ae29cf41<br>action_type=%{x}<br>Occurences=%{y}<extra></extra>",
         "legendgroup": "ae29cf41",
         "marker": {
          "color": "#ab63fa",
          "symbol": "circle"
         },
         "mode": "markers",
         "name": "ae29cf41",
         "orientation": "v",
         "showlegend": true,
         "type": "scatter",
         "x": [
          "employer_reminder_1",
          "interview_coaching",
          "proposed_call",
          "proposed_email",
          "proposed_sms",
          "resume_coaching"
         ],
         "xaxis": "x",
         "y": [
          7,
          2,
          4,
          8,
          2,
          4
         ],
         "yaxis": "y"
        },
        {
         "hovertemplate": "candidate_id=b328a551<br>action_type=%{x}<br>Occurences=%{y}<extra></extra>",
         "legendgroup": "b328a551",
         "marker": {
          "color": "#FFA15A",
          "symbol": "circle"
         },
         "mode": "markers",
         "name": "b328a551",
         "orientation": "v",
         "showlegend": true,
         "type": "scatter",
         "x": [
          "employer_reminder_1",
          "employer_reminder_2",
          "proposed_call",
          "proposed_email",
          "proposed_sms",
          "resume_coaching"
         ],
         "xaxis": "x",
         "y": [
          2,
          2,
          1,
          5,
          2,
          3
         ],
         "yaxis": "y"
        },
        {
         "hovertemplate": "candidate_id=b37737cb<br>action_type=%{x}<br>Occurences=%{y}<extra></extra>",
         "legendgroup": "b37737cb",
         "marker": {
          "color": "#19d3f3",
          "symbol": "circle"
         },
         "mode": "markers",
         "name": "b37737cb",
         "orientation": "v",
         "showlegend": true,
         "type": "scatter",
         "x": [
          "employer_reminder_1",
          "employer_reminder_2",
          "interview_coaching",
          "proposed_email",
          "proposed_sms",
          "resume_coaching"
         ],
         "xaxis": "x",
         "y": [
          4,
          2,
          1,
          4,
          6,
          5
         ],
         "yaxis": "y"
        },
        {
         "hovertemplate": "candidate_id=b4d98d31<br>action_type=%{x}<br>Occurences=%{y}<extra></extra>",
         "legendgroup": "b4d98d31",
         "marker": {
          "color": "#FF6692",
          "symbol": "circle"
         },
         "mode": "markers",
         "name": "b4d98d31",
         "orientation": "v",
         "showlegend": true,
         "type": "scatter",
         "x": [
          "employer_reminder_1",
          "employer_reminder_2",
          "interview_coaching",
          "proposed_call",
          "proposed_email",
          "proposed_sms",
          "resume_coaching"
         ],
         "xaxis": "x",
         "y": [
          4,
          1,
          1,
          6,
          5,
          3,
          5
         ],
         "yaxis": "y"
        },
        {
         "hovertemplate": "candidate_id=b6e717ec<br>action_type=%{x}<br>Occurences=%{y}<extra></extra>",
         "legendgroup": "b6e717ec",
         "marker": {
          "color": "#B6E880",
          "symbol": "circle"
         },
         "mode": "markers",
         "name": "b6e717ec",
         "orientation": "v",
         "showlegend": true,
         "type": "scatter",
         "x": [
          "employer_reminder_1",
          "employer_reminder_2",
          "interview_coaching",
          "proposed_call",
          "proposed_email",
          "proposed_sms",
          "resume_coaching"
         ],
         "xaxis": "x",
         "y": [
          7,
          3,
          2,
          3,
          8,
          5,
          6
         ],
         "yaxis": "y"
        },
        {
         "hovertemplate": "candidate_id=b8f34014<br>action_type=%{x}<br>Occurences=%{y}<extra></extra>",
         "legendgroup": "b8f34014",
         "marker": {
          "color": "#FF97FF",
          "symbol": "circle"
         },
         "mode": "markers",
         "name": "b8f34014",
         "orientation": "v",
         "showlegend": true,
         "type": "scatter",
         "x": [
          "employer_reminder_1",
          "employer_reminder_2",
          "interview_coaching",
          "proposed_call",
          "proposed_sms",
          "resume_coaching"
         ],
         "xaxis": "x",
         "y": [
          7,
          3,
          1,
          4,
          4,
          4
         ],
         "yaxis": "y"
        },
        {
         "hovertemplate": "candidate_id=bfabb816<br>action_type=%{x}<br>Occurences=%{y}<extra></extra>",
         "legendgroup": "bfabb816",
         "marker": {
          "color": "#FECB52",
          "symbol": "circle"
         },
         "mode": "markers",
         "name": "bfabb816",
         "orientation": "v",
         "showlegend": true,
         "type": "scatter",
         "x": [
          "employer_reminder_1",
          "employer_reminder_2",
          "interview_coaching",
          "proposed_call",
          "proposed_email",
          "proposed_sms",
          "resume_coaching"
         ],
         "xaxis": "x",
         "y": [
          4,
          2,
          1,
          4,
          1,
          5,
          5
         ],
         "yaxis": "y"
        },
        {
         "hovertemplate": "candidate_id=c19333cb<br>action_type=%{x}<br>Occurences=%{y}<extra></extra>",
         "legendgroup": "c19333cb",
         "marker": {
          "color": "#636efa",
          "symbol": "circle"
         },
         "mode": "markers",
         "name": "c19333cb",
         "orientation": "v",
         "showlegend": true,
         "type": "scatter",
         "x": [
          "employer_reminder_1",
          "interview_coaching",
          "proposed_call",
          "proposed_email",
          "proposed_sms",
          "resume_coaching"
         ],
         "xaxis": "x",
         "y": [
          3,
          1,
          7,
          2,
          1,
          4
         ],
         "yaxis": "y"
        },
        {
         "hovertemplate": "candidate_id=ca375140<br>action_type=%{x}<br>Occurences=%{y}<extra></extra>",
         "legendgroup": "ca375140",
         "marker": {
          "color": "#EF553B",
          "symbol": "circle"
         },
         "mode": "markers",
         "name": "ca375140",
         "orientation": "v",
         "showlegend": true,
         "type": "scatter",
         "x": [
          "employer_reminder_1",
          "proposed_call",
          "proposed_email",
          "proposed_sms",
          "resume_coaching"
         ],
         "xaxis": "x",
         "y": [
          3,
          3,
          2,
          1,
          2
         ],
         "yaxis": "y"
        },
        {
         "hovertemplate": "candidate_id=ca594396<br>action_type=%{x}<br>Occurences=%{y}<extra></extra>",
         "legendgroup": "ca594396",
         "marker": {
          "color": "#00cc96",
          "symbol": "circle"
         },
         "mode": "markers",
         "name": "ca594396",
         "orientation": "v",
         "showlegend": true,
         "type": "scatter",
         "x": [
          "employer_reminder_1",
          "interview_coaching",
          "proposed_call",
          "proposed_email",
          "proposed_sms",
          "resume_coaching"
         ],
         "xaxis": "x",
         "y": [
          3,
          2,
          1,
          4,
          5,
          1
         ],
         "yaxis": "y"
        },
        {
         "hovertemplate": "candidate_id=cb4958cb<br>action_type=%{x}<br>Occurences=%{y}<extra></extra>",
         "legendgroup": "cb4958cb",
         "marker": {
          "color": "#ab63fa",
          "symbol": "circle"
         },
         "mode": "markers",
         "name": "cb4958cb",
         "orientation": "v",
         "showlegend": true,
         "type": "scatter",
         "x": [
          "employer_reminder_1",
          "proposed_call",
          "proposed_email",
          "proposed_sms",
          "resume_coaching"
         ],
         "xaxis": "x",
         "y": [
          6,
          2,
          2,
          5,
          3
         ],
         "yaxis": "y"
        },
        {
         "hovertemplate": "candidate_id=cee22143<br>action_type=%{x}<br>Occurences=%{y}<extra></extra>",
         "legendgroup": "cee22143",
         "marker": {
          "color": "#FFA15A",
          "symbol": "circle"
         },
         "mode": "markers",
         "name": "cee22143",
         "orientation": "v",
         "showlegend": true,
         "type": "scatter",
         "x": [
          "employer_reminder_1",
          "employer_reminder_2",
          "interview_coaching",
          "proposed_call",
          "proposed_email",
          "proposed_sms",
          "resume_coaching"
         ],
         "xaxis": "x",
         "y": [
          5,
          1,
          1,
          2,
          4,
          5,
          1
         ],
         "yaxis": "y"
        },
        {
         "hovertemplate": "candidate_id=cee81edd<br>action_type=%{x}<br>Occurences=%{y}<extra></extra>",
         "legendgroup": "cee81edd",
         "marker": {
          "color": "#19d3f3",
          "symbol": "circle"
         },
         "mode": "markers",
         "name": "cee81edd",
         "orientation": "v",
         "showlegend": true,
         "type": "scatter",
         "x": [
          "employer_reminder_1",
          "proposed_call",
          "proposed_email",
          "proposed_sms",
          "resume_coaching"
         ],
         "xaxis": "x",
         "y": [
          2,
          2,
          1,
          3,
          2
         ],
         "yaxis": "y"
        },
        {
         "hovertemplate": "candidate_id=d457c672<br>action_type=%{x}<br>Occurences=%{y}<extra></extra>",
         "legendgroup": "d457c672",
         "marker": {
          "color": "#FF6692",
          "symbol": "circle"
         },
         "mode": "markers",
         "name": "d457c672",
         "orientation": "v",
         "showlegend": true,
         "type": "scatter",
         "x": [
          "employer_reminder_1",
          "interview_coaching",
          "proposed_call",
          "proposed_email",
          "proposed_sms",
          "resume_coaching"
         ],
         "xaxis": "x",
         "y": [
          3,
          3,
          4,
          5,
          7,
          5
         ],
         "yaxis": "y"
        },
        {
         "hovertemplate": "candidate_id=d755678b<br>action_type=%{x}<br>Occurences=%{y}<extra></extra>",
         "legendgroup": "d755678b",
         "marker": {
          "color": "#B6E880",
          "symbol": "circle"
         },
         "mode": "markers",
         "name": "d755678b",
         "orientation": "v",
         "showlegend": true,
         "type": "scatter",
         "x": [
          "employer_reminder_1",
          "employer_reminder_2",
          "proposed_call",
          "proposed_email",
          "proposed_sms",
          "resume_coaching"
         ],
         "xaxis": "x",
         "y": [
          5,
          1,
          4,
          2,
          3,
          4
         ],
         "yaxis": "y"
        },
        {
         "hovertemplate": "candidate_id=d83add35<br>action_type=%{x}<br>Occurences=%{y}<extra></extra>",
         "legendgroup": "d83add35",
         "marker": {
          "color": "#FF97FF",
          "symbol": "circle"
         },
         "mode": "markers",
         "name": "d83add35",
         "orientation": "v",
         "showlegend": true,
         "type": "scatter",
         "x": [
          "employer_reminder_1",
          "employer_reminder_2",
          "proposed_call",
          "proposed_email",
          "resume_coaching"
         ],
         "xaxis": "x",
         "y": [
          2,
          1,
          3,
          3,
          3
         ],
         "yaxis": "y"
        },
        {
         "hovertemplate": "candidate_id=da2035e3<br>action_type=%{x}<br>Occurences=%{y}<extra></extra>",
         "legendgroup": "da2035e3",
         "marker": {
          "color": "#FECB52",
          "symbol": "circle"
         },
         "mode": "markers",
         "name": "da2035e3",
         "orientation": "v",
         "showlegend": true,
         "type": "scatter",
         "x": [
          "employer_reminder_1",
          "employer_reminder_2",
          "interview_coaching",
          "proposed_call",
          "proposed_email",
          "proposed_sms",
          "resume_coaching"
         ],
         "xaxis": "x",
         "y": [
          6,
          1,
          1,
          4,
          2,
          2,
          3
         ],
         "yaxis": "y"
        },
        {
         "hovertemplate": "candidate_id=e16fa1bb<br>action_type=%{x}<br>Occurences=%{y}<extra></extra>",
         "legendgroup": "e16fa1bb",
         "marker": {
          "color": "#636efa",
          "symbol": "circle"
         },
         "mode": "markers",
         "name": "e16fa1bb",
         "orientation": "v",
         "showlegend": true,
         "type": "scatter",
         "x": [
          "employer_reminder_1",
          "employer_reminder_2",
          "proposed_call",
          "proposed_email",
          "proposed_sms",
          "resume_coaching"
         ],
         "xaxis": "x",
         "y": [
          2,
          1,
          3,
          4,
          1,
          3
         ],
         "yaxis": "y"
        },
        {
         "hovertemplate": "candidate_id=e2b1334b<br>action_type=%{x}<br>Occurences=%{y}<extra></extra>",
         "legendgroup": "e2b1334b",
         "marker": {
          "color": "#EF553B",
          "symbol": "circle"
         },
         "mode": "markers",
         "name": "e2b1334b",
         "orientation": "v",
         "showlegend": true,
         "type": "scatter",
         "x": [
          "employer_reminder_1",
          "employer_reminder_2",
          "interview_coaching",
          "proposed_call",
          "proposed_email",
          "proposed_sms",
          "resume_coaching"
         ],
         "xaxis": "x",
         "y": [
          5,
          1,
          1,
          3,
          2,
          5,
          5
         ],
         "yaxis": "y"
        },
        {
         "hovertemplate": "candidate_id=e7450ce8<br>action_type=%{x}<br>Occurences=%{y}<extra></extra>",
         "legendgroup": "e7450ce8",
         "marker": {
          "color": "#00cc96",
          "symbol": "circle"
         },
         "mode": "markers",
         "name": "e7450ce8",
         "orientation": "v",
         "showlegend": true,
         "type": "scatter",
         "x": [
          "employer_reminder_1",
          "employer_reminder_2",
          "interview_coaching",
          "proposed_call",
          "proposed_email",
          "proposed_sms",
          "resume_coaching"
         ],
         "xaxis": "x",
         "y": [
          7,
          2,
          1,
          3,
          1,
          3,
          6
         ],
         "yaxis": "y"
        },
        {
         "hovertemplate": "candidate_id=e75f738a<br>action_type=%{x}<br>Occurences=%{y}<extra></extra>",
         "legendgroup": "e75f738a",
         "marker": {
          "color": "#ab63fa",
          "symbol": "circle"
         },
         "mode": "markers",
         "name": "e75f738a",
         "orientation": "v",
         "showlegend": true,
         "type": "scatter",
         "x": [
          "employer_reminder_1",
          "employer_reminder_2",
          "interview_coaching",
          "proposed_call",
          "proposed_email",
          "resume_coaching"
         ],
         "xaxis": "x",
         "y": [
          5,
          3,
          2,
          4,
          5,
          2
         ],
         "yaxis": "y"
        },
        {
         "hovertemplate": "candidate_id=e8b80d92<br>action_type=%{x}<br>Occurences=%{y}<extra></extra>",
         "legendgroup": "e8b80d92",
         "marker": {
          "color": "#FFA15A",
          "symbol": "circle"
         },
         "mode": "markers",
         "name": "e8b80d92",
         "orientation": "v",
         "showlegend": true,
         "type": "scatter",
         "x": [
          "employer_reminder_1",
          "employer_reminder_2",
          "proposed_email",
          "proposed_sms",
          "resume_coaching"
         ],
         "xaxis": "x",
         "y": [
          3,
          1,
          3,
          3,
          3
         ],
         "yaxis": "y"
        },
        {
         "hovertemplate": "candidate_id=ed918fd1<br>action_type=%{x}<br>Occurences=%{y}<extra></extra>",
         "legendgroup": "ed918fd1",
         "marker": {
          "color": "#19d3f3",
          "symbol": "circle"
         },
         "mode": "markers",
         "name": "ed918fd1",
         "orientation": "v",
         "showlegend": true,
         "type": "scatter",
         "x": [
          "employer_reminder_1",
          "employer_reminder_2",
          "proposed_call",
          "proposed_email",
          "proposed_sms",
          "resume_coaching"
         ],
         "xaxis": "x",
         "y": [
          8,
          1,
          8,
          2,
          4,
          3
         ],
         "yaxis": "y"
        },
        {
         "hovertemplate": "candidate_id=f1e784fe<br>action_type=%{x}<br>Occurences=%{y}<extra></extra>",
         "legendgroup": "f1e784fe",
         "marker": {
          "color": "#FF6692",
          "symbol": "circle"
         },
         "mode": "markers",
         "name": "f1e784fe",
         "orientation": "v",
         "showlegend": true,
         "type": "scatter",
         "x": [
          "employer_reminder_1",
          "employer_reminder_2",
          "interview_coaching",
          "proposed_call",
          "proposed_email",
          "proposed_sms",
          "resume_coaching"
         ],
         "xaxis": "x",
         "y": [
          6,
          2,
          1,
          6,
          2,
          2,
          4
         ],
         "yaxis": "y"
        },
        {
         "hovertemplate": "candidate_id=f28b67cf<br>action_type=%{x}<br>Occurences=%{y}<extra></extra>",
         "legendgroup": "f28b67cf",
         "marker": {
          "color": "#B6E880",
          "symbol": "circle"
         },
         "mode": "markers",
         "name": "f28b67cf",
         "orientation": "v",
         "showlegend": true,
         "type": "scatter",
         "x": [
          "employer_reminder_1",
          "proposed_call",
          "proposed_email",
          "proposed_sms",
          "resume_coaching"
         ],
         "xaxis": "x",
         "y": [
          6,
          3,
          3,
          7,
          4
         ],
         "yaxis": "y"
        },
        {
         "hovertemplate": "candidate_id=f7e3f1da<br>action_type=%{x}<br>Occurences=%{y}<extra></extra>",
         "legendgroup": "f7e3f1da",
         "marker": {
          "color": "#FF97FF",
          "symbol": "circle"
         },
         "mode": "markers",
         "name": "f7e3f1da",
         "orientation": "v",
         "showlegend": true,
         "type": "scatter",
         "x": [
          "employer_reminder_1",
          "interview_coaching",
          "proposed_call",
          "proposed_email",
          "proposed_sms",
          "resume_coaching"
         ],
         "xaxis": "x",
         "y": [
          3,
          1,
          3,
          1,
          3,
          3
         ],
         "yaxis": "y"
        },
        {
         "hovertemplate": "candidate_id=ffcfb194<br>action_type=%{x}<br>Occurences=%{y}<extra></extra>",
         "legendgroup": "ffcfb194",
         "marker": {
          "color": "#FECB52",
          "symbol": "circle"
         },
         "mode": "markers",
         "name": "ffcfb194",
         "orientation": "v",
         "showlegend": true,
         "type": "scatter",
         "x": [
          "employer_reminder_1",
          "interview_coaching",
          "proposed_call",
          "proposed_email",
          "proposed_sms",
          "resume_coaching"
         ],
         "xaxis": "x",
         "y": [
          1,
          1,
          1,
          3,
          2,
          3
         ],
         "yaxis": "y"
        }
       ],
       "layout": {
        "autosize": true,
        "legend": {
         "title": {
          "text": "candidate_id"
         },
         "tracegroupgap": 0
        },
        "margin": {
         "t": 60
        },
        "template": {
         "data": {
          "bar": [
           {
            "error_x": {
             "color": "#2a3f5f"
            },
            "error_y": {
             "color": "#2a3f5f"
            },
            "marker": {
             "line": {
              "color": "#E5ECF6",
              "width": 0.5
             },
             "pattern": {
              "fillmode": "overlay",
              "size": 10,
              "solidity": 0.2
             }
            },
            "type": "bar"
           }
          ],
          "barpolar": [
           {
            "marker": {
             "line": {
              "color": "#E5ECF6",
              "width": 0.5
             },
             "pattern": {
              "fillmode": "overlay",
              "size": 10,
              "solidity": 0.2
             }
            },
            "type": "barpolar"
           }
          ],
          "carpet": [
           {
            "aaxis": {
             "endlinecolor": "#2a3f5f",
             "gridcolor": "white",
             "linecolor": "white",
             "minorgridcolor": "white",
             "startlinecolor": "#2a3f5f"
            },
            "baxis": {
             "endlinecolor": "#2a3f5f",
             "gridcolor": "white",
             "linecolor": "white",
             "minorgridcolor": "white",
             "startlinecolor": "#2a3f5f"
            },
            "type": "carpet"
           }
          ],
          "choropleth": [
           {
            "colorbar": {
             "outlinewidth": 0,
             "ticks": ""
            },
            "type": "choropleth"
           }
          ],
          "contour": [
           {
            "colorbar": {
             "outlinewidth": 0,
             "ticks": ""
            },
            "colorscale": [
             [
              0,
              "#0d0887"
             ],
             [
              0.1111111111111111,
              "#46039f"
             ],
             [
              0.2222222222222222,
              "#7201a8"
             ],
             [
              0.3333333333333333,
              "#9c179e"
             ],
             [
              0.4444444444444444,
              "#bd3786"
             ],
             [
              0.5555555555555556,
              "#d8576b"
             ],
             [
              0.6666666666666666,
              "#ed7953"
             ],
             [
              0.7777777777777778,
              "#fb9f3a"
             ],
             [
              0.8888888888888888,
              "#fdca26"
             ],
             [
              1,
              "#f0f921"
             ]
            ],
            "type": "contour"
           }
          ],
          "contourcarpet": [
           {
            "colorbar": {
             "outlinewidth": 0,
             "ticks": ""
            },
            "type": "contourcarpet"
           }
          ],
          "heatmap": [
           {
            "colorbar": {
             "outlinewidth": 0,
             "ticks": ""
            },
            "colorscale": [
             [
              0,
              "#0d0887"
             ],
             [
              0.1111111111111111,
              "#46039f"
             ],
             [
              0.2222222222222222,
              "#7201a8"
             ],
             [
              0.3333333333333333,
              "#9c179e"
             ],
             [
              0.4444444444444444,
              "#bd3786"
             ],
             [
              0.5555555555555556,
              "#d8576b"
             ],
             [
              0.6666666666666666,
              "#ed7953"
             ],
             [
              0.7777777777777778,
              "#fb9f3a"
             ],
             [
              0.8888888888888888,
              "#fdca26"
             ],
             [
              1,
              "#f0f921"
             ]
            ],
            "type": "heatmap"
           }
          ],
          "heatmapgl": [
           {
            "colorbar": {
             "outlinewidth": 0,
             "ticks": ""
            },
            "colorscale": [
             [
              0,
              "#0d0887"
             ],
             [
              0.1111111111111111,
              "#46039f"
             ],
             [
              0.2222222222222222,
              "#7201a8"
             ],
             [
              0.3333333333333333,
              "#9c179e"
             ],
             [
              0.4444444444444444,
              "#bd3786"
             ],
             [
              0.5555555555555556,
              "#d8576b"
             ],
             [
              0.6666666666666666,
              "#ed7953"
             ],
             [
              0.7777777777777778,
              "#fb9f3a"
             ],
             [
              0.8888888888888888,
              "#fdca26"
             ],
             [
              1,
              "#f0f921"
             ]
            ],
            "type": "heatmapgl"
           }
          ],
          "histogram": [
           {
            "marker": {
             "pattern": {
              "fillmode": "overlay",
              "size": 10,
              "solidity": 0.2
             }
            },
            "type": "histogram"
           }
          ],
          "histogram2d": [
           {
            "colorbar": {
             "outlinewidth": 0,
             "ticks": ""
            },
            "colorscale": [
             [
              0,
              "#0d0887"
             ],
             [
              0.1111111111111111,
              "#46039f"
             ],
             [
              0.2222222222222222,
              "#7201a8"
             ],
             [
              0.3333333333333333,
              "#9c179e"
             ],
             [
              0.4444444444444444,
              "#bd3786"
             ],
             [
              0.5555555555555556,
              "#d8576b"
             ],
             [
              0.6666666666666666,
              "#ed7953"
             ],
             [
              0.7777777777777778,
              "#fb9f3a"
             ],
             [
              0.8888888888888888,
              "#fdca26"
             ],
             [
              1,
              "#f0f921"
             ]
            ],
            "type": "histogram2d"
           }
          ],
          "histogram2dcontour": [
           {
            "colorbar": {
             "outlinewidth": 0,
             "ticks": ""
            },
            "colorscale": [
             [
              0,
              "#0d0887"
             ],
             [
              0.1111111111111111,
              "#46039f"
             ],
             [
              0.2222222222222222,
              "#7201a8"
             ],
             [
              0.3333333333333333,
              "#9c179e"
             ],
             [
              0.4444444444444444,
              "#bd3786"
             ],
             [
              0.5555555555555556,
              "#d8576b"
             ],
             [
              0.6666666666666666,
              "#ed7953"
             ],
             [
              0.7777777777777778,
              "#fb9f3a"
             ],
             [
              0.8888888888888888,
              "#fdca26"
             ],
             [
              1,
              "#f0f921"
             ]
            ],
            "type": "histogram2dcontour"
           }
          ],
          "mesh3d": [
           {
            "colorbar": {
             "outlinewidth": 0,
             "ticks": ""
            },
            "type": "mesh3d"
           }
          ],
          "parcoords": [
           {
            "line": {
             "colorbar": {
              "outlinewidth": 0,
              "ticks": ""
             }
            },
            "type": "parcoords"
           }
          ],
          "pie": [
           {
            "automargin": true,
            "type": "pie"
           }
          ],
          "scatter": [
           {
            "fillpattern": {
             "fillmode": "overlay",
             "size": 10,
             "solidity": 0.2
            },
            "type": "scatter"
           }
          ],
          "scatter3d": [
           {
            "line": {
             "colorbar": {
              "outlinewidth": 0,
              "ticks": ""
             }
            },
            "marker": {
             "colorbar": {
              "outlinewidth": 0,
              "ticks": ""
             }
            },
            "type": "scatter3d"
           }
          ],
          "scattercarpet": [
           {
            "marker": {
             "colorbar": {
              "outlinewidth": 0,
              "ticks": ""
             }
            },
            "type": "scattercarpet"
           }
          ],
          "scattergeo": [
           {
            "marker": {
             "colorbar": {
              "outlinewidth": 0,
              "ticks": ""
             }
            },
            "type": "scattergeo"
           }
          ],
          "scattergl": [
           {
            "marker": {
             "colorbar": {
              "outlinewidth": 0,
              "ticks": ""
             }
            },
            "type": "scattergl"
           }
          ],
          "scattermapbox": [
           {
            "marker": {
             "colorbar": {
              "outlinewidth": 0,
              "ticks": ""
             }
            },
            "type": "scattermapbox"
           }
          ],
          "scatterpolar": [
           {
            "marker": {
             "colorbar": {
              "outlinewidth": 0,
              "ticks": ""
             }
            },
            "type": "scatterpolar"
           }
          ],
          "scatterpolargl": [
           {
            "marker": {
             "colorbar": {
              "outlinewidth": 0,
              "ticks": ""
             }
            },
            "type": "scatterpolargl"
           }
          ],
          "scatterternary": [
           {
            "marker": {
             "colorbar": {
              "outlinewidth": 0,
              "ticks": ""
             }
            },
            "type": "scatterternary"
           }
          ],
          "surface": [
           {
            "colorbar": {
             "outlinewidth": 0,
             "ticks": ""
            },
            "colorscale": [
             [
              0,
              "#0d0887"
             ],
             [
              0.1111111111111111,
              "#46039f"
             ],
             [
              0.2222222222222222,
              "#7201a8"
             ],
             [
              0.3333333333333333,
              "#9c179e"
             ],
             [
              0.4444444444444444,
              "#bd3786"
             ],
             [
              0.5555555555555556,
              "#d8576b"
             ],
             [
              0.6666666666666666,
              "#ed7953"
             ],
             [
              0.7777777777777778,
              "#fb9f3a"
             ],
             [
              0.8888888888888888,
              "#fdca26"
             ],
             [
              1,
              "#f0f921"
             ]
            ],
            "type": "surface"
           }
          ],
          "table": [
           {
            "cells": {
             "fill": {
              "color": "#EBF0F8"
             },
             "line": {
              "color": "white"
             }
            },
            "header": {
             "fill": {
              "color": "#C8D4E3"
             },
             "line": {
              "color": "white"
             }
            },
            "type": "table"
           }
          ]
         },
         "layout": {
          "annotationdefaults": {
           "arrowcolor": "#2a3f5f",
           "arrowhead": 0,
           "arrowwidth": 1
          },
          "autotypenumbers": "strict",
          "coloraxis": {
           "colorbar": {
            "outlinewidth": 0,
            "ticks": ""
           }
          },
          "colorscale": {
           "diverging": [
            [
             0,
             "#8e0152"
            ],
            [
             0.1,
             "#c51b7d"
            ],
            [
             0.2,
             "#de77ae"
            ],
            [
             0.3,
             "#f1b6da"
            ],
            [
             0.4,
             "#fde0ef"
            ],
            [
             0.5,
             "#f7f7f7"
            ],
            [
             0.6,
             "#e6f5d0"
            ],
            [
             0.7,
             "#b8e186"
            ],
            [
             0.8,
             "#7fbc41"
            ],
            [
             0.9,
             "#4d9221"
            ],
            [
             1,
             "#276419"
            ]
           ],
           "sequential": [
            [
             0,
             "#0d0887"
            ],
            [
             0.1111111111111111,
             "#46039f"
            ],
            [
             0.2222222222222222,
             "#7201a8"
            ],
            [
             0.3333333333333333,
             "#9c179e"
            ],
            [
             0.4444444444444444,
             "#bd3786"
            ],
            [
             0.5555555555555556,
             "#d8576b"
            ],
            [
             0.6666666666666666,
             "#ed7953"
            ],
            [
             0.7777777777777778,
             "#fb9f3a"
            ],
            [
             0.8888888888888888,
             "#fdca26"
            ],
            [
             1,
             "#f0f921"
            ]
           ],
           "sequentialminus": [
            [
             0,
             "#0d0887"
            ],
            [
             0.1111111111111111,
             "#46039f"
            ],
            [
             0.2222222222222222,
             "#7201a8"
            ],
            [
             0.3333333333333333,
             "#9c179e"
            ],
            [
             0.4444444444444444,
             "#bd3786"
            ],
            [
             0.5555555555555556,
             "#d8576b"
            ],
            [
             0.6666666666666666,
             "#ed7953"
            ],
            [
             0.7777777777777778,
             "#fb9f3a"
            ],
            [
             0.8888888888888888,
             "#fdca26"
            ],
            [
             1,
             "#f0f921"
            ]
           ]
          },
          "colorway": [
           "#636efa",
           "#EF553B",
           "#00cc96",
           "#ab63fa",
           "#FFA15A",
           "#19d3f3",
           "#FF6692",
           "#B6E880",
           "#FF97FF",
           "#FECB52"
          ],
          "font": {
           "color": "#2a3f5f"
          },
          "geo": {
           "bgcolor": "white",
           "lakecolor": "white",
           "landcolor": "#E5ECF6",
           "showlakes": true,
           "showland": true,
           "subunitcolor": "white"
          },
          "hoverlabel": {
           "align": "left"
          },
          "hovermode": "closest",
          "mapbox": {
           "style": "light"
          },
          "paper_bgcolor": "white",
          "plot_bgcolor": "#E5ECF6",
          "polar": {
           "angularaxis": {
            "gridcolor": "white",
            "linecolor": "white",
            "ticks": ""
           },
           "bgcolor": "#E5ECF6",
           "radialaxis": {
            "gridcolor": "white",
            "linecolor": "white",
            "ticks": ""
           }
          },
          "scene": {
           "xaxis": {
            "backgroundcolor": "#E5ECF6",
            "gridcolor": "white",
            "gridwidth": 2,
            "linecolor": "white",
            "showbackground": true,
            "ticks": "",
            "zerolinecolor": "white"
           },
           "yaxis": {
            "backgroundcolor": "#E5ECF6",
            "gridcolor": "white",
            "gridwidth": 2,
            "linecolor": "white",
            "showbackground": true,
            "ticks": "",
            "zerolinecolor": "white"
           },
           "zaxis": {
            "backgroundcolor": "#E5ECF6",
            "gridcolor": "white",
            "gridwidth": 2,
            "linecolor": "white",
            "showbackground": true,
            "ticks": "",
            "zerolinecolor": "white"
           }
          },
          "shapedefaults": {
           "line": {
            "color": "#2a3f5f"
           }
          },
          "ternary": {
           "aaxis": {
            "gridcolor": "white",
            "linecolor": "white",
            "ticks": ""
           },
           "baxis": {
            "gridcolor": "white",
            "linecolor": "white",
            "ticks": ""
           },
           "bgcolor": "#E5ECF6",
           "caxis": {
            "gridcolor": "white",
            "linecolor": "white",
            "ticks": ""
           }
          },
          "title": {
           "x": 0.05
          },
          "xaxis": {
           "automargin": true,
           "gridcolor": "white",
           "linecolor": "white",
           "ticks": "",
           "title": {
            "standoff": 15
           },
           "zerolinecolor": "white",
           "zerolinewidth": 2
          },
          "yaxis": {
           "automargin": true,
           "gridcolor": "white",
           "linecolor": "white",
           "ticks": "",
           "title": {
            "standoff": 15
           },
           "zerolinecolor": "white",
           "zerolinewidth": 2
          }
         }
        },
        "xaxis": {
         "anchor": "y",
         "autorange": true,
         "domain": [
          0,
          1
         ],
         "range": [
          -0.3648036253776435,
          6.364803625377643
         ],
         "title": {
          "text": "action_type"
         },
         "type": "category"
        },
        "yaxis": {
         "anchor": "x",
         "autorange": true,
         "domain": [
          0,
          1
         ],
         "range": [
          0.3031496062992126,
          10.696850393700787
         ],
         "title": {
          "text": "Occurences"
         },
         "type": "linear"
        }
       }
      },
      "image/png": "[encoded data removed]",
      "text/html": [
       "<div>                            <div id=\"47969a14-d236-4f32-9a0b-d102a504ccd8\" class=\"plotly-graph-div\" style=\"height:525px; width:100%;\"></div>            <script type=\"text/javascript\">                require([\"plotly\"], function(Plotly) {                    window.PLOTLYENV=window.PLOTLYENV || {};                                    if (document.getElementById(\"47969a14-d236-4f32-9a0b-d102a504ccd8\")) {                    Plotly.newPlot(                        \"47969a14-d236-4f32-9a0b-d102a504ccd8\",                        [{\"hovertemplate\":\"candidate_id=0255d702\\u003cbr\\u003eaction_type=%{x}\\u003cbr\\u003eOccurences=%{y}\\u003cextra\\u003e\\u003c\\u002fextra\\u003e\",\"legendgroup\":\"0255d702\",\"marker\":{\"color\":\"#636efa\",\"symbol\":\"circle\"},\"mode\":\"markers\",\"name\":\"0255d702\",\"orientation\":\"v\",\"showlegend\":true,\"x\":[\"employer_reminder_1\",\"interview_coaching\",\"proposed_call\",\"proposed_email\",\"proposed_sms\",\"resume_coaching\"],\"xaxis\":\"x\",\"y\":[4,2,4,4,1,4],\"yaxis\":\"y\",\"type\":\"scatter\"},{\"hovertemplate\":\"candidate_id=02b20fe6\\u003cbr\\u003eaction_type=%{x}\\u003cbr\\u003eOccurences=%{y}\\u003cextra\\u003e\\u003c\\u002fextra\\u003e\",\"legendgroup\":\"02b20fe6\",\"marker\":{\"color\":\"#EF553B\",\"symbol\":\"circle\"},\"mode\":\"markers\",\"name\":\"02b20fe6\",\"orientation\":\"v\",\"showlegend\":true,\"x\":[\"employer_reminder_1\",\"interview_coaching\",\"proposed_call\",\"proposed_email\",\"proposed_sms\",\"resume_coaching\"],\"xaxis\":\"x\",\"y\":[4,1,3,5,1,2],\"yaxis\":\"y\",\"type\":\"scatter\"},{\"hovertemplate\":\"candidate_id=0507174d\\u003cbr\\u003eaction_type=%{x}\\u003cbr\\u003eOccurences=%{y}\\u003cextra\\u003e\\u003c\\u002fextra\\u003e\",\"legendgroup\":\"0507174d\",\"marker\":{\"color\":\"#00cc96\",\"symbol\":\"circle\"},\"mode\":\"markers\",\"name\":\"0507174d\",\"orientation\":\"v\",\"showlegend\":true,\"x\":[\"employer_reminder_1\",\"employer_reminder_2\",\"proposed_call\",\"proposed_email\",\"proposed_sms\",\"resume_coaching\"],\"xaxis\":\"x\",\"y\":[3,2,1,1,2,2],\"yaxis\":\"y\",\"type\":\"scatter\"},{\"hovertemplate\":\"candidate_id=0ab42c7d\\u003cbr\\u003eaction_type=%{x}\\u003cbr\\u003eOccurences=%{y}\\u003cextra\\u003e\\u003c\\u002fextra\\u003e\",\"legendgroup\":\"0ab42c7d\",\"marker\":{\"color\":\"#ab63fa\",\"symbol\":\"circle\"},\"mode\":\"markers\",\"name\":\"0ab42c7d\",\"orientation\":\"v\",\"showlegend\":true,\"x\":[\"employer_reminder_1\",\"employer_reminder_2\",\"interview_coaching\",\"proposed_call\",\"proposed_email\",\"proposed_sms\",\"resume_coaching\"],\"xaxis\":\"x\",\"y\":[4,1,1,5,3,3,4],\"yaxis\":\"y\",\"type\":\"scatter\"},{\"hovertemplate\":\"candidate_id=0c036547\\u003cbr\\u003eaction_type=%{x}\\u003cbr\\u003eOccurences=%{y}\\u003cextra\\u003e\\u003c\\u002fextra\\u003e\",\"legendgroup\":\"0c036547\",\"marker\":{\"color\":\"#FFA15A\",\"symbol\":\"circle\"},\"mode\":\"markers\",\"name\":\"0c036547\",\"orientation\":\"v\",\"showlegend\":true,\"x\":[\"employer_reminder_1\",\"interview_coaching\",\"proposed_call\",\"proposed_email\",\"proposed_sms\",\"resume_coaching\"],\"xaxis\":\"x\",\"y\":[8,1,1,6,6,6],\"yaxis\":\"y\",\"type\":\"scatter\"},{\"hovertemplate\":\"candidate_id=0ce2cf79\\u003cbr\\u003eaction_type=%{x}\\u003cbr\\u003eOccurences=%{y}\\u003cextra\\u003e\\u003c\\u002fextra\\u003e\",\"legendgroup\":\"0ce2cf79\",\"marker\":{\"color\":\"#19d3f3\",\"symbol\":\"circle\"},\"mode\":\"markers\",\"name\":\"0ce2cf79\",\"orientation\":\"v\",\"showlegend\":true,\"x\":[\"employer_reminder_1\",\"proposed_call\",\"proposed_email\",\"proposed_sms\",\"resume_coaching\"],\"xaxis\":\"x\",\"y\":[3,3,3,1,3],\"yaxis\":\"y\",\"type\":\"scatter\"},{\"hovertemplate\":\"candidate_id=0d19e75d\\u003cbr\\u003eaction_type=%{x}\\u003cbr\\u003eOccurences=%{y}\\u003cextra\\u003e\\u003c\\u002fextra\\u003e\",\"legendgroup\":\"0d19e75d\",\"marker\":{\"color\":\"#FF6692\",\"symbol\":\"circle\"},\"mode\":\"markers\",\"name\":\"0d19e75d\",\"orientation\":\"v\",\"showlegend\":true,\"x\":[\"employer_reminder_1\",\"employer_reminder_2\",\"interview_coaching\",\"proposed_call\",\"proposed_email\",\"proposed_sms\",\"resume_coaching\"],\"xaxis\":\"x\",\"y\":[4,1,2,2,3,1,2],\"yaxis\":\"y\",\"type\":\"scatter\"},{\"hovertemplate\":\"candidate_id=0ff4a6fc\\u003cbr\\u003eaction_type=%{x}\\u003cbr\\u003eOccurences=%{y}\\u003cextra\\u003e\\u003c\\u002fextra\\u003e\",\"legendgroup\":\"0ff4a6fc\",\"marker\":{\"color\":\"#B6E880\",\"symbol\":\"circle\"},\"mode\":\"markers\",\"name\":\"0ff4a6fc\",\"orientation\":\"v\",\"showlegend\":true,\"x\":[\"employer_reminder_1\",\"employer_reminder_2\",\"interview_coaching\",\"proposed_call\",\"proposed_email\",\"proposed_sms\",\"resume_coaching\"],\"xaxis\":\"x\",\"y\":[6,2,2,3,1,5,6],\"yaxis\":\"y\",\"type\":\"scatter\"},{\"hovertemplate\":\"candidate_id=12e15c9e\\u003cbr\\u003eaction_type=%{x}\\u003cbr\\u003eOccurences=%{y}\\u003cextra\\u003e\\u003c\\u002fextra\\u003e\",\"legendgroup\":\"12e15c9e\",\"marker\":{\"color\":\"#FF97FF\",\"symbol\":\"circle\"},\"mode\":\"markers\",\"name\":\"12e15c9e\",\"orientation\":\"v\",\"showlegend\":true,\"x\":[\"employer_reminder_1\",\"employer_reminder_2\",\"proposed_call\",\"proposed_email\",\"proposed_sms\",\"resume_coaching\"],\"xaxis\":\"x\",\"y\":[8,4,5,2,6,1],\"yaxis\":\"y\",\"type\":\"scatter\"},{\"hovertemplate\":\"candidate_id=1705b9ce\\u003cbr\\u003eaction_type=%{x}\\u003cbr\\u003eOccurences=%{y}\\u003cextra\\u003e\\u003c\\u002fextra\\u003e\",\"legendgroup\":\"1705b9ce\",\"marker\":{\"color\":\"#FECB52\",\"symbol\":\"circle\"},\"mode\":\"markers\",\"name\":\"1705b9ce\",\"orientation\":\"v\",\"showlegend\":true,\"x\":[\"employer_reminder_1\",\"employer_reminder_2\",\"interview_coaching\",\"proposed_call\",\"proposed_email\",\"proposed_sms\",\"resume_coaching\"],\"xaxis\":\"x\",\"y\":[5,1,1,3,2,3,2],\"yaxis\":\"y\",\"type\":\"scatter\"},{\"hovertemplate\":\"candidate_id=1801e5b8\\u003cbr\\u003eaction_type=%{x}\\u003cbr\\u003eOccurences=%{y}\\u003cextra\\u003e\\u003c\\u002fextra\\u003e\",\"legendgroup\":\"1801e5b8\",\"marker\":{\"color\":\"#636efa\",\"symbol\":\"circle\"},\"mode\":\"markers\",\"name\":\"1801e5b8\",\"orientation\":\"v\",\"showlegend\":true,\"x\":[\"employer_reminder_1\",\"employer_reminder_2\",\"proposed_call\",\"proposed_email\",\"proposed_sms\",\"resume_coaching\"],\"xaxis\":\"x\",\"y\":[5,2,1,5,3,5],\"yaxis\":\"y\",\"type\":\"scatter\"},{\"hovertemplate\":\"candidate_id=185aee09\\u003cbr\\u003eaction_type=%{x}\\u003cbr\\u003eOccurences=%{y}\\u003cextra\\u003e\\u003c\\u002fextra\\u003e\",\"legendgroup\":\"185aee09\",\"marker\":{\"color\":\"#EF553B\",\"symbol\":\"circle\"},\"mode\":\"markers\",\"name\":\"185aee09\",\"orientation\":\"v\",\"showlegend\":true,\"x\":[\"employer_reminder_1\",\"proposed_call\",\"proposed_email\",\"proposed_sms\",\"resume_coaching\"],\"xaxis\":\"x\",\"y\":[4,1,6,2,5],\"yaxis\":\"y\",\"type\":\"scatter\"},{\"hovertemplate\":\"candidate_id=1d69ccba\\u003cbr\\u003eaction_type=%{x}\\u003cbr\\u003eOccurences=%{y}\\u003cextra\\u003e\\u003c\\u002fextra\\u003e\",\"legendgroup\":\"1d69ccba\",\"marker\":{\"color\":\"#00cc96\",\"symbol\":\"circle\"},\"mode\":\"markers\",\"name\":\"1d69ccba\",\"orientation\":\"v\",\"showlegend\":true,\"x\":[\"employer_reminder_1\",\"employer_reminder_2\",\"proposed_call\",\"proposed_email\",\"proposed_sms\",\"resume_coaching\"],\"xaxis\":\"x\",\"y\":[4,1,2,2,2,3],\"yaxis\":\"y\",\"type\":\"scatter\"},{\"hovertemplate\":\"candidate_id=260a4caf\\u003cbr\\u003eaction_type=%{x}\\u003cbr\\u003eOccurences=%{y}\\u003cextra\\u003e\\u003c\\u002fextra\\u003e\",\"legendgroup\":\"260a4caf\",\"marker\":{\"color\":\"#ab63fa\",\"symbol\":\"circle\"},\"mode\":\"markers\",\"name\":\"260a4caf\",\"orientation\":\"v\",\"showlegend\":true,\"x\":[\"employer_reminder_1\",\"employer_reminder_2\",\"proposed_call\",\"proposed_email\",\"proposed_sms\",\"resume_coaching\"],\"xaxis\":\"x\",\"y\":[5,2,3,4,2,2],\"yaxis\":\"y\",\"type\":\"scatter\"},{\"hovertemplate\":\"candidate_id=267c731c\\u003cbr\\u003eaction_type=%{x}\\u003cbr\\u003eOccurences=%{y}\\u003cextra\\u003e\\u003c\\u002fextra\\u003e\",\"legendgroup\":\"267c731c\",\"marker\":{\"color\":\"#FFA15A\",\"symbol\":\"circle\"},\"mode\":\"markers\",\"name\":\"267c731c\",\"orientation\":\"v\",\"showlegend\":true,\"x\":[\"employer_reminder_1\",\"employer_reminder_2\",\"interview_coaching\",\"proposed_call\",\"proposed_email\",\"proposed_sms\",\"resume_coaching\"],\"xaxis\":\"x\",\"y\":[6,1,2,1,2,4,1],\"yaxis\":\"y\",\"type\":\"scatter\"},{\"hovertemplate\":\"candidate_id=2a6a66f9\\u003cbr\\u003eaction_type=%{x}\\u003cbr\\u003eOccurences=%{y}\\u003cextra\\u003e\\u003c\\u002fextra\\u003e\",\"legendgroup\":\"2a6a66f9\",\"marker\":{\"color\":\"#19d3f3\",\"symbol\":\"circle\"},\"mode\":\"markers\",\"name\":\"2a6a66f9\",\"orientation\":\"v\",\"showlegend\":true,\"x\":[\"employer_reminder_1\",\"proposed_call\",\"proposed_email\",\"proposed_sms\",\"resume_coaching\"],\"xaxis\":\"x\",\"y\":[2,3,2,1,3],\"yaxis\":\"y\",\"type\":\"scatter\"},{\"hovertemplate\":\"candidate_id=31ecdee2\\u003cbr\\u003eaction_type=%{x}\\u003cbr\\u003eOccurences=%{y}\\u003cextra\\u003e\\u003c\\u002fextra\\u003e\",\"legendgroup\":\"31ecdee2\",\"marker\":{\"color\":\"#FF6692\",\"symbol\":\"circle\"},\"mode\":\"markers\",\"name\":\"31ecdee2\",\"orientation\":\"v\",\"showlegend\":true,\"x\":[\"employer_reminder_1\",\"employer_reminder_2\",\"interview_coaching\",\"proposed_call\",\"proposed_email\",\"proposed_sms\",\"resume_coaching\"],\"xaxis\":\"x\",\"y\":[4,1,3,7,2,1,2],\"yaxis\":\"y\",\"type\":\"scatter\"},{\"hovertemplate\":\"candidate_id=32f23bcf\\u003cbr\\u003eaction_type=%{x}\\u003cbr\\u003eOccurences=%{y}\\u003cextra\\u003e\\u003c\\u002fextra\\u003e\",\"legendgroup\":\"32f23bcf\",\"marker\":{\"color\":\"#B6E880\",\"symbol\":\"circle\"},\"mode\":\"markers\",\"name\":\"32f23bcf\",\"orientation\":\"v\",\"showlegend\":true,\"x\":[\"employer_reminder_1\",\"employer_reminder_2\",\"interview_coaching\",\"proposed_call\",\"proposed_email\",\"proposed_sms\",\"resume_coaching\"],\"xaxis\":\"x\",\"y\":[8,3,1,4,6,2,3],\"yaxis\":\"y\",\"type\":\"scatter\"},{\"hovertemplate\":\"candidate_id=3484b71f\\u003cbr\\u003eaction_type=%{x}\\u003cbr\\u003eOccurences=%{y}\\u003cextra\\u003e\\u003c\\u002fextra\\u003e\",\"legendgroup\":\"3484b71f\",\"marker\":{\"color\":\"#FF97FF\",\"symbol\":\"circle\"},\"mode\":\"markers\",\"name\":\"3484b71f\",\"orientation\":\"v\",\"showlegend\":true,\"x\":[\"employer_reminder_1\",\"employer_reminder_2\",\"interview_coaching\",\"proposed_call\",\"proposed_email\",\"resume_coaching\"],\"xaxis\":\"x\",\"y\":[4,1,1,3,2,1],\"yaxis\":\"y\",\"type\":\"scatter\"},{\"hovertemplate\":\"candidate_id=34a7372d\\u003cbr\\u003eaction_type=%{x}\\u003cbr\\u003eOccurences=%{y}\\u003cextra\\u003e\\u003c\\u002fextra\\u003e\",\"legendgroup\":\"34a7372d\",\"marker\":{\"color\":\"#FECB52\",\"symbol\":\"circle\"},\"mode\":\"markers\",\"name\":\"34a7372d\",\"orientation\":\"v\",\"showlegend\":true,\"x\":[\"employer_reminder_1\",\"employer_reminder_2\",\"interview_coaching\",\"proposed_email\",\"proposed_sms\",\"resume_coaching\"],\"xaxis\":\"x\",\"y\":[5,1,1,3,3,3],\"yaxis\":\"y\",\"type\":\"scatter\"},{\"hovertemplate\":\"candidate_id=3849242a\\u003cbr\\u003eaction_type=%{x}\\u003cbr\\u003eOccurences=%{y}\\u003cextra\\u003e\\u003c\\u002fextra\\u003e\",\"legendgroup\":\"3849242a\",\"marker\":{\"color\":\"#636efa\",\"symbol\":\"circle\"},\"mode\":\"markers\",\"name\":\"3849242a\",\"orientation\":\"v\",\"showlegend\":true,\"x\":[\"employer_reminder_1\",\"employer_reminder_2\",\"interview_coaching\",\"proposed_call\",\"proposed_email\",\"proposed_sms\",\"resume_coaching\"],\"xaxis\":\"x\",\"y\":[5,1,2,5,2,2,4],\"yaxis\":\"y\",\"type\":\"scatter\"},{\"hovertemplate\":\"candidate_id=388b6988\\u003cbr\\u003eaction_type=%{x}\\u003cbr\\u003eOccurences=%{y}\\u003cextra\\u003e\\u003c\\u002fextra\\u003e\",\"legendgroup\":\"388b6988\",\"marker\":{\"color\":\"#EF553B\",\"symbol\":\"circle\"},\"mode\":\"markers\",\"name\":\"388b6988\",\"orientation\":\"v\",\"showlegend\":true,\"x\":[\"employer_reminder_1\",\"employer_reminder_2\",\"interview_coaching\",\"proposed_call\",\"proposed_email\",\"proposed_sms\",\"resume_coaching\"],\"xaxis\":\"x\",\"y\":[7,1,2,5,9,3,5],\"yaxis\":\"y\",\"type\":\"scatter\"},{\"hovertemplate\":\"candidate_id=3a714c67\\u003cbr\\u003eaction_type=%{x}\\u003cbr\\u003eOccurences=%{y}\\u003cextra\\u003e\\u003c\\u002fextra\\u003e\",\"legendgroup\":\"3a714c67\",\"marker\":{\"color\":\"#00cc96\",\"symbol\":\"circle\"},\"mode\":\"markers\",\"name\":\"3a714c67\",\"orientation\":\"v\",\"showlegend\":true,\"x\":[\"employer_reminder_1\",\"interview_coaching\",\"proposed_call\",\"proposed_email\",\"proposed_sms\",\"resume_coaching\"],\"xaxis\":\"x\",\"y\":[1,2,1,1,4,3],\"yaxis\":\"y\",\"type\":\"scatter\"},{\"hovertemplate\":\"candidate_id=3cdd7d2e\\u003cbr\\u003eaction_type=%{x}\\u003cbr\\u003eOccurences=%{y}\\u003cextra\\u003e\\u003c\\u002fextra\\u003e\",\"legendgroup\":\"3cdd7d2e\",\"marker\":{\"color\":\"#ab63fa\",\"symbol\":\"circle\"},\"mode\":\"markers\",\"name\":\"3cdd7d2e\",\"orientation\":\"v\",\"showlegend\":true,\"x\":[\"employer_reminder_1\",\"employer_reminder_2\",\"interview_coaching\",\"proposed_call\",\"proposed_email\",\"proposed_sms\",\"resume_coaching\"],\"xaxis\":\"x\",\"y\":[5,3,2,3,1,5,5],\"yaxis\":\"y\",\"type\":\"scatter\"},{\"hovertemplate\":\"candidate_id=3e0d13c0\\u003cbr\\u003eaction_type=%{x}\\u003cbr\\u003eOccurences=%{y}\\u003cextra\\u003e\\u003c\\u002fextra\\u003e\",\"legendgroup\":\"3e0d13c0\",\"marker\":{\"color\":\"#FFA15A\",\"symbol\":\"circle\"},\"mode\":\"markers\",\"name\":\"3e0d13c0\",\"orientation\":\"v\",\"showlegend\":true,\"x\":[\"employer_reminder_1\",\"interview_coaching\",\"proposed_call\",\"proposed_email\",\"proposed_sms\",\"resume_coaching\"],\"xaxis\":\"x\",\"y\":[4,1,3,3,3,4],\"yaxis\":\"y\",\"type\":\"scatter\"},{\"hovertemplate\":\"candidate_id=43938375\\u003cbr\\u003eaction_type=%{x}\\u003cbr\\u003eOccurences=%{y}\\u003cextra\\u003e\\u003c\\u002fextra\\u003e\",\"legendgroup\":\"43938375\",\"marker\":{\"color\":\"#19d3f3\",\"symbol\":\"circle\"},\"mode\":\"markers\",\"name\":\"43938375\",\"orientation\":\"v\",\"showlegend\":true,\"x\":[\"employer_reminder_1\",\"interview_coaching\",\"proposed_call\",\"proposed_email\",\"proposed_sms\",\"resume_coaching\"],\"xaxis\":\"x\",\"y\":[2,2,2,1,4,2],\"yaxis\":\"y\",\"type\":\"scatter\"},{\"hovertemplate\":\"candidate_id=45a8072f\\u003cbr\\u003eaction_type=%{x}\\u003cbr\\u003eOccurences=%{y}\\u003cextra\\u003e\\u003c\\u002fextra\\u003e\",\"legendgroup\":\"45a8072f\",\"marker\":{\"color\":\"#FF6692\",\"symbol\":\"circle\"},\"mode\":\"markers\",\"name\":\"45a8072f\",\"orientation\":\"v\",\"showlegend\":true,\"x\":[\"employer_reminder_1\",\"proposed_call\",\"proposed_email\",\"proposed_sms\",\"resume_coaching\"],\"xaxis\":\"x\",\"y\":[4,1,4,1,2],\"yaxis\":\"y\",\"type\":\"scatter\"},{\"hovertemplate\":\"candidate_id=45e1b3c8\\u003cbr\\u003eaction_type=%{x}\\u003cbr\\u003eOccurences=%{y}\\u003cextra\\u003e\\u003c\\u002fextra\\u003e\",\"legendgroup\":\"45e1b3c8\",\"marker\":{\"color\":\"#B6E880\",\"symbol\":\"circle\"},\"mode\":\"markers\",\"name\":\"45e1b3c8\",\"orientation\":\"v\",\"showlegend\":true,\"x\":[\"employer_reminder_1\",\"employer_reminder_2\",\"interview_coaching\",\"proposed_email\",\"proposed_sms\",\"resume_coaching\"],\"xaxis\":\"x\",\"y\":[4,1,2,5,3,4],\"yaxis\":\"y\",\"type\":\"scatter\"},{\"hovertemplate\":\"candidate_id=4720c697\\u003cbr\\u003eaction_type=%{x}\\u003cbr\\u003eOccurences=%{y}\\u003cextra\\u003e\\u003c\\u002fextra\\u003e\",\"legendgroup\":\"4720c697\",\"marker\":{\"color\":\"#FF97FF\",\"symbol\":\"circle\"},\"mode\":\"markers\",\"name\":\"4720c697\",\"orientation\":\"v\",\"showlegend\":true,\"x\":[\"employer_reminder_1\",\"interview_coaching\",\"proposed_call\",\"proposed_email\",\"proposed_sms\",\"resume_coaching\"],\"xaxis\":\"x\",\"y\":[5,4,3,5,4,4],\"yaxis\":\"y\",\"type\":\"scatter\"},{\"hovertemplate\":\"candidate_id=4a6218a5\\u003cbr\\u003eaction_type=%{x}\\u003cbr\\u003eOccurences=%{y}\\u003cextra\\u003e\\u003c\\u002fextra\\u003e\",\"legendgroup\":\"4a6218a5\",\"marker\":{\"color\":\"#FECB52\",\"symbol\":\"circle\"},\"mode\":\"markers\",\"name\":\"4a6218a5\",\"orientation\":\"v\",\"showlegend\":true,\"x\":[\"employer_reminder_1\",\"employer_reminder_2\",\"interview_coaching\",\"proposed_call\",\"proposed_email\",\"proposed_sms\",\"resume_coaching\"],\"xaxis\":\"x\",\"y\":[6,3,1,4,4,4,8],\"yaxis\":\"y\",\"type\":\"scatter\"},{\"hovertemplate\":\"candidate_id=4b4320c0\\u003cbr\\u003eaction_type=%{x}\\u003cbr\\u003eOccurences=%{y}\\u003cextra\\u003e\\u003c\\u002fextra\\u003e\",\"legendgroup\":\"4b4320c0\",\"marker\":{\"color\":\"#636efa\",\"symbol\":\"circle\"},\"mode\":\"markers\",\"name\":\"4b4320c0\",\"orientation\":\"v\",\"showlegend\":true,\"x\":[\"employer_reminder_1\",\"interview_coaching\",\"proposed_call\",\"proposed_sms\",\"resume_coaching\"],\"xaxis\":\"x\",\"y\":[4,2,4,4,2],\"yaxis\":\"y\",\"type\":\"scatter\"},{\"hovertemplate\":\"candidate_id=4de3029c\\u003cbr\\u003eaction_type=%{x}\\u003cbr\\u003eOccurences=%{y}\\u003cextra\\u003e\\u003c\\u002fextra\\u003e\",\"legendgroup\":\"4de3029c\",\"marker\":{\"color\":\"#EF553B\",\"symbol\":\"circle\"},\"mode\":\"markers\",\"name\":\"4de3029c\",\"orientation\":\"v\",\"showlegend\":true,\"x\":[\"proposed_call\",\"proposed_email\",\"proposed_sms\",\"resume_coaching\"],\"xaxis\":\"x\",\"y\":[1,2,1,1],\"yaxis\":\"y\",\"type\":\"scatter\"},{\"hovertemplate\":\"candidate_id=4ff28829\\u003cbr\\u003eaction_type=%{x}\\u003cbr\\u003eOccurences=%{y}\\u003cextra\\u003e\\u003c\\u002fextra\\u003e\",\"legendgroup\":\"4ff28829\",\"marker\":{\"color\":\"#00cc96\",\"symbol\":\"circle\"},\"mode\":\"markers\",\"name\":\"4ff28829\",\"orientation\":\"v\",\"showlegend\":true,\"x\":[\"employer_reminder_1\",\"employer_reminder_2\",\"interview_coaching\",\"proposed_call\",\"proposed_email\",\"proposed_sms\",\"resume_coaching\"],\"xaxis\":\"x\",\"y\":[5,2,3,5,3,3,4],\"yaxis\":\"y\",\"type\":\"scatter\"},{\"hovertemplate\":\"candidate_id=513578d5\\u003cbr\\u003eaction_type=%{x}\\u003cbr\\u003eOccurences=%{y}\\u003cextra\\u003e\\u003c\\u002fextra\\u003e\",\"legendgroup\":\"513578d5\",\"marker\":{\"color\":\"#ab63fa\",\"symbol\":\"circle\"},\"mode\":\"markers\",\"name\":\"513578d5\",\"orientation\":\"v\",\"showlegend\":true,\"x\":[\"employer_reminder_1\",\"proposed_call\",\"proposed_email\",\"proposed_sms\",\"resume_coaching\"],\"xaxis\":\"x\",\"y\":[3,1,2,2,2],\"yaxis\":\"y\",\"type\":\"scatter\"},{\"hovertemplate\":\"candidate_id=513c81ec\\u003cbr\\u003eaction_type=%{x}\\u003cbr\\u003eOccurences=%{y}\\u003cextra\\u003e\\u003c\\u002fextra\\u003e\",\"legendgroup\":\"513c81ec\",\"marker\":{\"color\":\"#FFA15A\",\"symbol\":\"circle\"},\"mode\":\"markers\",\"name\":\"513c81ec\",\"orientation\":\"v\",\"showlegend\":true,\"x\":[\"employer_reminder_1\",\"employer_reminder_2\",\"interview_coaching\",\"proposed_call\",\"proposed_email\",\"proposed_sms\",\"resume_coaching\"],\"xaxis\":\"x\",\"y\":[9,1,2,1,4,7,4],\"yaxis\":\"y\",\"type\":\"scatter\"},{\"hovertemplate\":\"candidate_id=5343d403\\u003cbr\\u003eaction_type=%{x}\\u003cbr\\u003eOccurences=%{y}\\u003cextra\\u003e\\u003c\\u002fextra\\u003e\",\"legendgroup\":\"5343d403\",\"marker\":{\"color\":\"#19d3f3\",\"symbol\":\"circle\"},\"mode\":\"markers\",\"name\":\"5343d403\",\"orientation\":\"v\",\"showlegend\":true,\"x\":[\"employer_reminder_1\",\"employer_reminder_2\",\"proposed_call\",\"proposed_email\",\"proposed_sms\",\"resume_coaching\"],\"xaxis\":\"x\",\"y\":[6,4,3,7,1,5],\"yaxis\":\"y\",\"type\":\"scatter\"},{\"hovertemplate\":\"candidate_id=5652a0a6\\u003cbr\\u003eaction_type=%{x}\\u003cbr\\u003eOccurences=%{y}\\u003cextra\\u003e\\u003c\\u002fextra\\u003e\",\"legendgroup\":\"5652a0a6\",\"marker\":{\"color\":\"#FF6692\",\"symbol\":\"circle\"},\"mode\":\"markers\",\"name\":\"5652a0a6\",\"orientation\":\"v\",\"showlegend\":true,\"x\":[\"employer_reminder_1\",\"employer_reminder_2\",\"interview_coaching\",\"proposed_call\",\"proposed_email\",\"proposed_sms\",\"resume_coaching\"],\"xaxis\":\"x\",\"y\":[6,1,2,2,5,3,5],\"yaxis\":\"y\",\"type\":\"scatter\"},{\"hovertemplate\":\"candidate_id=5667910a\\u003cbr\\u003eaction_type=%{x}\\u003cbr\\u003eOccurences=%{y}\\u003cextra\\u003e\\u003c\\u002fextra\\u003e\",\"legendgroup\":\"5667910a\",\"marker\":{\"color\":\"#B6E880\",\"symbol\":\"circle\"},\"mode\":\"markers\",\"name\":\"5667910a\",\"orientation\":\"v\",\"showlegend\":true,\"x\":[\"employer_reminder_1\",\"proposed_call\",\"proposed_email\",\"proposed_sms\",\"resume_coaching\"],\"xaxis\":\"x\",\"y\":[6,1,4,4,7],\"yaxis\":\"y\",\"type\":\"scatter\"},{\"hovertemplate\":\"candidate_id=58175e7c\\u003cbr\\u003eaction_type=%{x}\\u003cbr\\u003eOccurences=%{y}\\u003cextra\\u003e\\u003c\\u002fextra\\u003e\",\"legendgroup\":\"58175e7c\",\"marker\":{\"color\":\"#FF97FF\",\"symbol\":\"circle\"},\"mode\":\"markers\",\"name\":\"58175e7c\",\"orientation\":\"v\",\"showlegend\":true,\"x\":[\"employer_reminder_1\",\"interview_coaching\",\"proposed_call\",\"proposed_email\",\"proposed_sms\",\"resume_coaching\"],\"xaxis\":\"x\",\"y\":[5,1,3,4,1,4],\"yaxis\":\"y\",\"type\":\"scatter\"},{\"hovertemplate\":\"candidate_id=58a0adf4\\u003cbr\\u003eaction_type=%{x}\\u003cbr\\u003eOccurences=%{y}\\u003cextra\\u003e\\u003c\\u002fextra\\u003e\",\"legendgroup\":\"58a0adf4\",\"marker\":{\"color\":\"#FECB52\",\"symbol\":\"circle\"},\"mode\":\"markers\",\"name\":\"58a0adf4\",\"orientation\":\"v\",\"showlegend\":true,\"x\":[\"employer_reminder_1\",\"employer_reminder_2\",\"interview_coaching\",\"proposed_call\",\"proposed_email\",\"proposed_sms\",\"resume_coaching\"],\"xaxis\":\"x\",\"y\":[3,1,2,4,4,2,5],\"yaxis\":\"y\",\"type\":\"scatter\"},{\"hovertemplate\":\"candidate_id=5ce8ff31\\u003cbr\\u003eaction_type=%{x}\\u003cbr\\u003eOccurences=%{y}\\u003cextra\\u003e\\u003c\\u002fextra\\u003e\",\"legendgroup\":\"5ce8ff31\",\"marker\":{\"color\":\"#636efa\",\"symbol\":\"circle\"},\"mode\":\"markers\",\"name\":\"5ce8ff31\",\"orientation\":\"v\",\"showlegend\":true,\"x\":[\"employer_reminder_1\",\"proposed_call\",\"proposed_email\",\"proposed_sms\",\"resume_coaching\"],\"xaxis\":\"x\",\"y\":[3,4,2,1,2],\"yaxis\":\"y\",\"type\":\"scatter\"},{\"hovertemplate\":\"candidate_id=5d66c4d8\\u003cbr\\u003eaction_type=%{x}\\u003cbr\\u003eOccurences=%{y}\\u003cextra\\u003e\\u003c\\u002fextra\\u003e\",\"legendgroup\":\"5d66c4d8\",\"marker\":{\"color\":\"#EF553B\",\"symbol\":\"circle\"},\"mode\":\"markers\",\"name\":\"5d66c4d8\",\"orientation\":\"v\",\"showlegend\":true,\"x\":[\"employer_reminder_1\",\"employer_reminder_2\",\"interview_coaching\",\"proposed_call\",\"proposed_email\",\"resume_coaching\"],\"xaxis\":\"x\",\"y\":[8,1,1,8,1,5],\"yaxis\":\"y\",\"type\":\"scatter\"},{\"hovertemplate\":\"candidate_id=5f82f2e0\\u003cbr\\u003eaction_type=%{x}\\u003cbr\\u003eOccurences=%{y}\\u003cextra\\u003e\\u003c\\u002fextra\\u003e\",\"legendgroup\":\"5f82f2e0\",\"marker\":{\"color\":\"#00cc96\",\"symbol\":\"circle\"},\"mode\":\"markers\",\"name\":\"5f82f2e0\",\"orientation\":\"v\",\"showlegend\":true,\"x\":[\"employer_reminder_1\",\"employer_reminder_2\",\"interview_coaching\",\"proposed_call\",\"proposed_email\",\"proposed_sms\",\"resume_coaching\"],\"xaxis\":\"x\",\"y\":[4,1,1,2,4,1,1],\"yaxis\":\"y\",\"type\":\"scatter\"},{\"hovertemplate\":\"candidate_id=661a3a4b\\u003cbr\\u003eaction_type=%{x}\\u003cbr\\u003eOccurences=%{y}\\u003cextra\\u003e\\u003c\\u002fextra\\u003e\",\"legendgroup\":\"661a3a4b\",\"marker\":{\"color\":\"#ab63fa\",\"symbol\":\"circle\"},\"mode\":\"markers\",\"name\":\"661a3a4b\",\"orientation\":\"v\",\"showlegend\":true,\"x\":[\"employer_reminder_1\",\"employer_reminder_2\",\"interview_coaching\",\"proposed_call\",\"proposed_email\",\"proposed_sms\",\"resume_coaching\"],\"xaxis\":\"x\",\"y\":[7,3,1,5,5,2,7],\"yaxis\":\"y\",\"type\":\"scatter\"},{\"hovertemplate\":\"candidate_id=678b52a5\\u003cbr\\u003eaction_type=%{x}\\u003cbr\\u003eOccurences=%{y}\\u003cextra\\u003e\\u003c\\u002fextra\\u003e\",\"legendgroup\":\"678b52a5\",\"marker\":{\"color\":\"#FFA15A\",\"symbol\":\"circle\"},\"mode\":\"markers\",\"name\":\"678b52a5\",\"orientation\":\"v\",\"showlegend\":true,\"x\":[\"employer_reminder_1\",\"employer_reminder_2\",\"proposed_call\",\"proposed_email\",\"resume_coaching\"],\"xaxis\":\"x\",\"y\":[5,1,3,7,4],\"yaxis\":\"y\",\"type\":\"scatter\"},{\"hovertemplate\":\"candidate_id=683c8cfb\\u003cbr\\u003eaction_type=%{x}\\u003cbr\\u003eOccurences=%{y}\\u003cextra\\u003e\\u003c\\u002fextra\\u003e\",\"legendgroup\":\"683c8cfb\",\"marker\":{\"color\":\"#19d3f3\",\"symbol\":\"circle\"},\"mode\":\"markers\",\"name\":\"683c8cfb\",\"orientation\":\"v\",\"showlegend\":true,\"x\":[\"employer_reminder_1\",\"employer_reminder_2\",\"proposed_call\",\"proposed_email\",\"proposed_sms\",\"resume_coaching\"],\"xaxis\":\"x\",\"y\":[4,1,2,1,2,3],\"yaxis\":\"y\",\"type\":\"scatter\"},{\"hovertemplate\":\"candidate_id=68685894\\u003cbr\\u003eaction_type=%{x}\\u003cbr\\u003eOccurences=%{y}\\u003cextra\\u003e\\u003c\\u002fextra\\u003e\",\"legendgroup\":\"68685894\",\"marker\":{\"color\":\"#FF6692\",\"symbol\":\"circle\"},\"mode\":\"markers\",\"name\":\"68685894\",\"orientation\":\"v\",\"showlegend\":true,\"x\":[\"employer_reminder_1\",\"employer_reminder_2\",\"interview_coaching\",\"proposed_call\",\"proposed_email\",\"proposed_sms\",\"resume_coaching\"],\"xaxis\":\"x\",\"y\":[6,1,3,1,5,5,5],\"yaxis\":\"y\",\"type\":\"scatter\"},{\"hovertemplate\":\"candidate_id=6880f07a\\u003cbr\\u003eaction_type=%{x}\\u003cbr\\u003eOccurences=%{y}\\u003cextra\\u003e\\u003c\\u002fextra\\u003e\",\"legendgroup\":\"6880f07a\",\"marker\":{\"color\":\"#B6E880\",\"symbol\":\"circle\"},\"mode\":\"markers\",\"name\":\"6880f07a\",\"orientation\":\"v\",\"showlegend\":true,\"x\":[\"employer_reminder_1\",\"employer_reminder_2\",\"proposed_call\",\"proposed_email\",\"proposed_sms\",\"resume_coaching\"],\"xaxis\":\"x\",\"y\":[10,3,8,6,1,3],\"yaxis\":\"y\",\"type\":\"scatter\"},{\"hovertemplate\":\"candidate_id=6a9c9582\\u003cbr\\u003eaction_type=%{x}\\u003cbr\\u003eOccurences=%{y}\\u003cextra\\u003e\\u003c\\u002fextra\\u003e\",\"legendgroup\":\"6a9c9582\",\"marker\":{\"color\":\"#FF97FF\",\"symbol\":\"circle\"},\"mode\":\"markers\",\"name\":\"6a9c9582\",\"orientation\":\"v\",\"showlegend\":true,\"x\":[\"employer_reminder_1\",\"employer_reminder_2\",\"interview_coaching\",\"proposed_call\",\"proposed_email\",\"proposed_sms\",\"resume_coaching\"],\"xaxis\":\"x\",\"y\":[4,1,1,4,3,1,4],\"yaxis\":\"y\",\"type\":\"scatter\"},{\"hovertemplate\":\"candidate_id=6c260f71\\u003cbr\\u003eaction_type=%{x}\\u003cbr\\u003eOccurences=%{y}\\u003cextra\\u003e\\u003c\\u002fextra\\u003e\",\"legendgroup\":\"6c260f71\",\"marker\":{\"color\":\"#FECB52\",\"symbol\":\"circle\"},\"mode\":\"markers\",\"name\":\"6c260f71\",\"orientation\":\"v\",\"showlegend\":true,\"x\":[\"employer_reminder_1\",\"employer_reminder_2\",\"proposed_call\",\"proposed_email\",\"proposed_sms\",\"resume_coaching\"],\"xaxis\":\"x\",\"y\":[3,1,2,2,2,2],\"yaxis\":\"y\",\"type\":\"scatter\"},{\"hovertemplate\":\"candidate_id=742f334a\\u003cbr\\u003eaction_type=%{x}\\u003cbr\\u003eOccurences=%{y}\\u003cextra\\u003e\\u003c\\u002fextra\\u003e\",\"legendgroup\":\"742f334a\",\"marker\":{\"color\":\"#636efa\",\"symbol\":\"circle\"},\"mode\":\"markers\",\"name\":\"742f334a\",\"orientation\":\"v\",\"showlegend\":true,\"x\":[\"employer_reminder_1\",\"interview_coaching\",\"proposed_call\",\"proposed_email\",\"proposed_sms\",\"resume_coaching\"],\"xaxis\":\"x\",\"y\":[4,1,4,2,1,2],\"yaxis\":\"y\",\"type\":\"scatter\"},{\"hovertemplate\":\"candidate_id=751a965c\\u003cbr\\u003eaction_type=%{x}\\u003cbr\\u003eOccurences=%{y}\\u003cextra\\u003e\\u003c\\u002fextra\\u003e\",\"legendgroup\":\"751a965c\",\"marker\":{\"color\":\"#EF553B\",\"symbol\":\"circle\"},\"mode\":\"markers\",\"name\":\"751a965c\",\"orientation\":\"v\",\"showlegend\":true,\"x\":[\"employer_reminder_1\",\"interview_coaching\",\"proposed_email\",\"proposed_sms\",\"resume_coaching\"],\"xaxis\":\"x\",\"y\":[1,2,1,3,1],\"yaxis\":\"y\",\"type\":\"scatter\"},{\"hovertemplate\":\"candidate_id=75559dc1\\u003cbr\\u003eaction_type=%{x}\\u003cbr\\u003eOccurences=%{y}\\u003cextra\\u003e\\u003c\\u002fextra\\u003e\",\"legendgroup\":\"75559dc1\",\"marker\":{\"color\":\"#00cc96\",\"symbol\":\"circle\"},\"mode\":\"markers\",\"name\":\"75559dc1\",\"orientation\":\"v\",\"showlegend\":true,\"x\":[\"employer_reminder_1\",\"employer_reminder_2\",\"interview_coaching\",\"proposed_call\",\"proposed_email\",\"proposed_sms\",\"resume_coaching\"],\"xaxis\":\"x\",\"y\":[5,2,1,2,3,5,4],\"yaxis\":\"y\",\"type\":\"scatter\"},{\"hovertemplate\":\"candidate_id=7d53d252\\u003cbr\\u003eaction_type=%{x}\\u003cbr\\u003eOccurences=%{y}\\u003cextra\\u003e\\u003c\\u002fextra\\u003e\",\"legendgroup\":\"7d53d252\",\"marker\":{\"color\":\"#ab63fa\",\"symbol\":\"circle\"},\"mode\":\"markers\",\"name\":\"7d53d252\",\"orientation\":\"v\",\"showlegend\":true,\"x\":[\"employer_reminder_1\",\"employer_reminder_2\",\"interview_coaching\",\"proposed_call\",\"proposed_email\",\"proposed_sms\",\"resume_coaching\"],\"xaxis\":\"x\",\"y\":[6,2,1,3,3,1,2],\"yaxis\":\"y\",\"type\":\"scatter\"},{\"hovertemplate\":\"candidate_id=7e319459\\u003cbr\\u003eaction_type=%{x}\\u003cbr\\u003eOccurences=%{y}\\u003cextra\\u003e\\u003c\\u002fextra\\u003e\",\"legendgroup\":\"7e319459\",\"marker\":{\"color\":\"#FFA15A\",\"symbol\":\"circle\"},\"mode\":\"markers\",\"name\":\"7e319459\",\"orientation\":\"v\",\"showlegend\":true,\"x\":[\"employer_reminder_1\",\"interview_coaching\",\"proposed_call\",\"proposed_email\",\"proposed_sms\",\"resume_coaching\"],\"xaxis\":\"x\",\"y\":[4,1,4,4,3,5],\"yaxis\":\"y\",\"type\":\"scatter\"},{\"hovertemplate\":\"candidate_id=8155955c\\u003cbr\\u003eaction_type=%{x}\\u003cbr\\u003eOccurences=%{y}\\u003cextra\\u003e\\u003c\\u002fextra\\u003e\",\"legendgroup\":\"8155955c\",\"marker\":{\"color\":\"#19d3f3\",\"symbol\":\"circle\"},\"mode\":\"markers\",\"name\":\"8155955c\",\"orientation\":\"v\",\"showlegend\":true,\"x\":[\"employer_reminder_1\",\"interview_coaching\",\"proposed_call\",\"proposed_email\",\"proposed_sms\",\"resume_coaching\"],\"xaxis\":\"x\",\"y\":[8,1,7,1,3,5],\"yaxis\":\"y\",\"type\":\"scatter\"},{\"hovertemplate\":\"candidate_id=81ff1196\\u003cbr\\u003eaction_type=%{x}\\u003cbr\\u003eOccurences=%{y}\\u003cextra\\u003e\\u003c\\u002fextra\\u003e\",\"legendgroup\":\"81ff1196\",\"marker\":{\"color\":\"#FF6692\",\"symbol\":\"circle\"},\"mode\":\"markers\",\"name\":\"81ff1196\",\"orientation\":\"v\",\"showlegend\":true,\"x\":[\"employer_reminder_1\",\"employer_reminder_2\",\"proposed_call\",\"proposed_email\",\"proposed_sms\",\"resume_coaching\"],\"xaxis\":\"x\",\"y\":[1,1,2,2,2,1],\"yaxis\":\"y\",\"type\":\"scatter\"},{\"hovertemplate\":\"candidate_id=84e479cd\\u003cbr\\u003eaction_type=%{x}\\u003cbr\\u003eOccurences=%{y}\\u003cextra\\u003e\\u003c\\u002fextra\\u003e\",\"legendgroup\":\"84e479cd\",\"marker\":{\"color\":\"#B6E880\",\"symbol\":\"circle\"},\"mode\":\"markers\",\"name\":\"84e479cd\",\"orientation\":\"v\",\"showlegend\":true,\"x\":[\"employer_reminder_1\",\"employer_reminder_2\",\"interview_coaching\",\"proposed_call\",\"proposed_email\",\"proposed_sms\",\"resume_coaching\"],\"xaxis\":\"x\",\"y\":[6,1,1,4,4,3,6],\"yaxis\":\"y\",\"type\":\"scatter\"},{\"hovertemplate\":\"candidate_id=889f3076\\u003cbr\\u003eaction_type=%{x}\\u003cbr\\u003eOccurences=%{y}\\u003cextra\\u003e\\u003c\\u002fextra\\u003e\",\"legendgroup\":\"889f3076\",\"marker\":{\"color\":\"#FF97FF\",\"symbol\":\"circle\"},\"mode\":\"markers\",\"name\":\"889f3076\",\"orientation\":\"v\",\"showlegend\":true,\"x\":[\"employer_reminder_1\",\"employer_reminder_2\",\"proposed_call\",\"proposed_email\",\"proposed_sms\",\"resume_coaching\"],\"xaxis\":\"x\",\"y\":[10,5,2,4,7,4],\"yaxis\":\"y\",\"type\":\"scatter\"},{\"hovertemplate\":\"candidate_id=88e2b2da\\u003cbr\\u003eaction_type=%{x}\\u003cbr\\u003eOccurences=%{y}\\u003cextra\\u003e\\u003c\\u002fextra\\u003e\",\"legendgroup\":\"88e2b2da\",\"marker\":{\"color\":\"#FECB52\",\"symbol\":\"circle\"},\"mode\":\"markers\",\"name\":\"88e2b2da\",\"orientation\":\"v\",\"showlegend\":true,\"x\":[\"employer_reminder_1\",\"proposed_call\",\"proposed_email\",\"proposed_sms\",\"resume_coaching\"],\"xaxis\":\"x\",\"y\":[6,8,3,1,2],\"yaxis\":\"y\",\"type\":\"scatter\"},{\"hovertemplate\":\"candidate_id=8a2d0f5f\\u003cbr\\u003eaction_type=%{x}\\u003cbr\\u003eOccurences=%{y}\\u003cextra\\u003e\\u003c\\u002fextra\\u003e\",\"legendgroup\":\"8a2d0f5f\",\"marker\":{\"color\":\"#636efa\",\"symbol\":\"circle\"},\"mode\":\"markers\",\"name\":\"8a2d0f5f\",\"orientation\":\"v\",\"showlegend\":true,\"x\":[\"employer_reminder_1\",\"employer_reminder_2\",\"interview_coaching\",\"proposed_call\",\"proposed_email\",\"proposed_sms\",\"resume_coaching\"],\"xaxis\":\"x\",\"y\":[5,1,1,3,3,3,2],\"yaxis\":\"y\",\"type\":\"scatter\"},{\"hovertemplate\":\"candidate_id=8c1939ef\\u003cbr\\u003eaction_type=%{x}\\u003cbr\\u003eOccurences=%{y}\\u003cextra\\u003e\\u003c\\u002fextra\\u003e\",\"legendgroup\":\"8c1939ef\",\"marker\":{\"color\":\"#EF553B\",\"symbol\":\"circle\"},\"mode\":\"markers\",\"name\":\"8c1939ef\",\"orientation\":\"v\",\"showlegend\":true,\"x\":[\"employer_reminder_1\",\"employer_reminder_2\",\"interview_coaching\",\"proposed_call\",\"proposed_email\",\"proposed_sms\",\"resume_coaching\"],\"xaxis\":\"x\",\"y\":[5,2,1,4,4,3,6],\"yaxis\":\"y\",\"type\":\"scatter\"},{\"hovertemplate\":\"candidate_id=9305b469\\u003cbr\\u003eaction_type=%{x}\\u003cbr\\u003eOccurences=%{y}\\u003cextra\\u003e\\u003c\\u002fextra\\u003e\",\"legendgroup\":\"9305b469\",\"marker\":{\"color\":\"#00cc96\",\"symbol\":\"circle\"},\"mode\":\"markers\",\"name\":\"9305b469\",\"orientation\":\"v\",\"showlegend\":true,\"x\":[\"employer_reminder_1\",\"employer_reminder_2\",\"interview_coaching\",\"proposed_call\",\"proposed_email\",\"proposed_sms\",\"resume_coaching\"],\"xaxis\":\"x\",\"y\":[6,3,1,3,1,4,5],\"yaxis\":\"y\",\"type\":\"scatter\"},{\"hovertemplate\":\"candidate_id=964080c4\\u003cbr\\u003eaction_type=%{x}\\u003cbr\\u003eOccurences=%{y}\\u003cextra\\u003e\\u003c\\u002fextra\\u003e\",\"legendgroup\":\"964080c4\",\"marker\":{\"color\":\"#ab63fa\",\"symbol\":\"circle\"},\"mode\":\"markers\",\"name\":\"964080c4\",\"orientation\":\"v\",\"showlegend\":true,\"x\":[\"employer_reminder_1\",\"employer_reminder_2\",\"proposed_call\",\"proposed_email\",\"proposed_sms\",\"resume_coaching\"],\"xaxis\":\"x\",\"y\":[4,1,4,1,1,2],\"yaxis\":\"y\",\"type\":\"scatter\"},{\"hovertemplate\":\"candidate_id=9723e77e\\u003cbr\\u003eaction_type=%{x}\\u003cbr\\u003eOccurences=%{y}\\u003cextra\\u003e\\u003c\\u002fextra\\u003e\",\"legendgroup\":\"9723e77e\",\"marker\":{\"color\":\"#FFA15A\",\"symbol\":\"circle\"},\"mode\":\"markers\",\"name\":\"9723e77e\",\"orientation\":\"v\",\"showlegend\":true,\"x\":[\"employer_reminder_1\",\"employer_reminder_2\",\"proposed_call\",\"proposed_email\",\"proposed_sms\",\"resume_coaching\"],\"xaxis\":\"x\",\"y\":[6,1,3,2,7,6],\"yaxis\":\"y\",\"type\":\"scatter\"},{\"hovertemplate\":\"candidate_id=9a610ca7\\u003cbr\\u003eaction_type=%{x}\\u003cbr\\u003eOccurences=%{y}\\u003cextra\\u003e\\u003c\\u002fextra\\u003e\",\"legendgroup\":\"9a610ca7\",\"marker\":{\"color\":\"#19d3f3\",\"symbol\":\"circle\"},\"mode\":\"markers\",\"name\":\"9a610ca7\",\"orientation\":\"v\",\"showlegend\":true,\"x\":[\"employer_reminder_1\",\"proposed_call\",\"proposed_email\",\"proposed_sms\",\"resume_coaching\"],\"xaxis\":\"x\",\"y\":[6,7,3,1,5],\"yaxis\":\"y\",\"type\":\"scatter\"},{\"hovertemplate\":\"candidate_id=9b4601fa\\u003cbr\\u003eaction_type=%{x}\\u003cbr\\u003eOccurences=%{y}\\u003cextra\\u003e\\u003c\\u002fextra\\u003e\",\"legendgroup\":\"9b4601fa\",\"marker\":{\"color\":\"#FF6692\",\"symbol\":\"circle\"},\"mode\":\"markers\",\"name\":\"9b4601fa\",\"orientation\":\"v\",\"showlegend\":true,\"x\":[\"employer_reminder_1\",\"interview_coaching\",\"proposed_call\",\"proposed_email\",\"resume_coaching\"],\"xaxis\":\"x\",\"y\":[1,1,2,3,2],\"yaxis\":\"y\",\"type\":\"scatter\"},{\"hovertemplate\":\"candidate_id=9f476412\\u003cbr\\u003eaction_type=%{x}\\u003cbr\\u003eOccurences=%{y}\\u003cextra\\u003e\\u003c\\u002fextra\\u003e\",\"legendgroup\":\"9f476412\",\"marker\":{\"color\":\"#B6E880\",\"symbol\":\"circle\"},\"mode\":\"markers\",\"name\":\"9f476412\",\"orientation\":\"v\",\"showlegend\":true,\"x\":[\"employer_reminder_1\",\"proposed_call\",\"proposed_email\",\"proposed_sms\",\"resume_coaching\"],\"xaxis\":\"x\",\"y\":[3,2,2,5,4],\"yaxis\":\"y\",\"type\":\"scatter\"},{\"hovertemplate\":\"candidate_id=a11e502c\\u003cbr\\u003eaction_type=%{x}\\u003cbr\\u003eOccurences=%{y}\\u003cextra\\u003e\\u003c\\u002fextra\\u003e\",\"legendgroup\":\"a11e502c\",\"marker\":{\"color\":\"#FF97FF\",\"symbol\":\"circle\"},\"mode\":\"markers\",\"name\":\"a11e502c\",\"orientation\":\"v\",\"showlegend\":true,\"x\":[\"employer_reminder_1\",\"proposed_call\",\"proposed_email\",\"proposed_sms\",\"resume_coaching\"],\"xaxis\":\"x\",\"y\":[2,3,2,1,5],\"yaxis\":\"y\",\"type\":\"scatter\"},{\"hovertemplate\":\"candidate_id=a26a24bd\\u003cbr\\u003eaction_type=%{x}\\u003cbr\\u003eOccurences=%{y}\\u003cextra\\u003e\\u003c\\u002fextra\\u003e\",\"legendgroup\":\"a26a24bd\",\"marker\":{\"color\":\"#FECB52\",\"symbol\":\"circle\"},\"mode\":\"markers\",\"name\":\"a26a24bd\",\"orientation\":\"v\",\"showlegend\":true,\"x\":[\"employer_reminder_1\",\"interview_coaching\",\"proposed_call\",\"proposed_email\",\"proposed_sms\",\"resume_coaching\"],\"xaxis\":\"x\",\"y\":[4,2,2,1,2,2],\"yaxis\":\"y\",\"type\":\"scatter\"},{\"hovertemplate\":\"candidate_id=a4c71cfd\\u003cbr\\u003eaction_type=%{x}\\u003cbr\\u003eOccurences=%{y}\\u003cextra\\u003e\\u003c\\u002fextra\\u003e\",\"legendgroup\":\"a4c71cfd\",\"marker\":{\"color\":\"#636efa\",\"symbol\":\"circle\"},\"mode\":\"markers\",\"name\":\"a4c71cfd\",\"orientation\":\"v\",\"showlegend\":true,\"x\":[\"employer_reminder_1\",\"employer_reminder_2\",\"proposed_call\",\"proposed_email\",\"proposed_sms\",\"resume_coaching\"],\"xaxis\":\"x\",\"y\":[3,1,3,1,1,1],\"yaxis\":\"y\",\"type\":\"scatter\"},{\"hovertemplate\":\"candidate_id=a8047e7e\\u003cbr\\u003eaction_type=%{x}\\u003cbr\\u003eOccurences=%{y}\\u003cextra\\u003e\\u003c\\u002fextra\\u003e\",\"legendgroup\":\"a8047e7e\",\"marker\":{\"color\":\"#EF553B\",\"symbol\":\"circle\"},\"mode\":\"markers\",\"name\":\"a8047e7e\",\"orientation\":\"v\",\"showlegend\":true,\"x\":[\"employer_reminder_1\",\"interview_coaching\",\"proposed_call\",\"proposed_email\",\"proposed_sms\",\"resume_coaching\"],\"xaxis\":\"x\",\"y\":[4,3,6,2,4,5],\"yaxis\":\"y\",\"type\":\"scatter\"},{\"hovertemplate\":\"candidate_id=a85f1c6f\\u003cbr\\u003eaction_type=%{x}\\u003cbr\\u003eOccurences=%{y}\\u003cextra\\u003e\\u003c\\u002fextra\\u003e\",\"legendgroup\":\"a85f1c6f\",\"marker\":{\"color\":\"#00cc96\",\"symbol\":\"circle\"},\"mode\":\"markers\",\"name\":\"a85f1c6f\",\"orientation\":\"v\",\"showlegend\":true,\"x\":[\"employer_reminder_1\",\"employer_reminder_2\",\"interview_coaching\",\"proposed_call\",\"proposed_email\",\"proposed_sms\",\"resume_coaching\"],\"xaxis\":\"x\",\"y\":[6,1,2,2,1,4,1],\"yaxis\":\"y\",\"type\":\"scatter\"},{\"hovertemplate\":\"candidate_id=ae29cf41\\u003cbr\\u003eaction_type=%{x}\\u003cbr\\u003eOccurences=%{y}\\u003cextra\\u003e\\u003c\\u002fextra\\u003e\",\"legendgroup\":\"ae29cf41\",\"marker\":{\"color\":\"#ab63fa\",\"symbol\":\"circle\"},\"mode\":\"markers\",\"name\":\"ae29cf41\",\"orientation\":\"v\",\"showlegend\":true,\"x\":[\"employer_reminder_1\",\"interview_coaching\",\"proposed_call\",\"proposed_email\",\"proposed_sms\",\"resume_coaching\"],\"xaxis\":\"x\",\"y\":[7,2,4,8,2,4],\"yaxis\":\"y\",\"type\":\"scatter\"},{\"hovertemplate\":\"candidate_id=b328a551\\u003cbr\\u003eaction_type=%{x}\\u003cbr\\u003eOccurences=%{y}\\u003cextra\\u003e\\u003c\\u002fextra\\u003e\",\"legendgroup\":\"b328a551\",\"marker\":{\"color\":\"#FFA15A\",\"symbol\":\"circle\"},\"mode\":\"markers\",\"name\":\"b328a551\",\"orientation\":\"v\",\"showlegend\":true,\"x\":[\"employer_reminder_1\",\"employer_reminder_2\",\"proposed_call\",\"proposed_email\",\"proposed_sms\",\"resume_coaching\"],\"xaxis\":\"x\",\"y\":[2,2,1,5,2,3],\"yaxis\":\"y\",\"type\":\"scatter\"},{\"hovertemplate\":\"candidate_id=b37737cb\\u003cbr\\u003eaction_type=%{x}\\u003cbr\\u003eOccurences=%{y}\\u003cextra\\u003e\\u003c\\u002fextra\\u003e\",\"legendgroup\":\"b37737cb\",\"marker\":{\"color\":\"#19d3f3\",\"symbol\":\"circle\"},\"mode\":\"markers\",\"name\":\"b37737cb\",\"orientation\":\"v\",\"showlegend\":true,\"x\":[\"employer_reminder_1\",\"employer_reminder_2\",\"interview_coaching\",\"proposed_email\",\"proposed_sms\",\"resume_coaching\"],\"xaxis\":\"x\",\"y\":[4,2,1,4,6,5],\"yaxis\":\"y\",\"type\":\"scatter\"},{\"hovertemplate\":\"candidate_id=b4d98d31\\u003cbr\\u003eaction_type=%{x}\\u003cbr\\u003eOccurences=%{y}\\u003cextra\\u003e\\u003c\\u002fextra\\u003e\",\"legendgroup\":\"b4d98d31\",\"marker\":{\"color\":\"#FF6692\",\"symbol\":\"circle\"},\"mode\":\"markers\",\"name\":\"b4d98d31\",\"orientation\":\"v\",\"showlegend\":true,\"x\":[\"employer_reminder_1\",\"employer_reminder_2\",\"interview_coaching\",\"proposed_call\",\"proposed_email\",\"proposed_sms\",\"resume_coaching\"],\"xaxis\":\"x\",\"y\":[4,1,1,6,5,3,5],\"yaxis\":\"y\",\"type\":\"scatter\"},{\"hovertemplate\":\"candidate_id=b6e717ec\\u003cbr\\u003eaction_type=%{x}\\u003cbr\\u003eOccurences=%{y}\\u003cextra\\u003e\\u003c\\u002fextra\\u003e\",\"legendgroup\":\"b6e717ec\",\"marker\":{\"color\":\"#B6E880\",\"symbol\":\"circle\"},\"mode\":\"markers\",\"name\":\"b6e717ec\",\"orientation\":\"v\",\"showlegend\":true,\"x\":[\"employer_reminder_1\",\"employer_reminder_2\",\"interview_coaching\",\"proposed_call\",\"proposed_email\",\"proposed_sms\",\"resume_coaching\"],\"xaxis\":\"x\",\"y\":[7,3,2,3,8,5,6],\"yaxis\":\"y\",\"type\":\"scatter\"},{\"hovertemplate\":\"candidate_id=b8f34014\\u003cbr\\u003eaction_type=%{x}\\u003cbr\\u003eOccurences=%{y}\\u003cextra\\u003e\\u003c\\u002fextra\\u003e\",\"legendgroup\":\"b8f34014\",\"marker\":{\"color\":\"#FF97FF\",\"symbol\":\"circle\"},\"mode\":\"markers\",\"name\":\"b8f34014\",\"orientation\":\"v\",\"showlegend\":true,\"x\":[\"employer_reminder_1\",\"employer_reminder_2\",\"interview_coaching\",\"proposed_call\",\"proposed_sms\",\"resume_coaching\"],\"xaxis\":\"x\",\"y\":[7,3,1,4,4,4],\"yaxis\":\"y\",\"type\":\"scatter\"},{\"hovertemplate\":\"candidate_id=bfabb816\\u003cbr\\u003eaction_type=%{x}\\u003cbr\\u003eOccurences=%{y}\\u003cextra\\u003e\\u003c\\u002fextra\\u003e\",\"legendgroup\":\"bfabb816\",\"marker\":{\"color\":\"#FECB52\",\"symbol\":\"circle\"},\"mode\":\"markers\",\"name\":\"bfabb816\",\"orientation\":\"v\",\"showlegend\":true,\"x\":[\"employer_reminder_1\",\"employer_reminder_2\",\"interview_coaching\",\"proposed_call\",\"proposed_email\",\"proposed_sms\",\"resume_coaching\"],\"xaxis\":\"x\",\"y\":[4,2,1,4,1,5,5],\"yaxis\":\"y\",\"type\":\"scatter\"},{\"hovertemplate\":\"candidate_id=c19333cb\\u003cbr\\u003eaction_type=%{x}\\u003cbr\\u003eOccurences=%{y}\\u003cextra\\u003e\\u003c\\u002fextra\\u003e\",\"legendgroup\":\"c19333cb\",\"marker\":{\"color\":\"#636efa\",\"symbol\":\"circle\"},\"mode\":\"markers\",\"name\":\"c19333cb\",\"orientation\":\"v\",\"showlegend\":true,\"x\":[\"employer_reminder_1\",\"interview_coaching\",\"proposed_call\",\"proposed_email\",\"proposed_sms\",\"resume_coaching\"],\"xaxis\":\"x\",\"y\":[3,1,7,2,1,4],\"yaxis\":\"y\",\"type\":\"scatter\"},{\"hovertemplate\":\"candidate_id=ca375140\\u003cbr\\u003eaction_type=%{x}\\u003cbr\\u003eOccurences=%{y}\\u003cextra\\u003e\\u003c\\u002fextra\\u003e\",\"legendgroup\":\"ca375140\",\"marker\":{\"color\":\"#EF553B\",\"symbol\":\"circle\"},\"mode\":\"markers\",\"name\":\"ca375140\",\"orientation\":\"v\",\"showlegend\":true,\"x\":[\"employer_reminder_1\",\"proposed_call\",\"proposed_email\",\"proposed_sms\",\"resume_coaching\"],\"xaxis\":\"x\",\"y\":[3,3,2,1,2],\"yaxis\":\"y\",\"type\":\"scatter\"},{\"hovertemplate\":\"candidate_id=ca594396\\u003cbr\\u003eaction_type=%{x}\\u003cbr\\u003eOccurences=%{y}\\u003cextra\\u003e\\u003c\\u002fextra\\u003e\",\"legendgroup\":\"ca594396\",\"marker\":{\"color\":\"#00cc96\",\"symbol\":\"circle\"},\"mode\":\"markers\",\"name\":\"ca594396\",\"orientation\":\"v\",\"showlegend\":true,\"x\":[\"employer_reminder_1\",\"interview_coaching\",\"proposed_call\",\"proposed_email\",\"proposed_sms\",\"resume_coaching\"],\"xaxis\":\"x\",\"y\":[3,2,1,4,5,1],\"yaxis\":\"y\",\"type\":\"scatter\"},{\"hovertemplate\":\"candidate_id=cb4958cb\\u003cbr\\u003eaction_type=%{x}\\u003cbr\\u003eOccurences=%{y}\\u003cextra\\u003e\\u003c\\u002fextra\\u003e\",\"legendgroup\":\"cb4958cb\",\"marker\":{\"color\":\"#ab63fa\",\"symbol\":\"circle\"},\"mode\":\"markers\",\"name\":\"cb4958cb\",\"orientation\":\"v\",\"showlegend\":true,\"x\":[\"employer_reminder_1\",\"proposed_call\",\"proposed_email\",\"proposed_sms\",\"resume_coaching\"],\"xaxis\":\"x\",\"y\":[6,2,2,5,3],\"yaxis\":\"y\",\"type\":\"scatter\"},{\"hovertemplate\":\"candidate_id=cee22143\\u003cbr\\u003eaction_type=%{x}\\u003cbr\\u003eOccurences=%{y}\\u003cextra\\u003e\\u003c\\u002fextra\\u003e\",\"legendgroup\":\"cee22143\",\"marker\":{\"color\":\"#FFA15A\",\"symbol\":\"circle\"},\"mode\":\"markers\",\"name\":\"cee22143\",\"orientation\":\"v\",\"showlegend\":true,\"x\":[\"employer_reminder_1\",\"employer_reminder_2\",\"interview_coaching\",\"proposed_call\",\"proposed_email\",\"proposed_sms\",\"resume_coaching\"],\"xaxis\":\"x\",\"y\":[5,1,1,2,4,5,1],\"yaxis\":\"y\",\"type\":\"scatter\"},{\"hovertemplate\":\"candidate_id=cee81edd\\u003cbr\\u003eaction_type=%{x}\\u003cbr\\u003eOccurences=%{y}\\u003cextra\\u003e\\u003c\\u002fextra\\u003e\",\"legendgroup\":\"cee81edd\",\"marker\":{\"color\":\"#19d3f3\",\"symbol\":\"circle\"},\"mode\":\"markers\",\"name\":\"cee81edd\",\"orientation\":\"v\",\"showlegend\":true,\"x\":[\"employer_reminder_1\",\"proposed_call\",\"proposed_email\",\"proposed_sms\",\"resume_coaching\"],\"xaxis\":\"x\",\"y\":[2,2,1,3,2],\"yaxis\":\"y\",\"type\":\"scatter\"},{\"hovertemplate\":\"candidate_id=d457c672\\u003cbr\\u003eaction_type=%{x}\\u003cbr\\u003eOccurences=%{y}\\u003cextra\\u003e\\u003c\\u002fextra\\u003e\",\"legendgroup\":\"d457c672\",\"marker\":{\"color\":\"#FF6692\",\"symbol\":\"circle\"},\"mode\":\"markers\",\"name\":\"d457c672\",\"orientation\":\"v\",\"showlegend\":true,\"x\":[\"employer_reminder_1\",\"interview_coaching\",\"proposed_call\",\"proposed_email\",\"proposed_sms\",\"resume_coaching\"],\"xaxis\":\"x\",\"y\":[3,3,4,5,7,5],\"yaxis\":\"y\",\"type\":\"scatter\"},{\"hovertemplate\":\"candidate_id=d755678b\\u003cbr\\u003eaction_type=%{x}\\u003cbr\\u003eOccurences=%{y}\\u003cextra\\u003e\\u003c\\u002fextra\\u003e\",\"legendgroup\":\"d755678b\",\"marker\":{\"color\":\"#B6E880\",\"symbol\":\"circle\"},\"mode\":\"markers\",\"name\":\"d755678b\",\"orientation\":\"v\",\"showlegend\":true,\"x\":[\"employer_reminder_1\",\"employer_reminder_2\",\"proposed_call\",\"proposed_email\",\"proposed_sms\",\"resume_coaching\"],\"xaxis\":\"x\",\"y\":[5,1,4,2,3,4],\"yaxis\":\"y\",\"type\":\"scatter\"},{\"hovertemplate\":\"candidate_id=d83add35\\u003cbr\\u003eaction_type=%{x}\\u003cbr\\u003eOccurences=%{y}\\u003cextra\\u003e\\u003c\\u002fextra\\u003e\",\"legendgroup\":\"d83add35\",\"marker\":{\"color\":\"#FF97FF\",\"symbol\":\"circle\"},\"mode\":\"markers\",\"name\":\"d83add35\",\"orientation\":\"v\",\"showlegend\":true,\"x\":[\"employer_reminder_1\",\"employer_reminder_2\",\"proposed_call\",\"proposed_email\",\"resume_coaching\"],\"xaxis\":\"x\",\"y\":[2,1,3,3,3],\"yaxis\":\"y\",\"type\":\"scatter\"},{\"hovertemplate\":\"candidate_id=da2035e3\\u003cbr\\u003eaction_type=%{x}\\u003cbr\\u003eOccurences=%{y}\\u003cextra\\u003e\\u003c\\u002fextra\\u003e\",\"legendgroup\":\"da2035e3\",\"marker\":{\"color\":\"#FECB52\",\"symbol\":\"circle\"},\"mode\":\"markers\",\"name\":\"da2035e3\",\"orientation\":\"v\",\"showlegend\":true,\"x\":[\"employer_reminder_1\",\"employer_reminder_2\",\"interview_coaching\",\"proposed_call\",\"proposed_email\",\"proposed_sms\",\"resume_coaching\"],\"xaxis\":\"x\",\"y\":[6,1,1,4,2,2,3],\"yaxis\":\"y\",\"type\":\"scatter\"},{\"hovertemplate\":\"candidate_id=e16fa1bb\\u003cbr\\u003eaction_type=%{x}\\u003cbr\\u003eOccurences=%{y}\\u003cextra\\u003e\\u003c\\u002fextra\\u003e\",\"legendgroup\":\"e16fa1bb\",\"marker\":{\"color\":\"#636efa\",\"symbol\":\"circle\"},\"mode\":\"markers\",\"name\":\"e16fa1bb\",\"orientation\":\"v\",\"showlegend\":true,\"x\":[\"employer_reminder_1\",\"employer_reminder_2\",\"proposed_call\",\"proposed_email\",\"proposed_sms\",\"resume_coaching\"],\"xaxis\":\"x\",\"y\":[2,1,3,4,1,3],\"yaxis\":\"y\",\"type\":\"scatter\"},{\"hovertemplate\":\"candidate_id=e2b1334b\\u003cbr\\u003eaction_type=%{x}\\u003cbr\\u003eOccurences=%{y}\\u003cextra\\u003e\\u003c\\u002fextra\\u003e\",\"legendgroup\":\"e2b1334b\",\"marker\":{\"color\":\"#EF553B\",\"symbol\":\"circle\"},\"mode\":\"markers\",\"name\":\"e2b1334b\",\"orientation\":\"v\",\"showlegend\":true,\"x\":[\"employer_reminder_1\",\"employer_reminder_2\",\"interview_coaching\",\"proposed_call\",\"proposed_email\",\"proposed_sms\",\"resume_coaching\"],\"xaxis\":\"x\",\"y\":[5,1,1,3,2,5,5],\"yaxis\":\"y\",\"type\":\"scatter\"},{\"hovertemplate\":\"candidate_id=e7450ce8\\u003cbr\\u003eaction_type=%{x}\\u003cbr\\u003eOccurences=%{y}\\u003cextra\\u003e\\u003c\\u002fextra\\u003e\",\"legendgroup\":\"e7450ce8\",\"marker\":{\"color\":\"#00cc96\",\"symbol\":\"circle\"},\"mode\":\"markers\",\"name\":\"e7450ce8\",\"orientation\":\"v\",\"showlegend\":true,\"x\":[\"employer_reminder_1\",\"employer_reminder_2\",\"interview_coaching\",\"proposed_call\",\"proposed_email\",\"proposed_sms\",\"resume_coaching\"],\"xaxis\":\"x\",\"y\":[7,2,1,3,1,3,6],\"yaxis\":\"y\",\"type\":\"scatter\"},{\"hovertemplate\":\"candidate_id=e75f738a\\u003cbr\\u003eaction_type=%{x}\\u003cbr\\u003eOccurences=%{y}\\u003cextra\\u003e\\u003c\\u002fextra\\u003e\",\"legendgroup\":\"e75f738a\",\"marker\":{\"color\":\"#ab63fa\",\"symbol\":\"circle\"},\"mode\":\"markers\",\"name\":\"e75f738a\",\"orientation\":\"v\",\"showlegend\":true,\"x\":[\"employer_reminder_1\",\"employer_reminder_2\",\"interview_coaching\",\"proposed_call\",\"proposed_email\",\"resume_coaching\"],\"xaxis\":\"x\",\"y\":[5,3,2,4,5,2],\"yaxis\":\"y\",\"type\":\"scatter\"},{\"hovertemplate\":\"candidate_id=e8b80d92\\u003cbr\\u003eaction_type=%{x}\\u003cbr\\u003eOccurences=%{y}\\u003cextra\\u003e\\u003c\\u002fextra\\u003e\",\"legendgroup\":\"e8b80d92\",\"marker\":{\"color\":\"#FFA15A\",\"symbol\":\"circle\"},\"mode\":\"markers\",\"name\":\"e8b80d92\",\"orientation\":\"v\",\"showlegend\":true,\"x\":[\"employer_reminder_1\",\"employer_reminder_2\",\"proposed_email\",\"proposed_sms\",\"resume_coaching\"],\"xaxis\":\"x\",\"y\":[3,1,3,3,3],\"yaxis\":\"y\",\"type\":\"scatter\"},{\"hovertemplate\":\"candidate_id=ed918fd1\\u003cbr\\u003eaction_type=%{x}\\u003cbr\\u003eOccurences=%{y}\\u003cextra\\u003e\\u003c\\u002fextra\\u003e\",\"legendgroup\":\"ed918fd1\",\"marker\":{\"color\":\"#19d3f3\",\"symbol\":\"circle\"},\"mode\":\"markers\",\"name\":\"ed918fd1\",\"orientation\":\"v\",\"showlegend\":true,\"x\":[\"employer_reminder_1\",\"employer_reminder_2\",\"proposed_call\",\"proposed_email\",\"proposed_sms\",\"resume_coaching\"],\"xaxis\":\"x\",\"y\":[8,1,8,2,4,3],\"yaxis\":\"y\",\"type\":\"scatter\"},{\"hovertemplate\":\"candidate_id=f1e784fe\\u003cbr\\u003eaction_type=%{x}\\u003cbr\\u003eOccurences=%{y}\\u003cextra\\u003e\\u003c\\u002fextra\\u003e\",\"legendgroup\":\"f1e784fe\",\"marker\":{\"color\":\"#FF6692\",\"symbol\":\"circle\"},\"mode\":\"markers\",\"name\":\"f1e784fe\",\"orientation\":\"v\",\"showlegend\":true,\"x\":[\"employer_reminder_1\",\"employer_reminder_2\",\"interview_coaching\",\"proposed_call\",\"proposed_email\",\"proposed_sms\",\"resume_coaching\"],\"xaxis\":\"x\",\"y\":[6,2,1,6,2,2,4],\"yaxis\":\"y\",\"type\":\"scatter\"},{\"hovertemplate\":\"candidate_id=f28b67cf\\u003cbr\\u003eaction_type=%{x}\\u003cbr\\u003eOccurences=%{y}\\u003cextra\\u003e\\u003c\\u002fextra\\u003e\",\"legendgroup\":\"f28b67cf\",\"marker\":{\"color\":\"#B6E880\",\"symbol\":\"circle\"},\"mode\":\"markers\",\"name\":\"f28b67cf\",\"orientation\":\"v\",\"showlegend\":true,\"x\":[\"employer_reminder_1\",\"proposed_call\",\"proposed_email\",\"proposed_sms\",\"resume_coaching\"],\"xaxis\":\"x\",\"y\":[6,3,3,7,4],\"yaxis\":\"y\",\"type\":\"scatter\"},{\"hovertemplate\":\"candidate_id=f7e3f1da\\u003cbr\\u003eaction_type=%{x}\\u003cbr\\u003eOccurences=%{y}\\u003cextra\\u003e\\u003c\\u002fextra\\u003e\",\"legendgroup\":\"f7e3f1da\",\"marker\":{\"color\":\"#FF97FF\",\"symbol\":\"circle\"},\"mode\":\"markers\",\"name\":\"f7e3f1da\",\"orientation\":\"v\",\"showlegend\":true,\"x\":[\"employer_reminder_1\",\"interview_coaching\",\"proposed_call\",\"proposed_email\",\"proposed_sms\",\"resume_coaching\"],\"xaxis\":\"x\",\"y\":[3,1,3,1,3,3],\"yaxis\":\"y\",\"type\":\"scatter\"},{\"hovertemplate\":\"candidate_id=ffcfb194\\u003cbr\\u003eaction_type=%{x}\\u003cbr\\u003eOccurences=%{y}\\u003cextra\\u003e\\u003c\\u002fextra\\u003e\",\"legendgroup\":\"ffcfb194\",\"marker\":{\"color\":\"#FECB52\",\"symbol\":\"circle\"},\"mode\":\"markers\",\"name\":\"ffcfb194\",\"orientation\":\"v\",\"showlegend\":true,\"x\":[\"employer_reminder_1\",\"interview_coaching\",\"proposed_call\",\"proposed_email\",\"proposed_sms\",\"resume_coaching\"],\"xaxis\":\"x\",\"y\":[1,1,1,3,2,3],\"yaxis\":\"y\",\"type\":\"scatter\"}],                        {\"template\":{\"data\":{\"histogram2dcontour\":[{\"type\":\"histogram2dcontour\",\"colorbar\":{\"outlinewidth\":0,\"ticks\":\"\"},\"colorscale\":[[0.0,\"#0d0887\"],[0.1111111111111111,\"#46039f\"],[0.2222222222222222,\"#7201a8\"],[0.3333333333333333,\"#9c179e\"],[0.4444444444444444,\"#bd3786\"],[0.5555555555555556,\"#d8576b\"],[0.6666666666666666,\"#ed7953\"],[0.7777777777777778,\"#fb9f3a\"],[0.8888888888888888,\"#fdca26\"],[1.0,\"#f0f921\"]]}],\"choropleth\":[{\"type\":\"choropleth\",\"colorbar\":{\"outlinewidth\":0,\"ticks\":\"\"}}],\"histogram2d\":[{\"type\":\"histogram2d\",\"colorbar\":{\"outlinewidth\":0,\"ticks\":\"\"},\"colorscale\":[[0.0,\"#0d0887\"],[0.1111111111111111,\"#46039f\"],[0.2222222222222222,\"#7201a8\"],[0.3333333333333333,\"#9c179e\"],[0.4444444444444444,\"#bd3786\"],[0.5555555555555556,\"#d8576b\"],[0.6666666666666666,\"#ed7953\"],[0.7777777777777778,\"#fb9f3a\"],[0.8888888888888888,\"#fdca26\"],[1.0,\"#f0f921\"]]}],\"heatmap\":[{\"type\":\"heatmap\",\"colorbar\":{\"outlinewidth\":0,\"ticks\":\"\"},\"colorscale\":[[0.0,\"#0d0887\"],[0.1111111111111111,\"#46039f\"],[0.2222222222222222,\"#7201a8\"],[0.3333333333333333,\"#9c179e\"],[0.4444444444444444,\"#bd3786\"],[0.5555555555555556,\"#d8576b\"],[0.6666666666666666,\"#ed7953\"],[0.7777777777777778,\"#fb9f3a\"],[0.8888888888888888,\"#fdca26\"],[1.0,\"#f0f921\"]]}],\"heatmapgl\":[{\"type\":\"heatmapgl\",\"colorbar\":{\"outlinewidth\":0,\"ticks\":\"\"},\"colorscale\":[[0.0,\"#0d0887\"],[0.1111111111111111,\"#46039f\"],[0.2222222222222222,\"#7201a8\"],[0.3333333333333333,\"#9c179e\"],[0.4444444444444444,\"#bd3786\"],[0.5555555555555556,\"#d8576b\"],[0.6666666666666666,\"#ed7953\"],[0.7777777777777778,\"#fb9f3a\"],[0.8888888888888888,\"#fdca26\"],[1.0,\"#f0f921\"]]}],\"contourcarpet\":[{\"type\":\"contourcarpet\",\"colorbar\":{\"outlinewidth\":0,\"ticks\":\"\"}}],\"contour\":[{\"type\":\"contour\",\"colorbar\":{\"outlinewidth\":0,\"ticks\":\"\"},\"colorscale\":[[0.0,\"#0d0887\"],[0.1111111111111111,\"#46039f\"],[0.2222222222222222,\"#7201a8\"],[0.3333333333333333,\"#9c179e\"],[0.4444444444444444,\"#bd3786\"],[0.5555555555555556,\"#d8576b\"],[0.6666666666666666,\"#ed7953\"],[0.7777777777777778,\"#fb9f3a\"],[0.8888888888888888,\"#fdca26\"],[1.0,\"#f0f921\"]]}],\"surface\":[{\"type\":\"surface\",\"colorbar\":{\"outlinewidth\":0,\"ticks\":\"\"},\"colorscale\":[[0.0,\"#0d0887\"],[0.1111111111111111,\"#46039f\"],[0.2222222222222222,\"#7201a8\"],[0.3333333333333333,\"#9c179e\"],[0.4444444444444444,\"#bd3786\"],[0.5555555555555556,\"#d8576b\"],[0.6666666666666666,\"#ed7953\"],[0.7777777777777778,\"#fb9f3a\"],[0.8888888888888888,\"#fdca26\"],[1.0,\"#f0f921\"]]}],\"mesh3d\":[{\"type\":\"mesh3d\",\"colorbar\":{\"outlinewidth\":0,\"ticks\":\"\"}}],\"scatter\":[{\"fillpattern\":{\"fillmode\":\"overlay\",\"size\":10,\"solidity\":0.2},\"type\":\"scatter\"}],\"parcoords\":[{\"type\":\"parcoords\",\"line\":{\"colorbar\":{\"outlinewidth\":0,\"ticks\":\"\"}}}],\"scatterpolargl\":[{\"type\":\"scatterpolargl\",\"marker\":{\"colorbar\":{\"outlinewidth\":0,\"ticks\":\"\"}}}],\"bar\":[{\"error_x\":{\"color\":\"#2a3f5f\"},\"error_y\":{\"color\":\"#2a3f5f\"},\"marker\":{\"line\":{\"color\":\"#E5ECF6\",\"width\":0.5},\"pattern\":{\"fillmode\":\"overlay\",\"size\":10,\"solidity\":0.2}},\"type\":\"bar\"}],\"scattergeo\":[{\"type\":\"scattergeo\",\"marker\":{\"colorbar\":{\"outlinewidth\":0,\"ticks\":\"\"}}}],\"scatterpolar\":[{\"type\":\"scatterpolar\",\"marker\":{\"colorbar\":{\"outlinewidth\":0,\"ticks\":\"\"}}}],\"histogram\":[{\"marker\":{\"pattern\":{\"fillmode\":\"overlay\",\"size\":10,\"solidity\":0.2}},\"type\":\"histogram\"}],\"scattergl\":[{\"type\":\"scattergl\",\"marker\":{\"colorbar\":{\"outlinewidth\":0,\"ticks\":\"\"}}}],\"scatter3d\":[{\"type\":\"scatter3d\",\"line\":{\"colorbar\":{\"outlinewidth\":0,\"ticks\":\"\"}},\"marker\":{\"colorbar\":{\"outlinewidth\":0,\"ticks\":\"\"}}}],\"scattermapbox\":[{\"type\":\"scattermapbox\",\"marker\":{\"colorbar\":{\"outlinewidth\":0,\"ticks\":\"\"}}}],\"scatterternary\":[{\"type\":\"scatterternary\",\"marker\":{\"colorbar\":{\"outlinewidth\":0,\"ticks\":\"\"}}}],\"scattercarpet\":[{\"type\":\"scattercarpet\",\"marker\":{\"colorbar\":{\"outlinewidth\":0,\"ticks\":\"\"}}}],\"carpet\":[{\"aaxis\":{\"endlinecolor\":\"#2a3f5f\",\"gridcolor\":\"white\",\"linecolor\":\"white\",\"minorgridcolor\":\"white\",\"startlinecolor\":\"#2a3f5f\"},\"baxis\":{\"endlinecolor\":\"#2a3f5f\",\"gridcolor\":\"white\",\"linecolor\":\"white\",\"minorgridcolor\":\"white\",\"startlinecolor\":\"#2a3f5f\"},\"type\":\"carpet\"}],\"table\":[{\"cells\":{\"fill\":{\"color\":\"#EBF0F8\"},\"line\":{\"color\":\"white\"}},\"header\":{\"fill\":{\"color\":\"#C8D4E3\"},\"line\":{\"color\":\"white\"}},\"type\":\"table\"}],\"barpolar\":[{\"marker\":{\"line\":{\"color\":\"#E5ECF6\",\"width\":0.5},\"pattern\":{\"fillmode\":\"overlay\",\"size\":10,\"solidity\":0.2}},\"type\":\"barpolar\"}],\"pie\":[{\"automargin\":true,\"type\":\"pie\"}]},\"layout\":{\"autotypenumbers\":\"strict\",\"colorway\":[\"#636efa\",\"#EF553B\",\"#00cc96\",\"#ab63fa\",\"#FFA15A\",\"#19d3f3\",\"#FF6692\",\"#B6E880\",\"#FF97FF\",\"#FECB52\"],\"font\":{\"color\":\"#2a3f5f\"},\"hovermode\":\"closest\",\"hoverlabel\":{\"align\":\"left\"},\"paper_bgcolor\":\"white\",\"plot_bgcolor\":\"#E5ECF6\",\"polar\":{\"bgcolor\":\"#E5ECF6\",\"angularaxis\":{\"gridcolor\":\"white\",\"linecolor\":\"white\",\"ticks\":\"\"},\"radialaxis\":{\"gridcolor\":\"white\",\"linecolor\":\"white\",\"ticks\":\"\"}},\"ternary\":{\"bgcolor\":\"#E5ECF6\",\"aaxis\":{\"gridcolor\":\"white\",\"linecolor\":\"white\",\"ticks\":\"\"},\"baxis\":{\"gridcolor\":\"white\",\"linecolor\":\"white\",\"ticks\":\"\"},\"caxis\":{\"gridcolor\":\"white\",\"linecolor\":\"white\",\"ticks\":\"\"}},\"coloraxis\":{\"colorbar\":{\"outlinewidth\":0,\"ticks\":\"\"}},\"colorscale\":{\"sequential\":[[0.0,\"#0d0887\"],[0.1111111111111111,\"#46039f\"],[0.2222222222222222,\"#7201a8\"],[0.3333333333333333,\"#9c179e\"],[0.4444444444444444,\"#bd3786\"],[0.5555555555555556,\"#d8576b\"],[0.6666666666666666,\"#ed7953\"],[0.7777777777777778,\"#fb9f3a\"],[0.8888888888888888,\"#fdca26\"],[1.0,\"#f0f921\"]],\"sequentialminus\":[[0.0,\"#0d0887\"],[0.1111111111111111,\"#46039f\"],[0.2222222222222222,\"#7201a8\"],[0.3333333333333333,\"#9c179e\"],[0.4444444444444444,\"#bd3786\"],[0.5555555555555556,\"#d8576b\"],[0.6666666666666666,\"#ed7953\"],[0.7777777777777778,\"#fb9f3a\"],[0.8888888888888888,\"#fdca26\"],[1.0,\"#f0f921\"]],\"diverging\":[[0,\"#8e0152\"],[0.1,\"#c51b7d\"],[0.2,\"#de77ae\"],[0.3,\"#f1b6da\"],[0.4,\"#fde0ef\"],[0.5,\"#f7f7f7\"],[0.6,\"#e6f5d0\"],[0.7,\"#b8e186\"],[0.8,\"#7fbc41\"],[0.9,\"#4d9221\"],[1,\"#276419\"]]},\"xaxis\":{\"gridcolor\":\"white\",\"linecolor\":\"white\",\"ticks\":\"\",\"title\":{\"standoff\":15},\"zerolinecolor\":\"white\",\"automargin\":true,\"zerolinewidth\":2},\"yaxis\":{\"gridcolor\":\"white\",\"linecolor\":\"white\",\"ticks\":\"\",\"title\":{\"standoff\":15},\"zerolinecolor\":\"white\",\"automargin\":true,\"zerolinewidth\":2},\"scene\":{\"xaxis\":{\"backgroundcolor\":\"#E5ECF6\",\"gridcolor\":\"white\",\"linecolor\":\"white\",\"showbackground\":true,\"ticks\":\"\",\"zerolinecolor\":\"white\",\"gridwidth\":2},\"yaxis\":{\"backgroundcolor\":\"#E5ECF6\",\"gridcolor\":\"white\",\"linecolor\":\"white\",\"showbackground\":true,\"ticks\":\"\",\"zerolinecolor\":\"white\",\"gridwidth\":2},\"zaxis\":{\"backgroundcolor\":\"#E5ECF6\",\"gridcolor\":\"white\",\"linecolor\":\"white\",\"showbackground\":true,\"ticks\":\"\",\"zerolinecolor\":\"white\",\"gridwidth\":2}},\"shapedefaults\":{\"line\":{\"color\":\"#2a3f5f\"}},\"annotationdefaults\":{\"arrowcolor\":\"#2a3f5f\",\"arrowhead\":0,\"arrowwidth\":1},\"geo\":{\"bgcolor\":\"white\",\"landcolor\":\"#E5ECF6\",\"subunitcolor\":\"white\",\"showland\":true,\"showlakes\":true,\"lakecolor\":\"white\"},\"title\":{\"x\":0.05},\"mapbox\":{\"style\":\"light\"}}},\"xaxis\":{\"anchor\":\"y\",\"domain\":[0.0,1.0],\"title\":{\"text\":\"action_type\"}},\"yaxis\":{\"anchor\":\"x\",\"domain\":[0.0,1.0],\"title\":{\"text\":\"Occurences\"}},\"legend\":{\"title\":{\"text\":\"candidate_id\"},\"tracegroupgap\":0},\"margin\":{\"t\":60}},                        {\"responsive\": true}                    ).then(function(){\n",
       "                            \n",
       "var gd = document.getElementById('47969a14-d236-4f32-9a0b-d102a504ccd8');\n",
       "var x = new MutationObserver(function (mutations, observer) {{\n",
       "        var display = window.getComputedStyle(gd).display;\n",
       "        if (!display || display === 'none') {{\n",
       "            console.log([gd, 'removed!']);\n",
       "            Plotly.purge(gd);\n",
       "            observer.disconnect();\n",
       "        }}\n",
       "}});\n",
       "\n",
       "// Listen for the removal of the full notebook cells\n",
       "var notebookContainer = gd.closest('#notebook-container');\n",
       "if (notebookContainer) {{\n",
       "    x.observe(notebookContainer, {childList: true});\n",
       "}}\n",
       "\n",
       "// Listen for the clearing of the current output cell\n",
       "var outputEl = gd.closest('.output');\n",
       "if (outputEl) {{\n",
       "    x.observe(outputEl, {childList: true});\n",
       "}}\n",
       "\n",
       "                        })                };                });            </script>        </div>"
      ]
     },
     "metadata": {},
     "output_type": "display_data"
    }
   ],
   "source": [
    "fig = px.scatter(df_count_2, x='action_type', y='Occurences', color=\"candidate_id\")\n",
    "fig.show()"
   ]
  },
  {
   "cell_type": "code",
   "execution_count": 49,
   "id": "758a13a5-3507-48d3-94eb-98773f92f134",
   "metadata": {},
   "outputs": [
    {
     "data": {
      "text/html": [
       "<div>\n",
       "<style scoped>\n",
       "    .dataframe tbody tr th:only-of-type {\n",
       "        vertical-align: middle;\n",
       "    }\n",
       "\n",
       "    .dataframe tbody tr th {\n",
       "        vertical-align: top;\n",
       "    }\n",
       "\n",
       "    .dataframe thead th {\n",
       "        text-align: right;\n",
       "    }\n",
       "</style>\n",
       "<table border=\"1\" class=\"dataframe\">\n",
       "  <thead>\n",
       "    <tr style=\"text-align: right;\">\n",
       "      <th></th>\n",
       "      <th>Preposed (Action Type)</th>\n",
       "      <th>Occurences</th>\n",
       "    </tr>\n",
       "  </thead>\n",
       "  <tbody>\n",
       "    <tr>\n",
       "      <th>0</th>\n",
       "      <td>employer_reminder_1</td>\n",
       "      <td>174</td>\n",
       "    </tr>\n",
       "    <tr>\n",
       "      <th>6</th>\n",
       "      <td>resume_coaching</td>\n",
       "      <td>142</td>\n",
       "    </tr>\n",
       "    <tr>\n",
       "      <th>3</th>\n",
       "      <td>proposed_call</td>\n",
       "      <td>125</td>\n",
       "    </tr>\n",
       "    <tr>\n",
       "      <th>5</th>\n",
       "      <td>proposed_sms</td>\n",
       "      <td>118</td>\n",
       "    </tr>\n",
       "    <tr>\n",
       "      <th>4</th>\n",
       "      <td>proposed_email</td>\n",
       "      <td>117</td>\n",
       "    </tr>\n",
       "    <tr>\n",
       "      <th>1</th>\n",
       "      <td>employer_reminder_2</td>\n",
       "      <td>46</td>\n",
       "    </tr>\n",
       "    <tr>\n",
       "      <th>2</th>\n",
       "      <td>interview_coaching</td>\n",
       "      <td>32</td>\n",
       "    </tr>\n",
       "  </tbody>\n",
       "</table>\n",
       "</div>"
      ],
      "text/plain": [
       "  Preposed (Action Type)  Occurences\n",
       "0    employer_reminder_1         174\n",
       "6        resume_coaching         142\n",
       "3          proposed_call         125\n",
       "5           proposed_sms         118\n",
       "4         proposed_email         117\n",
       "1    employer_reminder_2          46\n",
       "2     interview_coaching          32"
      ]
     },
     "execution_count": 49,
     "metadata": {},
     "output_type": "execute_result"
    }
   ],
   "source": [
    "# Repartition des top types d'action en fonction des status de la demande : Preposed\n",
    "request_status_proposed = df[df['status'] == 'proposed'][['action_type']].groupby('action_type').size().reset_index(name=\"Occurences\").sort_values(by='Occurences', ascending=False).rename(columns={'action_type': 'Preposed (Action Type)'})\n",
    "request_status_proposed"
   ]
  },
  {
   "cell_type": "code",
   "execution_count": 51,
   "id": "f5c7aba8-fbf8-4582-986a-df196a09f683",
   "metadata": {},
   "outputs": [
    {
     "data": {
      "application/vnd.plotly.v1+json": {
       "config": {
        "plotlyServerURL": "https://plot.ly"
       },
       "data": [
        {
         "alignmentgroup": "True",
         "hovertemplate": "Preposed (Action Type)=%{x}<br>Occurences=%{y}<extra></extra>",
         "legendgroup": "",
         "marker": {
          "color": "#636efa",
          "pattern": {
           "shape": ""
          }
         },
         "name": "",
         "offsetgroup": "",
         "orientation": "v",
         "showlegend": false,
         "textposition": "auto",
         "type": "bar",
         "x": [
          "employer_reminder_1",
          "resume_coaching",
          "proposed_call",
          "proposed_sms",
          "proposed_email",
          "employer_reminder_2",
          "interview_coaching"
         ],
         "xaxis": "x",
         "y": [
          174,
          142,
          125,
          118,
          117,
          46,
          32
         ],
         "yaxis": "y"
        }
       ],
       "layout": {
        "autosize": true,
        "barmode": "relative",
        "legend": {
         "tracegroupgap": 0
        },
        "template": {
         "data": {
          "bar": [
           {
            "error_x": {
             "color": "#2a3f5f"
            },
            "error_y": {
             "color": "#2a3f5f"
            },
            "marker": {
             "line": {
              "color": "#E5ECF6",
              "width": 0.5
             },
             "pattern": {
              "fillmode": "overlay",
              "size": 10,
              "solidity": 0.2
             }
            },
            "type": "bar"
           }
          ],
          "barpolar": [
           {
            "marker": {
             "line": {
              "color": "#E5ECF6",
              "width": 0.5
             },
             "pattern": {
              "fillmode": "overlay",
              "size": 10,
              "solidity": 0.2
             }
            },
            "type": "barpolar"
           }
          ],
          "carpet": [
           {
            "aaxis": {
             "endlinecolor": "#2a3f5f",
             "gridcolor": "white",
             "linecolor": "white",
             "minorgridcolor": "white",
             "startlinecolor": "#2a3f5f"
            },
            "baxis": {
             "endlinecolor": "#2a3f5f",
             "gridcolor": "white",
             "linecolor": "white",
             "minorgridcolor": "white",
             "startlinecolor": "#2a3f5f"
            },
            "type": "carpet"
           }
          ],
          "choropleth": [
           {
            "colorbar": {
             "outlinewidth": 0,
             "ticks": ""
            },
            "type": "choropleth"
           }
          ],
          "contour": [
           {
            "colorbar": {
             "outlinewidth": 0,
             "ticks": ""
            },
            "colorscale": [
             [
              0,
              "#0d0887"
             ],
             [
              0.1111111111111111,
              "#46039f"
             ],
             [
              0.2222222222222222,
              "#7201a8"
             ],
             [
              0.3333333333333333,
              "#9c179e"
             ],
             [
              0.4444444444444444,
              "#bd3786"
             ],
             [
              0.5555555555555556,
              "#d8576b"
             ],
             [
              0.6666666666666666,
              "#ed7953"
             ],
             [
              0.7777777777777778,
              "#fb9f3a"
             ],
             [
              0.8888888888888888,
              "#fdca26"
             ],
             [
              1,
              "#f0f921"
             ]
            ],
            "type": "contour"
           }
          ],
          "contourcarpet": [
           {
            "colorbar": {
             "outlinewidth": 0,
             "ticks": ""
            },
            "type": "contourcarpet"
           }
          ],
          "heatmap": [
           {
            "colorbar": {
             "outlinewidth": 0,
             "ticks": ""
            },
            "colorscale": [
             [
              0,
              "#0d0887"
             ],
             [
              0.1111111111111111,
              "#46039f"
             ],
             [
              0.2222222222222222,
              "#7201a8"
             ],
             [
              0.3333333333333333,
              "#9c179e"
             ],
             [
              0.4444444444444444,
              "#bd3786"
             ],
             [
              0.5555555555555556,
              "#d8576b"
             ],
             [
              0.6666666666666666,
              "#ed7953"
             ],
             [
              0.7777777777777778,
              "#fb9f3a"
             ],
             [
              0.8888888888888888,
              "#fdca26"
             ],
             [
              1,
              "#f0f921"
             ]
            ],
            "type": "heatmap"
           }
          ],
          "heatmapgl": [
           {
            "colorbar": {
             "outlinewidth": 0,
             "ticks": ""
            },
            "colorscale": [
             [
              0,
              "#0d0887"
             ],
             [
              0.1111111111111111,
              "#46039f"
             ],
             [
              0.2222222222222222,
              "#7201a8"
             ],
             [
              0.3333333333333333,
              "#9c179e"
             ],
             [
              0.4444444444444444,
              "#bd3786"
             ],
             [
              0.5555555555555556,
              "#d8576b"
             ],
             [
              0.6666666666666666,
              "#ed7953"
             ],
             [
              0.7777777777777778,
              "#fb9f3a"
             ],
             [
              0.8888888888888888,
              "#fdca26"
             ],
             [
              1,
              "#f0f921"
             ]
            ],
            "type": "heatmapgl"
           }
          ],
          "histogram": [
           {
            "marker": {
             "pattern": {
              "fillmode": "overlay",
              "size": 10,
              "solidity": 0.2
             }
            },
            "type": "histogram"
           }
          ],
          "histogram2d": [
           {
            "colorbar": {
             "outlinewidth": 0,
             "ticks": ""
            },
            "colorscale": [
             [
              0,
              "#0d0887"
             ],
             [
              0.1111111111111111,
              "#46039f"
             ],
             [
              0.2222222222222222,
              "#7201a8"
             ],
             [
              0.3333333333333333,
              "#9c179e"
             ],
             [
              0.4444444444444444,
              "#bd3786"
             ],
             [
              0.5555555555555556,
              "#d8576b"
             ],
             [
              0.6666666666666666,
              "#ed7953"
             ],
             [
              0.7777777777777778,
              "#fb9f3a"
             ],
             [
              0.8888888888888888,
              "#fdca26"
             ],
             [
              1,
              "#f0f921"
             ]
            ],
            "type": "histogram2d"
           }
          ],
          "histogram2dcontour": [
           {
            "colorbar": {
             "outlinewidth": 0,
             "ticks": ""
            },
            "colorscale": [
             [
              0,
              "#0d0887"
             ],
             [
              0.1111111111111111,
              "#46039f"
             ],
             [
              0.2222222222222222,
              "#7201a8"
             ],
             [
              0.3333333333333333,
              "#9c179e"
             ],
             [
              0.4444444444444444,
              "#bd3786"
             ],
             [
              0.5555555555555556,
              "#d8576b"
             ],
             [
              0.6666666666666666,
              "#ed7953"
             ],
             [
              0.7777777777777778,
              "#fb9f3a"
             ],
             [
              0.8888888888888888,
              "#fdca26"
             ],
             [
              1,
              "#f0f921"
             ]
            ],
            "type": "histogram2dcontour"
           }
          ],
          "mesh3d": [
           {
            "colorbar": {
             "outlinewidth": 0,
             "ticks": ""
            },
            "type": "mesh3d"
           }
          ],
          "parcoords": [
           {
            "line": {
             "colorbar": {
              "outlinewidth": 0,
              "ticks": ""
             }
            },
            "type": "parcoords"
           }
          ],
          "pie": [
           {
            "automargin": true,
            "type": "pie"
           }
          ],
          "scatter": [
           {
            "fillpattern": {
             "fillmode": "overlay",
             "size": 10,
             "solidity": 0.2
            },
            "type": "scatter"
           }
          ],
          "scatter3d": [
           {
            "line": {
             "colorbar": {
              "outlinewidth": 0,
              "ticks": ""
             }
            },
            "marker": {
             "colorbar": {
              "outlinewidth": 0,
              "ticks": ""
             }
            },
            "type": "scatter3d"
           }
          ],
          "scattercarpet": [
           {
            "marker": {
             "colorbar": {
              "outlinewidth": 0,
              "ticks": ""
             }
            },
            "type": "scattercarpet"
           }
          ],
          "scattergeo": [
           {
            "marker": {
             "colorbar": {
              "outlinewidth": 0,
              "ticks": ""
             }
            },
            "type": "scattergeo"
           }
          ],
          "scattergl": [
           {
            "marker": {
             "colorbar": {
              "outlinewidth": 0,
              "ticks": ""
             }
            },
            "type": "scattergl"
           }
          ],
          "scattermapbox": [
           {
            "marker": {
             "colorbar": {
              "outlinewidth": 0,
              "ticks": ""
             }
            },
            "type": "scattermapbox"
           }
          ],
          "scatterpolar": [
           {
            "marker": {
             "colorbar": {
              "outlinewidth": 0,
              "ticks": ""
             }
            },
            "type": "scatterpolar"
           }
          ],
          "scatterpolargl": [
           {
            "marker": {
             "colorbar": {
              "outlinewidth": 0,
              "ticks": ""
             }
            },
            "type": "scatterpolargl"
           }
          ],
          "scatterternary": [
           {
            "marker": {
             "colorbar": {
              "outlinewidth": 0,
              "ticks": ""
             }
            },
            "type": "scatterternary"
           }
          ],
          "surface": [
           {
            "colorbar": {
             "outlinewidth": 0,
             "ticks": ""
            },
            "colorscale": [
             [
              0,
              "#0d0887"
             ],
             [
              0.1111111111111111,
              "#46039f"
             ],
             [
              0.2222222222222222,
              "#7201a8"
             ],
             [
              0.3333333333333333,
              "#9c179e"
             ],
             [
              0.4444444444444444,
              "#bd3786"
             ],
             [
              0.5555555555555556,
              "#d8576b"
             ],
             [
              0.6666666666666666,
              "#ed7953"
             ],
             [
              0.7777777777777778,
              "#fb9f3a"
             ],
             [
              0.8888888888888888,
              "#fdca26"
             ],
             [
              1,
              "#f0f921"
             ]
            ],
            "type": "surface"
           }
          ],
          "table": [
           {
            "cells": {
             "fill": {
              "color": "#EBF0F8"
             },
             "line": {
              "color": "white"
             }
            },
            "header": {
             "fill": {
              "color": "#C8D4E3"
             },
             "line": {
              "color": "white"
             }
            },
            "type": "table"
           }
          ]
         },
         "layout": {
          "annotationdefaults": {
           "arrowcolor": "#2a3f5f",
           "arrowhead": 0,
           "arrowwidth": 1
          },
          "autotypenumbers": "strict",
          "coloraxis": {
           "colorbar": {
            "outlinewidth": 0,
            "ticks": ""
           }
          },
          "colorscale": {
           "diverging": [
            [
             0,
             "#8e0152"
            ],
            [
             0.1,
             "#c51b7d"
            ],
            [
             0.2,
             "#de77ae"
            ],
            [
             0.3,
             "#f1b6da"
            ],
            [
             0.4,
             "#fde0ef"
            ],
            [
             0.5,
             "#f7f7f7"
            ],
            [
             0.6,
             "#e6f5d0"
            ],
            [
             0.7,
             "#b8e186"
            ],
            [
             0.8,
             "#7fbc41"
            ],
            [
             0.9,
             "#4d9221"
            ],
            [
             1,
             "#276419"
            ]
           ],
           "sequential": [
            [
             0,
             "#0d0887"
            ],
            [
             0.1111111111111111,
             "#46039f"
            ],
            [
             0.2222222222222222,
             "#7201a8"
            ],
            [
             0.3333333333333333,
             "#9c179e"
            ],
            [
             0.4444444444444444,
             "#bd3786"
            ],
            [
             0.5555555555555556,
             "#d8576b"
            ],
            [
             0.6666666666666666,
             "#ed7953"
            ],
            [
             0.7777777777777778,
             "#fb9f3a"
            ],
            [
             0.8888888888888888,
             "#fdca26"
            ],
            [
             1,
             "#f0f921"
            ]
           ],
           "sequentialminus": [
            [
             0,
             "#0d0887"
            ],
            [
             0.1111111111111111,
             "#46039f"
            ],
            [
             0.2222222222222222,
             "#7201a8"
            ],
            [
             0.3333333333333333,
             "#9c179e"
            ],
            [
             0.4444444444444444,
             "#bd3786"
            ],
            [
             0.5555555555555556,
             "#d8576b"
            ],
            [
             0.6666666666666666,
             "#ed7953"
            ],
            [
             0.7777777777777778,
             "#fb9f3a"
            ],
            [
             0.8888888888888888,
             "#fdca26"
            ],
            [
             1,
             "#f0f921"
            ]
           ]
          },
          "colorway": [
           "#636efa",
           "#EF553B",
           "#00cc96",
           "#ab63fa",
           "#FFA15A",
           "#19d3f3",
           "#FF6692",
           "#B6E880",
           "#FF97FF",
           "#FECB52"
          ],
          "font": {
           "color": "#2a3f5f"
          },
          "geo": {
           "bgcolor": "white",
           "lakecolor": "white",
           "landcolor": "#E5ECF6",
           "showlakes": true,
           "showland": true,
           "subunitcolor": "white"
          },
          "hoverlabel": {
           "align": "left"
          },
          "hovermode": "closest",
          "mapbox": {
           "style": "light"
          },
          "paper_bgcolor": "white",
          "plot_bgcolor": "#E5ECF6",
          "polar": {
           "angularaxis": {
            "gridcolor": "white",
            "linecolor": "white",
            "ticks": ""
           },
           "bgcolor": "#E5ECF6",
           "radialaxis": {
            "gridcolor": "white",
            "linecolor": "white",
            "ticks": ""
           }
          },
          "scene": {
           "xaxis": {
            "backgroundcolor": "#E5ECF6",
            "gridcolor": "white",
            "gridwidth": 2,
            "linecolor": "white",
            "showbackground": true,
            "ticks": "",
            "zerolinecolor": "white"
           },
           "yaxis": {
            "backgroundcolor": "#E5ECF6",
            "gridcolor": "white",
            "gridwidth": 2,
            "linecolor": "white",
            "showbackground": true,
            "ticks": "",
            "zerolinecolor": "white"
           },
           "zaxis": {
            "backgroundcolor": "#E5ECF6",
            "gridcolor": "white",
            "gridwidth": 2,
            "linecolor": "white",
            "showbackground": true,
            "ticks": "",
            "zerolinecolor": "white"
           }
          },
          "shapedefaults": {
           "line": {
            "color": "#2a3f5f"
           }
          },
          "ternary": {
           "aaxis": {
            "gridcolor": "white",
            "linecolor": "white",
            "ticks": ""
           },
           "baxis": {
            "gridcolor": "white",
            "linecolor": "white",
            "ticks": ""
           },
           "bgcolor": "#E5ECF6",
           "caxis": {
            "gridcolor": "white",
            "linecolor": "white",
            "ticks": ""
           }
          },
          "title": {
           "x": 0.05
          },
          "xaxis": {
           "automargin": true,
           "gridcolor": "white",
           "linecolor": "white",
           "ticks": "",
           "title": {
            "standoff": 15
           },
           "zerolinecolor": "white",
           "zerolinewidth": 2
          },
          "yaxis": {
           "automargin": true,
           "gridcolor": "white",
           "linecolor": "white",
           "ticks": "",
           "title": {
            "standoff": 15
           },
           "zerolinecolor": "white",
           "zerolinewidth": 2
          }
         }
        },
        "title": {
         "text": "<b>Répartition des top types d'action en fonction des status de la demande : Cas de Preposed</b>",
         "x": 0.5
        },
        "xaxis": {
         "anchor": "y",
         "autorange": true,
         "domain": [
          0,
          1
         ],
         "range": [
          -0.5,
          6.5
         ],
         "title": {
          "text": "Preposed (Action Type)"
         },
         "type": "category"
        },
        "yaxis": {
         "anchor": "x",
         "autorange": true,
         "domain": [
          0,
          1
         ],
         "range": [
          0,
          183.1578947368421
         ],
         "title": {
          "text": "Occurences"
         },
         "type": "linear"
        }
       }
      },
      "image/png": "[encoded data removed]",
      "text/html": [
       "<div>                            <div id=\"085652d3-d238-438f-b270-5700df9546a4\" class=\"plotly-graph-div\" style=\"height:525px; width:100%;\"></div>            <script type=\"text/javascript\">                require([\"plotly\"], function(Plotly) {                    window.PLOTLYENV=window.PLOTLYENV || {};                                    if (document.getElementById(\"085652d3-d238-438f-b270-5700df9546a4\")) {                    Plotly.newPlot(                        \"085652d3-d238-438f-b270-5700df9546a4\",                        [{\"alignmentgroup\":\"True\",\"hovertemplate\":\"Preposed (Action Type)=%{x}\\u003cbr\\u003eOccurences=%{y}\\u003cextra\\u003e\\u003c\\u002fextra\\u003e\",\"legendgroup\":\"\",\"marker\":{\"color\":\"#636efa\",\"pattern\":{\"shape\":\"\"}},\"name\":\"\",\"offsetgroup\":\"\",\"orientation\":\"v\",\"showlegend\":false,\"textposition\":\"auto\",\"x\":[\"employer_reminder_1\",\"resume_coaching\",\"proposed_call\",\"proposed_sms\",\"proposed_email\",\"employer_reminder_2\",\"interview_coaching\"],\"xaxis\":\"x\",\"y\":[174,142,125,118,117,46,32],\"yaxis\":\"y\",\"type\":\"bar\"}],                        {\"template\":{\"data\":{\"histogram2dcontour\":[{\"type\":\"histogram2dcontour\",\"colorbar\":{\"outlinewidth\":0,\"ticks\":\"\"},\"colorscale\":[[0.0,\"#0d0887\"],[0.1111111111111111,\"#46039f\"],[0.2222222222222222,\"#7201a8\"],[0.3333333333333333,\"#9c179e\"],[0.4444444444444444,\"#bd3786\"],[0.5555555555555556,\"#d8576b\"],[0.6666666666666666,\"#ed7953\"],[0.7777777777777778,\"#fb9f3a\"],[0.8888888888888888,\"#fdca26\"],[1.0,\"#f0f921\"]]}],\"choropleth\":[{\"type\":\"choropleth\",\"colorbar\":{\"outlinewidth\":0,\"ticks\":\"\"}}],\"histogram2d\":[{\"type\":\"histogram2d\",\"colorbar\":{\"outlinewidth\":0,\"ticks\":\"\"},\"colorscale\":[[0.0,\"#0d0887\"],[0.1111111111111111,\"#46039f\"],[0.2222222222222222,\"#7201a8\"],[0.3333333333333333,\"#9c179e\"],[0.4444444444444444,\"#bd3786\"],[0.5555555555555556,\"#d8576b\"],[0.6666666666666666,\"#ed7953\"],[0.7777777777777778,\"#fb9f3a\"],[0.8888888888888888,\"#fdca26\"],[1.0,\"#f0f921\"]]}],\"heatmap\":[{\"type\":\"heatmap\",\"colorbar\":{\"outlinewidth\":0,\"ticks\":\"\"},\"colorscale\":[[0.0,\"#0d0887\"],[0.1111111111111111,\"#46039f\"],[0.2222222222222222,\"#7201a8\"],[0.3333333333333333,\"#9c179e\"],[0.4444444444444444,\"#bd3786\"],[0.5555555555555556,\"#d8576b\"],[0.6666666666666666,\"#ed7953\"],[0.7777777777777778,\"#fb9f3a\"],[0.8888888888888888,\"#fdca26\"],[1.0,\"#f0f921\"]]}],\"heatmapgl\":[{\"type\":\"heatmapgl\",\"colorbar\":{\"outlinewidth\":0,\"ticks\":\"\"},\"colorscale\":[[0.0,\"#0d0887\"],[0.1111111111111111,\"#46039f\"],[0.2222222222222222,\"#7201a8\"],[0.3333333333333333,\"#9c179e\"],[0.4444444444444444,\"#bd3786\"],[0.5555555555555556,\"#d8576b\"],[0.6666666666666666,\"#ed7953\"],[0.7777777777777778,\"#fb9f3a\"],[0.8888888888888888,\"#fdca26\"],[1.0,\"#f0f921\"]]}],\"contourcarpet\":[{\"type\":\"contourcarpet\",\"colorbar\":{\"outlinewidth\":0,\"ticks\":\"\"}}],\"contour\":[{\"type\":\"contour\",\"colorbar\":{\"outlinewidth\":0,\"ticks\":\"\"},\"colorscale\":[[0.0,\"#0d0887\"],[0.1111111111111111,\"#46039f\"],[0.2222222222222222,\"#7201a8\"],[0.3333333333333333,\"#9c179e\"],[0.4444444444444444,\"#bd3786\"],[0.5555555555555556,\"#d8576b\"],[0.6666666666666666,\"#ed7953\"],[0.7777777777777778,\"#fb9f3a\"],[0.8888888888888888,\"#fdca26\"],[1.0,\"#f0f921\"]]}],\"surface\":[{\"type\":\"surface\",\"colorbar\":{\"outlinewidth\":0,\"ticks\":\"\"},\"colorscale\":[[0.0,\"#0d0887\"],[0.1111111111111111,\"#46039f\"],[0.2222222222222222,\"#7201a8\"],[0.3333333333333333,\"#9c179e\"],[0.4444444444444444,\"#bd3786\"],[0.5555555555555556,\"#d8576b\"],[0.6666666666666666,\"#ed7953\"],[0.7777777777777778,\"#fb9f3a\"],[0.8888888888888888,\"#fdca26\"],[1.0,\"#f0f921\"]]}],\"mesh3d\":[{\"type\":\"mesh3d\",\"colorbar\":{\"outlinewidth\":0,\"ticks\":\"\"}}],\"scatter\":[{\"fillpattern\":{\"fillmode\":\"overlay\",\"size\":10,\"solidity\":0.2},\"type\":\"scatter\"}],\"parcoords\":[{\"type\":\"parcoords\",\"line\":{\"colorbar\":{\"outlinewidth\":0,\"ticks\":\"\"}}}],\"scatterpolargl\":[{\"type\":\"scatterpolargl\",\"marker\":{\"colorbar\":{\"outlinewidth\":0,\"ticks\":\"\"}}}],\"bar\":[{\"error_x\":{\"color\":\"#2a3f5f\"},\"error_y\":{\"color\":\"#2a3f5f\"},\"marker\":{\"line\":{\"color\":\"#E5ECF6\",\"width\":0.5},\"pattern\":{\"fillmode\":\"overlay\",\"size\":10,\"solidity\":0.2}},\"type\":\"bar\"}],\"scattergeo\":[{\"type\":\"scattergeo\",\"marker\":{\"colorbar\":{\"outlinewidth\":0,\"ticks\":\"\"}}}],\"scatterpolar\":[{\"type\":\"scatterpolar\",\"marker\":{\"colorbar\":{\"outlinewidth\":0,\"ticks\":\"\"}}}],\"histogram\":[{\"marker\":{\"pattern\":{\"fillmode\":\"overlay\",\"size\":10,\"solidity\":0.2}},\"type\":\"histogram\"}],\"scattergl\":[{\"type\":\"scattergl\",\"marker\":{\"colorbar\":{\"outlinewidth\":0,\"ticks\":\"\"}}}],\"scatter3d\":[{\"type\":\"scatter3d\",\"line\":{\"colorbar\":{\"outlinewidth\":0,\"ticks\":\"\"}},\"marker\":{\"colorbar\":{\"outlinewidth\":0,\"ticks\":\"\"}}}],\"scattermapbox\":[{\"type\":\"scattermapbox\",\"marker\":{\"colorbar\":{\"outlinewidth\":0,\"ticks\":\"\"}}}],\"scatterternary\":[{\"type\":\"scatterternary\",\"marker\":{\"colorbar\":{\"outlinewidth\":0,\"ticks\":\"\"}}}],\"scattercarpet\":[{\"type\":\"scattercarpet\",\"marker\":{\"colorbar\":{\"outlinewidth\":0,\"ticks\":\"\"}}}],\"carpet\":[{\"aaxis\":{\"endlinecolor\":\"#2a3f5f\",\"gridcolor\":\"white\",\"linecolor\":\"white\",\"minorgridcolor\":\"white\",\"startlinecolor\":\"#2a3f5f\"},\"baxis\":{\"endlinecolor\":\"#2a3f5f\",\"gridcolor\":\"white\",\"linecolor\":\"white\",\"minorgridcolor\":\"white\",\"startlinecolor\":\"#2a3f5f\"},\"type\":\"carpet\"}],\"table\":[{\"cells\":{\"fill\":{\"color\":\"#EBF0F8\"},\"line\":{\"color\":\"white\"}},\"header\":{\"fill\":{\"color\":\"#C8D4E3\"},\"line\":{\"color\":\"white\"}},\"type\":\"table\"}],\"barpolar\":[{\"marker\":{\"line\":{\"color\":\"#E5ECF6\",\"width\":0.5},\"pattern\":{\"fillmode\":\"overlay\",\"size\":10,\"solidity\":0.2}},\"type\":\"barpolar\"}],\"pie\":[{\"automargin\":true,\"type\":\"pie\"}]},\"layout\":{\"autotypenumbers\":\"strict\",\"colorway\":[\"#636efa\",\"#EF553B\",\"#00cc96\",\"#ab63fa\",\"#FFA15A\",\"#19d3f3\",\"#FF6692\",\"#B6E880\",\"#FF97FF\",\"#FECB52\"],\"font\":{\"color\":\"#2a3f5f\"},\"hovermode\":\"closest\",\"hoverlabel\":{\"align\":\"left\"},\"paper_bgcolor\":\"white\",\"plot_bgcolor\":\"#E5ECF6\",\"polar\":{\"bgcolor\":\"#E5ECF6\",\"angularaxis\":{\"gridcolor\":\"white\",\"linecolor\":\"white\",\"ticks\":\"\"},\"radialaxis\":{\"gridcolor\":\"white\",\"linecolor\":\"white\",\"ticks\":\"\"}},\"ternary\":{\"bgcolor\":\"#E5ECF6\",\"aaxis\":{\"gridcolor\":\"white\",\"linecolor\":\"white\",\"ticks\":\"\"},\"baxis\":{\"gridcolor\":\"white\",\"linecolor\":\"white\",\"ticks\":\"\"},\"caxis\":{\"gridcolor\":\"white\",\"linecolor\":\"white\",\"ticks\":\"\"}},\"coloraxis\":{\"colorbar\":{\"outlinewidth\":0,\"ticks\":\"\"}},\"colorscale\":{\"sequential\":[[0.0,\"#0d0887\"],[0.1111111111111111,\"#46039f\"],[0.2222222222222222,\"#7201a8\"],[0.3333333333333333,\"#9c179e\"],[0.4444444444444444,\"#bd3786\"],[0.5555555555555556,\"#d8576b\"],[0.6666666666666666,\"#ed7953\"],[0.7777777777777778,\"#fb9f3a\"],[0.8888888888888888,\"#fdca26\"],[1.0,\"#f0f921\"]],\"sequentialminus\":[[0.0,\"#0d0887\"],[0.1111111111111111,\"#46039f\"],[0.2222222222222222,\"#7201a8\"],[0.3333333333333333,\"#9c179e\"],[0.4444444444444444,\"#bd3786\"],[0.5555555555555556,\"#d8576b\"],[0.6666666666666666,\"#ed7953\"],[0.7777777777777778,\"#fb9f3a\"],[0.8888888888888888,\"#fdca26\"],[1.0,\"#f0f921\"]],\"diverging\":[[0,\"#8e0152\"],[0.1,\"#c51b7d\"],[0.2,\"#de77ae\"],[0.3,\"#f1b6da\"],[0.4,\"#fde0ef\"],[0.5,\"#f7f7f7\"],[0.6,\"#e6f5d0\"],[0.7,\"#b8e186\"],[0.8,\"#7fbc41\"],[0.9,\"#4d9221\"],[1,\"#276419\"]]},\"xaxis\":{\"gridcolor\":\"white\",\"linecolor\":\"white\",\"ticks\":\"\",\"title\":{\"standoff\":15},\"zerolinecolor\":\"white\",\"automargin\":true,\"zerolinewidth\":2},\"yaxis\":{\"gridcolor\":\"white\",\"linecolor\":\"white\",\"ticks\":\"\",\"title\":{\"standoff\":15},\"zerolinecolor\":\"white\",\"automargin\":true,\"zerolinewidth\":2},\"scene\":{\"xaxis\":{\"backgroundcolor\":\"#E5ECF6\",\"gridcolor\":\"white\",\"linecolor\":\"white\",\"showbackground\":true,\"ticks\":\"\",\"zerolinecolor\":\"white\",\"gridwidth\":2},\"yaxis\":{\"backgroundcolor\":\"#E5ECF6\",\"gridcolor\":\"white\",\"linecolor\":\"white\",\"showbackground\":true,\"ticks\":\"\",\"zerolinecolor\":\"white\",\"gridwidth\":2},\"zaxis\":{\"backgroundcolor\":\"#E5ECF6\",\"gridcolor\":\"white\",\"linecolor\":\"white\",\"showbackground\":true,\"ticks\":\"\",\"zerolinecolor\":\"white\",\"gridwidth\":2}},\"shapedefaults\":{\"line\":{\"color\":\"#2a3f5f\"}},\"annotationdefaults\":{\"arrowcolor\":\"#2a3f5f\",\"arrowhead\":0,\"arrowwidth\":1},\"geo\":{\"bgcolor\":\"white\",\"landcolor\":\"#E5ECF6\",\"subunitcolor\":\"white\",\"showland\":true,\"showlakes\":true,\"lakecolor\":\"white\"},\"title\":{\"x\":0.05},\"mapbox\":{\"style\":\"light\"}}},\"xaxis\":{\"anchor\":\"y\",\"domain\":[0.0,1.0],\"title\":{\"text\":\"Preposed (Action Type)\"}},\"yaxis\":{\"anchor\":\"x\",\"domain\":[0.0,1.0],\"title\":{\"text\":\"Occurences\"}},\"legend\":{\"tracegroupgap\":0},\"title\":{\"text\":\"\\u003cb\\u003eR\\u00e9partition des top types d'action en fonction des status de la demande : Cas de Preposed\\u003c\\u002fb\\u003e\",\"x\":0.5},\"barmode\":\"relative\"},                        {\"responsive\": true}                    ).then(function(){\n",
       "                            \n",
       "var gd = document.getElementById('085652d3-d238-438f-b270-5700df9546a4');\n",
       "var x = new MutationObserver(function (mutations, observer) {{\n",
       "        var display = window.getComputedStyle(gd).display;\n",
       "        if (!display || display === 'none') {{\n",
       "            console.log([gd, 'removed!']);\n",
       "            Plotly.purge(gd);\n",
       "            observer.disconnect();\n",
       "        }}\n",
       "}});\n",
       "\n",
       "// Listen for the removal of the full notebook cells\n",
       "var notebookContainer = gd.closest('#notebook-container');\n",
       "if (notebookContainer) {{\n",
       "    x.observe(notebookContainer, {childList: true});\n",
       "}}\n",
       "\n",
       "// Listen for the clearing of the current output cell\n",
       "var outputEl = gd.closest('.output');\n",
       "if (outputEl) {{\n",
       "    x.observe(outputEl, {childList: true});\n",
       "}}\n",
       "\n",
       "                        })                };                });            </script>        </div>"
      ]
     },
     "metadata": {},
     "output_type": "display_data"
    }
   ],
   "source": [
    "#Graph associé à la requête précédente : Preposed\n",
    "preposed = design_viz(request_status_proposed, xlab='Preposed (Action Type)', \n",
    "           title='Répartition des top types d\\'action en fonction des status de la demande : Cas de Preposed', \n",
    "           ylab='Occurences', label={'action_type': f'<b>Prepoed (Type d\\'action)</b>', 'Occurence': f'<b>Occurences</b>'})\n",
    "preposed"
   ]
  },
  {
   "cell_type": "code",
   "execution_count": 53,
   "id": "c1d9b4a3-5c2c-4af2-a0ed-c68fb1c3c1f7",
   "metadata": {},
   "outputs": [
    {
     "data": {
      "text/html": [
       "<div>\n",
       "<style scoped>\n",
       "    .dataframe tbody tr th:only-of-type {\n",
       "        vertical-align: middle;\n",
       "    }\n",
       "\n",
       "    .dataframe tbody tr th {\n",
       "        vertical-align: top;\n",
       "    }\n",
       "\n",
       "    .dataframe thead th {\n",
       "        text-align: right;\n",
       "    }\n",
       "</style>\n",
       "<table border=\"1\" class=\"dataframe\">\n",
       "  <thead>\n",
       "    <tr style=\"text-align: right;\">\n",
       "      <th></th>\n",
       "      <th>Preposed (Action Type)</th>\n",
       "      <th>Occurences</th>\n",
       "    </tr>\n",
       "  </thead>\n",
       "  <tbody>\n",
       "  </tbody>\n",
       "</table>\n",
       "</div>"
      ],
      "text/plain": [
       "Empty DataFrame\n",
       "Columns: [Preposed (Action Type), Occurences]\n",
       "Index: []"
      ]
     },
     "execution_count": 53,
     "metadata": {},
     "output_type": "execute_result"
    }
   ],
   "source": [
    "# Repartition des top types d'action en fonction des status de la demande : transmitted\n",
    "request_status_transmitted = df[df['status'] == 'transmitted'][['action_type']].groupby('action_type').size().reset_index(name=\"Occurences\").sort_values(by='Occurences', ascending=False).rename(columns={'action_type': 'Preposed (Action Type)'})\n",
    "request_status_transmitted"
   ]
  },
  {
   "cell_type": "code",
   "execution_count": 55,
   "id": "81543f11-4fc8-4d48-b70e-e0d3f3662666",
   "metadata": {},
   "outputs": [],
   "source": [
    "#Remarque : Aucune demande avec le status transmitted n'a été validé"
   ]
  },
  {
   "cell_type": "code",
   "execution_count": 57,
   "id": "f787d053-3903-4128-996a-c25c635a7495",
   "metadata": {},
   "outputs": [
    {
     "data": {
      "text/html": [
       "<div>\n",
       "<style scoped>\n",
       "    .dataframe tbody tr th:only-of-type {\n",
       "        vertical-align: middle;\n",
       "    }\n",
       "\n",
       "    .dataframe tbody tr th {\n",
       "        vertical-align: top;\n",
       "    }\n",
       "\n",
       "    .dataframe thead th {\n",
       "        text-align: right;\n",
       "    }\n",
       "</style>\n",
       "<table border=\"1\" class=\"dataframe\">\n",
       "  <thead>\n",
       "    <tr style=\"text-align: right;\">\n",
       "      <th></th>\n",
       "      <th>Interviewed (Action Type)</th>\n",
       "      <th>Occurences</th>\n",
       "    </tr>\n",
       "  </thead>\n",
       "  <tbody>\n",
       "    <tr>\n",
       "      <th>0</th>\n",
       "      <td>employer_reminder_1</td>\n",
       "      <td>83</td>\n",
       "    </tr>\n",
       "    <tr>\n",
       "      <th>6</th>\n",
       "      <td>resume_coaching</td>\n",
       "      <td>74</td>\n",
       "    </tr>\n",
       "    <tr>\n",
       "      <th>3</th>\n",
       "      <td>proposed_call</td>\n",
       "      <td>60</td>\n",
       "    </tr>\n",
       "    <tr>\n",
       "      <th>5</th>\n",
       "      <td>proposed_sms</td>\n",
       "      <td>42</td>\n",
       "    </tr>\n",
       "    <tr>\n",
       "      <th>4</th>\n",
       "      <td>proposed_email</td>\n",
       "      <td>36</td>\n",
       "    </tr>\n",
       "    <tr>\n",
       "      <th>2</th>\n",
       "      <td>interview_coaching</td>\n",
       "      <td>34</td>\n",
       "    </tr>\n",
       "    <tr>\n",
       "      <th>1</th>\n",
       "      <td>employer_reminder_2</td>\n",
       "      <td>12</td>\n",
       "    </tr>\n",
       "  </tbody>\n",
       "</table>\n",
       "</div>"
      ],
      "text/plain": [
       "  Interviewed (Action Type)  Occurences\n",
       "0       employer_reminder_1          83\n",
       "6           resume_coaching          74\n",
       "3             proposed_call          60\n",
       "5              proposed_sms          42\n",
       "4            proposed_email          36\n",
       "2        interview_coaching          34\n",
       "1       employer_reminder_2          12"
      ]
     },
     "execution_count": 57,
     "metadata": {},
     "output_type": "execute_result"
    }
   ],
   "source": [
    "# Repartition des top types d'action en fonction des status de la demande : interviewed\n",
    "request_status_interviewed = df[df['status'] == 'interviewed'][['action_type']].groupby('action_type').size().reset_index(name=\"Occurences\").sort_values(by='Occurences', ascending=False).rename(columns={'action_type': 'Interviewed (Action Type)'})\n",
    "request_status_interviewed"
   ]
  },
  {
   "cell_type": "code",
   "execution_count": 59,
   "id": "4b69de27-344e-457b-9ffa-21b26452c630",
   "metadata": {},
   "outputs": [
    {
     "data": {
      "application/vnd.plotly.v1+json": {
       "config": {
        "plotlyServerURL": "https://plot.ly"
       },
       "data": [
        {
         "alignmentgroup": "True",
         "hovertemplate": "<b>Interviewed (Type d'action)</b>=%{x}<br><b>Occurences</b>=%{y}<extra></extra>",
         "legendgroup": "",
         "marker": {
          "color": "#636efa",
          "pattern": {
           "shape": ""
          }
         },
         "name": "",
         "offsetgroup": "",
         "orientation": "v",
         "showlegend": false,
         "textposition": "auto",
         "type": "bar",
         "x": [
          "employer_reminder_1",
          "resume_coaching",
          "proposed_call",
          "proposed_sms",
          "proposed_email",
          "interview_coaching",
          "employer_reminder_2"
         ],
         "xaxis": "x",
         "y": [
          83,
          74,
          60,
          42,
          36,
          34,
          12
         ],
         "yaxis": "y"
        }
       ],
       "layout": {
        "autosize": true,
        "barmode": "relative",
        "legend": {
         "tracegroupgap": 0
        },
        "template": {
         "data": {
          "bar": [
           {
            "error_x": {
             "color": "#2a3f5f"
            },
            "error_y": {
             "color": "#2a3f5f"
            },
            "marker": {
             "line": {
              "color": "#E5ECF6",
              "width": 0.5
             },
             "pattern": {
              "fillmode": "overlay",
              "size": 10,
              "solidity": 0.2
             }
            },
            "type": "bar"
           }
          ],
          "barpolar": [
           {
            "marker": {
             "line": {
              "color": "#E5ECF6",
              "width": 0.5
             },
             "pattern": {
              "fillmode": "overlay",
              "size": 10,
              "solidity": 0.2
             }
            },
            "type": "barpolar"
           }
          ],
          "carpet": [
           {
            "aaxis": {
             "endlinecolor": "#2a3f5f",
             "gridcolor": "white",
             "linecolor": "white",
             "minorgridcolor": "white",
             "startlinecolor": "#2a3f5f"
            },
            "baxis": {
             "endlinecolor": "#2a3f5f",
             "gridcolor": "white",
             "linecolor": "white",
             "minorgridcolor": "white",
             "startlinecolor": "#2a3f5f"
            },
            "type": "carpet"
           }
          ],
          "choropleth": [
           {
            "colorbar": {
             "outlinewidth": 0,
             "ticks": ""
            },
            "type": "choropleth"
           }
          ],
          "contour": [
           {
            "colorbar": {
             "outlinewidth": 0,
             "ticks": ""
            },
            "colorscale": [
             [
              0,
              "#0d0887"
             ],
             [
              0.1111111111111111,
              "#46039f"
             ],
             [
              0.2222222222222222,
              "#7201a8"
             ],
             [
              0.3333333333333333,
              "#9c179e"
             ],
             [
              0.4444444444444444,
              "#bd3786"
             ],
             [
              0.5555555555555556,
              "#d8576b"
             ],
             [
              0.6666666666666666,
              "#ed7953"
             ],
             [
              0.7777777777777778,
              "#fb9f3a"
             ],
             [
              0.8888888888888888,
              "#fdca26"
             ],
             [
              1,
              "#f0f921"
             ]
            ],
            "type": "contour"
           }
          ],
          "contourcarpet": [
           {
            "colorbar": {
             "outlinewidth": 0,
             "ticks": ""
            },
            "type": "contourcarpet"
           }
          ],
          "heatmap": [
           {
            "colorbar": {
             "outlinewidth": 0,
             "ticks": ""
            },
            "colorscale": [
             [
              0,
              "#0d0887"
             ],
             [
              0.1111111111111111,
              "#46039f"
             ],
             [
              0.2222222222222222,
              "#7201a8"
             ],
             [
              0.3333333333333333,
              "#9c179e"
             ],
             [
              0.4444444444444444,
              "#bd3786"
             ],
             [
              0.5555555555555556,
              "#d8576b"
             ],
             [
              0.6666666666666666,
              "#ed7953"
             ],
             [
              0.7777777777777778,
              "#fb9f3a"
             ],
             [
              0.8888888888888888,
              "#fdca26"
             ],
             [
              1,
              "#f0f921"
             ]
            ],
            "type": "heatmap"
           }
          ],
          "heatmapgl": [
           {
            "colorbar": {
             "outlinewidth": 0,
             "ticks": ""
            },
            "colorscale": [
             [
              0,
              "#0d0887"
             ],
             [
              0.1111111111111111,
              "#46039f"
             ],
             [
              0.2222222222222222,
              "#7201a8"
             ],
             [
              0.3333333333333333,
              "#9c179e"
             ],
             [
              0.4444444444444444,
              "#bd3786"
             ],
             [
              0.5555555555555556,
              "#d8576b"
             ],
             [
              0.6666666666666666,
              "#ed7953"
             ],
             [
              0.7777777777777778,
              "#fb9f3a"
             ],
             [
              0.8888888888888888,
              "#fdca26"
             ],
             [
              1,
              "#f0f921"
             ]
            ],
            "type": "heatmapgl"
           }
          ],
          "histogram": [
           {
            "marker": {
             "pattern": {
              "fillmode": "overlay",
              "size": 10,
              "solidity": 0.2
             }
            },
            "type": "histogram"
           }
          ],
          "histogram2d": [
           {
            "colorbar": {
             "outlinewidth": 0,
             "ticks": ""
            },
            "colorscale": [
             [
              0,
              "#0d0887"
             ],
             [
              0.1111111111111111,
              "#46039f"
             ],
             [
              0.2222222222222222,
              "#7201a8"
             ],
             [
              0.3333333333333333,
              "#9c179e"
             ],
             [
              0.4444444444444444,
              "#bd3786"
             ],
             [
              0.5555555555555556,
              "#d8576b"
             ],
             [
              0.6666666666666666,
              "#ed7953"
             ],
             [
              0.7777777777777778,
              "#fb9f3a"
             ],
             [
              0.8888888888888888,
              "#fdca26"
             ],
             [
              1,
              "#f0f921"
             ]
            ],
            "type": "histogram2d"
           }
          ],
          "histogram2dcontour": [
           {
            "colorbar": {
             "outlinewidth": 0,
             "ticks": ""
            },
            "colorscale": [
             [
              0,
              "#0d0887"
             ],
             [
              0.1111111111111111,
              "#46039f"
             ],
             [
              0.2222222222222222,
              "#7201a8"
             ],
             [
              0.3333333333333333,
              "#9c179e"
             ],
             [
              0.4444444444444444,
              "#bd3786"
             ],
             [
              0.5555555555555556,
              "#d8576b"
             ],
             [
              0.6666666666666666,
              "#ed7953"
             ],
             [
              0.7777777777777778,
              "#fb9f3a"
             ],
             [
              0.8888888888888888,
              "#fdca26"
             ],
             [
              1,
              "#f0f921"
             ]
            ],
            "type": "histogram2dcontour"
           }
          ],
          "mesh3d": [
           {
            "colorbar": {
             "outlinewidth": 0,
             "ticks": ""
            },
            "type": "mesh3d"
           }
          ],
          "parcoords": [
           {
            "line": {
             "colorbar": {
              "outlinewidth": 0,
              "ticks": ""
             }
            },
            "type": "parcoords"
           }
          ],
          "pie": [
           {
            "automargin": true,
            "type": "pie"
           }
          ],
          "scatter": [
           {
            "fillpattern": {
             "fillmode": "overlay",
             "size": 10,
             "solidity": 0.2
            },
            "type": "scatter"
           }
          ],
          "scatter3d": [
           {
            "line": {
             "colorbar": {
              "outlinewidth": 0,
              "ticks": ""
             }
            },
            "marker": {
             "colorbar": {
              "outlinewidth": 0,
              "ticks": ""
             }
            },
            "type": "scatter3d"
           }
          ],
          "scattercarpet": [
           {
            "marker": {
             "colorbar": {
              "outlinewidth": 0,
              "ticks": ""
             }
            },
            "type": "scattercarpet"
           }
          ],
          "scattergeo": [
           {
            "marker": {
             "colorbar": {
              "outlinewidth": 0,
              "ticks": ""
             }
            },
            "type": "scattergeo"
           }
          ],
          "scattergl": [
           {
            "marker": {
             "colorbar": {
              "outlinewidth": 0,
              "ticks": ""
             }
            },
            "type": "scattergl"
           }
          ],
          "scattermapbox": [
           {
            "marker": {
             "colorbar": {
              "outlinewidth": 0,
              "ticks": ""
             }
            },
            "type": "scattermapbox"
           }
          ],
          "scatterpolar": [
           {
            "marker": {
             "colorbar": {
              "outlinewidth": 0,
              "ticks": ""
             }
            },
            "type": "scatterpolar"
           }
          ],
          "scatterpolargl": [
           {
            "marker": {
             "colorbar": {
              "outlinewidth": 0,
              "ticks": ""
             }
            },
            "type": "scatterpolargl"
           }
          ],
          "scatterternary": [
           {
            "marker": {
             "colorbar": {
              "outlinewidth": 0,
              "ticks": ""
             }
            },
            "type": "scatterternary"
           }
          ],
          "surface": [
           {
            "colorbar": {
             "outlinewidth": 0,
             "ticks": ""
            },
            "colorscale": [
             [
              0,
              "#0d0887"
             ],
             [
              0.1111111111111111,
              "#46039f"
             ],
             [
              0.2222222222222222,
              "#7201a8"
             ],
             [
              0.3333333333333333,
              "#9c179e"
             ],
             [
              0.4444444444444444,
              "#bd3786"
             ],
             [
              0.5555555555555556,
              "#d8576b"
             ],
             [
              0.6666666666666666,
              "#ed7953"
             ],
             [
              0.7777777777777778,
              "#fb9f3a"
             ],
             [
              0.8888888888888888,
              "#fdca26"
             ],
             [
              1,
              "#f0f921"
             ]
            ],
            "type": "surface"
           }
          ],
          "table": [
           {
            "cells": {
             "fill": {
              "color": "#EBF0F8"
             },
             "line": {
              "color": "white"
             }
            },
            "header": {
             "fill": {
              "color": "#C8D4E3"
             },
             "line": {
              "color": "white"
             }
            },
            "type": "table"
           }
          ]
         },
         "layout": {
          "annotationdefaults": {
           "arrowcolor": "#2a3f5f",
           "arrowhead": 0,
           "arrowwidth": 1
          },
          "autotypenumbers": "strict",
          "coloraxis": {
           "colorbar": {
            "outlinewidth": 0,
            "ticks": ""
           }
          },
          "colorscale": {
           "diverging": [
            [
             0,
             "#8e0152"
            ],
            [
             0.1,
             "#c51b7d"
            ],
            [
             0.2,
             "#de77ae"
            ],
            [
             0.3,
             "#f1b6da"
            ],
            [
             0.4,
             "#fde0ef"
            ],
            [
             0.5,
             "#f7f7f7"
            ],
            [
             0.6,
             "#e6f5d0"
            ],
            [
             0.7,
             "#b8e186"
            ],
            [
             0.8,
             "#7fbc41"
            ],
            [
             0.9,
             "#4d9221"
            ],
            [
             1,
             "#276419"
            ]
           ],
           "sequential": [
            [
             0,
             "#0d0887"
            ],
            [
             0.1111111111111111,
             "#46039f"
            ],
            [
             0.2222222222222222,
             "#7201a8"
            ],
            [
             0.3333333333333333,
             "#9c179e"
            ],
            [
             0.4444444444444444,
             "#bd3786"
            ],
            [
             0.5555555555555556,
             "#d8576b"
            ],
            [
             0.6666666666666666,
             "#ed7953"
            ],
            [
             0.7777777777777778,
             "#fb9f3a"
            ],
            [
             0.8888888888888888,
             "#fdca26"
            ],
            [
             1,
             "#f0f921"
            ]
           ],
           "sequentialminus": [
            [
             0,
             "#0d0887"
            ],
            [
             0.1111111111111111,
             "#46039f"
            ],
            [
             0.2222222222222222,
             "#7201a8"
            ],
            [
             0.3333333333333333,
             "#9c179e"
            ],
            [
             0.4444444444444444,
             "#bd3786"
            ],
            [
             0.5555555555555556,
             "#d8576b"
            ],
            [
             0.6666666666666666,
             "#ed7953"
            ],
            [
             0.7777777777777778,
             "#fb9f3a"
            ],
            [
             0.8888888888888888,
             "#fdca26"
            ],
            [
             1,
             "#f0f921"
            ]
           ]
          },
          "colorway": [
           "#636efa",
           "#EF553B",
           "#00cc96",
           "#ab63fa",
           "#FFA15A",
           "#19d3f3",
           "#FF6692",
           "#B6E880",
           "#FF97FF",
           "#FECB52"
          ],
          "font": {
           "color": "#2a3f5f"
          },
          "geo": {
           "bgcolor": "white",
           "lakecolor": "white",
           "landcolor": "#E5ECF6",
           "showlakes": true,
           "showland": true,
           "subunitcolor": "white"
          },
          "hoverlabel": {
           "align": "left"
          },
          "hovermode": "closest",
          "mapbox": {
           "style": "light"
          },
          "paper_bgcolor": "white",
          "plot_bgcolor": "#E5ECF6",
          "polar": {
           "angularaxis": {
            "gridcolor": "white",
            "linecolor": "white",
            "ticks": ""
           },
           "bgcolor": "#E5ECF6",
           "radialaxis": {
            "gridcolor": "white",
            "linecolor": "white",
            "ticks": ""
           }
          },
          "scene": {
           "xaxis": {
            "backgroundcolor": "#E5ECF6",
            "gridcolor": "white",
            "gridwidth": 2,
            "linecolor": "white",
            "showbackground": true,
            "ticks": "",
            "zerolinecolor": "white"
           },
           "yaxis": {
            "backgroundcolor": "#E5ECF6",
            "gridcolor": "white",
            "gridwidth": 2,
            "linecolor": "white",
            "showbackground": true,
            "ticks": "",
            "zerolinecolor": "white"
           },
           "zaxis": {
            "backgroundcolor": "#E5ECF6",
            "gridcolor": "white",
            "gridwidth": 2,
            "linecolor": "white",
            "showbackground": true,
            "ticks": "",
            "zerolinecolor": "white"
           }
          },
          "shapedefaults": {
           "line": {
            "color": "#2a3f5f"
           }
          },
          "ternary": {
           "aaxis": {
            "gridcolor": "white",
            "linecolor": "white",
            "ticks": ""
           },
           "baxis": {
            "gridcolor": "white",
            "linecolor": "white",
            "ticks": ""
           },
           "bgcolor": "#E5ECF6",
           "caxis": {
            "gridcolor": "white",
            "linecolor": "white",
            "ticks": ""
           }
          },
          "title": {
           "x": 0.05
          },
          "xaxis": {
           "automargin": true,
           "gridcolor": "white",
           "linecolor": "white",
           "ticks": "",
           "title": {
            "standoff": 15
           },
           "zerolinecolor": "white",
           "zerolinewidth": 2
          },
          "yaxis": {
           "automargin": true,
           "gridcolor": "white",
           "linecolor": "white",
           "ticks": "",
           "title": {
            "standoff": 15
           },
           "zerolinecolor": "white",
           "zerolinewidth": 2
          }
         }
        },
        "title": {
         "text": "<b>Répartition des top types d'action en fonction des status de la demande : Cas de Interviewed</b>",
         "x": 0.5
        },
        "xaxis": {
         "anchor": "y",
         "autorange": true,
         "domain": [
          0,
          1
         ],
         "range": [
          -0.5,
          6.5
         ],
         "title": {
          "text": "<b>Interviewed (Type d'action)</b>"
         },
         "type": "category"
        },
        "yaxis": {
         "anchor": "x",
         "autorange": true,
         "domain": [
          0,
          1
         ],
         "range": [
          0,
          87.36842105263158
         ],
         "title": {
          "text": "<b>Occurences</b>"
         },
         "type": "linear"
        }
       }
      },
      "image/png": "[encoded data removed]",
      "text/html": [
       "<div>                            <div id=\"7cc86489-110e-49a9-931c-5bf677a7812e\" class=\"plotly-graph-div\" style=\"height:525px; width:100%;\"></div>            <script type=\"text/javascript\">                require([\"plotly\"], function(Plotly) {                    window.PLOTLYENV=window.PLOTLYENV || {};                                    if (document.getElementById(\"7cc86489-110e-49a9-931c-5bf677a7812e\")) {                    Plotly.newPlot(                        \"7cc86489-110e-49a9-931c-5bf677a7812e\",                        [{\"alignmentgroup\":\"True\",\"hovertemplate\":\"\\u003cb\\u003eInterviewed (Type d'action)\\u003c\\u002fb\\u003e=%{x}\\u003cbr\\u003e\\u003cb\\u003eOccurences\\u003c\\u002fb\\u003e=%{y}\\u003cextra\\u003e\\u003c\\u002fextra\\u003e\",\"legendgroup\":\"\",\"marker\":{\"color\":\"#636efa\",\"pattern\":{\"shape\":\"\"}},\"name\":\"\",\"offsetgroup\":\"\",\"orientation\":\"v\",\"showlegend\":false,\"textposition\":\"auto\",\"x\":[\"employer_reminder_1\",\"resume_coaching\",\"proposed_call\",\"proposed_sms\",\"proposed_email\",\"interview_coaching\",\"employer_reminder_2\"],\"xaxis\":\"x\",\"y\":[83,74,60,42,36,34,12],\"yaxis\":\"y\",\"type\":\"bar\"}],                        {\"template\":{\"data\":{\"histogram2dcontour\":[{\"type\":\"histogram2dcontour\",\"colorbar\":{\"outlinewidth\":0,\"ticks\":\"\"},\"colorscale\":[[0.0,\"#0d0887\"],[0.1111111111111111,\"#46039f\"],[0.2222222222222222,\"#7201a8\"],[0.3333333333333333,\"#9c179e\"],[0.4444444444444444,\"#bd3786\"],[0.5555555555555556,\"#d8576b\"],[0.6666666666666666,\"#ed7953\"],[0.7777777777777778,\"#fb9f3a\"],[0.8888888888888888,\"#fdca26\"],[1.0,\"#f0f921\"]]}],\"choropleth\":[{\"type\":\"choropleth\",\"colorbar\":{\"outlinewidth\":0,\"ticks\":\"\"}}],\"histogram2d\":[{\"type\":\"histogram2d\",\"colorbar\":{\"outlinewidth\":0,\"ticks\":\"\"},\"colorscale\":[[0.0,\"#0d0887\"],[0.1111111111111111,\"#46039f\"],[0.2222222222222222,\"#7201a8\"],[0.3333333333333333,\"#9c179e\"],[0.4444444444444444,\"#bd3786\"],[0.5555555555555556,\"#d8576b\"],[0.6666666666666666,\"#ed7953\"],[0.7777777777777778,\"#fb9f3a\"],[0.8888888888888888,\"#fdca26\"],[1.0,\"#f0f921\"]]}],\"heatmap\":[{\"type\":\"heatmap\",\"colorbar\":{\"outlinewidth\":0,\"ticks\":\"\"},\"colorscale\":[[0.0,\"#0d0887\"],[0.1111111111111111,\"#46039f\"],[0.2222222222222222,\"#7201a8\"],[0.3333333333333333,\"#9c179e\"],[0.4444444444444444,\"#bd3786\"],[0.5555555555555556,\"#d8576b\"],[0.6666666666666666,\"#ed7953\"],[0.7777777777777778,\"#fb9f3a\"],[0.8888888888888888,\"#fdca26\"],[1.0,\"#f0f921\"]]}],\"heatmapgl\":[{\"type\":\"heatmapgl\",\"colorbar\":{\"outlinewidth\":0,\"ticks\":\"\"},\"colorscale\":[[0.0,\"#0d0887\"],[0.1111111111111111,\"#46039f\"],[0.2222222222222222,\"#7201a8\"],[0.3333333333333333,\"#9c179e\"],[0.4444444444444444,\"#bd3786\"],[0.5555555555555556,\"#d8576b\"],[0.6666666666666666,\"#ed7953\"],[0.7777777777777778,\"#fb9f3a\"],[0.8888888888888888,\"#fdca26\"],[1.0,\"#f0f921\"]]}],\"contourcarpet\":[{\"type\":\"contourcarpet\",\"colorbar\":{\"outlinewidth\":0,\"ticks\":\"\"}}],\"contour\":[{\"type\":\"contour\",\"colorbar\":{\"outlinewidth\":0,\"ticks\":\"\"},\"colorscale\":[[0.0,\"#0d0887\"],[0.1111111111111111,\"#46039f\"],[0.2222222222222222,\"#7201a8\"],[0.3333333333333333,\"#9c179e\"],[0.4444444444444444,\"#bd3786\"],[0.5555555555555556,\"#d8576b\"],[0.6666666666666666,\"#ed7953\"],[0.7777777777777778,\"#fb9f3a\"],[0.8888888888888888,\"#fdca26\"],[1.0,\"#f0f921\"]]}],\"surface\":[{\"type\":\"surface\",\"colorbar\":{\"outlinewidth\":0,\"ticks\":\"\"},\"colorscale\":[[0.0,\"#0d0887\"],[0.1111111111111111,\"#46039f\"],[0.2222222222222222,\"#7201a8\"],[0.3333333333333333,\"#9c179e\"],[0.4444444444444444,\"#bd3786\"],[0.5555555555555556,\"#d8576b\"],[0.6666666666666666,\"#ed7953\"],[0.7777777777777778,\"#fb9f3a\"],[0.8888888888888888,\"#fdca26\"],[1.0,\"#f0f921\"]]}],\"mesh3d\":[{\"type\":\"mesh3d\",\"colorbar\":{\"outlinewidth\":0,\"ticks\":\"\"}}],\"scatter\":[{\"fillpattern\":{\"fillmode\":\"overlay\",\"size\":10,\"solidity\":0.2},\"type\":\"scatter\"}],\"parcoords\":[{\"type\":\"parcoords\",\"line\":{\"colorbar\":{\"outlinewidth\":0,\"ticks\":\"\"}}}],\"scatterpolargl\":[{\"type\":\"scatterpolargl\",\"marker\":{\"colorbar\":{\"outlinewidth\":0,\"ticks\":\"\"}}}],\"bar\":[{\"error_x\":{\"color\":\"#2a3f5f\"},\"error_y\":{\"color\":\"#2a3f5f\"},\"marker\":{\"line\":{\"color\":\"#E5ECF6\",\"width\":0.5},\"pattern\":{\"fillmode\":\"overlay\",\"size\":10,\"solidity\":0.2}},\"type\":\"bar\"}],\"scattergeo\":[{\"type\":\"scattergeo\",\"marker\":{\"colorbar\":{\"outlinewidth\":0,\"ticks\":\"\"}}}],\"scatterpolar\":[{\"type\":\"scatterpolar\",\"marker\":{\"colorbar\":{\"outlinewidth\":0,\"ticks\":\"\"}}}],\"histogram\":[{\"marker\":{\"pattern\":{\"fillmode\":\"overlay\",\"size\":10,\"solidity\":0.2}},\"type\":\"histogram\"}],\"scattergl\":[{\"type\":\"scattergl\",\"marker\":{\"colorbar\":{\"outlinewidth\":0,\"ticks\":\"\"}}}],\"scatter3d\":[{\"type\":\"scatter3d\",\"line\":{\"colorbar\":{\"outlinewidth\":0,\"ticks\":\"\"}},\"marker\":{\"colorbar\":{\"outlinewidth\":0,\"ticks\":\"\"}}}],\"scattermapbox\":[{\"type\":\"scattermapbox\",\"marker\":{\"colorbar\":{\"outlinewidth\":0,\"ticks\":\"\"}}}],\"scatterternary\":[{\"type\":\"scatterternary\",\"marker\":{\"colorbar\":{\"outlinewidth\":0,\"ticks\":\"\"}}}],\"scattercarpet\":[{\"type\":\"scattercarpet\",\"marker\":{\"colorbar\":{\"outlinewidth\":0,\"ticks\":\"\"}}}],\"carpet\":[{\"aaxis\":{\"endlinecolor\":\"#2a3f5f\",\"gridcolor\":\"white\",\"linecolor\":\"white\",\"minorgridcolor\":\"white\",\"startlinecolor\":\"#2a3f5f\"},\"baxis\":{\"endlinecolor\":\"#2a3f5f\",\"gridcolor\":\"white\",\"linecolor\":\"white\",\"minorgridcolor\":\"white\",\"startlinecolor\":\"#2a3f5f\"},\"type\":\"carpet\"}],\"table\":[{\"cells\":{\"fill\":{\"color\":\"#EBF0F8\"},\"line\":{\"color\":\"white\"}},\"header\":{\"fill\":{\"color\":\"#C8D4E3\"},\"line\":{\"color\":\"white\"}},\"type\":\"table\"}],\"barpolar\":[{\"marker\":{\"line\":{\"color\":\"#E5ECF6\",\"width\":0.5},\"pattern\":{\"fillmode\":\"overlay\",\"size\":10,\"solidity\":0.2}},\"type\":\"barpolar\"}],\"pie\":[{\"automargin\":true,\"type\":\"pie\"}]},\"layout\":{\"autotypenumbers\":\"strict\",\"colorway\":[\"#636efa\",\"#EF553B\",\"#00cc96\",\"#ab63fa\",\"#FFA15A\",\"#19d3f3\",\"#FF6692\",\"#B6E880\",\"#FF97FF\",\"#FECB52\"],\"font\":{\"color\":\"#2a3f5f\"},\"hovermode\":\"closest\",\"hoverlabel\":{\"align\":\"left\"},\"paper_bgcolor\":\"white\",\"plot_bgcolor\":\"#E5ECF6\",\"polar\":{\"bgcolor\":\"#E5ECF6\",\"angularaxis\":{\"gridcolor\":\"white\",\"linecolor\":\"white\",\"ticks\":\"\"},\"radialaxis\":{\"gridcolor\":\"white\",\"linecolor\":\"white\",\"ticks\":\"\"}},\"ternary\":{\"bgcolor\":\"#E5ECF6\",\"aaxis\":{\"gridcolor\":\"white\",\"linecolor\":\"white\",\"ticks\":\"\"},\"baxis\":{\"gridcolor\":\"white\",\"linecolor\":\"white\",\"ticks\":\"\"},\"caxis\":{\"gridcolor\":\"white\",\"linecolor\":\"white\",\"ticks\":\"\"}},\"coloraxis\":{\"colorbar\":{\"outlinewidth\":0,\"ticks\":\"\"}},\"colorscale\":{\"sequential\":[[0.0,\"#0d0887\"],[0.1111111111111111,\"#46039f\"],[0.2222222222222222,\"#7201a8\"],[0.3333333333333333,\"#9c179e\"],[0.4444444444444444,\"#bd3786\"],[0.5555555555555556,\"#d8576b\"],[0.6666666666666666,\"#ed7953\"],[0.7777777777777778,\"#fb9f3a\"],[0.8888888888888888,\"#fdca26\"],[1.0,\"#f0f921\"]],\"sequentialminus\":[[0.0,\"#0d0887\"],[0.1111111111111111,\"#46039f\"],[0.2222222222222222,\"#7201a8\"],[0.3333333333333333,\"#9c179e\"],[0.4444444444444444,\"#bd3786\"],[0.5555555555555556,\"#d8576b\"],[0.6666666666666666,\"#ed7953\"],[0.7777777777777778,\"#fb9f3a\"],[0.8888888888888888,\"#fdca26\"],[1.0,\"#f0f921\"]],\"diverging\":[[0,\"#8e0152\"],[0.1,\"#c51b7d\"],[0.2,\"#de77ae\"],[0.3,\"#f1b6da\"],[0.4,\"#fde0ef\"],[0.5,\"#f7f7f7\"],[0.6,\"#e6f5d0\"],[0.7,\"#b8e186\"],[0.8,\"#7fbc41\"],[0.9,\"#4d9221\"],[1,\"#276419\"]]},\"xaxis\":{\"gridcolor\":\"white\",\"linecolor\":\"white\",\"ticks\":\"\",\"title\":{\"standoff\":15},\"zerolinecolor\":\"white\",\"automargin\":true,\"zerolinewidth\":2},\"yaxis\":{\"gridcolor\":\"white\",\"linecolor\":\"white\",\"ticks\":\"\",\"title\":{\"standoff\":15},\"zerolinecolor\":\"white\",\"automargin\":true,\"zerolinewidth\":2},\"scene\":{\"xaxis\":{\"backgroundcolor\":\"#E5ECF6\",\"gridcolor\":\"white\",\"linecolor\":\"white\",\"showbackground\":true,\"ticks\":\"\",\"zerolinecolor\":\"white\",\"gridwidth\":2},\"yaxis\":{\"backgroundcolor\":\"#E5ECF6\",\"gridcolor\":\"white\",\"linecolor\":\"white\",\"showbackground\":true,\"ticks\":\"\",\"zerolinecolor\":\"white\",\"gridwidth\":2},\"zaxis\":{\"backgroundcolor\":\"#E5ECF6\",\"gridcolor\":\"white\",\"linecolor\":\"white\",\"showbackground\":true,\"ticks\":\"\",\"zerolinecolor\":\"white\",\"gridwidth\":2}},\"shapedefaults\":{\"line\":{\"color\":\"#2a3f5f\"}},\"annotationdefaults\":{\"arrowcolor\":\"#2a3f5f\",\"arrowhead\":0,\"arrowwidth\":1},\"geo\":{\"bgcolor\":\"white\",\"landcolor\":\"#E5ECF6\",\"subunitcolor\":\"white\",\"showland\":true,\"showlakes\":true,\"lakecolor\":\"white\"},\"title\":{\"x\":0.05},\"mapbox\":{\"style\":\"light\"}}},\"xaxis\":{\"anchor\":\"y\",\"domain\":[0.0,1.0],\"title\":{\"text\":\"\\u003cb\\u003eInterviewed (Type d'action)\\u003c\\u002fb\\u003e\"}},\"yaxis\":{\"anchor\":\"x\",\"domain\":[0.0,1.0],\"title\":{\"text\":\"\\u003cb\\u003eOccurences\\u003c\\u002fb\\u003e\"}},\"legend\":{\"tracegroupgap\":0},\"title\":{\"text\":\"\\u003cb\\u003eR\\u00e9partition des top types d'action en fonction des status de la demande : Cas de Interviewed\\u003c\\u002fb\\u003e\",\"x\":0.5},\"barmode\":\"relative\"},                        {\"responsive\": true}                    ).then(function(){\n",
       "                            \n",
       "var gd = document.getElementById('7cc86489-110e-49a9-931c-5bf677a7812e');\n",
       "var x = new MutationObserver(function (mutations, observer) {{\n",
       "        var display = window.getComputedStyle(gd).display;\n",
       "        if (!display || display === 'none') {{\n",
       "            console.log([gd, 'removed!']);\n",
       "            Plotly.purge(gd);\n",
       "            observer.disconnect();\n",
       "        }}\n",
       "}});\n",
       "\n",
       "// Listen for the removal of the full notebook cells\n",
       "var notebookContainer = gd.closest('#notebook-container');\n",
       "if (notebookContainer) {{\n",
       "    x.observe(notebookContainer, {childList: true});\n",
       "}}\n",
       "\n",
       "// Listen for the clearing of the current output cell\n",
       "var outputEl = gd.closest('.output');\n",
       "if (outputEl) {{\n",
       "    x.observe(outputEl, {childList: true});\n",
       "}}\n",
       "\n",
       "                        })                };                });            </script>        </div>"
      ]
     },
     "metadata": {},
     "output_type": "display_data"
    }
   ],
   "source": [
    "#Graph associé à la requête précédente : interviewed\n",
    "interviewed = design_viz(request_status_interviewed, xlab='Interviewed (Action Type)', \n",
    "           title='Répartition des top types d\\'action en fonction des status de la demande : Cas de Interviewed', \n",
    "           ylab='Occurences', label={'Interviewed (Action Type)': f'<b>Interviewed (Type d\\'action)</b>', 'Occurences': f'<b>Occurences</b>'})\n",
    "interviewed"
   ]
  },
  {
   "cell_type": "code",
   "execution_count": 61,
   "id": "3e80cc41-41cf-44f4-943d-cd400607c828",
   "metadata": {},
   "outputs": [
    {
     "data": {
      "text/html": [
       "<div>\n",
       "<style scoped>\n",
       "    .dataframe tbody tr th:only-of-type {\n",
       "        vertical-align: middle;\n",
       "    }\n",
       "\n",
       "    .dataframe tbody tr th {\n",
       "        vertical-align: top;\n",
       "    }\n",
       "\n",
       "    .dataframe thead th {\n",
       "        text-align: right;\n",
       "    }\n",
       "</style>\n",
       "<table border=\"1\" class=\"dataframe\">\n",
       "  <thead>\n",
       "    <tr style=\"text-align: right;\">\n",
       "      <th></th>\n",
       "      <th>Hired (Action Type)</th>\n",
       "      <th>Occurences</th>\n",
       "    </tr>\n",
       "  </thead>\n",
       "  <tbody>\n",
       "    <tr>\n",
       "      <th>0</th>\n",
       "      <td>employer_reminder_1</td>\n",
       "      <td>36</td>\n",
       "    </tr>\n",
       "    <tr>\n",
       "      <th>6</th>\n",
       "      <td>resume_coaching</td>\n",
       "      <td>34</td>\n",
       "    </tr>\n",
       "    <tr>\n",
       "      <th>4</th>\n",
       "      <td>proposed_email</td>\n",
       "      <td>22</td>\n",
       "    </tr>\n",
       "    <tr>\n",
       "      <th>5</th>\n",
       "      <td>proposed_sms</td>\n",
       "      <td>18</td>\n",
       "    </tr>\n",
       "    <tr>\n",
       "      <th>3</th>\n",
       "      <td>proposed_call</td>\n",
       "      <td>17</td>\n",
       "    </tr>\n",
       "    <tr>\n",
       "      <th>2</th>\n",
       "      <td>interview_coaching</td>\n",
       "      <td>15</td>\n",
       "    </tr>\n",
       "    <tr>\n",
       "      <th>1</th>\n",
       "      <td>employer_reminder_2</td>\n",
       "      <td>7</td>\n",
       "    </tr>\n",
       "  </tbody>\n",
       "</table>\n",
       "</div>"
      ],
      "text/plain": [
       "   Hired (Action Type)  Occurences\n",
       "0  employer_reminder_1          36\n",
       "6      resume_coaching          34\n",
       "4       proposed_email          22\n",
       "5         proposed_sms          18\n",
       "3        proposed_call          17\n",
       "2   interview_coaching          15\n",
       "1  employer_reminder_2           7"
      ]
     },
     "execution_count": 61,
     "metadata": {},
     "output_type": "execute_result"
    }
   ],
   "source": [
    "# Repartition des top types d'action en fonction des status de la demande : hired\n",
    "request_status_hired = df[df['status'] == 'hired'][['action_type']].groupby('action_type').size().reset_index(name=\"Occurences\").sort_values(by='Occurences', ascending=False).rename(columns={'action_type': 'Hired (Action Type)'})\n",
    "request_status_hired"
   ]
  },
  {
   "cell_type": "code",
   "execution_count": 63,
   "id": "e8357787-8546-4c35-b300-a90b89dddfe1",
   "metadata": {},
   "outputs": [
    {
     "data": {
      "application/vnd.plotly.v1+json": {
       "config": {
        "plotlyServerURL": "https://plot.ly"
       },
       "data": [
        {
         "alignmentgroup": "True",
         "hovertemplate": "<b>Hired (Type d'action)</b>=%{x}<br><b>Occurences</b>=%{y}<extra></extra>",
         "legendgroup": "",
         "marker": {
          "color": "#636efa",
          "pattern": {
           "shape": ""
          }
         },
         "name": "",
         "offsetgroup": "",
         "orientation": "v",
         "showlegend": false,
         "textposition": "auto",
         "type": "bar",
         "x": [
          "employer_reminder_1",
          "resume_coaching",
          "proposed_email",
          "proposed_sms",
          "proposed_call",
          "interview_coaching",
          "employer_reminder_2"
         ],
         "xaxis": "x",
         "y": [
          36,
          34,
          22,
          18,
          17,
          15,
          7
         ],
         "yaxis": "y"
        }
       ],
       "layout": {
        "autosize": true,
        "barmode": "relative",
        "legend": {
         "tracegroupgap": 0
        },
        "template": {
         "data": {
          "bar": [
           {
            "error_x": {
             "color": "#2a3f5f"
            },
            "error_y": {
             "color": "#2a3f5f"
            },
            "marker": {
             "line": {
              "color": "#E5ECF6",
              "width": 0.5
             },
             "pattern": {
              "fillmode": "overlay",
              "size": 10,
              "solidity": 0.2
             }
            },
            "type": "bar"
           }
          ],
          "barpolar": [
           {
            "marker": {
             "line": {
              "color": "#E5ECF6",
              "width": 0.5
             },
             "pattern": {
              "fillmode": "overlay",
              "size": 10,
              "solidity": 0.2
             }
            },
            "type": "barpolar"
           }
          ],
          "carpet": [
           {
            "aaxis": {
             "endlinecolor": "#2a3f5f",
             "gridcolor": "white",
             "linecolor": "white",
             "minorgridcolor": "white",
             "startlinecolor": "#2a3f5f"
            },
            "baxis": {
             "endlinecolor": "#2a3f5f",
             "gridcolor": "white",
             "linecolor": "white",
             "minorgridcolor": "white",
             "startlinecolor": "#2a3f5f"
            },
            "type": "carpet"
           }
          ],
          "choropleth": [
           {
            "colorbar": {
             "outlinewidth": 0,
             "ticks": ""
            },
            "type": "choropleth"
           }
          ],
          "contour": [
           {
            "colorbar": {
             "outlinewidth": 0,
             "ticks": ""
            },
            "colorscale": [
             [
              0,
              "#0d0887"
             ],
             [
              0.1111111111111111,
              "#46039f"
             ],
             [
              0.2222222222222222,
              "#7201a8"
             ],
             [
              0.3333333333333333,
              "#9c179e"
             ],
             [
              0.4444444444444444,
              "#bd3786"
             ],
             [
              0.5555555555555556,
              "#d8576b"
             ],
             [
              0.6666666666666666,
              "#ed7953"
             ],
             [
              0.7777777777777778,
              "#fb9f3a"
             ],
             [
              0.8888888888888888,
              "#fdca26"
             ],
             [
              1,
              "#f0f921"
             ]
            ],
            "type": "contour"
           }
          ],
          "contourcarpet": [
           {
            "colorbar": {
             "outlinewidth": 0,
             "ticks": ""
            },
            "type": "contourcarpet"
           }
          ],
          "heatmap": [
           {
            "colorbar": {
             "outlinewidth": 0,
             "ticks": ""
            },
            "colorscale": [
             [
              0,
              "#0d0887"
             ],
             [
              0.1111111111111111,
              "#46039f"
             ],
             [
              0.2222222222222222,
              "#7201a8"
             ],
             [
              0.3333333333333333,
              "#9c179e"
             ],
             [
              0.4444444444444444,
              "#bd3786"
             ],
             [
              0.5555555555555556,
              "#d8576b"
             ],
             [
              0.6666666666666666,
              "#ed7953"
             ],
             [
              0.7777777777777778,
              "#fb9f3a"
             ],
             [
              0.8888888888888888,
              "#fdca26"
             ],
             [
              1,
              "#f0f921"
             ]
            ],
            "type": "heatmap"
           }
          ],
          "heatmapgl": [
           {
            "colorbar": {
             "outlinewidth": 0,
             "ticks": ""
            },
            "colorscale": [
             [
              0,
              "#0d0887"
             ],
             [
              0.1111111111111111,
              "#46039f"
             ],
             [
              0.2222222222222222,
              "#7201a8"
             ],
             [
              0.3333333333333333,
              "#9c179e"
             ],
             [
              0.4444444444444444,
              "#bd3786"
             ],
             [
              0.5555555555555556,
              "#d8576b"
             ],
             [
              0.6666666666666666,
              "#ed7953"
             ],
             [
              0.7777777777777778,
              "#fb9f3a"
             ],
             [
              0.8888888888888888,
              "#fdca26"
             ],
             [
              1,
              "#f0f921"
             ]
            ],
            "type": "heatmapgl"
           }
          ],
          "histogram": [
           {
            "marker": {
             "pattern": {
              "fillmode": "overlay",
              "size": 10,
              "solidity": 0.2
             }
            },
            "type": "histogram"
           }
          ],
          "histogram2d": [
           {
            "colorbar": {
             "outlinewidth": 0,
             "ticks": ""
            },
            "colorscale": [
             [
              0,
              "#0d0887"
             ],
             [
              0.1111111111111111,
              "#46039f"
             ],
             [
              0.2222222222222222,
              "#7201a8"
             ],
             [
              0.3333333333333333,
              "#9c179e"
             ],
             [
              0.4444444444444444,
              "#bd3786"
             ],
             [
              0.5555555555555556,
              "#d8576b"
             ],
             [
              0.6666666666666666,
              "#ed7953"
             ],
             [
              0.7777777777777778,
              "#fb9f3a"
             ],
             [
              0.8888888888888888,
              "#fdca26"
             ],
             [
              1,
              "#f0f921"
             ]
            ],
            "type": "histogram2d"
           }
          ],
          "histogram2dcontour": [
           {
            "colorbar": {
             "outlinewidth": 0,
             "ticks": ""
            },
            "colorscale": [
             [
              0,
              "#0d0887"
             ],
             [
              0.1111111111111111,
              "#46039f"
             ],
             [
              0.2222222222222222,
              "#7201a8"
             ],
             [
              0.3333333333333333,
              "#9c179e"
             ],
             [
              0.4444444444444444,
              "#bd3786"
             ],
             [
              0.5555555555555556,
              "#d8576b"
             ],
             [
              0.6666666666666666,
              "#ed7953"
             ],
             [
              0.7777777777777778,
              "#fb9f3a"
             ],
             [
              0.8888888888888888,
              "#fdca26"
             ],
             [
              1,
              "#f0f921"
             ]
            ],
            "type": "histogram2dcontour"
           }
          ],
          "mesh3d": [
           {
            "colorbar": {
             "outlinewidth": 0,
             "ticks": ""
            },
            "type": "mesh3d"
           }
          ],
          "parcoords": [
           {
            "line": {
             "colorbar": {
              "outlinewidth": 0,
              "ticks": ""
             }
            },
            "type": "parcoords"
           }
          ],
          "pie": [
           {
            "automargin": true,
            "type": "pie"
           }
          ],
          "scatter": [
           {
            "fillpattern": {
             "fillmode": "overlay",
             "size": 10,
             "solidity": 0.2
            },
            "type": "scatter"
           }
          ],
          "scatter3d": [
           {
            "line": {
             "colorbar": {
              "outlinewidth": 0,
              "ticks": ""
             }
            },
            "marker": {
             "colorbar": {
              "outlinewidth": 0,
              "ticks": ""
             }
            },
            "type": "scatter3d"
           }
          ],
          "scattercarpet": [
           {
            "marker": {
             "colorbar": {
              "outlinewidth": 0,
              "ticks": ""
             }
            },
            "type": "scattercarpet"
           }
          ],
          "scattergeo": [
           {
            "marker": {
             "colorbar": {
              "outlinewidth": 0,
              "ticks": ""
             }
            },
            "type": "scattergeo"
           }
          ],
          "scattergl": [
           {
            "marker": {
             "colorbar": {
              "outlinewidth": 0,
              "ticks": ""
             }
            },
            "type": "scattergl"
           }
          ],
          "scattermapbox": [
           {
            "marker": {
             "colorbar": {
              "outlinewidth": 0,
              "ticks": ""
             }
            },
            "type": "scattermapbox"
           }
          ],
          "scatterpolar": [
           {
            "marker": {
             "colorbar": {
              "outlinewidth": 0,
              "ticks": ""
             }
            },
            "type": "scatterpolar"
           }
          ],
          "scatterpolargl": [
           {
            "marker": {
             "colorbar": {
              "outlinewidth": 0,
              "ticks": ""
             }
            },
            "type": "scatterpolargl"
           }
          ],
          "scatterternary": [
           {
            "marker": {
             "colorbar": {
              "outlinewidth": 0,
              "ticks": ""
             }
            },
            "type": "scatterternary"
           }
          ],
          "surface": [
           {
            "colorbar": {
             "outlinewidth": 0,
             "ticks": ""
            },
            "colorscale": [
             [
              0,
              "#0d0887"
             ],
             [
              0.1111111111111111,
              "#46039f"
             ],
             [
              0.2222222222222222,
              "#7201a8"
             ],
             [
              0.3333333333333333,
              "#9c179e"
             ],
             [
              0.4444444444444444,
              "#bd3786"
             ],
             [
              0.5555555555555556,
              "#d8576b"
             ],
             [
              0.6666666666666666,
              "#ed7953"
             ],
             [
              0.7777777777777778,
              "#fb9f3a"
             ],
             [
              0.8888888888888888,
              "#fdca26"
             ],
             [
              1,
              "#f0f921"
             ]
            ],
            "type": "surface"
           }
          ],
          "table": [
           {
            "cells": {
             "fill": {
              "color": "#EBF0F8"
             },
             "line": {
              "color": "white"
             }
            },
            "header": {
             "fill": {
              "color": "#C8D4E3"
             },
             "line": {
              "color": "white"
             }
            },
            "type": "table"
           }
          ]
         },
         "layout": {
          "annotationdefaults": {
           "arrowcolor": "#2a3f5f",
           "arrowhead": 0,
           "arrowwidth": 1
          },
          "autotypenumbers": "strict",
          "coloraxis": {
           "colorbar": {
            "outlinewidth": 0,
            "ticks": ""
           }
          },
          "colorscale": {
           "diverging": [
            [
             0,
             "#8e0152"
            ],
            [
             0.1,
             "#c51b7d"
            ],
            [
             0.2,
             "#de77ae"
            ],
            [
             0.3,
             "#f1b6da"
            ],
            [
             0.4,
             "#fde0ef"
            ],
            [
             0.5,
             "#f7f7f7"
            ],
            [
             0.6,
             "#e6f5d0"
            ],
            [
             0.7,
             "#b8e186"
            ],
            [
             0.8,
             "#7fbc41"
            ],
            [
             0.9,
             "#4d9221"
            ],
            [
             1,
             "#276419"
            ]
           ],
           "sequential": [
            [
             0,
             "#0d0887"
            ],
            [
             0.1111111111111111,
             "#46039f"
            ],
            [
             0.2222222222222222,
             "#7201a8"
            ],
            [
             0.3333333333333333,
             "#9c179e"
            ],
            [
             0.4444444444444444,
             "#bd3786"
            ],
            [
             0.5555555555555556,
             "#d8576b"
            ],
            [
             0.6666666666666666,
             "#ed7953"
            ],
            [
             0.7777777777777778,
             "#fb9f3a"
            ],
            [
             0.8888888888888888,
             "#fdca26"
            ],
            [
             1,
             "#f0f921"
            ]
           ],
           "sequentialminus": [
            [
             0,
             "#0d0887"
            ],
            [
             0.1111111111111111,
             "#46039f"
            ],
            [
             0.2222222222222222,
             "#7201a8"
            ],
            [
             0.3333333333333333,
             "#9c179e"
            ],
            [
             0.4444444444444444,
             "#bd3786"
            ],
            [
             0.5555555555555556,
             "#d8576b"
            ],
            [
             0.6666666666666666,
             "#ed7953"
            ],
            [
             0.7777777777777778,
             "#fb9f3a"
            ],
            [
             0.8888888888888888,
             "#fdca26"
            ],
            [
             1,
             "#f0f921"
            ]
           ]
          },
          "colorway": [
           "#636efa",
           "#EF553B",
           "#00cc96",
           "#ab63fa",
           "#FFA15A",
           "#19d3f3",
           "#FF6692",
           "#B6E880",
           "#FF97FF",
           "#FECB52"
          ],
          "font": {
           "color": "#2a3f5f"
          },
          "geo": {
           "bgcolor": "white",
           "lakecolor": "white",
           "landcolor": "#E5ECF6",
           "showlakes": true,
           "showland": true,
           "subunitcolor": "white"
          },
          "hoverlabel": {
           "align": "left"
          },
          "hovermode": "closest",
          "mapbox": {
           "style": "light"
          },
          "paper_bgcolor": "white",
          "plot_bgcolor": "#E5ECF6",
          "polar": {
           "angularaxis": {
            "gridcolor": "white",
            "linecolor": "white",
            "ticks": ""
           },
           "bgcolor": "#E5ECF6",
           "radialaxis": {
            "gridcolor": "white",
            "linecolor": "white",
            "ticks": ""
           }
          },
          "scene": {
           "xaxis": {
            "backgroundcolor": "#E5ECF6",
            "gridcolor": "white",
            "gridwidth": 2,
            "linecolor": "white",
            "showbackground": true,
            "ticks": "",
            "zerolinecolor": "white"
           },
           "yaxis": {
            "backgroundcolor": "#E5ECF6",
            "gridcolor": "white",
            "gridwidth": 2,
            "linecolor": "white",
            "showbackground": true,
            "ticks": "",
            "zerolinecolor": "white"
           },
           "zaxis": {
            "backgroundcolor": "#E5ECF6",
            "gridcolor": "white",
            "gridwidth": 2,
            "linecolor": "white",
            "showbackground": true,
            "ticks": "",
            "zerolinecolor": "white"
           }
          },
          "shapedefaults": {
           "line": {
            "color": "#2a3f5f"
           }
          },
          "ternary": {
           "aaxis": {
            "gridcolor": "white",
            "linecolor": "white",
            "ticks": ""
           },
           "baxis": {
            "gridcolor": "white",
            "linecolor": "white",
            "ticks": ""
           },
           "bgcolor": "#E5ECF6",
           "caxis": {
            "gridcolor": "white",
            "linecolor": "white",
            "ticks": ""
           }
          },
          "title": {
           "x": 0.05
          },
          "xaxis": {
           "automargin": true,
           "gridcolor": "white",
           "linecolor": "white",
           "ticks": "",
           "title": {
            "standoff": 15
           },
           "zerolinecolor": "white",
           "zerolinewidth": 2
          },
          "yaxis": {
           "automargin": true,
           "gridcolor": "white",
           "linecolor": "white",
           "ticks": "",
           "title": {
            "standoff": 15
           },
           "zerolinecolor": "white",
           "zerolinewidth": 2
          }
         }
        },
        "title": {
         "text": "<b>Répartition des top types d'action en fonction des status de la demande : Cas de Hired</b>",
         "x": 0.5
        },
        "xaxis": {
         "anchor": "y",
         "autorange": true,
         "domain": [
          0,
          1
         ],
         "range": [
          -0.5,
          6.5
         ],
         "title": {
          "text": "<b>Hired (Type d'action)</b>"
         },
         "type": "category"
        },
        "yaxis": {
         "anchor": "x",
         "autorange": true,
         "domain": [
          0,
          1
         ],
         "range": [
          0,
          37.89473684210526
         ],
         "title": {
          "text": "<b>Occurences</b>"
         },
         "type": "linear"
        }
       }
      },
      "image/png": "[encoded data removed]",
      "text/html": [
       "<div>                            <div id=\"c7de7768-1e0a-46a1-943b-8a0513078a26\" class=\"plotly-graph-div\" style=\"height:525px; width:100%;\"></div>            <script type=\"text/javascript\">                require([\"plotly\"], function(Plotly) {                    window.PLOTLYENV=window.PLOTLYENV || {};                                    if (document.getElementById(\"c7de7768-1e0a-46a1-943b-8a0513078a26\")) {                    Plotly.newPlot(                        \"c7de7768-1e0a-46a1-943b-8a0513078a26\",                        [{\"alignmentgroup\":\"True\",\"hovertemplate\":\"\\u003cb\\u003eHired (Type d'action)\\u003c\\u002fb\\u003e=%{x}\\u003cbr\\u003e\\u003cb\\u003eOccurences\\u003c\\u002fb\\u003e=%{y}\\u003cextra\\u003e\\u003c\\u002fextra\\u003e\",\"legendgroup\":\"\",\"marker\":{\"color\":\"#636efa\",\"pattern\":{\"shape\":\"\"}},\"name\":\"\",\"offsetgroup\":\"\",\"orientation\":\"v\",\"showlegend\":false,\"textposition\":\"auto\",\"x\":[\"employer_reminder_1\",\"resume_coaching\",\"proposed_email\",\"proposed_sms\",\"proposed_call\",\"interview_coaching\",\"employer_reminder_2\"],\"xaxis\":\"x\",\"y\":[36,34,22,18,17,15,7],\"yaxis\":\"y\",\"type\":\"bar\"}],                        {\"template\":{\"data\":{\"histogram2dcontour\":[{\"type\":\"histogram2dcontour\",\"colorbar\":{\"outlinewidth\":0,\"ticks\":\"\"},\"colorscale\":[[0.0,\"#0d0887\"],[0.1111111111111111,\"#46039f\"],[0.2222222222222222,\"#7201a8\"],[0.3333333333333333,\"#9c179e\"],[0.4444444444444444,\"#bd3786\"],[0.5555555555555556,\"#d8576b\"],[0.6666666666666666,\"#ed7953\"],[0.7777777777777778,\"#fb9f3a\"],[0.8888888888888888,\"#fdca26\"],[1.0,\"#f0f921\"]]}],\"choropleth\":[{\"type\":\"choropleth\",\"colorbar\":{\"outlinewidth\":0,\"ticks\":\"\"}}],\"histogram2d\":[{\"type\":\"histogram2d\",\"colorbar\":{\"outlinewidth\":0,\"ticks\":\"\"},\"colorscale\":[[0.0,\"#0d0887\"],[0.1111111111111111,\"#46039f\"],[0.2222222222222222,\"#7201a8\"],[0.3333333333333333,\"#9c179e\"],[0.4444444444444444,\"#bd3786\"],[0.5555555555555556,\"#d8576b\"],[0.6666666666666666,\"#ed7953\"],[0.7777777777777778,\"#fb9f3a\"],[0.8888888888888888,\"#fdca26\"],[1.0,\"#f0f921\"]]}],\"heatmap\":[{\"type\":\"heatmap\",\"colorbar\":{\"outlinewidth\":0,\"ticks\":\"\"},\"colorscale\":[[0.0,\"#0d0887\"],[0.1111111111111111,\"#46039f\"],[0.2222222222222222,\"#7201a8\"],[0.3333333333333333,\"#9c179e\"],[0.4444444444444444,\"#bd3786\"],[0.5555555555555556,\"#d8576b\"],[0.6666666666666666,\"#ed7953\"],[0.7777777777777778,\"#fb9f3a\"],[0.8888888888888888,\"#fdca26\"],[1.0,\"#f0f921\"]]}],\"heatmapgl\":[{\"type\":\"heatmapgl\",\"colorbar\":{\"outlinewidth\":0,\"ticks\":\"\"},\"colorscale\":[[0.0,\"#0d0887\"],[0.1111111111111111,\"#46039f\"],[0.2222222222222222,\"#7201a8\"],[0.3333333333333333,\"#9c179e\"],[0.4444444444444444,\"#bd3786\"],[0.5555555555555556,\"#d8576b\"],[0.6666666666666666,\"#ed7953\"],[0.7777777777777778,\"#fb9f3a\"],[0.8888888888888888,\"#fdca26\"],[1.0,\"#f0f921\"]]}],\"contourcarpet\":[{\"type\":\"contourcarpet\",\"colorbar\":{\"outlinewidth\":0,\"ticks\":\"\"}}],\"contour\":[{\"type\":\"contour\",\"colorbar\":{\"outlinewidth\":0,\"ticks\":\"\"},\"colorscale\":[[0.0,\"#0d0887\"],[0.1111111111111111,\"#46039f\"],[0.2222222222222222,\"#7201a8\"],[0.3333333333333333,\"#9c179e\"],[0.4444444444444444,\"#bd3786\"],[0.5555555555555556,\"#d8576b\"],[0.6666666666666666,\"#ed7953\"],[0.7777777777777778,\"#fb9f3a\"],[0.8888888888888888,\"#fdca26\"],[1.0,\"#f0f921\"]]}],\"surface\":[{\"type\":\"surface\",\"colorbar\":{\"outlinewidth\":0,\"ticks\":\"\"},\"colorscale\":[[0.0,\"#0d0887\"],[0.1111111111111111,\"#46039f\"],[0.2222222222222222,\"#7201a8\"],[0.3333333333333333,\"#9c179e\"],[0.4444444444444444,\"#bd3786\"],[0.5555555555555556,\"#d8576b\"],[0.6666666666666666,\"#ed7953\"],[0.7777777777777778,\"#fb9f3a\"],[0.8888888888888888,\"#fdca26\"],[1.0,\"#f0f921\"]]}],\"mesh3d\":[{\"type\":\"mesh3d\",\"colorbar\":{\"outlinewidth\":0,\"ticks\":\"\"}}],\"scatter\":[{\"fillpattern\":{\"fillmode\":\"overlay\",\"size\":10,\"solidity\":0.2},\"type\":\"scatter\"}],\"parcoords\":[{\"type\":\"parcoords\",\"line\":{\"colorbar\":{\"outlinewidth\":0,\"ticks\":\"\"}}}],\"scatterpolargl\":[{\"type\":\"scatterpolargl\",\"marker\":{\"colorbar\":{\"outlinewidth\":0,\"ticks\":\"\"}}}],\"bar\":[{\"error_x\":{\"color\":\"#2a3f5f\"},\"error_y\":{\"color\":\"#2a3f5f\"},\"marker\":{\"line\":{\"color\":\"#E5ECF6\",\"width\":0.5},\"pattern\":{\"fillmode\":\"overlay\",\"size\":10,\"solidity\":0.2}},\"type\":\"bar\"}],\"scattergeo\":[{\"type\":\"scattergeo\",\"marker\":{\"colorbar\":{\"outlinewidth\":0,\"ticks\":\"\"}}}],\"scatterpolar\":[{\"type\":\"scatterpolar\",\"marker\":{\"colorbar\":{\"outlinewidth\":0,\"ticks\":\"\"}}}],\"histogram\":[{\"marker\":{\"pattern\":{\"fillmode\":\"overlay\",\"size\":10,\"solidity\":0.2}},\"type\":\"histogram\"}],\"scattergl\":[{\"type\":\"scattergl\",\"marker\":{\"colorbar\":{\"outlinewidth\":0,\"ticks\":\"\"}}}],\"scatter3d\":[{\"type\":\"scatter3d\",\"line\":{\"colorbar\":{\"outlinewidth\":0,\"ticks\":\"\"}},\"marker\":{\"colorbar\":{\"outlinewidth\":0,\"ticks\":\"\"}}}],\"scattermapbox\":[{\"type\":\"scattermapbox\",\"marker\":{\"colorbar\":{\"outlinewidth\":0,\"ticks\":\"\"}}}],\"scatterternary\":[{\"type\":\"scatterternary\",\"marker\":{\"colorbar\":{\"outlinewidth\":0,\"ticks\":\"\"}}}],\"scattercarpet\":[{\"type\":\"scattercarpet\",\"marker\":{\"colorbar\":{\"outlinewidth\":0,\"ticks\":\"\"}}}],\"carpet\":[{\"aaxis\":{\"endlinecolor\":\"#2a3f5f\",\"gridcolor\":\"white\",\"linecolor\":\"white\",\"minorgridcolor\":\"white\",\"startlinecolor\":\"#2a3f5f\"},\"baxis\":{\"endlinecolor\":\"#2a3f5f\",\"gridcolor\":\"white\",\"linecolor\":\"white\",\"minorgridcolor\":\"white\",\"startlinecolor\":\"#2a3f5f\"},\"type\":\"carpet\"}],\"table\":[{\"cells\":{\"fill\":{\"color\":\"#EBF0F8\"},\"line\":{\"color\":\"white\"}},\"header\":{\"fill\":{\"color\":\"#C8D4E3\"},\"line\":{\"color\":\"white\"}},\"type\":\"table\"}],\"barpolar\":[{\"marker\":{\"line\":{\"color\":\"#E5ECF6\",\"width\":0.5},\"pattern\":{\"fillmode\":\"overlay\",\"size\":10,\"solidity\":0.2}},\"type\":\"barpolar\"}],\"pie\":[{\"automargin\":true,\"type\":\"pie\"}]},\"layout\":{\"autotypenumbers\":\"strict\",\"colorway\":[\"#636efa\",\"#EF553B\",\"#00cc96\",\"#ab63fa\",\"#FFA15A\",\"#19d3f3\",\"#FF6692\",\"#B6E880\",\"#FF97FF\",\"#FECB52\"],\"font\":{\"color\":\"#2a3f5f\"},\"hovermode\":\"closest\",\"hoverlabel\":{\"align\":\"left\"},\"paper_bgcolor\":\"white\",\"plot_bgcolor\":\"#E5ECF6\",\"polar\":{\"bgcolor\":\"#E5ECF6\",\"angularaxis\":{\"gridcolor\":\"white\",\"linecolor\":\"white\",\"ticks\":\"\"},\"radialaxis\":{\"gridcolor\":\"white\",\"linecolor\":\"white\",\"ticks\":\"\"}},\"ternary\":{\"bgcolor\":\"#E5ECF6\",\"aaxis\":{\"gridcolor\":\"white\",\"linecolor\":\"white\",\"ticks\":\"\"},\"baxis\":{\"gridcolor\":\"white\",\"linecolor\":\"white\",\"ticks\":\"\"},\"caxis\":{\"gridcolor\":\"white\",\"linecolor\":\"white\",\"ticks\":\"\"}},\"coloraxis\":{\"colorbar\":{\"outlinewidth\":0,\"ticks\":\"\"}},\"colorscale\":{\"sequential\":[[0.0,\"#0d0887\"],[0.1111111111111111,\"#46039f\"],[0.2222222222222222,\"#7201a8\"],[0.3333333333333333,\"#9c179e\"],[0.4444444444444444,\"#bd3786\"],[0.5555555555555556,\"#d8576b\"],[0.6666666666666666,\"#ed7953\"],[0.7777777777777778,\"#fb9f3a\"],[0.8888888888888888,\"#fdca26\"],[1.0,\"#f0f921\"]],\"sequentialminus\":[[0.0,\"#0d0887\"],[0.1111111111111111,\"#46039f\"],[0.2222222222222222,\"#7201a8\"],[0.3333333333333333,\"#9c179e\"],[0.4444444444444444,\"#bd3786\"],[0.5555555555555556,\"#d8576b\"],[0.6666666666666666,\"#ed7953\"],[0.7777777777777778,\"#fb9f3a\"],[0.8888888888888888,\"#fdca26\"],[1.0,\"#f0f921\"]],\"diverging\":[[0,\"#8e0152\"],[0.1,\"#c51b7d\"],[0.2,\"#de77ae\"],[0.3,\"#f1b6da\"],[0.4,\"#fde0ef\"],[0.5,\"#f7f7f7\"],[0.6,\"#e6f5d0\"],[0.7,\"#b8e186\"],[0.8,\"#7fbc41\"],[0.9,\"#4d9221\"],[1,\"#276419\"]]},\"xaxis\":{\"gridcolor\":\"white\",\"linecolor\":\"white\",\"ticks\":\"\",\"title\":{\"standoff\":15},\"zerolinecolor\":\"white\",\"automargin\":true,\"zerolinewidth\":2},\"yaxis\":{\"gridcolor\":\"white\",\"linecolor\":\"white\",\"ticks\":\"\",\"title\":{\"standoff\":15},\"zerolinecolor\":\"white\",\"automargin\":true,\"zerolinewidth\":2},\"scene\":{\"xaxis\":{\"backgroundcolor\":\"#E5ECF6\",\"gridcolor\":\"white\",\"linecolor\":\"white\",\"showbackground\":true,\"ticks\":\"\",\"zerolinecolor\":\"white\",\"gridwidth\":2},\"yaxis\":{\"backgroundcolor\":\"#E5ECF6\",\"gridcolor\":\"white\",\"linecolor\":\"white\",\"showbackground\":true,\"ticks\":\"\",\"zerolinecolor\":\"white\",\"gridwidth\":2},\"zaxis\":{\"backgroundcolor\":\"#E5ECF6\",\"gridcolor\":\"white\",\"linecolor\":\"white\",\"showbackground\":true,\"ticks\":\"\",\"zerolinecolor\":\"white\",\"gridwidth\":2}},\"shapedefaults\":{\"line\":{\"color\":\"#2a3f5f\"}},\"annotationdefaults\":{\"arrowcolor\":\"#2a3f5f\",\"arrowhead\":0,\"arrowwidth\":1},\"geo\":{\"bgcolor\":\"white\",\"landcolor\":\"#E5ECF6\",\"subunitcolor\":\"white\",\"showland\":true,\"showlakes\":true,\"lakecolor\":\"white\"},\"title\":{\"x\":0.05},\"mapbox\":{\"style\":\"light\"}}},\"xaxis\":{\"anchor\":\"y\",\"domain\":[0.0,1.0],\"title\":{\"text\":\"\\u003cb\\u003eHired (Type d'action)\\u003c\\u002fb\\u003e\"}},\"yaxis\":{\"anchor\":\"x\",\"domain\":[0.0,1.0],\"title\":{\"text\":\"\\u003cb\\u003eOccurences\\u003c\\u002fb\\u003e\"}},\"legend\":{\"tracegroupgap\":0},\"title\":{\"text\":\"\\u003cb\\u003eR\\u00e9partition des top types d'action en fonction des status de la demande : Cas de Hired\\u003c\\u002fb\\u003e\",\"x\":0.5},\"barmode\":\"relative\"},                        {\"responsive\": true}                    ).then(function(){\n",
       "                            \n",
       "var gd = document.getElementById('c7de7768-1e0a-46a1-943b-8a0513078a26');\n",
       "var x = new MutationObserver(function (mutations, observer) {{\n",
       "        var display = window.getComputedStyle(gd).display;\n",
       "        if (!display || display === 'none') {{\n",
       "            console.log([gd, 'removed!']);\n",
       "            Plotly.purge(gd);\n",
       "            observer.disconnect();\n",
       "        }}\n",
       "}});\n",
       "\n",
       "// Listen for the removal of the full notebook cells\n",
       "var notebookContainer = gd.closest('#notebook-container');\n",
       "if (notebookContainer) {{\n",
       "    x.observe(notebookContainer, {childList: true});\n",
       "}}\n",
       "\n",
       "// Listen for the clearing of the current output cell\n",
       "var outputEl = gd.closest('.output');\n",
       "if (outputEl) {{\n",
       "    x.observe(outputEl, {childList: true});\n",
       "}}\n",
       "\n",
       "                        })                };                });            </script>        </div>"
      ]
     },
     "metadata": {},
     "output_type": "display_data"
    }
   ],
   "source": [
    "#Graph associé à la requête précédente : hired\n",
    "hired =design_viz(request_status_hired, xlab='Hired (Action Type)', \n",
    "           title='Répartition des top types d\\'action en fonction des status de la demande : Cas de Hired', \n",
    "           ylab='Occurences', label={'Hired (Action Type)': f'<b>Hired (Type d\\'action)</b>', 'Occurences': f'<b>Occurences</b>'})\n",
    "hired"
   ]
  },
  {
   "cell_type": "code",
   "execution_count": 65,
   "id": "18b9447c-0692-48df-acda-7dbc76618a5f",
   "metadata": {},
   "outputs": [
    {
     "data": {
      "text/html": [
       "<div>\n",
       "<style scoped>\n",
       "    .dataframe tbody tr th:only-of-type {\n",
       "        vertical-align: middle;\n",
       "    }\n",
       "\n",
       "    .dataframe tbody tr th {\n",
       "        vertical-align: top;\n",
       "    }\n",
       "\n",
       "    .dataframe thead th {\n",
       "        text-align: right;\n",
       "    }\n",
       "</style>\n",
       "<table border=\"1\" class=\"dataframe\">\n",
       "  <thead>\n",
       "    <tr style=\"text-align: right;\">\n",
       "      <th></th>\n",
       "      <th>Refused Candidate (Action Type)</th>\n",
       "      <th>Occurences</th>\n",
       "    </tr>\n",
       "  </thead>\n",
       "  <tbody>\n",
       "    <tr>\n",
       "      <th>0</th>\n",
       "      <td>employer_reminder_1</td>\n",
       "      <td>26</td>\n",
       "    </tr>\n",
       "    <tr>\n",
       "      <th>3</th>\n",
       "      <td>proposed_call</td>\n",
       "      <td>26</td>\n",
       "    </tr>\n",
       "    <tr>\n",
       "      <th>4</th>\n",
       "      <td>proposed_email</td>\n",
       "      <td>23</td>\n",
       "    </tr>\n",
       "    <tr>\n",
       "      <th>5</th>\n",
       "      <td>proposed_sms</td>\n",
       "      <td>16</td>\n",
       "    </tr>\n",
       "    <tr>\n",
       "      <th>6</th>\n",
       "      <td>resume_coaching</td>\n",
       "      <td>14</td>\n",
       "    </tr>\n",
       "    <tr>\n",
       "      <th>1</th>\n",
       "      <td>employer_reminder_2</td>\n",
       "      <td>10</td>\n",
       "    </tr>\n",
       "    <tr>\n",
       "      <th>2</th>\n",
       "      <td>interview_coaching</td>\n",
       "      <td>1</td>\n",
       "    </tr>\n",
       "  </tbody>\n",
       "</table>\n",
       "</div>"
      ],
      "text/plain": [
       "  Refused Candidate (Action Type)  Occurences\n",
       "0             employer_reminder_1          26\n",
       "3                   proposed_call          26\n",
       "4                  proposed_email          23\n",
       "5                    proposed_sms          16\n",
       "6                 resume_coaching          14\n",
       "1             employer_reminder_2          10\n",
       "2              interview_coaching           1"
      ]
     },
     "execution_count": 65,
     "metadata": {},
     "output_type": "execute_result"
    }
   ],
   "source": [
    "# Repartition des top types d'action en fonction des status de la demande : refused_candidate\n",
    "request_status_refused_candidate = df[df['status'] == 'refused_candidate'][['action_type']].groupby('action_type').size().reset_index(name=\"Occurences\").sort_values(by='Occurences', ascending=False).rename(columns={'action_type': 'Refused Candidate (Action Type)'})\n",
    "request_status_refused_candidate"
   ]
  },
  {
   "cell_type": "code",
   "execution_count": 67,
   "id": "ca8e83d0-7052-42f5-b63e-c5056fd1f168",
   "metadata": {},
   "outputs": [
    {
     "data": {
      "application/vnd.plotly.v1+json": {
       "config": {
        "plotlyServerURL": "https://plot.ly"
       },
       "data": [
        {
         "alignmentgroup": "True",
         "hovertemplate": "<b>Refused Candidate (Type d'action)</b>=%{x}<br><b>Occurences</b>=%{y}<extra></extra>",
         "legendgroup": "",
         "marker": {
          "color": "#636efa",
          "pattern": {
           "shape": ""
          }
         },
         "name": "",
         "offsetgroup": "",
         "orientation": "v",
         "showlegend": false,
         "textposition": "auto",
         "type": "bar",
         "x": [
          "employer_reminder_1",
          "proposed_call",
          "proposed_email",
          "proposed_sms",
          "resume_coaching",
          "employer_reminder_2",
          "interview_coaching"
         ],
         "xaxis": "x",
         "y": [
          26,
          26,
          23,
          16,
          14,
          10,
          1
         ],
         "yaxis": "y"
        }
       ],
       "layout": {
        "autosize": true,
        "barmode": "relative",
        "legend": {
         "tracegroupgap": 0
        },
        "template": {
         "data": {
          "bar": [
           {
            "error_x": {
             "color": "#2a3f5f"
            },
            "error_y": {
             "color": "#2a3f5f"
            },
            "marker": {
             "line": {
              "color": "#E5ECF6",
              "width": 0.5
             },
             "pattern": {
              "fillmode": "overlay",
              "size": 10,
              "solidity": 0.2
             }
            },
            "type": "bar"
           }
          ],
          "barpolar": [
           {
            "marker": {
             "line": {
              "color": "#E5ECF6",
              "width": 0.5
             },
             "pattern": {
              "fillmode": "overlay",
              "size": 10,
              "solidity": 0.2
             }
            },
            "type": "barpolar"
           }
          ],
          "carpet": [
           {
            "aaxis": {
             "endlinecolor": "#2a3f5f",
             "gridcolor": "white",
             "linecolor": "white",
             "minorgridcolor": "white",
             "startlinecolor": "#2a3f5f"
            },
            "baxis": {
             "endlinecolor": "#2a3f5f",
             "gridcolor": "white",
             "linecolor": "white",
             "minorgridcolor": "white",
             "startlinecolor": "#2a3f5f"
            },
            "type": "carpet"
           }
          ],
          "choropleth": [
           {
            "colorbar": {
             "outlinewidth": 0,
             "ticks": ""
            },
            "type": "choropleth"
           }
          ],
          "contour": [
           {
            "colorbar": {
             "outlinewidth": 0,
             "ticks": ""
            },
            "colorscale": [
             [
              0,
              "#0d0887"
             ],
             [
              0.1111111111111111,
              "#46039f"
             ],
             [
              0.2222222222222222,
              "#7201a8"
             ],
             [
              0.3333333333333333,
              "#9c179e"
             ],
             [
              0.4444444444444444,
              "#bd3786"
             ],
             [
              0.5555555555555556,
              "#d8576b"
             ],
             [
              0.6666666666666666,
              "#ed7953"
             ],
             [
              0.7777777777777778,
              "#fb9f3a"
             ],
             [
              0.8888888888888888,
              "#fdca26"
             ],
             [
              1,
              "#f0f921"
             ]
            ],
            "type": "contour"
           }
          ],
          "contourcarpet": [
           {
            "colorbar": {
             "outlinewidth": 0,
             "ticks": ""
            },
            "type": "contourcarpet"
           }
          ],
          "heatmap": [
           {
            "colorbar": {
             "outlinewidth": 0,
             "ticks": ""
            },
            "colorscale": [
             [
              0,
              "#0d0887"
             ],
             [
              0.1111111111111111,
              "#46039f"
             ],
             [
              0.2222222222222222,
              "#7201a8"
             ],
             [
              0.3333333333333333,
              "#9c179e"
             ],
             [
              0.4444444444444444,
              "#bd3786"
             ],
             [
              0.5555555555555556,
              "#d8576b"
             ],
             [
              0.6666666666666666,
              "#ed7953"
             ],
             [
              0.7777777777777778,
              "#fb9f3a"
             ],
             [
              0.8888888888888888,
              "#fdca26"
             ],
             [
              1,
              "#f0f921"
             ]
            ],
            "type": "heatmap"
           }
          ],
          "heatmapgl": [
           {
            "colorbar": {
             "outlinewidth": 0,
             "ticks": ""
            },
            "colorscale": [
             [
              0,
              "#0d0887"
             ],
             [
              0.1111111111111111,
              "#46039f"
             ],
             [
              0.2222222222222222,
              "#7201a8"
             ],
             [
              0.3333333333333333,
              "#9c179e"
             ],
             [
              0.4444444444444444,
              "#bd3786"
             ],
             [
              0.5555555555555556,
              "#d8576b"
             ],
             [
              0.6666666666666666,
              "#ed7953"
             ],
             [
              0.7777777777777778,
              "#fb9f3a"
             ],
             [
              0.8888888888888888,
              "#fdca26"
             ],
             [
              1,
              "#f0f921"
             ]
            ],
            "type": "heatmapgl"
           }
          ],
          "histogram": [
           {
            "marker": {
             "pattern": {
              "fillmode": "overlay",
              "size": 10,
              "solidity": 0.2
             }
            },
            "type": "histogram"
           }
          ],
          "histogram2d": [
           {
            "colorbar": {
             "outlinewidth": 0,
             "ticks": ""
            },
            "colorscale": [
             [
              0,
              "#0d0887"
             ],
             [
              0.1111111111111111,
              "#46039f"
             ],
             [
              0.2222222222222222,
              "#7201a8"
             ],
             [
              0.3333333333333333,
              "#9c179e"
             ],
             [
              0.4444444444444444,
              "#bd3786"
             ],
             [
              0.5555555555555556,
              "#d8576b"
             ],
             [
              0.6666666666666666,
              "#ed7953"
             ],
             [
              0.7777777777777778,
              "#fb9f3a"
             ],
             [
              0.8888888888888888,
              "#fdca26"
             ],
             [
              1,
              "#f0f921"
             ]
            ],
            "type": "histogram2d"
           }
          ],
          "histogram2dcontour": [
           {
            "colorbar": {
             "outlinewidth": 0,
             "ticks": ""
            },
            "colorscale": [
             [
              0,
              "#0d0887"
             ],
             [
              0.1111111111111111,
              "#46039f"
             ],
             [
              0.2222222222222222,
              "#7201a8"
             ],
             [
              0.3333333333333333,
              "#9c179e"
             ],
             [
              0.4444444444444444,
              "#bd3786"
             ],
             [
              0.5555555555555556,
              "#d8576b"
             ],
             [
              0.6666666666666666,
              "#ed7953"
             ],
             [
              0.7777777777777778,
              "#fb9f3a"
             ],
             [
              0.8888888888888888,
              "#fdca26"
             ],
             [
              1,
              "#f0f921"
             ]
            ],
            "type": "histogram2dcontour"
           }
          ],
          "mesh3d": [
           {
            "colorbar": {
             "outlinewidth": 0,
             "ticks": ""
            },
            "type": "mesh3d"
           }
          ],
          "parcoords": [
           {
            "line": {
             "colorbar": {
              "outlinewidth": 0,
              "ticks": ""
             }
            },
            "type": "parcoords"
           }
          ],
          "pie": [
           {
            "automargin": true,
            "type": "pie"
           }
          ],
          "scatter": [
           {
            "fillpattern": {
             "fillmode": "overlay",
             "size": 10,
             "solidity": 0.2
            },
            "type": "scatter"
           }
          ],
          "scatter3d": [
           {
            "line": {
             "colorbar": {
              "outlinewidth": 0,
              "ticks": ""
             }
            },
            "marker": {
             "colorbar": {
              "outlinewidth": 0,
              "ticks": ""
             }
            },
            "type": "scatter3d"
           }
          ],
          "scattercarpet": [
           {
            "marker": {
             "colorbar": {
              "outlinewidth": 0,
              "ticks": ""
             }
            },
            "type": "scattercarpet"
           }
          ],
          "scattergeo": [
           {
            "marker": {
             "colorbar": {
              "outlinewidth": 0,
              "ticks": ""
             }
            },
            "type": "scattergeo"
           }
          ],
          "scattergl": [
           {
            "marker": {
             "colorbar": {
              "outlinewidth": 0,
              "ticks": ""
             }
            },
            "type": "scattergl"
           }
          ],
          "scattermapbox": [
           {
            "marker": {
             "colorbar": {
              "outlinewidth": 0,
              "ticks": ""
             }
            },
            "type": "scattermapbox"
           }
          ],
          "scatterpolar": [
           {
            "marker": {
             "colorbar": {
              "outlinewidth": 0,
              "ticks": ""
             }
            },
            "type": "scatterpolar"
           }
          ],
          "scatterpolargl": [
           {
            "marker": {
             "colorbar": {
              "outlinewidth": 0,
              "ticks": ""
             }
            },
            "type": "scatterpolargl"
           }
          ],
          "scatterternary": [
           {
            "marker": {
             "colorbar": {
              "outlinewidth": 0,
              "ticks": ""
             }
            },
            "type": "scatterternary"
           }
          ],
          "surface": [
           {
            "colorbar": {
             "outlinewidth": 0,
             "ticks": ""
            },
            "colorscale": [
             [
              0,
              "#0d0887"
             ],
             [
              0.1111111111111111,
              "#46039f"
             ],
             [
              0.2222222222222222,
              "#7201a8"
             ],
             [
              0.3333333333333333,
              "#9c179e"
             ],
             [
              0.4444444444444444,
              "#bd3786"
             ],
             [
              0.5555555555555556,
              "#d8576b"
             ],
             [
              0.6666666666666666,
              "#ed7953"
             ],
             [
              0.7777777777777778,
              "#fb9f3a"
             ],
             [
              0.8888888888888888,
              "#fdca26"
             ],
             [
              1,
              "#f0f921"
             ]
            ],
            "type": "surface"
           }
          ],
          "table": [
           {
            "cells": {
             "fill": {
              "color": "#EBF0F8"
             },
             "line": {
              "color": "white"
             }
            },
            "header": {
             "fill": {
              "color": "#C8D4E3"
             },
             "line": {
              "color": "white"
             }
            },
            "type": "table"
           }
          ]
         },
         "layout": {
          "annotationdefaults": {
           "arrowcolor": "#2a3f5f",
           "arrowhead": 0,
           "arrowwidth": 1
          },
          "autotypenumbers": "strict",
          "coloraxis": {
           "colorbar": {
            "outlinewidth": 0,
            "ticks": ""
           }
          },
          "colorscale": {
           "diverging": [
            [
             0,
             "#8e0152"
            ],
            [
             0.1,
             "#c51b7d"
            ],
            [
             0.2,
             "#de77ae"
            ],
            [
             0.3,
             "#f1b6da"
            ],
            [
             0.4,
             "#fde0ef"
            ],
            [
             0.5,
             "#f7f7f7"
            ],
            [
             0.6,
             "#e6f5d0"
            ],
            [
             0.7,
             "#b8e186"
            ],
            [
             0.8,
             "#7fbc41"
            ],
            [
             0.9,
             "#4d9221"
            ],
            [
             1,
             "#276419"
            ]
           ],
           "sequential": [
            [
             0,
             "#0d0887"
            ],
            [
             0.1111111111111111,
             "#46039f"
            ],
            [
             0.2222222222222222,
             "#7201a8"
            ],
            [
             0.3333333333333333,
             "#9c179e"
            ],
            [
             0.4444444444444444,
             "#bd3786"
            ],
            [
             0.5555555555555556,
             "#d8576b"
            ],
            [
             0.6666666666666666,
             "#ed7953"
            ],
            [
             0.7777777777777778,
             "#fb9f3a"
            ],
            [
             0.8888888888888888,
             "#fdca26"
            ],
            [
             1,
             "#f0f921"
            ]
           ],
           "sequentialminus": [
            [
             0,
             "#0d0887"
            ],
            [
             0.1111111111111111,
             "#46039f"
            ],
            [
             0.2222222222222222,
             "#7201a8"
            ],
            [
             0.3333333333333333,
             "#9c179e"
            ],
            [
             0.4444444444444444,
             "#bd3786"
            ],
            [
             0.5555555555555556,
             "#d8576b"
            ],
            [
             0.6666666666666666,
             "#ed7953"
            ],
            [
             0.7777777777777778,
             "#fb9f3a"
            ],
            [
             0.8888888888888888,
             "#fdca26"
            ],
            [
             1,
             "#f0f921"
            ]
           ]
          },
          "colorway": [
           "#636efa",
           "#EF553B",
           "#00cc96",
           "#ab63fa",
           "#FFA15A",
           "#19d3f3",
           "#FF6692",
           "#B6E880",
           "#FF97FF",
           "#FECB52"
          ],
          "font": {
           "color": "#2a3f5f"
          },
          "geo": {
           "bgcolor": "white",
           "lakecolor": "white",
           "landcolor": "#E5ECF6",
           "showlakes": true,
           "showland": true,
           "subunitcolor": "white"
          },
          "hoverlabel": {
           "align": "left"
          },
          "hovermode": "closest",
          "mapbox": {
           "style": "light"
          },
          "paper_bgcolor": "white",
          "plot_bgcolor": "#E5ECF6",
          "polar": {
           "angularaxis": {
            "gridcolor": "white",
            "linecolor": "white",
            "ticks": ""
           },
           "bgcolor": "#E5ECF6",
           "radialaxis": {
            "gridcolor": "white",
            "linecolor": "white",
            "ticks": ""
           }
          },
          "scene": {
           "xaxis": {
            "backgroundcolor": "#E5ECF6",
            "gridcolor": "white",
            "gridwidth": 2,
            "linecolor": "white",
            "showbackground": true,
            "ticks": "",
            "zerolinecolor": "white"
           },
           "yaxis": {
            "backgroundcolor": "#E5ECF6",
            "gridcolor": "white",
            "gridwidth": 2,
            "linecolor": "white",
            "showbackground": true,
            "ticks": "",
            "zerolinecolor": "white"
           },
           "zaxis": {
            "backgroundcolor": "#E5ECF6",
            "gridcolor": "white",
            "gridwidth": 2,
            "linecolor": "white",
            "showbackground": true,
            "ticks": "",
            "zerolinecolor": "white"
           }
          },
          "shapedefaults": {
           "line": {
            "color": "#2a3f5f"
           }
          },
          "ternary": {
           "aaxis": {
            "gridcolor": "white",
            "linecolor": "white",
            "ticks": ""
           },
           "baxis": {
            "gridcolor": "white",
            "linecolor": "white",
            "ticks": ""
           },
           "bgcolor": "#E5ECF6",
           "caxis": {
            "gridcolor": "white",
            "linecolor": "white",
            "ticks": ""
           }
          },
          "title": {
           "x": 0.05
          },
          "xaxis": {
           "automargin": true,
           "gridcolor": "white",
           "linecolor": "white",
           "ticks": "",
           "title": {
            "standoff": 15
           },
           "zerolinecolor": "white",
           "zerolinewidth": 2
          },
          "yaxis": {
           "automargin": true,
           "gridcolor": "white",
           "linecolor": "white",
           "ticks": "",
           "title": {
            "standoff": 15
           },
           "zerolinecolor": "white",
           "zerolinewidth": 2
          }
         }
        },
        "title": {
         "text": "<b>Répartition des top types d'action en fonction des status de la demande : Cas de Refused Candidate</b>",
         "x": 0.5
        },
        "xaxis": {
         "anchor": "y",
         "autorange": true,
         "domain": [
          0,
          1
         ],
         "range": [
          -0.5,
          6.5
         ],
         "title": {
          "text": "<b>Refused Candidate (Type d'action)</b>"
         },
         "type": "category"
        },
        "yaxis": {
         "anchor": "x",
         "autorange": true,
         "domain": [
          0,
          1
         ],
         "range": [
          0,
          27.36842105263158
         ],
         "title": {
          "text": "<b>Occurences</b>"
         },
         "type": "linear"
        }
       }
      },
      "image/png": "[encoded data removed]",
      "text/html": [
       "<div>                            <div id=\"80ace746-40f7-46d1-8de9-9e9e7a08a9e6\" class=\"plotly-graph-div\" style=\"height:525px; width:100%;\"></div>            <script type=\"text/javascript\">                require([\"plotly\"], function(Plotly) {                    window.PLOTLYENV=window.PLOTLYENV || {};                                    if (document.getElementById(\"80ace746-40f7-46d1-8de9-9e9e7a08a9e6\")) {                    Plotly.newPlot(                        \"80ace746-40f7-46d1-8de9-9e9e7a08a9e6\",                        [{\"alignmentgroup\":\"True\",\"hovertemplate\":\"\\u003cb\\u003eRefused Candidate (Type d'action)\\u003c\\u002fb\\u003e=%{x}\\u003cbr\\u003e\\u003cb\\u003eOccurences\\u003c\\u002fb\\u003e=%{y}\\u003cextra\\u003e\\u003c\\u002fextra\\u003e\",\"legendgroup\":\"\",\"marker\":{\"color\":\"#636efa\",\"pattern\":{\"shape\":\"\"}},\"name\":\"\",\"offsetgroup\":\"\",\"orientation\":\"v\",\"showlegend\":false,\"textposition\":\"auto\",\"x\":[\"employer_reminder_1\",\"proposed_call\",\"proposed_email\",\"proposed_sms\",\"resume_coaching\",\"employer_reminder_2\",\"interview_coaching\"],\"xaxis\":\"x\",\"y\":[26,26,23,16,14,10,1],\"yaxis\":\"y\",\"type\":\"bar\"}],                        {\"template\":{\"data\":{\"histogram2dcontour\":[{\"type\":\"histogram2dcontour\",\"colorbar\":{\"outlinewidth\":0,\"ticks\":\"\"},\"colorscale\":[[0.0,\"#0d0887\"],[0.1111111111111111,\"#46039f\"],[0.2222222222222222,\"#7201a8\"],[0.3333333333333333,\"#9c179e\"],[0.4444444444444444,\"#bd3786\"],[0.5555555555555556,\"#d8576b\"],[0.6666666666666666,\"#ed7953\"],[0.7777777777777778,\"#fb9f3a\"],[0.8888888888888888,\"#fdca26\"],[1.0,\"#f0f921\"]]}],\"choropleth\":[{\"type\":\"choropleth\",\"colorbar\":{\"outlinewidth\":0,\"ticks\":\"\"}}],\"histogram2d\":[{\"type\":\"histogram2d\",\"colorbar\":{\"outlinewidth\":0,\"ticks\":\"\"},\"colorscale\":[[0.0,\"#0d0887\"],[0.1111111111111111,\"#46039f\"],[0.2222222222222222,\"#7201a8\"],[0.3333333333333333,\"#9c179e\"],[0.4444444444444444,\"#bd3786\"],[0.5555555555555556,\"#d8576b\"],[0.6666666666666666,\"#ed7953\"],[0.7777777777777778,\"#fb9f3a\"],[0.8888888888888888,\"#fdca26\"],[1.0,\"#f0f921\"]]}],\"heatmap\":[{\"type\":\"heatmap\",\"colorbar\":{\"outlinewidth\":0,\"ticks\":\"\"},\"colorscale\":[[0.0,\"#0d0887\"],[0.1111111111111111,\"#46039f\"],[0.2222222222222222,\"#7201a8\"],[0.3333333333333333,\"#9c179e\"],[0.4444444444444444,\"#bd3786\"],[0.5555555555555556,\"#d8576b\"],[0.6666666666666666,\"#ed7953\"],[0.7777777777777778,\"#fb9f3a\"],[0.8888888888888888,\"#fdca26\"],[1.0,\"#f0f921\"]]}],\"heatmapgl\":[{\"type\":\"heatmapgl\",\"colorbar\":{\"outlinewidth\":0,\"ticks\":\"\"},\"colorscale\":[[0.0,\"#0d0887\"],[0.1111111111111111,\"#46039f\"],[0.2222222222222222,\"#7201a8\"],[0.3333333333333333,\"#9c179e\"],[0.4444444444444444,\"#bd3786\"],[0.5555555555555556,\"#d8576b\"],[0.6666666666666666,\"#ed7953\"],[0.7777777777777778,\"#fb9f3a\"],[0.8888888888888888,\"#fdca26\"],[1.0,\"#f0f921\"]]}],\"contourcarpet\":[{\"type\":\"contourcarpet\",\"colorbar\":{\"outlinewidth\":0,\"ticks\":\"\"}}],\"contour\":[{\"type\":\"contour\",\"colorbar\":{\"outlinewidth\":0,\"ticks\":\"\"},\"colorscale\":[[0.0,\"#0d0887\"],[0.1111111111111111,\"#46039f\"],[0.2222222222222222,\"#7201a8\"],[0.3333333333333333,\"#9c179e\"],[0.4444444444444444,\"#bd3786\"],[0.5555555555555556,\"#d8576b\"],[0.6666666666666666,\"#ed7953\"],[0.7777777777777778,\"#fb9f3a\"],[0.8888888888888888,\"#fdca26\"],[1.0,\"#f0f921\"]]}],\"surface\":[{\"type\":\"surface\",\"colorbar\":{\"outlinewidth\":0,\"ticks\":\"\"},\"colorscale\":[[0.0,\"#0d0887\"],[0.1111111111111111,\"#46039f\"],[0.2222222222222222,\"#7201a8\"],[0.3333333333333333,\"#9c179e\"],[0.4444444444444444,\"#bd3786\"],[0.5555555555555556,\"#d8576b\"],[0.6666666666666666,\"#ed7953\"],[0.7777777777777778,\"#fb9f3a\"],[0.8888888888888888,\"#fdca26\"],[1.0,\"#f0f921\"]]}],\"mesh3d\":[{\"type\":\"mesh3d\",\"colorbar\":{\"outlinewidth\":0,\"ticks\":\"\"}}],\"scatter\":[{\"fillpattern\":{\"fillmode\":\"overlay\",\"size\":10,\"solidity\":0.2},\"type\":\"scatter\"}],\"parcoords\":[{\"type\":\"parcoords\",\"line\":{\"colorbar\":{\"outlinewidth\":0,\"ticks\":\"\"}}}],\"scatterpolargl\":[{\"type\":\"scatterpolargl\",\"marker\":{\"colorbar\":{\"outlinewidth\":0,\"ticks\":\"\"}}}],\"bar\":[{\"error_x\":{\"color\":\"#2a3f5f\"},\"error_y\":{\"color\":\"#2a3f5f\"},\"marker\":{\"line\":{\"color\":\"#E5ECF6\",\"width\":0.5},\"pattern\":{\"fillmode\":\"overlay\",\"size\":10,\"solidity\":0.2}},\"type\":\"bar\"}],\"scattergeo\":[{\"type\":\"scattergeo\",\"marker\":{\"colorbar\":{\"outlinewidth\":0,\"ticks\":\"\"}}}],\"scatterpolar\":[{\"type\":\"scatterpolar\",\"marker\":{\"colorbar\":{\"outlinewidth\":0,\"ticks\":\"\"}}}],\"histogram\":[{\"marker\":{\"pattern\":{\"fillmode\":\"overlay\",\"size\":10,\"solidity\":0.2}},\"type\":\"histogram\"}],\"scattergl\":[{\"type\":\"scattergl\",\"marker\":{\"colorbar\":{\"outlinewidth\":0,\"ticks\":\"\"}}}],\"scatter3d\":[{\"type\":\"scatter3d\",\"line\":{\"colorbar\":{\"outlinewidth\":0,\"ticks\":\"\"}},\"marker\":{\"colorbar\":{\"outlinewidth\":0,\"ticks\":\"\"}}}],\"scattermapbox\":[{\"type\":\"scattermapbox\",\"marker\":{\"colorbar\":{\"outlinewidth\":0,\"ticks\":\"\"}}}],\"scatterternary\":[{\"type\":\"scatterternary\",\"marker\":{\"colorbar\":{\"outlinewidth\":0,\"ticks\":\"\"}}}],\"scattercarpet\":[{\"type\":\"scattercarpet\",\"marker\":{\"colorbar\":{\"outlinewidth\":0,\"ticks\":\"\"}}}],\"carpet\":[{\"aaxis\":{\"endlinecolor\":\"#2a3f5f\",\"gridcolor\":\"white\",\"linecolor\":\"white\",\"minorgridcolor\":\"white\",\"startlinecolor\":\"#2a3f5f\"},\"baxis\":{\"endlinecolor\":\"#2a3f5f\",\"gridcolor\":\"white\",\"linecolor\":\"white\",\"minorgridcolor\":\"white\",\"startlinecolor\":\"#2a3f5f\"},\"type\":\"carpet\"}],\"table\":[{\"cells\":{\"fill\":{\"color\":\"#EBF0F8\"},\"line\":{\"color\":\"white\"}},\"header\":{\"fill\":{\"color\":\"#C8D4E3\"},\"line\":{\"color\":\"white\"}},\"type\":\"table\"}],\"barpolar\":[{\"marker\":{\"line\":{\"color\":\"#E5ECF6\",\"width\":0.5},\"pattern\":{\"fillmode\":\"overlay\",\"size\":10,\"solidity\":0.2}},\"type\":\"barpolar\"}],\"pie\":[{\"automargin\":true,\"type\":\"pie\"}]},\"layout\":{\"autotypenumbers\":\"strict\",\"colorway\":[\"#636efa\",\"#EF553B\",\"#00cc96\",\"#ab63fa\",\"#FFA15A\",\"#19d3f3\",\"#FF6692\",\"#B6E880\",\"#FF97FF\",\"#FECB52\"],\"font\":{\"color\":\"#2a3f5f\"},\"hovermode\":\"closest\",\"hoverlabel\":{\"align\":\"left\"},\"paper_bgcolor\":\"white\",\"plot_bgcolor\":\"#E5ECF6\",\"polar\":{\"bgcolor\":\"#E5ECF6\",\"angularaxis\":{\"gridcolor\":\"white\",\"linecolor\":\"white\",\"ticks\":\"\"},\"radialaxis\":{\"gridcolor\":\"white\",\"linecolor\":\"white\",\"ticks\":\"\"}},\"ternary\":{\"bgcolor\":\"#E5ECF6\",\"aaxis\":{\"gridcolor\":\"white\",\"linecolor\":\"white\",\"ticks\":\"\"},\"baxis\":{\"gridcolor\":\"white\",\"linecolor\":\"white\",\"ticks\":\"\"},\"caxis\":{\"gridcolor\":\"white\",\"linecolor\":\"white\",\"ticks\":\"\"}},\"coloraxis\":{\"colorbar\":{\"outlinewidth\":0,\"ticks\":\"\"}},\"colorscale\":{\"sequential\":[[0.0,\"#0d0887\"],[0.1111111111111111,\"#46039f\"],[0.2222222222222222,\"#7201a8\"],[0.3333333333333333,\"#9c179e\"],[0.4444444444444444,\"#bd3786\"],[0.5555555555555556,\"#d8576b\"],[0.6666666666666666,\"#ed7953\"],[0.7777777777777778,\"#fb9f3a\"],[0.8888888888888888,\"#fdca26\"],[1.0,\"#f0f921\"]],\"sequentialminus\":[[0.0,\"#0d0887\"],[0.1111111111111111,\"#46039f\"],[0.2222222222222222,\"#7201a8\"],[0.3333333333333333,\"#9c179e\"],[0.4444444444444444,\"#bd3786\"],[0.5555555555555556,\"#d8576b\"],[0.6666666666666666,\"#ed7953\"],[0.7777777777777778,\"#fb9f3a\"],[0.8888888888888888,\"#fdca26\"],[1.0,\"#f0f921\"]],\"diverging\":[[0,\"#8e0152\"],[0.1,\"#c51b7d\"],[0.2,\"#de77ae\"],[0.3,\"#f1b6da\"],[0.4,\"#fde0ef\"],[0.5,\"#f7f7f7\"],[0.6,\"#e6f5d0\"],[0.7,\"#b8e186\"],[0.8,\"#7fbc41\"],[0.9,\"#4d9221\"],[1,\"#276419\"]]},\"xaxis\":{\"gridcolor\":\"white\",\"linecolor\":\"white\",\"ticks\":\"\",\"title\":{\"standoff\":15},\"zerolinecolor\":\"white\",\"automargin\":true,\"zerolinewidth\":2},\"yaxis\":{\"gridcolor\":\"white\",\"linecolor\":\"white\",\"ticks\":\"\",\"title\":{\"standoff\":15},\"zerolinecolor\":\"white\",\"automargin\":true,\"zerolinewidth\":2},\"scene\":{\"xaxis\":{\"backgroundcolor\":\"#E5ECF6\",\"gridcolor\":\"white\",\"linecolor\":\"white\",\"showbackground\":true,\"ticks\":\"\",\"zerolinecolor\":\"white\",\"gridwidth\":2},\"yaxis\":{\"backgroundcolor\":\"#E5ECF6\",\"gridcolor\":\"white\",\"linecolor\":\"white\",\"showbackground\":true,\"ticks\":\"\",\"zerolinecolor\":\"white\",\"gridwidth\":2},\"zaxis\":{\"backgroundcolor\":\"#E5ECF6\",\"gridcolor\":\"white\",\"linecolor\":\"white\",\"showbackground\":true,\"ticks\":\"\",\"zerolinecolor\":\"white\",\"gridwidth\":2}},\"shapedefaults\":{\"line\":{\"color\":\"#2a3f5f\"}},\"annotationdefaults\":{\"arrowcolor\":\"#2a3f5f\",\"arrowhead\":0,\"arrowwidth\":1},\"geo\":{\"bgcolor\":\"white\",\"landcolor\":\"#E5ECF6\",\"subunitcolor\":\"white\",\"showland\":true,\"showlakes\":true,\"lakecolor\":\"white\"},\"title\":{\"x\":0.05},\"mapbox\":{\"style\":\"light\"}}},\"xaxis\":{\"anchor\":\"y\",\"domain\":[0.0,1.0],\"title\":{\"text\":\"\\u003cb\\u003eRefused Candidate (Type d'action)\\u003c\\u002fb\\u003e\"}},\"yaxis\":{\"anchor\":\"x\",\"domain\":[0.0,1.0],\"title\":{\"text\":\"\\u003cb\\u003eOccurences\\u003c\\u002fb\\u003e\"}},\"legend\":{\"tracegroupgap\":0},\"title\":{\"text\":\"\\u003cb\\u003eR\\u00e9partition des top types d'action en fonction des status de la demande : Cas de Refused Candidate\\u003c\\u002fb\\u003e\",\"x\":0.5},\"barmode\":\"relative\"},                        {\"responsive\": true}                    ).then(function(){\n",
       "                            \n",
       "var gd = document.getElementById('80ace746-40f7-46d1-8de9-9e9e7a08a9e6');\n",
       "var x = new MutationObserver(function (mutations, observer) {{\n",
       "        var display = window.getComputedStyle(gd).display;\n",
       "        if (!display || display === 'none') {{\n",
       "            console.log([gd, 'removed!']);\n",
       "            Plotly.purge(gd);\n",
       "            observer.disconnect();\n",
       "        }}\n",
       "}});\n",
       "\n",
       "// Listen for the removal of the full notebook cells\n",
       "var notebookContainer = gd.closest('#notebook-container');\n",
       "if (notebookContainer) {{\n",
       "    x.observe(notebookContainer, {childList: true});\n",
       "}}\n",
       "\n",
       "// Listen for the clearing of the current output cell\n",
       "var outputEl = gd.closest('.output');\n",
       "if (outputEl) {{\n",
       "    x.observe(outputEl, {childList: true});\n",
       "}}\n",
       "\n",
       "                        })                };                });            </script>        </div>"
      ]
     },
     "metadata": {},
     "output_type": "display_data"
    }
   ],
   "source": [
    "#Graph associé à la requête précédente : refused_candidate\n",
    "refused_candidate = design_viz(request_status_refused_candidate, xlab='Refused Candidate (Action Type)', \n",
    "           title='Répartition des top types d\\'action en fonction des status de la demande : Cas de Refused Candidate', \n",
    "           ylab='Occurences', label={'Refused Candidate (Action Type)': f'<b>Refused Candidate (Type d\\'action)</b>', 'Occurences': f'<b>Occurences</b>'})\n",
    "refused_candidate"
   ]
  },
  {
   "cell_type": "code",
   "execution_count": 69,
   "id": "c2d618cf-8a3c-4cf6-b936-10d5b4fe06f0",
   "metadata": {},
   "outputs": [
    {
     "data": {
      "text/html": [
       "<div>\n",
       "<style scoped>\n",
       "    .dataframe tbody tr th:only-of-type {\n",
       "        vertical-align: middle;\n",
       "    }\n",
       "\n",
       "    .dataframe tbody tr th {\n",
       "        vertical-align: top;\n",
       "    }\n",
       "\n",
       "    .dataframe thead th {\n",
       "        text-align: right;\n",
       "    }\n",
       "</style>\n",
       "<table border=\"1\" class=\"dataframe\">\n",
       "  <thead>\n",
       "    <tr style=\"text-align: right;\">\n",
       "      <th></th>\n",
       "      <th>Refused Employer (Action Type)</th>\n",
       "      <th>Occurences</th>\n",
       "    </tr>\n",
       "  </thead>\n",
       "  <tbody>\n",
       "    <tr>\n",
       "      <th>3</th>\n",
       "      <td>proposed_email</td>\n",
       "      <td>41</td>\n",
       "    </tr>\n",
       "    <tr>\n",
       "      <th>0</th>\n",
       "      <td>employer_reminder_1</td>\n",
       "      <td>38</td>\n",
       "    </tr>\n",
       "    <tr>\n",
       "      <th>4</th>\n",
       "      <td>proposed_sms</td>\n",
       "      <td>26</td>\n",
       "    </tr>\n",
       "    <tr>\n",
       "      <th>2</th>\n",
       "      <td>proposed_call</td>\n",
       "      <td>23</td>\n",
       "    </tr>\n",
       "    <tr>\n",
       "      <th>5</th>\n",
       "      <td>resume_coaching</td>\n",
       "      <td>16</td>\n",
       "    </tr>\n",
       "    <tr>\n",
       "      <th>1</th>\n",
       "      <td>employer_reminder_2</td>\n",
       "      <td>13</td>\n",
       "    </tr>\n",
       "  </tbody>\n",
       "</table>\n",
       "</div>"
      ],
      "text/plain": [
       "  Refused Employer (Action Type)  Occurences\n",
       "3                 proposed_email          41\n",
       "0            employer_reminder_1          38\n",
       "4                   proposed_sms          26\n",
       "2                  proposed_call          23\n",
       "5                resume_coaching          16\n",
       "1            employer_reminder_2          13"
      ]
     },
     "execution_count": 69,
     "metadata": {},
     "output_type": "execute_result"
    }
   ],
   "source": [
    "# Repartition des top types d'action en fonction des status de la demande : refused_employer\n",
    "request_status_refused_employer = df[df['status'] == 'refused_employer'][['action_type']].groupby('action_type').size().reset_index(name=\"Occurences\").sort_values(by='Occurences', ascending=False).rename(columns={'action_type': 'Refused Employer (Action Type)'})\n",
    "request_status_refused_employer"
   ]
  },
  {
   "cell_type": "code",
   "execution_count": 71,
   "id": "b69d3481-5dee-43f1-b9f8-3e863bc6c936",
   "metadata": {},
   "outputs": [
    {
     "data": {
      "application/vnd.plotly.v1+json": {
       "config": {
        "plotlyServerURL": "https://plot.ly"
       },
       "data": [
        {
         "alignmentgroup": "True",
         "hovertemplate": "<b>Refused Employer (Action Type)</b>=%{x}<br><b>Occurences</b>=%{y}<extra></extra>",
         "legendgroup": "",
         "marker": {
          "color": "#636efa",
          "pattern": {
           "shape": ""
          }
         },
         "name": "",
         "offsetgroup": "",
         "orientation": "v",
         "showlegend": false,
         "textposition": "auto",
         "type": "bar",
         "x": [
          "proposed_email",
          "employer_reminder_1",
          "proposed_sms",
          "proposed_call",
          "resume_coaching",
          "employer_reminder_2"
         ],
         "xaxis": "x",
         "y": [
          41,
          38,
          26,
          23,
          16,
          13
         ],
         "yaxis": "y"
        }
       ],
       "layout": {
        "autosize": true,
        "barmode": "relative",
        "legend": {
         "tracegroupgap": 0
        },
        "template": {
         "data": {
          "bar": [
           {
            "error_x": {
             "color": "#2a3f5f"
            },
            "error_y": {
             "color": "#2a3f5f"
            },
            "marker": {
             "line": {
              "color": "#E5ECF6",
              "width": 0.5
             },
             "pattern": {
              "fillmode": "overlay",
              "size": 10,
              "solidity": 0.2
             }
            },
            "type": "bar"
           }
          ],
          "barpolar": [
           {
            "marker": {
             "line": {
              "color": "#E5ECF6",
              "width": 0.5
             },
             "pattern": {
              "fillmode": "overlay",
              "size": 10,
              "solidity": 0.2
             }
            },
            "type": "barpolar"
           }
          ],
          "carpet": [
           {
            "aaxis": {
             "endlinecolor": "#2a3f5f",
             "gridcolor": "white",
             "linecolor": "white",
             "minorgridcolor": "white",
             "startlinecolor": "#2a3f5f"
            },
            "baxis": {
             "endlinecolor": "#2a3f5f",
             "gridcolor": "white",
             "linecolor": "white",
             "minorgridcolor": "white",
             "startlinecolor": "#2a3f5f"
            },
            "type": "carpet"
           }
          ],
          "choropleth": [
           {
            "colorbar": {
             "outlinewidth": 0,
             "ticks": ""
            },
            "type": "choropleth"
           }
          ],
          "contour": [
           {
            "colorbar": {
             "outlinewidth": 0,
             "ticks": ""
            },
            "colorscale": [
             [
              0,
              "#0d0887"
             ],
             [
              0.1111111111111111,
              "#46039f"
             ],
             [
              0.2222222222222222,
              "#7201a8"
             ],
             [
              0.3333333333333333,
              "#9c179e"
             ],
             [
              0.4444444444444444,
              "#bd3786"
             ],
             [
              0.5555555555555556,
              "#d8576b"
             ],
             [
              0.6666666666666666,
              "#ed7953"
             ],
             [
              0.7777777777777778,
              "#fb9f3a"
             ],
             [
              0.8888888888888888,
              "#fdca26"
             ],
             [
              1,
              "#f0f921"
             ]
            ],
            "type": "contour"
           }
          ],
          "contourcarpet": [
           {
            "colorbar": {
             "outlinewidth": 0,
             "ticks": ""
            },
            "type": "contourcarpet"
           }
          ],
          "heatmap": [
           {
            "colorbar": {
             "outlinewidth": 0,
             "ticks": ""
            },
            "colorscale": [
             [
              0,
              "#0d0887"
             ],
             [
              0.1111111111111111,
              "#46039f"
             ],
             [
              0.2222222222222222,
              "#7201a8"
             ],
             [
              0.3333333333333333,
              "#9c179e"
             ],
             [
              0.4444444444444444,
              "#bd3786"
             ],
             [
              0.5555555555555556,
              "#d8576b"
             ],
             [
              0.6666666666666666,
              "#ed7953"
             ],
             [
              0.7777777777777778,
              "#fb9f3a"
             ],
             [
              0.8888888888888888,
              "#fdca26"
             ],
             [
              1,
              "#f0f921"
             ]
            ],
            "type": "heatmap"
           }
          ],
          "heatmapgl": [
           {
            "colorbar": {
             "outlinewidth": 0,
             "ticks": ""
            },
            "colorscale": [
             [
              0,
              "#0d0887"
             ],
             [
              0.1111111111111111,
              "#46039f"
             ],
             [
              0.2222222222222222,
              "#7201a8"
             ],
             [
              0.3333333333333333,
              "#9c179e"
             ],
             [
              0.4444444444444444,
              "#bd3786"
             ],
             [
              0.5555555555555556,
              "#d8576b"
             ],
             [
              0.6666666666666666,
              "#ed7953"
             ],
             [
              0.7777777777777778,
              "#fb9f3a"
             ],
             [
              0.8888888888888888,
              "#fdca26"
             ],
             [
              1,
              "#f0f921"
             ]
            ],
            "type": "heatmapgl"
           }
          ],
          "histogram": [
           {
            "marker": {
             "pattern": {
              "fillmode": "overlay",
              "size": 10,
              "solidity": 0.2
             }
            },
            "type": "histogram"
           }
          ],
          "histogram2d": [
           {
            "colorbar": {
             "outlinewidth": 0,
             "ticks": ""
            },
            "colorscale": [
             [
              0,
              "#0d0887"
             ],
             [
              0.1111111111111111,
              "#46039f"
             ],
             [
              0.2222222222222222,
              "#7201a8"
             ],
             [
              0.3333333333333333,
              "#9c179e"
             ],
             [
              0.4444444444444444,
              "#bd3786"
             ],
             [
              0.5555555555555556,
              "#d8576b"
             ],
             [
              0.6666666666666666,
              "#ed7953"
             ],
             [
              0.7777777777777778,
              "#fb9f3a"
             ],
             [
              0.8888888888888888,
              "#fdca26"
             ],
             [
              1,
              "#f0f921"
             ]
            ],
            "type": "histogram2d"
           }
          ],
          "histogram2dcontour": [
           {
            "colorbar": {
             "outlinewidth": 0,
             "ticks": ""
            },
            "colorscale": [
             [
              0,
              "#0d0887"
             ],
             [
              0.1111111111111111,
              "#46039f"
             ],
             [
              0.2222222222222222,
              "#7201a8"
             ],
             [
              0.3333333333333333,
              "#9c179e"
             ],
             [
              0.4444444444444444,
              "#bd3786"
             ],
             [
              0.5555555555555556,
              "#d8576b"
             ],
             [
              0.6666666666666666,
              "#ed7953"
             ],
             [
              0.7777777777777778,
              "#fb9f3a"
             ],
             [
              0.8888888888888888,
              "#fdca26"
             ],
             [
              1,
              "#f0f921"
             ]
            ],
            "type": "histogram2dcontour"
           }
          ],
          "mesh3d": [
           {
            "colorbar": {
             "outlinewidth": 0,
             "ticks": ""
            },
            "type": "mesh3d"
           }
          ],
          "parcoords": [
           {
            "line": {
             "colorbar": {
              "outlinewidth": 0,
              "ticks": ""
             }
            },
            "type": "parcoords"
           }
          ],
          "pie": [
           {
            "automargin": true,
            "type": "pie"
           }
          ],
          "scatter": [
           {
            "fillpattern": {
             "fillmode": "overlay",
             "size": 10,
             "solidity": 0.2
            },
            "type": "scatter"
           }
          ],
          "scatter3d": [
           {
            "line": {
             "colorbar": {
              "outlinewidth": 0,
              "ticks": ""
             }
            },
            "marker": {
             "colorbar": {
              "outlinewidth": 0,
              "ticks": ""
             }
            },
            "type": "scatter3d"
           }
          ],
          "scattercarpet": [
           {
            "marker": {
             "colorbar": {
              "outlinewidth": 0,
              "ticks": ""
             }
            },
            "type": "scattercarpet"
           }
          ],
          "scattergeo": [
           {
            "marker": {
             "colorbar": {
              "outlinewidth": 0,
              "ticks": ""
             }
            },
            "type": "scattergeo"
           }
          ],
          "scattergl": [
           {
            "marker": {
             "colorbar": {
              "outlinewidth": 0,
              "ticks": ""
             }
            },
            "type": "scattergl"
           }
          ],
          "scattermapbox": [
           {
            "marker": {
             "colorbar": {
              "outlinewidth": 0,
              "ticks": ""
             }
            },
            "type": "scattermapbox"
           }
          ],
          "scatterpolar": [
           {
            "marker": {
             "colorbar": {
              "outlinewidth": 0,
              "ticks": ""
             }
            },
            "type": "scatterpolar"
           }
          ],
          "scatterpolargl": [
           {
            "marker": {
             "colorbar": {
              "outlinewidth": 0,
              "ticks": ""
             }
            },
            "type": "scatterpolargl"
           }
          ],
          "scatterternary": [
           {
            "marker": {
             "colorbar": {
              "outlinewidth": 0,
              "ticks": ""
             }
            },
            "type": "scatterternary"
           }
          ],
          "surface": [
           {
            "colorbar": {
             "outlinewidth": 0,
             "ticks": ""
            },
            "colorscale": [
             [
              0,
              "#0d0887"
             ],
             [
              0.1111111111111111,
              "#46039f"
             ],
             [
              0.2222222222222222,
              "#7201a8"
             ],
             [
              0.3333333333333333,
              "#9c179e"
             ],
             [
              0.4444444444444444,
              "#bd3786"
             ],
             [
              0.5555555555555556,
              "#d8576b"
             ],
             [
              0.6666666666666666,
              "#ed7953"
             ],
             [
              0.7777777777777778,
              "#fb9f3a"
             ],
             [
              0.8888888888888888,
              "#fdca26"
             ],
             [
              1,
              "#f0f921"
             ]
            ],
            "type": "surface"
           }
          ],
          "table": [
           {
            "cells": {
             "fill": {
              "color": "#EBF0F8"
             },
             "line": {
              "color": "white"
             }
            },
            "header": {
             "fill": {
              "color": "#C8D4E3"
             },
             "line": {
              "color": "white"
             }
            },
            "type": "table"
           }
          ]
         },
         "layout": {
          "annotationdefaults": {
           "arrowcolor": "#2a3f5f",
           "arrowhead": 0,
           "arrowwidth": 1
          },
          "autotypenumbers": "strict",
          "coloraxis": {
           "colorbar": {
            "outlinewidth": 0,
            "ticks": ""
           }
          },
          "colorscale": {
           "diverging": [
            [
             0,
             "#8e0152"
            ],
            [
             0.1,
             "#c51b7d"
            ],
            [
             0.2,
             "#de77ae"
            ],
            [
             0.3,
             "#f1b6da"
            ],
            [
             0.4,
             "#fde0ef"
            ],
            [
             0.5,
             "#f7f7f7"
            ],
            [
             0.6,
             "#e6f5d0"
            ],
            [
             0.7,
             "#b8e186"
            ],
            [
             0.8,
             "#7fbc41"
            ],
            [
             0.9,
             "#4d9221"
            ],
            [
             1,
             "#276419"
            ]
           ],
           "sequential": [
            [
             0,
             "#0d0887"
            ],
            [
             0.1111111111111111,
             "#46039f"
            ],
            [
             0.2222222222222222,
             "#7201a8"
            ],
            [
             0.3333333333333333,
             "#9c179e"
            ],
            [
             0.4444444444444444,
             "#bd3786"
            ],
            [
             0.5555555555555556,
             "#d8576b"
            ],
            [
             0.6666666666666666,
             "#ed7953"
            ],
            [
             0.7777777777777778,
             "#fb9f3a"
            ],
            [
             0.8888888888888888,
             "#fdca26"
            ],
            [
             1,
             "#f0f921"
            ]
           ],
           "sequentialminus": [
            [
             0,
             "#0d0887"
            ],
            [
             0.1111111111111111,
             "#46039f"
            ],
            [
             0.2222222222222222,
             "#7201a8"
            ],
            [
             0.3333333333333333,
             "#9c179e"
            ],
            [
             0.4444444444444444,
             "#bd3786"
            ],
            [
             0.5555555555555556,
             "#d8576b"
            ],
            [
             0.6666666666666666,
             "#ed7953"
            ],
            [
             0.7777777777777778,
             "#fb9f3a"
            ],
            [
             0.8888888888888888,
             "#fdca26"
            ],
            [
             1,
             "#f0f921"
            ]
           ]
          },
          "colorway": [
           "#636efa",
           "#EF553B",
           "#00cc96",
           "#ab63fa",
           "#FFA15A",
           "#19d3f3",
           "#FF6692",
           "#B6E880",
           "#FF97FF",
           "#FECB52"
          ],
          "font": {
           "color": "#2a3f5f"
          },
          "geo": {
           "bgcolor": "white",
           "lakecolor": "white",
           "landcolor": "#E5ECF6",
           "showlakes": true,
           "showland": true,
           "subunitcolor": "white"
          },
          "hoverlabel": {
           "align": "left"
          },
          "hovermode": "closest",
          "mapbox": {
           "style": "light"
          },
          "paper_bgcolor": "white",
          "plot_bgcolor": "#E5ECF6",
          "polar": {
           "angularaxis": {
            "gridcolor": "white",
            "linecolor": "white",
            "ticks": ""
           },
           "bgcolor": "#E5ECF6",
           "radialaxis": {
            "gridcolor": "white",
            "linecolor": "white",
            "ticks": ""
           }
          },
          "scene": {
           "xaxis": {
            "backgroundcolor": "#E5ECF6",
            "gridcolor": "white",
            "gridwidth": 2,
            "linecolor": "white",
            "showbackground": true,
            "ticks": "",
            "zerolinecolor": "white"
           },
           "yaxis": {
            "backgroundcolor": "#E5ECF6",
            "gridcolor": "white",
            "gridwidth": 2,
            "linecolor": "white",
            "showbackground": true,
            "ticks": "",
            "zerolinecolor": "white"
           },
           "zaxis": {
            "backgroundcolor": "#E5ECF6",
            "gridcolor": "white",
            "gridwidth": 2,
            "linecolor": "white",
            "showbackground": true,
            "ticks": "",
            "zerolinecolor": "white"
           }
          },
          "shapedefaults": {
           "line": {
            "color": "#2a3f5f"
           }
          },
          "ternary": {
           "aaxis": {
            "gridcolor": "white",
            "linecolor": "white",
            "ticks": ""
           },
           "baxis": {
            "gridcolor": "white",
            "linecolor": "white",
            "ticks": ""
           },
           "bgcolor": "#E5ECF6",
           "caxis": {
            "gridcolor": "white",
            "linecolor": "white",
            "ticks": ""
           }
          },
          "title": {
           "x": 0.05
          },
          "xaxis": {
           "automargin": true,
           "gridcolor": "white",
           "linecolor": "white",
           "ticks": "",
           "title": {
            "standoff": 15
           },
           "zerolinecolor": "white",
           "zerolinewidth": 2
          },
          "yaxis": {
           "automargin": true,
           "gridcolor": "white",
           "linecolor": "white",
           "ticks": "",
           "title": {
            "standoff": 15
           },
           "zerolinecolor": "white",
           "zerolinewidth": 2
          }
         }
        },
        "title": {
         "text": "<b>Répartition des top types d'action en fonction des status de la demande : Cas de Refused Employer</b>",
         "x": 0.5
        },
        "xaxis": {
         "anchor": "y",
         "autorange": true,
         "domain": [
          0,
          1
         ],
         "range": [
          -0.5,
          5.5
         ],
         "title": {
          "text": "<b>Refused Employer (Action Type)</b>"
         },
         "type": "category"
        },
        "yaxis": {
         "anchor": "x",
         "autorange": true,
         "domain": [
          0,
          1
         ],
         "range": [
          0,
          43.1578947368421
         ],
         "title": {
          "text": "<b>Occurences</b>"
         },
         "type": "linear"
        }
       }
      },
      "image/png": "[encoded data removed]",
      "text/html": [
       "<div>                            <div id=\"a8fb3a02-457e-4b5b-ba81-63a826ff3e78\" class=\"plotly-graph-div\" style=\"height:525px; width:100%;\"></div>            <script type=\"text/javascript\">                require([\"plotly\"], function(Plotly) {                    window.PLOTLYENV=window.PLOTLYENV || {};                                    if (document.getElementById(\"a8fb3a02-457e-4b5b-ba81-63a826ff3e78\")) {                    Plotly.newPlot(                        \"a8fb3a02-457e-4b5b-ba81-63a826ff3e78\",                        [{\"alignmentgroup\":\"True\",\"hovertemplate\":\"\\u003cb\\u003eRefused Employer (Action Type)\\u003c\\u002fb\\u003e=%{x}\\u003cbr\\u003e\\u003cb\\u003eOccurences\\u003c\\u002fb\\u003e=%{y}\\u003cextra\\u003e\\u003c\\u002fextra\\u003e\",\"legendgroup\":\"\",\"marker\":{\"color\":\"#636efa\",\"pattern\":{\"shape\":\"\"}},\"name\":\"\",\"offsetgroup\":\"\",\"orientation\":\"v\",\"showlegend\":false,\"textposition\":\"auto\",\"x\":[\"proposed_email\",\"employer_reminder_1\",\"proposed_sms\",\"proposed_call\",\"resume_coaching\",\"employer_reminder_2\"],\"xaxis\":\"x\",\"y\":[41,38,26,23,16,13],\"yaxis\":\"y\",\"type\":\"bar\"}],                        {\"template\":{\"data\":{\"histogram2dcontour\":[{\"type\":\"histogram2dcontour\",\"colorbar\":{\"outlinewidth\":0,\"ticks\":\"\"},\"colorscale\":[[0.0,\"#0d0887\"],[0.1111111111111111,\"#46039f\"],[0.2222222222222222,\"#7201a8\"],[0.3333333333333333,\"#9c179e\"],[0.4444444444444444,\"#bd3786\"],[0.5555555555555556,\"#d8576b\"],[0.6666666666666666,\"#ed7953\"],[0.7777777777777778,\"#fb9f3a\"],[0.8888888888888888,\"#fdca26\"],[1.0,\"#f0f921\"]]}],\"choropleth\":[{\"type\":\"choropleth\",\"colorbar\":{\"outlinewidth\":0,\"ticks\":\"\"}}],\"histogram2d\":[{\"type\":\"histogram2d\",\"colorbar\":{\"outlinewidth\":0,\"ticks\":\"\"},\"colorscale\":[[0.0,\"#0d0887\"],[0.1111111111111111,\"#46039f\"],[0.2222222222222222,\"#7201a8\"],[0.3333333333333333,\"#9c179e\"],[0.4444444444444444,\"#bd3786\"],[0.5555555555555556,\"#d8576b\"],[0.6666666666666666,\"#ed7953\"],[0.7777777777777778,\"#fb9f3a\"],[0.8888888888888888,\"#fdca26\"],[1.0,\"#f0f921\"]]}],\"heatmap\":[{\"type\":\"heatmap\",\"colorbar\":{\"outlinewidth\":0,\"ticks\":\"\"},\"colorscale\":[[0.0,\"#0d0887\"],[0.1111111111111111,\"#46039f\"],[0.2222222222222222,\"#7201a8\"],[0.3333333333333333,\"#9c179e\"],[0.4444444444444444,\"#bd3786\"],[0.5555555555555556,\"#d8576b\"],[0.6666666666666666,\"#ed7953\"],[0.7777777777777778,\"#fb9f3a\"],[0.8888888888888888,\"#fdca26\"],[1.0,\"#f0f921\"]]}],\"heatmapgl\":[{\"type\":\"heatmapgl\",\"colorbar\":{\"outlinewidth\":0,\"ticks\":\"\"},\"colorscale\":[[0.0,\"#0d0887\"],[0.1111111111111111,\"#46039f\"],[0.2222222222222222,\"#7201a8\"],[0.3333333333333333,\"#9c179e\"],[0.4444444444444444,\"#bd3786\"],[0.5555555555555556,\"#d8576b\"],[0.6666666666666666,\"#ed7953\"],[0.7777777777777778,\"#fb9f3a\"],[0.8888888888888888,\"#fdca26\"],[1.0,\"#f0f921\"]]}],\"contourcarpet\":[{\"type\":\"contourcarpet\",\"colorbar\":{\"outlinewidth\":0,\"ticks\":\"\"}}],\"contour\":[{\"type\":\"contour\",\"colorbar\":{\"outlinewidth\":0,\"ticks\":\"\"},\"colorscale\":[[0.0,\"#0d0887\"],[0.1111111111111111,\"#46039f\"],[0.2222222222222222,\"#7201a8\"],[0.3333333333333333,\"#9c179e\"],[0.4444444444444444,\"#bd3786\"],[0.5555555555555556,\"#d8576b\"],[0.6666666666666666,\"#ed7953\"],[0.7777777777777778,\"#fb9f3a\"],[0.8888888888888888,\"#fdca26\"],[1.0,\"#f0f921\"]]}],\"surface\":[{\"type\":\"surface\",\"colorbar\":{\"outlinewidth\":0,\"ticks\":\"\"},\"colorscale\":[[0.0,\"#0d0887\"],[0.1111111111111111,\"#46039f\"],[0.2222222222222222,\"#7201a8\"],[0.3333333333333333,\"#9c179e\"],[0.4444444444444444,\"#bd3786\"],[0.5555555555555556,\"#d8576b\"],[0.6666666666666666,\"#ed7953\"],[0.7777777777777778,\"#fb9f3a\"],[0.8888888888888888,\"#fdca26\"],[1.0,\"#f0f921\"]]}],\"mesh3d\":[{\"type\":\"mesh3d\",\"colorbar\":{\"outlinewidth\":0,\"ticks\":\"\"}}],\"scatter\":[{\"fillpattern\":{\"fillmode\":\"overlay\",\"size\":10,\"solidity\":0.2},\"type\":\"scatter\"}],\"parcoords\":[{\"type\":\"parcoords\",\"line\":{\"colorbar\":{\"outlinewidth\":0,\"ticks\":\"\"}}}],\"scatterpolargl\":[{\"type\":\"scatterpolargl\",\"marker\":{\"colorbar\":{\"outlinewidth\":0,\"ticks\":\"\"}}}],\"bar\":[{\"error_x\":{\"color\":\"#2a3f5f\"},\"error_y\":{\"color\":\"#2a3f5f\"},\"marker\":{\"line\":{\"color\":\"#E5ECF6\",\"width\":0.5},\"pattern\":{\"fillmode\":\"overlay\",\"size\":10,\"solidity\":0.2}},\"type\":\"bar\"}],\"scattergeo\":[{\"type\":\"scattergeo\",\"marker\":{\"colorbar\":{\"outlinewidth\":0,\"ticks\":\"\"}}}],\"scatterpolar\":[{\"type\":\"scatterpolar\",\"marker\":{\"colorbar\":{\"outlinewidth\":0,\"ticks\":\"\"}}}],\"histogram\":[{\"marker\":{\"pattern\":{\"fillmode\":\"overlay\",\"size\":10,\"solidity\":0.2}},\"type\":\"histogram\"}],\"scattergl\":[{\"type\":\"scattergl\",\"marker\":{\"colorbar\":{\"outlinewidth\":0,\"ticks\":\"\"}}}],\"scatter3d\":[{\"type\":\"scatter3d\",\"line\":{\"colorbar\":{\"outlinewidth\":0,\"ticks\":\"\"}},\"marker\":{\"colorbar\":{\"outlinewidth\":0,\"ticks\":\"\"}}}],\"scattermapbox\":[{\"type\":\"scattermapbox\",\"marker\":{\"colorbar\":{\"outlinewidth\":0,\"ticks\":\"\"}}}],\"scatterternary\":[{\"type\":\"scatterternary\",\"marker\":{\"colorbar\":{\"outlinewidth\":0,\"ticks\":\"\"}}}],\"scattercarpet\":[{\"type\":\"scattercarpet\",\"marker\":{\"colorbar\":{\"outlinewidth\":0,\"ticks\":\"\"}}}],\"carpet\":[{\"aaxis\":{\"endlinecolor\":\"#2a3f5f\",\"gridcolor\":\"white\",\"linecolor\":\"white\",\"minorgridcolor\":\"white\",\"startlinecolor\":\"#2a3f5f\"},\"baxis\":{\"endlinecolor\":\"#2a3f5f\",\"gridcolor\":\"white\",\"linecolor\":\"white\",\"minorgridcolor\":\"white\",\"startlinecolor\":\"#2a3f5f\"},\"type\":\"carpet\"}],\"table\":[{\"cells\":{\"fill\":{\"color\":\"#EBF0F8\"},\"line\":{\"color\":\"white\"}},\"header\":{\"fill\":{\"color\":\"#C8D4E3\"},\"line\":{\"color\":\"white\"}},\"type\":\"table\"}],\"barpolar\":[{\"marker\":{\"line\":{\"color\":\"#E5ECF6\",\"width\":0.5},\"pattern\":{\"fillmode\":\"overlay\",\"size\":10,\"solidity\":0.2}},\"type\":\"barpolar\"}],\"pie\":[{\"automargin\":true,\"type\":\"pie\"}]},\"layout\":{\"autotypenumbers\":\"strict\",\"colorway\":[\"#636efa\",\"#EF553B\",\"#00cc96\",\"#ab63fa\",\"#FFA15A\",\"#19d3f3\",\"#FF6692\",\"#B6E880\",\"#FF97FF\",\"#FECB52\"],\"font\":{\"color\":\"#2a3f5f\"},\"hovermode\":\"closest\",\"hoverlabel\":{\"align\":\"left\"},\"paper_bgcolor\":\"white\",\"plot_bgcolor\":\"#E5ECF6\",\"polar\":{\"bgcolor\":\"#E5ECF6\",\"angularaxis\":{\"gridcolor\":\"white\",\"linecolor\":\"white\",\"ticks\":\"\"},\"radialaxis\":{\"gridcolor\":\"white\",\"linecolor\":\"white\",\"ticks\":\"\"}},\"ternary\":{\"bgcolor\":\"#E5ECF6\",\"aaxis\":{\"gridcolor\":\"white\",\"linecolor\":\"white\",\"ticks\":\"\"},\"baxis\":{\"gridcolor\":\"white\",\"linecolor\":\"white\",\"ticks\":\"\"},\"caxis\":{\"gridcolor\":\"white\",\"linecolor\":\"white\",\"ticks\":\"\"}},\"coloraxis\":{\"colorbar\":{\"outlinewidth\":0,\"ticks\":\"\"}},\"colorscale\":{\"sequential\":[[0.0,\"#0d0887\"],[0.1111111111111111,\"#46039f\"],[0.2222222222222222,\"#7201a8\"],[0.3333333333333333,\"#9c179e\"],[0.4444444444444444,\"#bd3786\"],[0.5555555555555556,\"#d8576b\"],[0.6666666666666666,\"#ed7953\"],[0.7777777777777778,\"#fb9f3a\"],[0.8888888888888888,\"#fdca26\"],[1.0,\"#f0f921\"]],\"sequentialminus\":[[0.0,\"#0d0887\"],[0.1111111111111111,\"#46039f\"],[0.2222222222222222,\"#7201a8\"],[0.3333333333333333,\"#9c179e\"],[0.4444444444444444,\"#bd3786\"],[0.5555555555555556,\"#d8576b\"],[0.6666666666666666,\"#ed7953\"],[0.7777777777777778,\"#fb9f3a\"],[0.8888888888888888,\"#fdca26\"],[1.0,\"#f0f921\"]],\"diverging\":[[0,\"#8e0152\"],[0.1,\"#c51b7d\"],[0.2,\"#de77ae\"],[0.3,\"#f1b6da\"],[0.4,\"#fde0ef\"],[0.5,\"#f7f7f7\"],[0.6,\"#e6f5d0\"],[0.7,\"#b8e186\"],[0.8,\"#7fbc41\"],[0.9,\"#4d9221\"],[1,\"#276419\"]]},\"xaxis\":{\"gridcolor\":\"white\",\"linecolor\":\"white\",\"ticks\":\"\",\"title\":{\"standoff\":15},\"zerolinecolor\":\"white\",\"automargin\":true,\"zerolinewidth\":2},\"yaxis\":{\"gridcolor\":\"white\",\"linecolor\":\"white\",\"ticks\":\"\",\"title\":{\"standoff\":15},\"zerolinecolor\":\"white\",\"automargin\":true,\"zerolinewidth\":2},\"scene\":{\"xaxis\":{\"backgroundcolor\":\"#E5ECF6\",\"gridcolor\":\"white\",\"linecolor\":\"white\",\"showbackground\":true,\"ticks\":\"\",\"zerolinecolor\":\"white\",\"gridwidth\":2},\"yaxis\":{\"backgroundcolor\":\"#E5ECF6\",\"gridcolor\":\"white\",\"linecolor\":\"white\",\"showbackground\":true,\"ticks\":\"\",\"zerolinecolor\":\"white\",\"gridwidth\":2},\"zaxis\":{\"backgroundcolor\":\"#E5ECF6\",\"gridcolor\":\"white\",\"linecolor\":\"white\",\"showbackground\":true,\"ticks\":\"\",\"zerolinecolor\":\"white\",\"gridwidth\":2}},\"shapedefaults\":{\"line\":{\"color\":\"#2a3f5f\"}},\"annotationdefaults\":{\"arrowcolor\":\"#2a3f5f\",\"arrowhead\":0,\"arrowwidth\":1},\"geo\":{\"bgcolor\":\"white\",\"landcolor\":\"#E5ECF6\",\"subunitcolor\":\"white\",\"showland\":true,\"showlakes\":true,\"lakecolor\":\"white\"},\"title\":{\"x\":0.05},\"mapbox\":{\"style\":\"light\"}}},\"xaxis\":{\"anchor\":\"y\",\"domain\":[0.0,1.0],\"title\":{\"text\":\"\\u003cb\\u003eRefused Employer (Action Type)\\u003c\\u002fb\\u003e\"}},\"yaxis\":{\"anchor\":\"x\",\"domain\":[0.0,1.0],\"title\":{\"text\":\"\\u003cb\\u003eOccurences\\u003c\\u002fb\\u003e\"}},\"legend\":{\"tracegroupgap\":0},\"title\":{\"text\":\"\\u003cb\\u003eR\\u00e9partition des top types d'action en fonction des status de la demande : Cas de Refused Employer\\u003c\\u002fb\\u003e\",\"x\":0.5},\"barmode\":\"relative\"},                        {\"responsive\": true}                    ).then(function(){\n",
       "                            \n",
       "var gd = document.getElementById('a8fb3a02-457e-4b5b-ba81-63a826ff3e78');\n",
       "var x = new MutationObserver(function (mutations, observer) {{\n",
       "        var display = window.getComputedStyle(gd).display;\n",
       "        if (!display || display === 'none') {{\n",
       "            console.log([gd, 'removed!']);\n",
       "            Plotly.purge(gd);\n",
       "            observer.disconnect();\n",
       "        }}\n",
       "}});\n",
       "\n",
       "// Listen for the removal of the full notebook cells\n",
       "var notebookContainer = gd.closest('#notebook-container');\n",
       "if (notebookContainer) {{\n",
       "    x.observe(notebookContainer, {childList: true});\n",
       "}}\n",
       "\n",
       "// Listen for the clearing of the current output cell\n",
       "var outputEl = gd.closest('.output');\n",
       "if (outputEl) {{\n",
       "    x.observe(outputEl, {childList: true});\n",
       "}}\n",
       "\n",
       "                        })                };                });            </script>        </div>"
      ]
     },
     "metadata": {},
     "output_type": "display_data"
    }
   ],
   "source": [
    "#Graph associé à la requête précédente : refused_employer\n",
    "refused_employer = design_viz(request_status_refused_employer, xlab='Refused Employer (Action Type)', \n",
    "           title='Répartition des top types d\\'action en fonction des status de la demande : Cas de Refused Employer', \n",
    "           ylab='Occurences', label={'Refused Employer (Action Type)': f'<b>Refused Employer (Action Type)</b>', 'Occurences': f'<b>Occurences</b>'})\n",
    "refused_employer"
   ]
  },
  {
   "cell_type": "code",
   "execution_count": 73,
   "id": "1adc668c-3feb-4e7d-8e59-2b4a9430ed96",
   "metadata": {},
   "outputs": [],
   "source": [
    "#Realisation du dashboard\n",
    "from plotly.subplots import make_subplots"
   ]
  },
  {
   "cell_type": "code",
   "execution_count": 75,
   "id": "2419d3af-5690-403d-882d-ed868bf0d377",
   "metadata": {},
   "outputs": [
    {
     "data": {
      "text/html": [
       "<div>\n",
       "<style scoped>\n",
       "    .dataframe tbody tr th:only-of-type {\n",
       "        vertical-align: middle;\n",
       "    }\n",
       "\n",
       "    .dataframe tbody tr th {\n",
       "        vertical-align: top;\n",
       "    }\n",
       "\n",
       "    .dataframe thead th {\n",
       "        text-align: right;\n",
       "    }\n",
       "</style>\n",
       "<table border=\"1\" class=\"dataframe\">\n",
       "  <thead>\n",
       "    <tr style=\"text-align: right;\">\n",
       "      <th></th>\n",
       "      <th>action_type</th>\n",
       "      <th>status</th>\n",
       "      <th>Occurences</th>\n",
       "    </tr>\n",
       "  </thead>\n",
       "  <tbody>\n",
       "    <tr>\n",
       "      <th>2</th>\n",
       "      <td>employer_reminder_1</td>\n",
       "      <td>proposed</td>\n",
       "      <td>174</td>\n",
       "    </tr>\n",
       "    <tr>\n",
       "      <th>37</th>\n",
       "      <td>resume_coaching</td>\n",
       "      <td>proposed</td>\n",
       "      <td>142</td>\n",
       "    </tr>\n",
       "  </tbody>\n",
       "</table>\n",
       "</div>"
      ],
      "text/plain": [
       "            action_type    status  Occurences\n",
       "2   employer_reminder_1  proposed         174\n",
       "37      resume_coaching  proposed         142"
      ]
     },
     "execution_count": 75,
     "metadata": {},
     "output_type": "execute_result"
    }
   ],
   "source": [
    "dashboard = df.groupby(['action_type', 'status']).size().reset_index(name='Occurences').sort_values(by='Occurences', ascending=False)\n",
    "dashboard.head(2)"
   ]
  },
  {
   "cell_type": "code",
   "execution_count": 79,
   "id": "69a4553f-4e4a-435c-82c7-7f9741b4abf1",
   "metadata": {},
   "outputs": [
    {
     "data": {
      "application/vnd.plotly.v1+json": {
       "config": {
        "plotlyServerURL": "https://plot.ly"
       },
       "data": [
        {
         "alignmentgroup": "True",
         "hovertemplate": "status=proposed<br><b>Type d'action</b>=%{x}<br><b>Occurences</b>=%{y}<extra></extra>",
         "legendgroup": "proposed",
         "marker": {
          "color": "#636efa",
          "pattern": {
           "shape": ""
          }
         },
         "name": "proposed",
         "offsetgroup": "proposed",
         "orientation": "v",
         "showlegend": true,
         "textposition": "auto",
         "type": "bar",
         "x": [
          "employer_reminder_1",
          "resume_coaching",
          "proposed_call",
          "proposed_sms",
          "proposed_email",
          "employer_reminder_2",
          "interview_coaching"
         ],
         "xaxis": "x",
         "y": [
          174,
          142,
          125,
          118,
          117,
          46,
          32
         ],
         "yaxis": "y"
        },
        {
         "alignmentgroup": "True",
         "hovertemplate": "status=transmited<br><b>Type d'action</b>=%{x}<br><b>Occurences</b>=%{y}<extra></extra>",
         "legendgroup": "transmited",
         "marker": {
          "color": "#EF553B",
          "pattern": {
           "shape": ""
          }
         },
         "name": "transmited",
         "offsetgroup": "transmited",
         "orientation": "v",
         "showlegend": true,
         "textposition": "auto",
         "type": "bar",
         "x": [
          "employer_reminder_1",
          "resume_coaching",
          "proposed_email",
          "proposed_call",
          "proposed_sms",
          "interview_coaching",
          "employer_reminder_2"
         ],
         "xaxis": "x",
         "y": [
          108,
          70,
          68,
          63,
          59,
          15,
          15
         ],
         "yaxis": "y"
        },
        {
         "alignmentgroup": "True",
         "hovertemplate": "status=interviewed<br><b>Type d'action</b>=%{x}<br><b>Occurences</b>=%{y}<extra></extra>",
         "legendgroup": "interviewed",
         "marker": {
          "color": "#00cc96",
          "pattern": {
           "shape": ""
          }
         },
         "name": "interviewed",
         "offsetgroup": "interviewed",
         "orientation": "v",
         "showlegend": true,
         "textposition": "auto",
         "type": "bar",
         "x": [
          "employer_reminder_1",
          "resume_coaching",
          "proposed_call",
          "proposed_sms",
          "proposed_email",
          "interview_coaching",
          "employer_reminder_2"
         ],
         "xaxis": "x",
         "y": [
          83,
          74,
          60,
          42,
          36,
          34,
          12
         ],
         "yaxis": "y"
        },
        {
         "alignmentgroup": "True",
         "hovertemplate": "status=refused_employer<br><b>Type d'action</b>=%{x}<br><b>Occurences</b>=%{y}<extra></extra>",
         "legendgroup": "refused_employer",
         "marker": {
          "color": "#ab63fa",
          "pattern": {
           "shape": ""
          }
         },
         "name": "refused_employer",
         "offsetgroup": "refused_employer",
         "orientation": "v",
         "showlegend": true,
         "textposition": "auto",
         "type": "bar",
         "x": [
          "proposed_email",
          "employer_reminder_1",
          "proposed_sms",
          "proposed_call",
          "resume_coaching",
          "employer_reminder_2"
         ],
         "xaxis": "x",
         "y": [
          41,
          38,
          26,
          23,
          16,
          13
         ],
         "yaxis": "y"
        },
        {
         "alignmentgroup": "True",
         "hovertemplate": "status=hired<br><b>Type d'action</b>=%{x}<br><b>Occurences</b>=%{y}<extra></extra>",
         "legendgroup": "hired",
         "marker": {
          "color": "#FFA15A",
          "pattern": {
           "shape": ""
          }
         },
         "name": "hired",
         "offsetgroup": "hired",
         "orientation": "v",
         "showlegend": true,
         "textposition": "auto",
         "type": "bar",
         "x": [
          "employer_reminder_1",
          "resume_coaching",
          "proposed_email",
          "proposed_sms",
          "proposed_call",
          "interview_coaching",
          "employer_reminder_2"
         ],
         "xaxis": "x",
         "y": [
          36,
          34,
          22,
          18,
          17,
          15,
          7
         ],
         "yaxis": "y"
        },
        {
         "alignmentgroup": "True",
         "hovertemplate": "status=refused_candidate<br><b>Type d'action</b>=%{x}<br><b>Occurences</b>=%{y}<extra></extra>",
         "legendgroup": "refused_candidate",
         "marker": {
          "color": "#19d3f3",
          "pattern": {
           "shape": ""
          }
         },
         "name": "refused_candidate",
         "offsetgroup": "refused_candidate",
         "orientation": "v",
         "showlegend": true,
         "textposition": "auto",
         "type": "bar",
         "x": [
          "proposed_call",
          "employer_reminder_1",
          "proposed_email",
          "proposed_sms",
          "resume_coaching",
          "employer_reminder_2",
          "interview_coaching"
         ],
         "xaxis": "x",
         "y": [
          26,
          26,
          23,
          16,
          14,
          10,
          1
         ],
         "yaxis": "y"
        }
       ],
       "layout": {
        "autosize": true,
        "barmode": "relative",
        "legend": {
         "title": {
          "text": "status"
         },
         "tracegroupgap": 0
        },
        "template": {
         "data": {
          "bar": [
           {
            "error_x": {
             "color": "#2a3f5f"
            },
            "error_y": {
             "color": "#2a3f5f"
            },
            "marker": {
             "line": {
              "color": "#E5ECF6",
              "width": 0.5
             },
             "pattern": {
              "fillmode": "overlay",
              "size": 10,
              "solidity": 0.2
             }
            },
            "type": "bar"
           }
          ],
          "barpolar": [
           {
            "marker": {
             "line": {
              "color": "#E5ECF6",
              "width": 0.5
             },
             "pattern": {
              "fillmode": "overlay",
              "size": 10,
              "solidity": 0.2
             }
            },
            "type": "barpolar"
           }
          ],
          "carpet": [
           {
            "aaxis": {
             "endlinecolor": "#2a3f5f",
             "gridcolor": "white",
             "linecolor": "white",
             "minorgridcolor": "white",
             "startlinecolor": "#2a3f5f"
            },
            "baxis": {
             "endlinecolor": "#2a3f5f",
             "gridcolor": "white",
             "linecolor": "white",
             "minorgridcolor": "white",
             "startlinecolor": "#2a3f5f"
            },
            "type": "carpet"
           }
          ],
          "choropleth": [
           {
            "colorbar": {
             "outlinewidth": 0,
             "ticks": ""
            },
            "type": "choropleth"
           }
          ],
          "contour": [
           {
            "colorbar": {
             "outlinewidth": 0,
             "ticks": ""
            },
            "colorscale": [
             [
              0,
              "#0d0887"
             ],
             [
              0.1111111111111111,
              "#46039f"
             ],
             [
              0.2222222222222222,
              "#7201a8"
             ],
             [
              0.3333333333333333,
              "#9c179e"
             ],
             [
              0.4444444444444444,
              "#bd3786"
             ],
             [
              0.5555555555555556,
              "#d8576b"
             ],
             [
              0.6666666666666666,
              "#ed7953"
             ],
             [
              0.7777777777777778,
              "#fb9f3a"
             ],
             [
              0.8888888888888888,
              "#fdca26"
             ],
             [
              1,
              "#f0f921"
             ]
            ],
            "type": "contour"
           }
          ],
          "contourcarpet": [
           {
            "colorbar": {
             "outlinewidth": 0,
             "ticks": ""
            },
            "type": "contourcarpet"
           }
          ],
          "heatmap": [
           {
            "colorbar": {
             "outlinewidth": 0,
             "ticks": ""
            },
            "colorscale": [
             [
              0,
              "#0d0887"
             ],
             [
              0.1111111111111111,
              "#46039f"
             ],
             [
              0.2222222222222222,
              "#7201a8"
             ],
             [
              0.3333333333333333,
              "#9c179e"
             ],
             [
              0.4444444444444444,
              "#bd3786"
             ],
             [
              0.5555555555555556,
              "#d8576b"
             ],
             [
              0.6666666666666666,
              "#ed7953"
             ],
             [
              0.7777777777777778,
              "#fb9f3a"
             ],
             [
              0.8888888888888888,
              "#fdca26"
             ],
             [
              1,
              "#f0f921"
             ]
            ],
            "type": "heatmap"
           }
          ],
          "heatmapgl": [
           {
            "colorbar": {
             "outlinewidth": 0,
             "ticks": ""
            },
            "colorscale": [
             [
              0,
              "#0d0887"
             ],
             [
              0.1111111111111111,
              "#46039f"
             ],
             [
              0.2222222222222222,
              "#7201a8"
             ],
             [
              0.3333333333333333,
              "#9c179e"
             ],
             [
              0.4444444444444444,
              "#bd3786"
             ],
             [
              0.5555555555555556,
              "#d8576b"
             ],
             [
              0.6666666666666666,
              "#ed7953"
             ],
             [
              0.7777777777777778,
              "#fb9f3a"
             ],
             [
              0.8888888888888888,
              "#fdca26"
             ],
             [
              1,
              "#f0f921"
             ]
            ],
            "type": "heatmapgl"
           }
          ],
          "histogram": [
           {
            "marker": {
             "pattern": {
              "fillmode": "overlay",
              "size": 10,
              "solidity": 0.2
             }
            },
            "type": "histogram"
           }
          ],
          "histogram2d": [
           {
            "colorbar": {
             "outlinewidth": 0,
             "ticks": ""
            },
            "colorscale": [
             [
              0,
              "#0d0887"
             ],
             [
              0.1111111111111111,
              "#46039f"
             ],
             [
              0.2222222222222222,
              "#7201a8"
             ],
             [
              0.3333333333333333,
              "#9c179e"
             ],
             [
              0.4444444444444444,
              "#bd3786"
             ],
             [
              0.5555555555555556,
              "#d8576b"
             ],
             [
              0.6666666666666666,
              "#ed7953"
             ],
             [
              0.7777777777777778,
              "#fb9f3a"
             ],
             [
              0.8888888888888888,
              "#fdca26"
             ],
             [
              1,
              "#f0f921"
             ]
            ],
            "type": "histogram2d"
           }
          ],
          "histogram2dcontour": [
           {
            "colorbar": {
             "outlinewidth": 0,
             "ticks": ""
            },
            "colorscale": [
             [
              0,
              "#0d0887"
             ],
             [
              0.1111111111111111,
              "#46039f"
             ],
             [
              0.2222222222222222,
              "#7201a8"
             ],
             [
              0.3333333333333333,
              "#9c179e"
             ],
             [
              0.4444444444444444,
              "#bd3786"
             ],
             [
              0.5555555555555556,
              "#d8576b"
             ],
             [
              0.6666666666666666,
              "#ed7953"
             ],
             [
              0.7777777777777778,
              "#fb9f3a"
             ],
             [
              0.8888888888888888,
              "#fdca26"
             ],
             [
              1,
              "#f0f921"
             ]
            ],
            "type": "histogram2dcontour"
           }
          ],
          "mesh3d": [
           {
            "colorbar": {
             "outlinewidth": 0,
             "ticks": ""
            },
            "type": "mesh3d"
           }
          ],
          "parcoords": [
           {
            "line": {
             "colorbar": {
              "outlinewidth": 0,
              "ticks": ""
             }
            },
            "type": "parcoords"
           }
          ],
          "pie": [
           {
            "automargin": true,
            "type": "pie"
           }
          ],
          "scatter": [
           {
            "fillpattern": {
             "fillmode": "overlay",
             "size": 10,
             "solidity": 0.2
            },
            "type": "scatter"
           }
          ],
          "scatter3d": [
           {
            "line": {
             "colorbar": {
              "outlinewidth": 0,
              "ticks": ""
             }
            },
            "marker": {
             "colorbar": {
              "outlinewidth": 0,
              "ticks": ""
             }
            },
            "type": "scatter3d"
           }
          ],
          "scattercarpet": [
           {
            "marker": {
             "colorbar": {
              "outlinewidth": 0,
              "ticks": ""
             }
            },
            "type": "scattercarpet"
           }
          ],
          "scattergeo": [
           {
            "marker": {
             "colorbar": {
              "outlinewidth": 0,
              "ticks": ""
             }
            },
            "type": "scattergeo"
           }
          ],
          "scattergl": [
           {
            "marker": {
             "colorbar": {
              "outlinewidth": 0,
              "ticks": ""
             }
            },
            "type": "scattergl"
           }
          ],
          "scattermapbox": [
           {
            "marker": {
             "colorbar": {
              "outlinewidth": 0,
              "ticks": ""
             }
            },
            "type": "scattermapbox"
           }
          ],
          "scatterpolar": [
           {
            "marker": {
             "colorbar": {
              "outlinewidth": 0,
              "ticks": ""
             }
            },
            "type": "scatterpolar"
           }
          ],
          "scatterpolargl": [
           {
            "marker": {
             "colorbar": {
              "outlinewidth": 0,
              "ticks": ""
             }
            },
            "type": "scatterpolargl"
           }
          ],
          "scatterternary": [
           {
            "marker": {
             "colorbar": {
              "outlinewidth": 0,
              "ticks": ""
             }
            },
            "type": "scatterternary"
           }
          ],
          "surface": [
           {
            "colorbar": {
             "outlinewidth": 0,
             "ticks": ""
            },
            "colorscale": [
             [
              0,
              "#0d0887"
             ],
             [
              0.1111111111111111,
              "#46039f"
             ],
             [
              0.2222222222222222,
              "#7201a8"
             ],
             [
              0.3333333333333333,
              "#9c179e"
             ],
             [
              0.4444444444444444,
              "#bd3786"
             ],
             [
              0.5555555555555556,
              "#d8576b"
             ],
             [
              0.6666666666666666,
              "#ed7953"
             ],
             [
              0.7777777777777778,
              "#fb9f3a"
             ],
             [
              0.8888888888888888,
              "#fdca26"
             ],
             [
              1,
              "#f0f921"
             ]
            ],
            "type": "surface"
           }
          ],
          "table": [
           {
            "cells": {
             "fill": {
              "color": "#EBF0F8"
             },
             "line": {
              "color": "white"
             }
            },
            "header": {
             "fill": {
              "color": "#C8D4E3"
             },
             "line": {
              "color": "white"
             }
            },
            "type": "table"
           }
          ]
         },
         "layout": {
          "annotationdefaults": {
           "arrowcolor": "#2a3f5f",
           "arrowhead": 0,
           "arrowwidth": 1
          },
          "autotypenumbers": "strict",
          "coloraxis": {
           "colorbar": {
            "outlinewidth": 0,
            "ticks": ""
           }
          },
          "colorscale": {
           "diverging": [
            [
             0,
             "#8e0152"
            ],
            [
             0.1,
             "#c51b7d"
            ],
            [
             0.2,
             "#de77ae"
            ],
            [
             0.3,
             "#f1b6da"
            ],
            [
             0.4,
             "#fde0ef"
            ],
            [
             0.5,
             "#f7f7f7"
            ],
            [
             0.6,
             "#e6f5d0"
            ],
            [
             0.7,
             "#b8e186"
            ],
            [
             0.8,
             "#7fbc41"
            ],
            [
             0.9,
             "#4d9221"
            ],
            [
             1,
             "#276419"
            ]
           ],
           "sequential": [
            [
             0,
             "#0d0887"
            ],
            [
             0.1111111111111111,
             "#46039f"
            ],
            [
             0.2222222222222222,
             "#7201a8"
            ],
            [
             0.3333333333333333,
             "#9c179e"
            ],
            [
             0.4444444444444444,
             "#bd3786"
            ],
            [
             0.5555555555555556,
             "#d8576b"
            ],
            [
             0.6666666666666666,
             "#ed7953"
            ],
            [
             0.7777777777777778,
             "#fb9f3a"
            ],
            [
             0.8888888888888888,
             "#fdca26"
            ],
            [
             1,
             "#f0f921"
            ]
           ],
           "sequentialminus": [
            [
             0,
             "#0d0887"
            ],
            [
             0.1111111111111111,
             "#46039f"
            ],
            [
             0.2222222222222222,
             "#7201a8"
            ],
            [
             0.3333333333333333,
             "#9c179e"
            ],
            [
             0.4444444444444444,
             "#bd3786"
            ],
            [
             0.5555555555555556,
             "#d8576b"
            ],
            [
             0.6666666666666666,
             "#ed7953"
            ],
            [
             0.7777777777777778,
             "#fb9f3a"
            ],
            [
             0.8888888888888888,
             "#fdca26"
            ],
            [
             1,
             "#f0f921"
            ]
           ]
          },
          "colorway": [
           "#636efa",
           "#EF553B",
           "#00cc96",
           "#ab63fa",
           "#FFA15A",
           "#19d3f3",
           "#FF6692",
           "#B6E880",
           "#FF97FF",
           "#FECB52"
          ],
          "font": {
           "color": "#2a3f5f"
          },
          "geo": {
           "bgcolor": "white",
           "lakecolor": "white",
           "landcolor": "#E5ECF6",
           "showlakes": true,
           "showland": true,
           "subunitcolor": "white"
          },
          "hoverlabel": {
           "align": "left"
          },
          "hovermode": "closest",
          "mapbox": {
           "style": "light"
          },
          "paper_bgcolor": "white",
          "plot_bgcolor": "#E5ECF6",
          "polar": {
           "angularaxis": {
            "gridcolor": "white",
            "linecolor": "white",
            "ticks": ""
           },
           "bgcolor": "#E5ECF6",
           "radialaxis": {
            "gridcolor": "white",
            "linecolor": "white",
            "ticks": ""
           }
          },
          "scene": {
           "xaxis": {
            "backgroundcolor": "#E5ECF6",
            "gridcolor": "white",
            "gridwidth": 2,
            "linecolor": "white",
            "showbackground": true,
            "ticks": "",
            "zerolinecolor": "white"
           },
           "yaxis": {
            "backgroundcolor": "#E5ECF6",
            "gridcolor": "white",
            "gridwidth": 2,
            "linecolor": "white",
            "showbackground": true,
            "ticks": "",
            "zerolinecolor": "white"
           },
           "zaxis": {
            "backgroundcolor": "#E5ECF6",
            "gridcolor": "white",
            "gridwidth": 2,
            "linecolor": "white",
            "showbackground": true,
            "ticks": "",
            "zerolinecolor": "white"
           }
          },
          "shapedefaults": {
           "line": {
            "color": "#2a3f5f"
           }
          },
          "ternary": {
           "aaxis": {
            "gridcolor": "white",
            "linecolor": "white",
            "ticks": ""
           },
           "baxis": {
            "gridcolor": "white",
            "linecolor": "white",
            "ticks": ""
           },
           "bgcolor": "#E5ECF6",
           "caxis": {
            "gridcolor": "white",
            "linecolor": "white",
            "ticks": ""
           }
          },
          "title": {
           "x": 0.05
          },
          "xaxis": {
           "automargin": true,
           "gridcolor": "white",
           "linecolor": "white",
           "ticks": "",
           "title": {
            "standoff": 15
           },
           "zerolinecolor": "white",
           "zerolinewidth": 2
          },
          "yaxis": {
           "automargin": true,
           "gridcolor": "white",
           "linecolor": "white",
           "ticks": "",
           "title": {
            "standoff": 15
           },
           "zerolinecolor": "white",
           "zerolinewidth": 2
          }
         }
        },
        "title": {
         "text": "<b>Répartition des top types d'action en fonction des status de la demande</b>",
         "x": 0.5
        },
        "xaxis": {
         "anchor": "y",
         "autorange": true,
         "domain": [
          0,
          1
         ],
         "range": [
          -0.5,
          6.5
         ],
         "title": {
          "text": "<b>Type d'action</b>"
         },
         "type": "category"
        },
        "yaxis": {
         "anchor": "x",
         "autorange": true,
         "domain": [
          0,
          1
         ],
         "range": [
          0,
          489.4736842105263
         ],
         "title": {
          "text": "<b>Occurences</b>"
         },
         "type": "linear"
        }
       }
      },
      "image/png": "[encoded data removed]",
      "text/html": [
       "<div>                            <div id=\"baf5f693-3108-4baf-956d-89ac340719fa\" class=\"plotly-graph-div\" style=\"height:525px; width:100%;\"></div>            <script type=\"text/javascript\">                require([\"plotly\"], function(Plotly) {                    window.PLOTLYENV=window.PLOTLYENV || {};                                    if (document.getElementById(\"baf5f693-3108-4baf-956d-89ac340719fa\")) {                    Plotly.newPlot(                        \"baf5f693-3108-4baf-956d-89ac340719fa\",                        [{\"alignmentgroup\":\"True\",\"hovertemplate\":\"status=proposed\\u003cbr\\u003e\\u003cb\\u003eType d'action\\u003c\\u002fb\\u003e=%{x}\\u003cbr\\u003e\\u003cb\\u003eOccurences\\u003c\\u002fb\\u003e=%{y}\\u003cextra\\u003e\\u003c\\u002fextra\\u003e\",\"legendgroup\":\"proposed\",\"marker\":{\"color\":\"#636efa\",\"pattern\":{\"shape\":\"\"}},\"name\":\"proposed\",\"offsetgroup\":\"proposed\",\"orientation\":\"v\",\"showlegend\":true,\"textposition\":\"auto\",\"x\":[\"employer_reminder_1\",\"resume_coaching\",\"proposed_call\",\"proposed_sms\",\"proposed_email\",\"employer_reminder_2\",\"interview_coaching\"],\"xaxis\":\"x\",\"y\":[174,142,125,118,117,46,32],\"yaxis\":\"y\",\"type\":\"bar\"},{\"alignmentgroup\":\"True\",\"hovertemplate\":\"status=transmited\\u003cbr\\u003e\\u003cb\\u003eType d'action\\u003c\\u002fb\\u003e=%{x}\\u003cbr\\u003e\\u003cb\\u003eOccurences\\u003c\\u002fb\\u003e=%{y}\\u003cextra\\u003e\\u003c\\u002fextra\\u003e\",\"legendgroup\":\"transmited\",\"marker\":{\"color\":\"#EF553B\",\"pattern\":{\"shape\":\"\"}},\"name\":\"transmited\",\"offsetgroup\":\"transmited\",\"orientation\":\"v\",\"showlegend\":true,\"textposition\":\"auto\",\"x\":[\"employer_reminder_1\",\"resume_coaching\",\"proposed_email\",\"proposed_call\",\"proposed_sms\",\"interview_coaching\",\"employer_reminder_2\"],\"xaxis\":\"x\",\"y\":[108,70,68,63,59,15,15],\"yaxis\":\"y\",\"type\":\"bar\"},{\"alignmentgroup\":\"True\",\"hovertemplate\":\"status=interviewed\\u003cbr\\u003e\\u003cb\\u003eType d'action\\u003c\\u002fb\\u003e=%{x}\\u003cbr\\u003e\\u003cb\\u003eOccurences\\u003c\\u002fb\\u003e=%{y}\\u003cextra\\u003e\\u003c\\u002fextra\\u003e\",\"legendgroup\":\"interviewed\",\"marker\":{\"color\":\"#00cc96\",\"pattern\":{\"shape\":\"\"}},\"name\":\"interviewed\",\"offsetgroup\":\"interviewed\",\"orientation\":\"v\",\"showlegend\":true,\"textposition\":\"auto\",\"x\":[\"employer_reminder_1\",\"resume_coaching\",\"proposed_call\",\"proposed_sms\",\"proposed_email\",\"interview_coaching\",\"employer_reminder_2\"],\"xaxis\":\"x\",\"y\":[83,74,60,42,36,34,12],\"yaxis\":\"y\",\"type\":\"bar\"},{\"alignmentgroup\":\"True\",\"hovertemplate\":\"status=refused_employer\\u003cbr\\u003e\\u003cb\\u003eType d'action\\u003c\\u002fb\\u003e=%{x}\\u003cbr\\u003e\\u003cb\\u003eOccurences\\u003c\\u002fb\\u003e=%{y}\\u003cextra\\u003e\\u003c\\u002fextra\\u003e\",\"legendgroup\":\"refused_employer\",\"marker\":{\"color\":\"#ab63fa\",\"pattern\":{\"shape\":\"\"}},\"name\":\"refused_employer\",\"offsetgroup\":\"refused_employer\",\"orientation\":\"v\",\"showlegend\":true,\"textposition\":\"auto\",\"x\":[\"proposed_email\",\"employer_reminder_1\",\"proposed_sms\",\"proposed_call\",\"resume_coaching\",\"employer_reminder_2\"],\"xaxis\":\"x\",\"y\":[41,38,26,23,16,13],\"yaxis\":\"y\",\"type\":\"bar\"},{\"alignmentgroup\":\"True\",\"hovertemplate\":\"status=hired\\u003cbr\\u003e\\u003cb\\u003eType d'action\\u003c\\u002fb\\u003e=%{x}\\u003cbr\\u003e\\u003cb\\u003eOccurences\\u003c\\u002fb\\u003e=%{y}\\u003cextra\\u003e\\u003c\\u002fextra\\u003e\",\"legendgroup\":\"hired\",\"marker\":{\"color\":\"#FFA15A\",\"pattern\":{\"shape\":\"\"}},\"name\":\"hired\",\"offsetgroup\":\"hired\",\"orientation\":\"v\",\"showlegend\":true,\"textposition\":\"auto\",\"x\":[\"employer_reminder_1\",\"resume_coaching\",\"proposed_email\",\"proposed_sms\",\"proposed_call\",\"interview_coaching\",\"employer_reminder_2\"],\"xaxis\":\"x\",\"y\":[36,34,22,18,17,15,7],\"yaxis\":\"y\",\"type\":\"bar\"},{\"alignmentgroup\":\"True\",\"hovertemplate\":\"status=refused_candidate\\u003cbr\\u003e\\u003cb\\u003eType d'action\\u003c\\u002fb\\u003e=%{x}\\u003cbr\\u003e\\u003cb\\u003eOccurences\\u003c\\u002fb\\u003e=%{y}\\u003cextra\\u003e\\u003c\\u002fextra\\u003e\",\"legendgroup\":\"refused_candidate\",\"marker\":{\"color\":\"#19d3f3\",\"pattern\":{\"shape\":\"\"}},\"name\":\"refused_candidate\",\"offsetgroup\":\"refused_candidate\",\"orientation\":\"v\",\"showlegend\":true,\"textposition\":\"auto\",\"x\":[\"proposed_call\",\"employer_reminder_1\",\"proposed_email\",\"proposed_sms\",\"resume_coaching\",\"employer_reminder_2\",\"interview_coaching\"],\"xaxis\":\"x\",\"y\":[26,26,23,16,14,10,1],\"yaxis\":\"y\",\"type\":\"bar\"}],                        {\"template\":{\"data\":{\"histogram2dcontour\":[{\"type\":\"histogram2dcontour\",\"colorbar\":{\"outlinewidth\":0,\"ticks\":\"\"},\"colorscale\":[[0.0,\"#0d0887\"],[0.1111111111111111,\"#46039f\"],[0.2222222222222222,\"#7201a8\"],[0.3333333333333333,\"#9c179e\"],[0.4444444444444444,\"#bd3786\"],[0.5555555555555556,\"#d8576b\"],[0.6666666666666666,\"#ed7953\"],[0.7777777777777778,\"#fb9f3a\"],[0.8888888888888888,\"#fdca26\"],[1.0,\"#f0f921\"]]}],\"choropleth\":[{\"type\":\"choropleth\",\"colorbar\":{\"outlinewidth\":0,\"ticks\":\"\"}}],\"histogram2d\":[{\"type\":\"histogram2d\",\"colorbar\":{\"outlinewidth\":0,\"ticks\":\"\"},\"colorscale\":[[0.0,\"#0d0887\"],[0.1111111111111111,\"#46039f\"],[0.2222222222222222,\"#7201a8\"],[0.3333333333333333,\"#9c179e\"],[0.4444444444444444,\"#bd3786\"],[0.5555555555555556,\"#d8576b\"],[0.6666666666666666,\"#ed7953\"],[0.7777777777777778,\"#fb9f3a\"],[0.8888888888888888,\"#fdca26\"],[1.0,\"#f0f921\"]]}],\"heatmap\":[{\"type\":\"heatmap\",\"colorbar\":{\"outlinewidth\":0,\"ticks\":\"\"},\"colorscale\":[[0.0,\"#0d0887\"],[0.1111111111111111,\"#46039f\"],[0.2222222222222222,\"#7201a8\"],[0.3333333333333333,\"#9c179e\"],[0.4444444444444444,\"#bd3786\"],[0.5555555555555556,\"#d8576b\"],[0.6666666666666666,\"#ed7953\"],[0.7777777777777778,\"#fb9f3a\"],[0.8888888888888888,\"#fdca26\"],[1.0,\"#f0f921\"]]}],\"heatmapgl\":[{\"type\":\"heatmapgl\",\"colorbar\":{\"outlinewidth\":0,\"ticks\":\"\"},\"colorscale\":[[0.0,\"#0d0887\"],[0.1111111111111111,\"#46039f\"],[0.2222222222222222,\"#7201a8\"],[0.3333333333333333,\"#9c179e\"],[0.4444444444444444,\"#bd3786\"],[0.5555555555555556,\"#d8576b\"],[0.6666666666666666,\"#ed7953\"],[0.7777777777777778,\"#fb9f3a\"],[0.8888888888888888,\"#fdca26\"],[1.0,\"#f0f921\"]]}],\"contourcarpet\":[{\"type\":\"contourcarpet\",\"colorbar\":{\"outlinewidth\":0,\"ticks\":\"\"}}],\"contour\":[{\"type\":\"contour\",\"colorbar\":{\"outlinewidth\":0,\"ticks\":\"\"},\"colorscale\":[[0.0,\"#0d0887\"],[0.1111111111111111,\"#46039f\"],[0.2222222222222222,\"#7201a8\"],[0.3333333333333333,\"#9c179e\"],[0.4444444444444444,\"#bd3786\"],[0.5555555555555556,\"#d8576b\"],[0.6666666666666666,\"#ed7953\"],[0.7777777777777778,\"#fb9f3a\"],[0.8888888888888888,\"#fdca26\"],[1.0,\"#f0f921\"]]}],\"surface\":[{\"type\":\"surface\",\"colorbar\":{\"outlinewidth\":0,\"ticks\":\"\"},\"colorscale\":[[0.0,\"#0d0887\"],[0.1111111111111111,\"#46039f\"],[0.2222222222222222,\"#7201a8\"],[0.3333333333333333,\"#9c179e\"],[0.4444444444444444,\"#bd3786\"],[0.5555555555555556,\"#d8576b\"],[0.6666666666666666,\"#ed7953\"],[0.7777777777777778,\"#fb9f3a\"],[0.8888888888888888,\"#fdca26\"],[1.0,\"#f0f921\"]]}],\"mesh3d\":[{\"type\":\"mesh3d\",\"colorbar\":{\"outlinewidth\":0,\"ticks\":\"\"}}],\"scatter\":[{\"fillpattern\":{\"fillmode\":\"overlay\",\"size\":10,\"solidity\":0.2},\"type\":\"scatter\"}],\"parcoords\":[{\"type\":\"parcoords\",\"line\":{\"colorbar\":{\"outlinewidth\":0,\"ticks\":\"\"}}}],\"scatterpolargl\":[{\"type\":\"scatterpolargl\",\"marker\":{\"colorbar\":{\"outlinewidth\":0,\"ticks\":\"\"}}}],\"bar\":[{\"error_x\":{\"color\":\"#2a3f5f\"},\"error_y\":{\"color\":\"#2a3f5f\"},\"marker\":{\"line\":{\"color\":\"#E5ECF6\",\"width\":0.5},\"pattern\":{\"fillmode\":\"overlay\",\"size\":10,\"solidity\":0.2}},\"type\":\"bar\"}],\"scattergeo\":[{\"type\":\"scattergeo\",\"marker\":{\"colorbar\":{\"outlinewidth\":0,\"ticks\":\"\"}}}],\"scatterpolar\":[{\"type\":\"scatterpolar\",\"marker\":{\"colorbar\":{\"outlinewidth\":0,\"ticks\":\"\"}}}],\"histogram\":[{\"marker\":{\"pattern\":{\"fillmode\":\"overlay\",\"size\":10,\"solidity\":0.2}},\"type\":\"histogram\"}],\"scattergl\":[{\"type\":\"scattergl\",\"marker\":{\"colorbar\":{\"outlinewidth\":0,\"ticks\":\"\"}}}],\"scatter3d\":[{\"type\":\"scatter3d\",\"line\":{\"colorbar\":{\"outlinewidth\":0,\"ticks\":\"\"}},\"marker\":{\"colorbar\":{\"outlinewidth\":0,\"ticks\":\"\"}}}],\"scattermapbox\":[{\"type\":\"scattermapbox\",\"marker\":{\"colorbar\":{\"outlinewidth\":0,\"ticks\":\"\"}}}],\"scatterternary\":[{\"type\":\"scatterternary\",\"marker\":{\"colorbar\":{\"outlinewidth\":0,\"ticks\":\"\"}}}],\"scattercarpet\":[{\"type\":\"scattercarpet\",\"marker\":{\"colorbar\":{\"outlinewidth\":0,\"ticks\":\"\"}}}],\"carpet\":[{\"aaxis\":{\"endlinecolor\":\"#2a3f5f\",\"gridcolor\":\"white\",\"linecolor\":\"white\",\"minorgridcolor\":\"white\",\"startlinecolor\":\"#2a3f5f\"},\"baxis\":{\"endlinecolor\":\"#2a3f5f\",\"gridcolor\":\"white\",\"linecolor\":\"white\",\"minorgridcolor\":\"white\",\"startlinecolor\":\"#2a3f5f\"},\"type\":\"carpet\"}],\"table\":[{\"cells\":{\"fill\":{\"color\":\"#EBF0F8\"},\"line\":{\"color\":\"white\"}},\"header\":{\"fill\":{\"color\":\"#C8D4E3\"},\"line\":{\"color\":\"white\"}},\"type\":\"table\"}],\"barpolar\":[{\"marker\":{\"line\":{\"color\":\"#E5ECF6\",\"width\":0.5},\"pattern\":{\"fillmode\":\"overlay\",\"size\":10,\"solidity\":0.2}},\"type\":\"barpolar\"}],\"pie\":[{\"automargin\":true,\"type\":\"pie\"}]},\"layout\":{\"autotypenumbers\":\"strict\",\"colorway\":[\"#636efa\",\"#EF553B\",\"#00cc96\",\"#ab63fa\",\"#FFA15A\",\"#19d3f3\",\"#FF6692\",\"#B6E880\",\"#FF97FF\",\"#FECB52\"],\"font\":{\"color\":\"#2a3f5f\"},\"hovermode\":\"closest\",\"hoverlabel\":{\"align\":\"left\"},\"paper_bgcolor\":\"white\",\"plot_bgcolor\":\"#E5ECF6\",\"polar\":{\"bgcolor\":\"#E5ECF6\",\"angularaxis\":{\"gridcolor\":\"white\",\"linecolor\":\"white\",\"ticks\":\"\"},\"radialaxis\":{\"gridcolor\":\"white\",\"linecolor\":\"white\",\"ticks\":\"\"}},\"ternary\":{\"bgcolor\":\"#E5ECF6\",\"aaxis\":{\"gridcolor\":\"white\",\"linecolor\":\"white\",\"ticks\":\"\"},\"baxis\":{\"gridcolor\":\"white\",\"linecolor\":\"white\",\"ticks\":\"\"},\"caxis\":{\"gridcolor\":\"white\",\"linecolor\":\"white\",\"ticks\":\"\"}},\"coloraxis\":{\"colorbar\":{\"outlinewidth\":0,\"ticks\":\"\"}},\"colorscale\":{\"sequential\":[[0.0,\"#0d0887\"],[0.1111111111111111,\"#46039f\"],[0.2222222222222222,\"#7201a8\"],[0.3333333333333333,\"#9c179e\"],[0.4444444444444444,\"#bd3786\"],[0.5555555555555556,\"#d8576b\"],[0.6666666666666666,\"#ed7953\"],[0.7777777777777778,\"#fb9f3a\"],[0.8888888888888888,\"#fdca26\"],[1.0,\"#f0f921\"]],\"sequentialminus\":[[0.0,\"#0d0887\"],[0.1111111111111111,\"#46039f\"],[0.2222222222222222,\"#7201a8\"],[0.3333333333333333,\"#9c179e\"],[0.4444444444444444,\"#bd3786\"],[0.5555555555555556,\"#d8576b\"],[0.6666666666666666,\"#ed7953\"],[0.7777777777777778,\"#fb9f3a\"],[0.8888888888888888,\"#fdca26\"],[1.0,\"#f0f921\"]],\"diverging\":[[0,\"#8e0152\"],[0.1,\"#c51b7d\"],[0.2,\"#de77ae\"],[0.3,\"#f1b6da\"],[0.4,\"#fde0ef\"],[0.5,\"#f7f7f7\"],[0.6,\"#e6f5d0\"],[0.7,\"#b8e186\"],[0.8,\"#7fbc41\"],[0.9,\"#4d9221\"],[1,\"#276419\"]]},\"xaxis\":{\"gridcolor\":\"white\",\"linecolor\":\"white\",\"ticks\":\"\",\"title\":{\"standoff\":15},\"zerolinecolor\":\"white\",\"automargin\":true,\"zerolinewidth\":2},\"yaxis\":{\"gridcolor\":\"white\",\"linecolor\":\"white\",\"ticks\":\"\",\"title\":{\"standoff\":15},\"zerolinecolor\":\"white\",\"automargin\":true,\"zerolinewidth\":2},\"scene\":{\"xaxis\":{\"backgroundcolor\":\"#E5ECF6\",\"gridcolor\":\"white\",\"linecolor\":\"white\",\"showbackground\":true,\"ticks\":\"\",\"zerolinecolor\":\"white\",\"gridwidth\":2},\"yaxis\":{\"backgroundcolor\":\"#E5ECF6\",\"gridcolor\":\"white\",\"linecolor\":\"white\",\"showbackground\":true,\"ticks\":\"\",\"zerolinecolor\":\"white\",\"gridwidth\":2},\"zaxis\":{\"backgroundcolor\":\"#E5ECF6\",\"gridcolor\":\"white\",\"linecolor\":\"white\",\"showbackground\":true,\"ticks\":\"\",\"zerolinecolor\":\"white\",\"gridwidth\":2}},\"shapedefaults\":{\"line\":{\"color\":\"#2a3f5f\"}},\"annotationdefaults\":{\"arrowcolor\":\"#2a3f5f\",\"arrowhead\":0,\"arrowwidth\":1},\"geo\":{\"bgcolor\":\"white\",\"landcolor\":\"#E5ECF6\",\"subunitcolor\":\"white\",\"showland\":true,\"showlakes\":true,\"lakecolor\":\"white\"},\"title\":{\"x\":0.05},\"mapbox\":{\"style\":\"light\"}}},\"xaxis\":{\"anchor\":\"y\",\"domain\":[0.0,1.0],\"title\":{\"text\":\"\\u003cb\\u003eType d'action\\u003c\\u002fb\\u003e\"}},\"yaxis\":{\"anchor\":\"x\",\"domain\":[0.0,1.0],\"title\":{\"text\":\"\\u003cb\\u003eOccurences\\u003c\\u002fb\\u003e\"}},\"legend\":{\"title\":{\"text\":\"status\"},\"tracegroupgap\":0},\"title\":{\"text\":\"\\u003cb\\u003eR\\u00e9partition des top types d'action en fonction des status de la demande\\u003c\\u002fb\\u003e\",\"x\":0.5},\"barmode\":\"relative\"},                        {\"responsive\": true}                    ).then(function(){\n",
       "                            \n",
       "var gd = document.getElementById('baf5f693-3108-4baf-956d-89ac340719fa');\n",
       "var x = new MutationObserver(function (mutations, observer) {{\n",
       "        var display = window.getComputedStyle(gd).display;\n",
       "        if (!display || display === 'none') {{\n",
       "            console.log([gd, 'removed!']);\n",
       "            Plotly.purge(gd);\n",
       "            observer.disconnect();\n",
       "        }}\n",
       "}});\n",
       "\n",
       "// Listen for the removal of the full notebook cells\n",
       "var notebookContainer = gd.closest('#notebook-container');\n",
       "if (notebookContainer) {{\n",
       "    x.observe(notebookContainer, {childList: true});\n",
       "}}\n",
       "\n",
       "// Listen for the clearing of the current output cell\n",
       "var outputEl = gd.closest('.output');\n",
       "if (outputEl) {{\n",
       "    x.observe(outputEl, {childList: true});\n",
       "}}\n",
       "\n",
       "                        })                };                });            </script>        </div>"
      ]
     },
     "metadata": {},
     "output_type": "display_data"
    }
   ],
   "source": [
    "fig = px.bar(dashboard, x='action_type', y='Occurences', \n",
    "             title=f'<b>Répartition des top types d\\'action en fonction des status de la demande</b>',\n",
    "             labels={'action_type': f'<b>Type d\\'action</b>', 'Occurences': f'<b>Occurences</b>'}, color='status')\n",
    "fig.update_layout(title_x=0.5)  # 0.5 means center\n",
    "fig.show()"
   ]
  },
  {
   "cell_type": "code",
   "execution_count": null,
   "id": "0113e60f-515b-4d81-9da1-6d8b254738b6",
   "metadata": {},
   "outputs": [],
   "source": []
  }
 ],
 "metadata": {
  "kernelspec": {
   "display_name": "Python 3 (ipykernel)",
   "language": "python",
   "name": "python3"
  },
  "language_info": {
   "codemirror_mode": {
    "name": "ipython",
    "version": 3
   },
   "file_extension": ".py",
   "mimetype": "text/x-python",
   "name": "python",
   "nbconvert_exporter": "python",
   "pygments_lexer": "ipython3",
   "version": "3.12.7"
  }
 },
 "nbformat": 4,
 "nbformat_minor": 5
}
